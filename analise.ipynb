{
 "cells": [
  {
   "cell_type": "markdown",
   "metadata": {},
   "source": [
    "# Projeto Viabilidade\n",
    "\n",
    "Este projeto é um trabalho de alunos do Mackenzie EAD (Curso de Ciência de dados), com o intuito de realizar o processamento de dados abertos de CNPJ e de dados macroeconômicos, com a intenção de criar insights sobre o ambiente econômico no país.\n",
    "\n"
   ]
  },
  {
   "cell_type": "markdown",
   "metadata": {},
   "source": [
    "## Entendimento do Negócio\n",
    "\n",
    "<b>Empresa</b>\n",
    "\n",
    "Berkshire Hathaway\n",
    "\n",
    "<b> Segmento de Atuação</b>\n",
    "\n",
    "A empresa Berkshire Hathaway é uma das maiores holdings do mundo. Ela tem participação em diversos setores, baseando seu modelo de negócio na aquisição de empresas bem estruturadas e na valorização de investimentos de longo prazo. \n",
    "\n",
    "<b> Market Share</b>\n",
    "\n",
    "No momento, a atuação da empresa no Brasil é bem limitada, o que abre espaço para identificação de oportunidades estratégicas de investimentos no país.\n",
    "\n",
    "\n",
    "### Problema fundamental\n",
    "\n",
    "A empresa, para a manutenção de níveis elevados de rentabilidade de longo prazo, enfrenta um dilema de custo-benefício: ela precisa reduzir custos operacionais (de desvendamento de empresas e setores de interesse estratégico) ao mesmo tempo que precisa identificar oportunidades para crescimento da carteira. \n",
    "\n",
    "O custo de contratação de profissionais altamente especializados em cada setor e região geográfica pode afetar o nível de rentabilidade geral da empresa, inviabilizando um estudo amplo e aprofundado de toda a economia brasileira. \n",
    "\n",
    "Diante disso, um trabalho possível de ser realizado se pauta na identificação de setores que ofereçam as melhores oportunidades de investimento para a holding, a fim de que as despesas com profissionais seja otimizada. \n",
    "\n",
    "\n",
    "### Limitação do Problema Fundamental\n",
    "\n",
    "É essencial entender que a economia é uma ciência complexa e, portanto, mensurar cada atividade pode gerar um custo elevado para o grupo de ciência de dados.\n",
    "\n",
    "Assim, algumas heurísticas foram adotadas para reduzir o escopo do projeto, quais sejam:\n",
    "\n",
    "1. Em virtude da Reforma Tributária, compreende-se que o país poderá caminhar para um menor direcionamento a serviços e maior à industrialização, salvo exceções (como serviços de Data Center e outros com envolvimento de TI);\n",
    "2. A preocupação global com economias sustentáveis pode oportunizar ao Brasil a manutenção de polo industrial, em proximidade com fontes de energias renováveis.\n",
    "\n",
    "\n",
    "\n",
    "\n",
    "Além disso, é importante que se reduza o escopo para abarcar dados após o período da pandemia. Isso se dá em vitude de o momento histórico servir de ruptura das tendências anteriores, podendo prejudicar as análises posteriores.\n",
    "\n",
    "\n",
    "Diante do relatado, o escopo do problema foi reduzido a:\n",
    "\n",
    "\n",
    "<center> <i> <b> Quais setores industriais possuem um potencial de crescimento nos próximos anos? </b> </i> </center>\n",
    "\n"
   ]
  },
  {
   "cell_type": "markdown",
   "metadata": {},
   "source": [
    "## Entendimento dos Dados \n",
    "\n",
    "\n",
    "Diante do desafio proposto, o grupo de cientista de dados identificou um conjunto de base de dados abertos, gerados por associações de interesse público e/ou órgãos públicos, auxiliando a redução de custos para um primeiro trabalho de análise de dados.\n",
    "\n",
    "\n",
    "Os dados foram obtidos através da biblioteca \"ipeadatapy\", que se propõe a trazer diversos dados abertos (de diversas origens) através de uma única API.\n",
    "\n"
   ]
  },
  {
   "cell_type": "code",
   "execution_count": 87,
   "metadata": {},
   "outputs": [],
   "source": [
    "import ipeadatapy as ip\n",
    "import pandas as pd"
   ]
  },
  {
   "cell_type": "code",
   "execution_count": 88,
   "metadata": {},
   "outputs": [],
   "source": [
    "indicadores = [\n",
    "    'PIM2020S321N','PIM2020S326N','PIMALIMENTN','PIMBEBIDAN','PIMBORRAPLASN','PIMCALCOURON','PIMCELUPAPELN','PIMEXTMINN','PIMFUMON',\n",
    "'PIMINDTRANSFN','PIMMADEIRAN','PIMMAQAPAELEN','PIMMAQEQUIPN','PIMMETALURGIAN','PIMMINNAOMETN','PIMMOBILIARION','PIMOUTETRANSPN',\n",
    "'PIMOUTPQUIMICON','PIMPRODMETEXCMEN','PIMREFPETALCN','PIMTEXTILN','PIMVEICULOSAUTN','PIMVESTUARIOACEN','CONSUMOIND',\n",
    "'CNC12_ICAEC12','CNC12_ICEC12','CNC12_ICF12','FCESP12_IIC12'\n",
    "]\n"
   ]
  },
  {
   "cell_type": "code",
   "execution_count": 89,
   "metadata": {},
   "outputs": [],
   "source": [
    "df = ip.metadata()\n",
    "\n",
    "df = df[df['CODE'].isin(indicadores)]\n",
    "df.to_excel('ListaDadosAbertos.xlsx')"
   ]
  },
  {
   "cell_type": "markdown",
   "metadata": {},
   "source": [
    "### Metadados dos arquivos\n",
    "\n",
    "Tipo de arquivos: \n",
    "\n",
    "- Dados abertos de responsabilidade dos seguintes órgãos:"
   ]
  },
  {
   "cell_type": "code",
   "execution_count": 90,
   "metadata": {},
   "outputs": [
    {
     "name": "stdout",
     "output_type": "stream",
     "text": [
      "Origem/Responsável dos dados abertos:\n",
      "\n",
      "Órgão/Entidade nº 1:  Instituto  Brasileiro de Geografia e Estatística\n",
      "Órgão/Entidade nº 2:  Ministério de Minas e Energia, Balanço Energético Nacional (MME)\n",
      "Órgão/Entidade nº 3:  Confederação Nacional do Comércio de Bens, Serviços e Turismo\n",
      "Órgão/Entidade nº 4:  Federação do Comércio do Estado de São Paulo, Pesquisa Conjuntural do Comércio Varejista  da Região Metropolitana de São Paulo (Fecomercio SP)\n"
     ]
    }
   ],
   "source": [
    "print('Origem/Responsável dos dados abertos:\\n')\n",
    "\n",
    "n = 0\n",
    "for origem in df['SOURCE'].unique():\n",
    "    n += 1\n",
    "    print(f'Órgão/Entidade nº {n}: ', origem)\n"
   ]
  },
  {
   "cell_type": "markdown",
   "metadata": {},
   "source": [
    "Todos os dados são abertos e, portanto, <b>não há dados sensíveis</b>, viabilizando o seu uso no projeto atual. \n",
    "\n",
    "\n",
    "As informações adicionais dos dados podem ser vislumbradas abaixo:\n"
   ]
  },
  {
   "cell_type": "code",
   "execution_count": 91,
   "metadata": {},
   "outputs": [
    {
     "name": "stdout",
     "output_type": "stream",
     "text": [
      "Maiores informações sobre os dados: \n",
      "\n",
      "========================================================================\n",
      "Produção industrial - produtos farmoquímicos e farmacêuticos - quantum - índice (média 2022 = 100) - PIM2020S321N\n",
      "-------------------------------------------------------------------------\n",
      "Descrição: A produção industrial da fabricação de produtos farmoquímicos e farmacêuticos considera a fabricação de produtos farmoquímicos, a fabricação de medicamentos e de outros produtos farmacêuticos, tais como: curativos impregnados com qualquer substância, preparações anti-sépticas, etc. Esta classificação não compreende a fabricação de alimentos dietéticos, alimentos enriquecidos, complementos alimentares e semelhantes. A base foi fixada como a média das observações no ano de 2022. Notas: A Pesquisa Industrial Mensal Produção Física têm por objetivo acompanhar a evolução do produto real da indústria no curto prazo, sendo necessário o levantamento de informações de volume físico de produtos selecionados e representativos de diferentes atividades industriais. A partir de maio de 2014, a Pesquisa Industrial Mensal Produção Física, sofre reformulação e dá-se início a divulgação da nova série de índices mensais da produção industrial, com base nas novas classificações, de atividades e produtos, usadas pelas demais pesquisas da indústria a partir de 2007, quais sejam: a Classificação Nacional de Atividades Econômicas - CNAE 2.0 e a Lista de Produtos da Indústria - PRODLIST-Indústria. Em 2023, a pesquisa teve uma nova atualização e que foi feita a partir do cadastro de empresas e produtos produzidos pela Pesquisa Industrial Anual (PIA-Empresa e PIA-Produto) de 2019. Nesse processo, atualiza-se o ano base da pesquisa, a cesta de produtos investigados e a estrutura de ponderação. Mais informações: <a href=\"../doc/CNAE 2.0.pdf\">CNAE 2.0</a> ;  <a href=\"../doc/PRODLIST - Indústria .pdf\">Lista de Produtos da Indústria</a> e <a href=\"../doc/IBGE DICIONARIO DE ESTATISTICA.pdf\">Dicionário Brasileiro de Estatística</a>.\n",
      "Origem dos dados: Instituto  Brasileiro de Geografia e Estatística - www.ibge.gov.br\n",
      "Frequência dos dados: Mensal\n",
      "\n",
      "========================================================================\n",
      "Produção industrial - equipamentos de informática, produtos eletrônicos e ópticos - quantum - índice (média 2022 = 100) - PIM2020S326N\n",
      "-------------------------------------------------------------------------\n",
      "Descrição: A produção industrial da fabricação de equipamentos de informática considera a fabricação de componentes eletrônicos, a fabricação de computadores e periféricos de computadores, a fabricação de equipamentos de comunicação e produtos eletrônicos semelhantes, a fabricação de produtos eletrônicos de consumo, a fabricação de equipamentos de medida, teste, navegação e controle, a fabricação de cronômetros e relógios, a fabricação de equipamentos de irradiação, eletromédicos e eletroterapêuticos e de equipamentos e instrumentos ópticos, fotográficos e cinematográficos. Esta classificação compreende também a fabricação de mídias magnéticas ou ópticas. A base foi fixada como a média das observações no ano de 2022. Notas: A Pesquisa Industrial Mensal Produção Física têm por objetivo acompanhar a evolução do produto real da indústria no curto prazo, sendo necessário o levantamento de informações de volume físico de produtos selecionados e representativos de diferentes atividades industriais. A partir de maio de 2014, a Pesquisa Industrial Mensal Produção Física, sofre reformulação e dá-se início a divulgação da nova série de índices mensais da produção industrial, com base nas novas classificações, de atividades e produtos, usadas pelas demais pesquisas da indústria a partir de 2007, quais sejam: a Classificação Nacional de Atividades Econômicas - CNAE 2.0 e a Lista de Produtos da Indústria - PRODLIST-Indústria. Em 2023, a pesquisa teve uma nova atualização e que foi feita a partir do cadastro de empresas e produtos produzidos pela Pesquisa Industrial Anual (PIA-Empresa e PIA-Produto) de 2019. Nesse processo, atualiza-se o ano base da pesquisa, a cesta de produtos investigados e a estrutura de ponderação. Mais informações: <a href=\"../doc/CNAE 2.0.pdf\">CNAE 2.0</a> ;  <a href=\"../doc/PRODLIST - Indústria .pdf\">Lista de Produtos da Indústria</a> e <a href=\"../doc/IBGE DICIONARIO DE ESTATISTICA.pdf\">Dicionário Brasileiro de Estatística</a>.\n",
      "Origem dos dados: Instituto  Brasileiro de Geografia e Estatística - www.ibge.gov.br\n",
      "Frequência dos dados: Mensal\n",
      "\n",
      "========================================================================\n",
      "Produção industrial - produtos alimentícios - quantum - índice (média 2022 = 100) - PIMALIMENTN\n",
      "-------------------------------------------------------------------------\n",
      "Descrição: A produção industrial da fabricação de alimentos considera o processamento e transformação de produtos da agricultura, pecuária e pesca em alimentos para uso humano e animal. Esta classificação não compreende os estabelecimentos que executam algum processamento no produto alimentício visando exclusivamente a facilitar a comercialização, como açougues, peixarias e as padarias com venda direta ao público.  A base foi fixada como a média das observações no ano de 2022. Notas: A Pesquisa Industrial Mensal Produção Física têm por objetivo acompanhar a evolução do produto real da indústria no curto prazo, sendo necessário o levantamento de informações de volume físico de produtos selecionados e representativos de diferentes atividades industriais. A partir de maio de 2014, a Pesquisa Industrial Mensal Produção Física, sofre reformulação e dá-se início a divulgação da nova série de índices mensais da produção industrial, com base nas novas classificações, de atividades e produtos, usadas pelas demais pesquisas da indústria a partir de 2007, quais sejam: a Classificação Nacional de Atividades Econômicas - CNAE 2.0 e a Lista de Produtos da Indústria - PRODLIST-Indústria. Em 2023, a pesquisa teve uma nova atualização e que foi feita a partir do cadastro de empresas e produtos produzidos pela Pesquisa Industrial Anual (PIA-Empresa e PIA-Produto) de 2019. Nesse processo, atualiza-se o ano base da pesquisa, a cesta de produtos investigados e a estrutura de ponderação. Mais informações: <a href=\"../doc/CNAE 2.0.pdf\">CNAE 2.0</a> ;  <a href=\"../doc/PRODLIST - Indústria .pdf\">Lista de Produtos da Indústria</a> e <a href=\"../doc/IBGE DICIONARIO DE ESTATISTICA.pdf\">Dicionário Brasileiro de Estatística</a>.\n",
      "Origem dos dados: Instituto  Brasileiro de Geografia e Estatística - www.ibge.gov.br\n",
      "Frequência dos dados: Mensal\n",
      "\n",
      "========================================================================\n",
      "Produção industrial - bebidas - quantum - índice (média 2022 = 100) - PIMBEBIDAN\n",
      "-------------------------------------------------------------------------\n",
      "Descrição: A produção industrial da fabricação de bebidas considera a fabricação de diversos tipos: alcoólicas (obtidas por fermentação ou destilação), não-alcoólicas (refrigerantes e refrescos),  águas envasadas e a fabricação de xaropes para a fabricação de refrigerantes e refrescos. Esta classificação não considera: a fabricação de sucos de frutas prontos para beber, o engarrafamento de bebidas associado ao comércio atacadista e o engarrafamento de bebidas efetuado sob contrato. A base foi fixada como a média das observações no ano de 2022. Notas: A Pesquisa Industrial Mensal Produção Física têm por objetivo acompanhar a evolução do produto real da indústria no curto prazo, sendo necessário o levantamento de informações de volume físico de produtos selecionados e representativos de diferentes atividades industriais. A partir de maio de 2014, a Pesquisa Industrial Mensal Produção Física, sofre reformulação e dá-se início a divulgação da nova série de índices mensais da produção industrial, com base nas novas classificações, de atividades e produtos, usadas pelas demais pesquisas da indústria a partir de 2007, quais sejam: a Classificação Nacional de Atividades Econômicas - CNAE 2.0 e a Lista de Produtos da Indústria - PRODLIST-Indústria. Em 2023, a pesquisa teve uma nova atualização e que foi feita a partir do cadastro de empresas e produtos produzidos pela Pesquisa Industrial Anual (PIA-Empresa e PIA-Produto) de 2019. Nesse processo, atualiza-se o ano base da pesquisa, a cesta de produtos investigados e a estrutura de ponderação. Mais informações: <a href=\"../doc/CNAE 2.0.pdf\">CNAE 2.0</a> ;  <a href=\"../doc/PRODLIST - Indústria .pdf\">Lista de Produtos da Indústria</a> e <a href=\"../doc/IBGE DICIONARIO DE ESTATISTICA.pdf\">Dicionário Brasileiro de Estatística</a>.\n",
      "Origem dos dados: Instituto  Brasileiro de Geografia e Estatística - www.ibge.gov.br\n",
      "Frequência dos dados: Mensal\n",
      "\n",
      "========================================================================\n",
      "Produção industrial - produtos de borracha e material plástico - quantum - índice (média 2022 = 100) - PIMBORRAPLASN\n",
      "-------------------------------------------------------------------------\n",
      "Descrição: A produção industrial da fabricação de borracha e plástico considera a fabricação de produtos de borracha ou de material plástico. As atividades desta divisão são determinadas pela matéria-prima utilizada. Esta classificação não compreende a fabricação de artigos do vestuário confeccionados através de costura, mesmo que a borracha ou o material plástico sejam o componente principal desses produtos e a fabricação de calçados de borracha ou de material plástico.  A base foi fixada como a média das observações no ano de 2022. Notas: A Pesquisa Industrial Mensal Produção Física têm por objetivo acompanhar a evolução do produto real da indústria no curto prazo, sendo necessário o levantamento de informações de volume físico de produtos selecionados e representativos de diferentes atividades industriais. A partir de maio de 2014, a Pesquisa Industrial Mensal Produção Física, sofre reformulação e dá-se início a divulgação da nova série de índices mensais da produção industrial, com base nas novas classificações, de atividades e produtos, usadas pelas demais pesquisas da indústria a partir de 2007, quais sejam: a Classificação Nacional de Atividades Econômicas - CNAE 2.0 e a Lista de Produtos da Indústria - PRODLIST-Indústria. Em 2023, a pesquisa teve uma nova atualização e que foi feita a partir do cadastro de empresas e produtos produzidos pela Pesquisa Industrial Anual (PIA-Empresa e PIA-Produto) de 2019. Nesse processo, atualiza-se o ano base da pesquisa, a cesta de produtos investigados e a estrutura de ponderação. Mais informações: <a href=\"../doc/CNAE 2.0.pdf\">CNAE 2.0</a> ;  <a href=\"../doc/PRODLIST - Indústria .pdf\">Lista de Produtos da Indústria</a> e <a href=\"../doc/IBGE DICIONARIO DE ESTATISTICA.pdf\">Dicionário Brasileiro de Estatística</a>.\n",
      "Origem dos dados: Instituto  Brasileiro de Geografia e Estatística - www.ibge.gov.br\n",
      "Frequência dos dados: Mensal\n",
      "\n",
      "========================================================================\n",
      "Produção industrial - couros, artigos para viagem e calçados - quantum - índice (média 2022 = 100) - PIMCALCOURON\n",
      "-------------------------------------------------------------------------\n",
      "Descrição: A produção industrial da fabricação de calçados e artigos de couro considera o curtimento e outras preparações de couros e peles e a fabricação de artefatos de couro, a fabricação de substitutos do couro, a fabricação de bolsas e de artigos para viagem de qualquer material, assim como a fabricação de calçados para todos os usos e suas partes, de qualquer material e por qualquer processo. Esta classificação não compreende a fabricação de calçados ortopédicos. A base foi fixada como a média das observações no ano de 2022. Notas: A Pesquisa Industrial Mensal Produção Física têm por objetivo acompanhar a evolução do produto real da indústria no curto prazo, sendo necessário o levantamento de informações de volume físico de produtos selecionados e representativos de diferentes atividades industriais. A partir de maio de 2014, a Pesquisa Industrial Mensal Produção Física, sofre reformulação e dá-se início a divulgação da nova série de índices mensais da produção industrial, com base nas novas classificações, de atividades e produtos, usadas pelas demais pesquisas da indústria a partir de 2007, quais sejam: a Classificação Nacional de Atividades Econômicas - CNAE 2.0 e a Lista de Produtos da Indústria - PRODLIST-Indústria. Em 2023, a pesquisa teve uma nova atualização e que foi feita a partir do cadastro de empresas e produtos produzidos pela Pesquisa Industrial Anual (PIA-Empresa e PIA-Produto) de 2019. Nesse processo, atualiza-se o ano base da pesquisa, a cesta de produtos investigados e a estrutura de ponderação. Mais informações: <a href=\"../doc/CNAE 2.0.pdf\">CNAE 2.0</a> ;  <a href=\"../doc/PRODLIST - Indústria .pdf\">Lista de Produtos da Indústria</a> e <a href=\"../doc/IBGE DICIONARIO DE ESTATISTICA.pdf\">Dicionário Brasileiro de Estatística</a>.\n",
      "Origem dos dados: Instituto  Brasileiro de Geografia e Estatística - www.ibge.gov.br\n",
      "Frequência dos dados: Mensal\n",
      "\n",
      "========================================================================\n",
      "Produção industrial - celulose, papel e produtos de papel - quantum - índice (média 2022 = 100) - PIMCELUPAPELN\n",
      "-------------------------------------------------------------------------\n",
      "Descrição: A produção industrial da fabricação de papel, celulose e outros produtos de papel compreende a fabricação de polpa, papel, papel-cartão e papelão e de produtos fabricados com papel, papel-cartão ou papelão ondulado, mesmo impressos, desde que a impressão de informação não seja a finalidade principal do produto. A base foi fixada como a média das observações no ano de 2022. Notas: A Pesquisa Industrial Mensal Produção Física têm por objetivo acompanhar a evolução do produto real da indústria no curto prazo, sendo necessário o levantamento de informações de volume físico de produtos selecionados e representativos de diferentes atividades industriais. A partir de maio de 2014, a Pesquisa Industrial Mensal Produção Física, sofre reformulação e dá-se início a divulgação da nova série de índices mensais da produção industrial, com base nas novas classificações, de atividades e produtos, usadas pelas demais pesquisas da indústria a partir de 2007, quais sejam: a Classificação Nacional de Atividades Econômicas - CNAE 2.0 e a Lista de Produtos da Indústria - PRODLIST-Indústria. Em 2023, a pesquisa teve uma nova atualização e que foi feita a partir do cadastro de empresas e produtos produzidos pela Pesquisa Industrial Anual (PIA-Empresa e PIA-Produto) de 2019. Nesse processo, atualiza-se o ano base da pesquisa, a cesta de produtos investigados e a estrutura de ponderação. Mais informações: <a href=\"../doc/CNAE 2.0.pdf\">CNAE 2.0</a> ;  <a href=\"../doc/PRODLIST - Indústria .pdf\">Lista de Produtos da Indústria</a> e <a href=\"../doc/IBGE DICIONARIO DE ESTATISTICA.pdf\">Dicionário Brasileiro de Estatística</a>.\n",
      "Origem dos dados: Instituto  Brasileiro de Geografia e Estatística - www.ibge.gov.br\n",
      "Frequência dos dados: Mensal\n",
      "\n",
      "========================================================================\n",
      "Produção industrial - indústrias extrativas - quantum - índice (média 2022 = 100) - PIMEXTMINN\n",
      "-------------------------------------------------------------------------\n",
      "Descrição: A produção industrial da indústria extrativa compreende as atividades de extração de minerais em estado natural: sólidos (carvão e outros minérios), líquidos (petróleo cru) e gasosos (gás natural), podendo realizar-se em minas subterrâneas, a céu aberto ou em poços. Também são consideradas atividades complementares de beneficiamento associado à extração, realizadas principalmente para melhorar a qualidade do produto e facilitar a comercialização, desde que o beneficiamento não altere as características físicas ou químicas dos minerais. A base foi fixada como a média das observações no ano de 2022. Notas: A Pesquisa Industrial Mensal Produção Física têm por objetivo acompanhar a evolução do produto real da indústria no curto prazo, sendo necessário o levantamento de informações de volume físico de produtos selecionados e representativos de diferentes atividades industriais. A partir de maio de 2014, a Pesquisa Industrial Mensal Produção Física, sofre reformulação e dá-se início a divulgação da nova série de índices mensais da produção industrial, com base nas novas classificações, de atividades e produtos, usadas pelas demais pesquisas da indústria a partir de 2007, quais sejam: a Classificação Nacional de Atividades Econômicas - CNAE 2.0 e a Lista de Produtos da Indústria - PRODLIST-Indústria. Em 2023, a pesquisa teve uma nova atualização e que foi feita a partir do cadastro de empresas e produtos produzidos pela Pesquisa Industrial Anual (PIA-Empresa e PIA-Produto) de 2019. Nesse processo, atualiza-se o ano base da pesquisa, a cesta de produtos investigados e a estrutura de ponderação. Mais informações: <a href=\"../doc/CNAE 2.0.pdf\">CNAE 2.0</a> ;  <a href=\"../doc/PRODLIST - Indústria .pdf\">Lista de Produtos da Indústria</a> e <a href=\"../doc/IBGE DICIONARIO DE ESTATISTICA.pdf\">Dicionário Brasileiro de Estatística</a>.\n",
      "Origem dos dados: Instituto  Brasileiro de Geografia e Estatística - www.ibge.gov.br\n",
      "Frequência dos dados: Mensal\n",
      "\n",
      "========================================================================\n",
      "Produção industrial - produtos do fumo - quantum - índice (média 2022 = 100) - PIMFUMON\n",
      "-------------------------------------------------------------------------\n",
      "Descrição: A produção industrial da fabricação de fumo considera a fabricação de cigarros, cigarrilhas e outros derivados do fumo, além do fumo processado industrialmente (destalamento e outros beneficiamentos elaborados em unidades industriais) e a fabricação de filtros para cigarros. Esta classificação não compreende o cultivo do fumo, bem como o beneficiamento inicial.  A base foi fixada como a média das observações no ano de 2022. Notas: A Pesquisa Industrial Mensal Produção Física têm por objetivo acompanhar a evolução do produto real da indústria no curto prazo, sendo necessário o levantamento de informações de volume físico de produtos selecionados e representativos de diferentes atividades industriais. A partir de maio de 2014, a Pesquisa Industrial Mensal Produção Física, sofre reformulação e dá-se início a divulgação da nova série de índices mensais da produção industrial, com base nas novas classificações, de atividades e produtos, usadas pelas demais pesquisas da indústria a partir de 2007, quais sejam: a Classificação Nacional de Atividades Econômicas - CNAE 2.0 e a Lista de Produtos da Indústria - PRODLIST-Indústria. Em 2023, a pesquisa teve uma nova atualização e que foi feita a partir do cadastro de empresas e produtos produzidos pela Pesquisa Industrial Anual (PIA-Empresa e PIA-Produto) de 2019. Nesse processo, atualiza-se o ano base da pesquisa, a cesta de produtos investigados e a estrutura de ponderação. Mais informações: <a href=\"../doc/CNAE 2.0.pdf\">CNAE 2.0</a> ;  <a href=\"../doc/PRODLIST - Indústria .pdf\">Lista de Produtos da Indústria</a> e <a href=\"../doc/IBGE DICIONARIO DE ESTATISTICA.pdf\">Dicionário Brasileiro de Estatística</a>.\n",
      "Origem dos dados: Instituto  Brasileiro de Geografia e Estatística - www.ibge.gov.br\n",
      "Frequência dos dados: Mensal\n",
      "\n",
      "========================================================================\n",
      "Produção industrial - indústria de transformação - quantum - índice (média 2022 = 100) - PIMINDTRANSFN\n",
      "-------------------------------------------------------------------------\n",
      "Descrição: A produção industrial das indústrias de transformação, compreende as atividades que envolvem a transformação física, química e biológica de materiais, substâncias e componentes com a finalidade de se obterem produtos novos. Os materiais, substâncias e componentes transformados são insumos produzidos nas atividades agrícolas, florestais, de mineração, da pesca e produtos de outras atividades industriais. A base foi fixada como a média das observações no ano de 2022. Notas: A Pesquisa Industrial Mensal Produção Física têm por objetivo acompanhar a evolução do produto real da indústria no curto prazo, sendo necessário o levantamento de informações de volume físico de produtos selecionados e representativos de diferentes atividades industriais. A partir de maio de 2014, a Pesquisa Industrial Mensal Produção Física, sofre reformulação e dá-se início a divulgação da nova série de índices mensais da produção industrial, com base nas novas classificações, de atividades e produtos, usadas pelas demais pesquisas da indústria a partir de 2007, quais sejam: a Classificação Nacional de Atividades Econômicas - CNAE 2.0 e a Lista de Produtos da Indústria - PRODLIST-Indústria. Em 2023, a pesquisa teve uma nova atualização e que foi feita a partir do cadastro de empresas e produtos produzidos pela Pesquisa Industrial Anual (PIA-Empresa e PIA-Produto) de 2019. Nesse processo, atualiza-se o ano base da pesquisa, a cesta de produtos investigados e a estrutura de ponderação. Mais informações: <a href=\"../doc/CNAE 2.0.pdf\">CNAE 2.0</a> ;  <a href=\"../doc/PRODLIST - Indústria .pdf\">Lista de Produtos da Indústria</a> e <a href=\"../doc/IBGE DICIONARIO DE ESTATISTICA.pdf\">Dicionário Brasileiro de Estatística</a>.\n",
      "Origem dos dados: Instituto  Brasileiro de Geografia e Estatística - www.ibge.gov.br\n",
      "Frequência dos dados: Mensal\n",
      "\n",
      "========================================================================\n",
      "Produção industrial - produtos de madeira - quantum - índice (média 2022 = 100) - PIMMADEIRAN\n",
      "-------------------------------------------------------------------------\n",
      "Descrição: A produção industrial da fabricação de madeira considera a fabricação de madeira serrada, laminada, compensada, prensada e aglomerada e de produtos de madeira para construção, para embalagem, para uso industrial, comercial e doméstico. A imunização da madeira e a fabricação de produtos de cortiça, vime, junco, palha e outros materiais trançados também são considerados, com exceção a fabricação de móveis de madeira, bambu e materiais semelhantes. A base foi fixada como a média das observações no ano de 2022. Notas: A Pesquisa Industrial Mensal Produção Física têm por objetivo acompanhar a evolução do produto real da indústria no curto prazo, sendo necessário o levantamento de informações de volume físico de produtos selecionados e representativos de diferentes atividades industriais. A partir de maio de 2014, a Pesquisa Industrial Mensal Produção Física, sofre reformulação e dá-se início a divulgação da nova série de índices mensais da produção industrial, com base nas novas classificações, de atividades e produtos, usadas pelas demais pesquisas da indústria a partir de 2007, quais sejam: a Classificação Nacional de Atividades Econômicas - CNAE 2.0 e a Lista de Produtos da Indústria - PRODLIST-Indústria. Em 2023, a pesquisa teve uma nova atualização e que foi feita a partir do cadastro de empresas e produtos produzidos pela Pesquisa Industrial Anual (PIA-Empresa e PIA-Produto) de 2019. Nesse processo, atualiza-se o ano base da pesquisa, a cesta de produtos investigados e a estrutura de ponderação. Mais informações: <a href=\"../doc/CNAE 2.0.pdf\">CNAE 2.0</a> ;  <a href=\"../doc/PRODLIST - Indústria .pdf\">Lista de Produtos da Indústria</a> e <a href=\"../doc/IBGE DICIONARIO DE ESTATISTICA.pdf\">Dicionário Brasileiro de Estatística</a>.\n",
      "Origem dos dados: Instituto  Brasileiro de Geografia e Estatística - www.ibge.gov.br\n",
      "Frequência dos dados: Mensal\n",
      "\n",
      "========================================================================\n",
      "Produção industrial - máquinas, aparelhos e materiais elétricos - quantum - índice (média 2022 =100) - PIMMAQAPAELEN\n",
      "-------------------------------------------------------------------------\n",
      "Descrição: A produção industrial da fabricação de máquinas, aparelhos e materiais elétricos considera a fabricação de produtos para geração, distribuição e controle de energia elétrica, de aparelhos eletrodomésticos, de equipamentos de iluminação elétrica, sinalização e alarme, de lâmpadas, de fios, cabos e outros materiais elétricos. A base foi fixada como a média das observações no ano de 2022. Notas: A Pesquisa Industrial Mensal Produção Física têm por objetivo acompanhar a evolução do produto real da indústria no curto prazo, sendo necessário o levantamento de informações de volume físico de produtos selecionados e representativos de diferentes atividades industriais. A partir de maio de 2014, a Pesquisa Industrial Mensal Produção Física, sofre reformulação e dá-se início a divulgação da nova série de índices mensais da produção industrial, com base nas novas classificações, de atividades e produtos, usadas pelas demais pesquisas da indústria a partir de 2007, quais sejam: a Classificação Nacional de Atividades Econômicas - CNAE 2.0 e a Lista de Produtos da Indústria - PRODLIST-Indústria. Em 2023, a pesquisa teve uma nova atualização e que foi feita a partir do cadastro de empresas e produtos produzidos pela Pesquisa Industrial Anual (PIA-Empresa e PIA-Produto) de 2019. Nesse processo, atualiza-se o ano base da pesquisa, a cesta de produtos investigados e a estrutura de ponderação. Mais informações: <a href=\"../doc/CNAE 2.0.pdf\">CNAE 2.0</a> ;  <a href=\"../doc/PRODLIST - Indústria .pdf\">Lista de Produtos da Indústria</a> e <a href=\"../doc/IBGE DICIONARIO DE ESTATISTICA.pdf\">Dicionário Brasileiro de Estatística</a>.\n",
      "Origem dos dados: Instituto  Brasileiro de Geografia e Estatística - www.ibge.gov.br\n",
      "Frequência dos dados: Mensal\n",
      "\n",
      "========================================================================\n",
      "Produção industrial - máquinas e equipamentos - quantum - índice (média 2022 = 100) - PIMMAQEQUIPN\n",
      "-------------------------------------------------------------------------\n",
      "Descrição: A produção industrial da fabricação de máquinas, aparelhos e materiais elétricos considera a fabricação de produtos para geração, distribuição e controle de energia elétrica, de aparelhos eletrodomésticos, de equipamentos de iluminação elétrica, sinalização e alarme, de lâmpadas, de fios, cabos e outros materiais elétricos. A base foi fixada como a média das observações no ano de 2022. Notas: A Pesquisa Industrial Mensal Produção Física têm por objetivo acompanhar a evolução do produto real da indústria no curto prazo, sendo necessário o levantamento de informações de volume físico de produtos selecionados e representativos de diferentes atividades industriais. A partir de maio de 2014, a Pesquisa Industrial Mensal Produção Física, sofre reformulação e dá-se início a divulgação da nova série de índices mensais da produção industrial, com base nas novas classificações, de atividades e produtos, usadas pelas demais pesquisas da indústria a partir de 2007, quais sejam: a Classificação Nacional de Atividades Econômicas - CNAE 2.0 e a Lista de Produtos da Indústria - PRODLIST-Indústria. Em 2023, a pesquisa teve uma nova atualização e que foi feita a partir do cadastro de empresas e produtos produzidos pela Pesquisa Industrial Anual (PIA-Empresa e PIA-Produto) de 2019. Nesse processo, atualiza-se o ano base da pesquisa, a cesta de produtos investigados e a estrutura de ponderação. Mais informações: <a href=\"../doc/CNAE 2.0.pdf\">CNAE 2.0</a> ;  <a href=\"../doc/PRODLIST - Indústria .pdf\">Lista de Produtos da Indústria</a> e <a href=\"../doc/IBGE DICIONARIO DE ESTATISTICA.pdf\">Dicionário Brasileiro de Estatística</a>.\n",
      "Origem dos dados: Instituto  Brasileiro de Geografia e Estatística - www.ibge.gov.br\n",
      "Frequência dos dados: Mensal\n",
      "\n",
      "========================================================================\n",
      "Produção industrial - metalurgia - quantum - índice (média 2022 = 100) - PIMMETALURGIAN\n",
      "-------------------------------------------------------------------------\n",
      "Descrição: A produção industrial da metalurgia considera a conversão de minérios ferrosos e não-ferrosos em produtos metalúrgicos por meios térmicos, eletrometalúrgicos ou não (fornos, convertedores, etc.), e outras técnicas metalúrgicas de processamento para obtenção de produtos intermediários do processamento de minérios metálicos, tais como gusa, aço líquido, alumina calcinada ou não, mates metalúrgicos de cobre e níquel, etc., a produção de metais em formas primárias ou semi-acabados (lingotes, placas, tarugos, bilhetes, palanquilhas, etc.), a produção de laminados, relaminados, trefilados, retrefilados (chapas, bobinas, barras, perfis, trilhos, vergalhões, fio-máquina, etc.) e a produção de canos e tubos. A base foi fixada como a média das observações no ano de 2022. Notas: A Pesquisa Industrial Mensal Produção Física têm por objetivo acompanhar a evolução do produto real da indústria no curto prazo, sendo necessário o levantamento de informações de volume físico de produtos selecionados e representativos de diferentes atividades industriais. A partir de maio de 2014, a Pesquisa Industrial Mensal Produção Física, sofre reformulação e dá-se início a divulgação da nova série de índices mensais da produção industrial, com base nas novas classificações, de atividades e produtos, usadas pelas demais pesquisas da indústria a partir de 2007, quais sejam: a Classificação Nacional de Atividades Econômicas - CNAE 2.0 e a Lista de Produtos da Indústria - PRODLIST-Indústria. Em 2023, a pesquisa teve uma nova atualização e que foi feita a partir do cadastro de empresas e produtos produzidos pela Pesquisa Industrial Anual (PIA-Empresa e PIA-Produto) de 2019. Nesse processo, atualiza-se o ano base da pesquisa, a cesta de produtos investigados e a estrutura de ponderação. Mais informações: <a href=\"../doc/CNAE 2.0.pdf\">CNAE 2.0</a> ;  <a href=\"../doc/PRODLIST - Indústria .pdf\">Lista de Produtos da Indústria</a> e <a href=\"../doc/IBGE DICIONARIO DE ESTATISTICA.pdf\">Dicionário Brasileiro de Estatística</a>.\n",
      "Origem dos dados: Instituto  Brasileiro de Geografia e Estatística - www.ibge.gov.br\n",
      "Frequência dos dados: Mensal\n",
      "\n",
      "========================================================================\n",
      "Produção industrial - produtos de minerais e não metálicos - quantum - índice (média 2022 = 100) - PIMMINNAOMETN\n",
      "-------------------------------------------------------------------------\n",
      "Descrição: A produção industrial da fabricação de produtos de minerais não-metálicos considera a fabricação de produtos relacionados a substâncias minerais, como a fabricação de vidro e produtos de vidro, a fabricação de produtos cerâmicos ou de barro cozido, de cimento, de gesso e de materiais semelhantes. A base foi fixada como a média das observações no ano de 2022. Notas: A Pesquisa Industrial Mensal Produção Física têm por objetivo acompanhar a evolução do produto real da indústria no curto prazo, sendo necessário o levantamento de informações de volume físico de produtos selecionados e representativos de diferentes atividades industriais. A partir de maio de 2014, a Pesquisa Industrial Mensal Produção Física, sofre reformulação e dá-se início a divulgação da nova série de índices mensais da produção industrial, com base nas novas classificações, de atividades e produtos, usadas pelas demais pesquisas da indústria a partir de 2007, quais sejam: a Classificação Nacional de Atividades Econômicas - CNAE 2.0 e a Lista de Produtos da Indústria - PRODLIST-Indústria. Em 2023, a pesquisa teve uma nova atualização e que foi feita a partir do cadastro de empresas e produtos produzidos pela Pesquisa Industrial Anual (PIA-Empresa e PIA-Produto) de 2019. Nesse processo, atualiza-se o ano base da pesquisa, a cesta de produtos investigados e a estrutura de ponderação. Mais informações: <a href=\"../doc/CNAE 2.0.pdf\">CNAE 2.0</a> ;  <a href=\"../doc/PRODLIST - Indústria .pdf\">Lista de Produtos da Indústria</a> e <a href=\"../doc/IBGE DICIONARIO DE ESTATISTICA.pdf\">Dicionário Brasileiro de Estatística</a>.\n",
      "Origem dos dados: Instituto  Brasileiro de Geografia e Estatística - www.ibge.gov.br\n",
      "Frequência dos dados: Mensal\n",
      "\n",
      "========================================================================\n",
      "Produção industrial - móveis - quantum - índice (média 2022 = 100) - PIMMOBILIARION\n",
      "-------------------------------------------------------------------------\n",
      "Descrição: A produção industrial da fabricação de fabricação de móveis compreende a fabricação de artigos do mobiliário de qualquer material para qualquer uso, assim como  a fabricação de gabinetes para máquinas de costura, televisores e semelhantes. Não pertencendo a esta classe a fabricação de móveis de concreto, cerâmica e pedra. A base foi fixada como a média das observações no ano de 2022. Notas: A Pesquisa Industrial Mensal Produção Física têm por objetivo acompanhar a evolução do produto real da indústria no curto prazo, sendo necessário o levantamento de informações de volume físico de produtos selecionados e representativos de diferentes atividades industriais. A partir de maio de 2014, a Pesquisa Industrial Mensal Produção Física, sofre reformulação e dá-se início a divulgação da nova série de índices mensais da produção industrial, com base nas novas classificações, de atividades e produtos, usadas pelas demais pesquisas da indústria a partir de 2007, quais sejam: a Classificação Nacional de Atividades Econômicas - CNAE 2.0 e a Lista de Produtos da Indústria - PRODLIST-Indústria. Em 2023, a pesquisa teve uma nova atualização e que foi feita a partir do cadastro de empresas e produtos produzidos pela Pesquisa Industrial Anual (PIA-Empresa e PIA-Produto) de 2019. Nesse processo, atualiza-se o ano base da pesquisa, a cesta de produtos investigados e a estrutura de ponderação. Mais informações: <a href=\"../doc/CNAE 2.0.pdf\">CNAE 2.0</a> ;  <a href=\"../doc/PRODLIST - Indústria .pdf\">Lista de Produtos da Indústria</a> e <a href=\"../doc/IBGE DICIONARIO DE ESTATISTICA.pdf\">Dicionário Brasileiro de Estatística</a>.\n",
      "Origem dos dados: Instituto  Brasileiro de Geografia e Estatística - www.ibge.gov.br\n",
      "Frequência dos dados: Mensal\n",
      "\n",
      "========================================================================\n",
      "Produção industrial - outros equipamentos de transporte, exceto veículos automotores - quantum - índice (média 2022 = 100) - PIMOUTETRANSPN\n",
      "-------------------------------------------------------------------------\n",
      "Descrição: A produção industrial da fabricação de outros equipamentos de transporte, exceto veículos automotores compreende a fabricação detes veículos para transporte de pessoas e mercadorias e a fabricação de cabines, carrocerias, reboques e semi-reboques, assim como a fabricação de veículos militares de combate, a fabricação de cadeiras de rodas e veículos semelhantes para deficientes físicos, a fabricação de peças e acessórios para os veículos produzidos nesta divisão. A base foi fixada como a média das observações no ano de 2022. Notas: A Pesquisa Industrial Mensal Produção Física têm por objetivo acompanhar a evolução do produto real da indústria no curto prazo, sendo necessário o levantamento de informações de volume físico de produtos selecionados e representativos de diferentes atividades industriais. A partir de maio de 2014, a Pesquisa Industrial Mensal Produção Física, sofre reformulação e dá-se início a divulgação da nova série de índices mensais da produção industrial, com base nas novas classificações, de atividades e produtos, usadas pelas demais pesquisas da indústria a partir de 2007, quais sejam: a Classificação Nacional de Atividades Econômicas - CNAE 2.0 e a Lista de Produtos da Indústria - PRODLIST-Indústria. Em 2023, a pesquisa teve uma nova atualização e que foi feita a partir do cadastro de empresas e produtos produzidos pela Pesquisa Industrial Anual (PIA-Empresa e PIA-Produto) de 2019. Nesse processo, atualiza-se o ano base da pesquisa, a cesta de produtos investigados e a estrutura de ponderação. Mais informações: <a href=\"../doc/CNAE 2.0.pdf\">CNAE 2.0</a> ;  <a href=\"../doc/PRODLIST - Indústria .pdf\">Lista de Produtos da Indústria</a> e <a href=\"../doc/IBGE DICIONARIO DE ESTATISTICA.pdf\">Dicionário Brasileiro de Estatística</a>.\n",
      "Origem dos dados: Instituto  Brasileiro de Geografia e Estatística - www.ibge.gov.br\n",
      "Frequência dos dados: Mensal\n",
      "\n",
      "========================================================================\n",
      "Produção industrial - produtos químicos - quantum - índice (média 2022 = 100) - PIMOUTPQUIMICON\n",
      "-------------------------------------------------------------------------\n",
      "Descrição: A produção industrial da fabricação de produtos químicos considera a fabricação de tintas para escrever e desenhar, o tratamento de óleos e gorduras por processos químicos, a fabricação de outros produtos químicos não classificados anteriormente farmoquímicos. A base foi fixada como a média das observações no ano de 2022. Notas: A Pesquisa Industrial Mensal Produção Física têm por objetivo acompanhar a evolução do produto real da indústria no curto prazo, sendo necessário o levantamento de informações de volume físico de produtos selecionados e representativos de diferentes atividades industriais. A partir de maio de 2014, a Pesquisa Industrial Mensal Produção Física, sofre reformulação e dá-se início a divulgação da nova série de índices mensais da produção industrial, com base nas novas classificações, de atividades e produtos, usadas pelas demais pesquisas da indústria a partir de 2007, quais sejam: a Classificação Nacional de Atividades Econômicas - CNAE 2.0 e a Lista de Produtos da Indústria - PRODLIST-Indústria. Em 2023, a pesquisa teve uma nova atualização e que foi feita a partir do cadastro de empresas e produtos produzidos pela Pesquisa Industrial Anual (PIA-Empresa e PIA-Produto) de 2019. Nesse processo, atualiza-se o ano base da pesquisa, a cesta de produtos investigados e a estrutura de ponderação. Mais informações: <a href=\"../doc/CNAE 2.0.pdf\">CNAE 2.0</a> ;  <a href=\"../doc/PRODLIST - Indústria .pdf\">Lista de Produtos da Indústria</a> e <a href=\"../doc/IBGE DICIONARIO DE ESTATISTICA.pdf\">Dicionário Brasileiro de Estatística</a>.\n",
      "Origem dos dados: Instituto  Brasileiro de Geografia e Estatística - www.ibge.gov.br\n",
      "Frequência dos dados: Mensal\n",
      "\n",
      "========================================================================\n",
      "Produção industrial - produtos de metal, exceto máquinas e equipamentos - quantum - índice (média 2022 = 100) - PIMPRODMETEXCMEN\n",
      "-------------------------------------------------------------------------\n",
      "Descrição: A produção industrial da fabricação de produtos de metal, exceto máquinas e equipamentos, considera a fabricação de produtos de metal como estruturas metálicas e obras de caldeiraria pesada para diversas aplicações, caldeiras, tanques e reservatórios metálicos utilizados como instalação para armazenamento e uso industrial e a fabricação de produtos de serralheria, forjaria, estamparia, funilaria, metalurgia de pó, artigos de cutelaria, embalagens metálicas e ferramentas. A base foi fixada como a média das observações no ano de 2022. Notas: A Pesquisa Industrial Mensal Produção Física têm por objetivo acompanhar a evolução do produto real da indústria no curto prazo, sendo necessário o levantamento de informações de volume físico de produtos selecionados e representativos de diferentes atividades industriais. A partir de maio de 2014, a Pesquisa Industrial Mensal Produção Física, sofre reformulação e dá-se início a divulgação da nova série de índices mensais da produção industrial, com base nas novas classificações, de atividades e produtos, usadas pelas demais pesquisas da indústria a partir de 2007, quais sejam: a Classificação Nacional de Atividades Econômicas - CNAE 2.0 e a Lista de Produtos da Indústria - PRODLIST-Indústria. Em 2023, a pesquisa teve uma nova atualização e que foi feita a partir do cadastro de empresas e produtos produzidos pela Pesquisa Industrial Anual (PIA-Empresa e PIA-Produto) de 2019. Nesse processo, atualiza-se o ano base da pesquisa, a cesta de produtos investigados e a estrutura de ponderação. Mais informações: <a href=\"../doc/CNAE 2.0.pdf\">CNAE 2.0</a> ;  <a href=\"../doc/PRODLIST - Indústria .pdf\">Lista de Produtos da Indústria</a> e <a href=\"../doc/IBGE DICIONARIO DE ESTATISTICA.pdf\">Dicionário Brasileiro de Estatística</a>.\n",
      "Origem dos dados: Instituto  Brasileiro de Geografia e Estatística - www.ibge.gov.br\n",
      "Frequência dos dados: Mensal\n",
      "\n",
      "========================================================================\n",
      "Produção industrial - coque, derivados de petróleo e biocombustíveis - quantum - índice (média 2022 = 100) - PIMREFPETALCN\n",
      "-------------------------------------------------------------------------\n",
      "Descrição: A produção industrial da fabricação de coque, de produtos derivados do petróleo e de biocombustíveis compreende a transformação de carvão mineral em coquerias independentes, o refino do petróleo, a fabricação de álcool para qualquer fim, a fabricação de biodiesel a partir da transesterificação de óleos vegetais ou gorduras animais e a fabricação de outros biocombustíveis. A atividade de fabricação do álcool inclui-se nesta divisão, considerando que seu uso principal é como combustível e se constitui em uma das mais importantes alternativas energéticas no país. A base foi fixada como a média das observações no ano de 2022. Notas: A Pesquisa Industrial Mensal Produção Física têm por objetivo acompanhar a evolução do produto real da indústria no curto prazo, sendo necessário o levantamento de informações de volume físico de produtos selecionados e representativos de diferentes atividades industriais. A partir de maio de 2014, a Pesquisa Industrial Mensal Produção Física, sofre reformulação e dá-se início a divulgação da nova série de índices mensais da produção industrial, com base nas novas classificações, de atividades e produtos, usadas pelas demais pesquisas da indústria a partir de 2007, quais sejam: a Classificação Nacional de Atividades Econômicas - CNAE 2.0 e a Lista de Produtos da Indústria - PRODLIST-Indústria. Em 2023, a pesquisa teve uma nova atualização e que foi feita a partir do cadastro de empresas e produtos produzidos pela Pesquisa Industrial Anual (PIA-Empresa e PIA-Produto) de 2019. Nesse processo, atualiza-se o ano base da pesquisa, a cesta de produtos investigados e a estrutura de ponderação. Mais informações: <a href=\"../doc/CNAE 2.0.pdf\">CNAE 2.0</a> ;  <a href=\"../doc/PRODLIST - Indústria .pdf\">Lista de Produtos da Indústria</a> e <a href=\"../doc/IBGE DICIONARIO DE ESTATISTICA.pdf\">Dicionário Brasileiro de Estatística</a>.\n",
      "Origem dos dados: Instituto  Brasileiro de Geografia e Estatística - www.ibge.gov.br\n",
      "Frequência dos dados: Mensal\n",
      "\n",
      "========================================================================\n",
      "Produção industrial - produtos têxteis - quantum - índice (média 2022 = 100) - PIMTEXTILN\n",
      "-------------------------------------------------------------------------\n",
      "Descrição: A produção industrial da fabricação de têxtis considera as atividades de preparação das fibras têxteis, a fiação e a tecelagem (plana ou não). Na cadeia produtiva têxtil, a fiação é um processo intermediário e tem como insumos as fibras naturais (algodão, seda, linho, lã, rami, juta, sisal, etc.) ou químicas (artificiais e sintéticas). A base foi fixada como a média das observações no ano de 2022. Notas: A Pesquisa Industrial Mensal Produção Física têm por objetivo acompanhar a evolução do produto real da indústria no curto prazo, sendo necessário o levantamento de informações de volume físico de produtos selecionados e representativos de diferentes atividades industriais. A partir de maio de 2014, a Pesquisa Industrial Mensal Produção Física, sofre reformulação e dá-se início a divulgação da nova série de índices mensais da produção industrial, com base nas novas classificações, de atividades e produtos, usadas pelas demais pesquisas da indústria a partir de 2007, quais sejam: a Classificação Nacional de Atividades Econômicas - CNAE 2.0 e a Lista de Produtos da Indústria - PRODLIST-Indústria. Em 2023, a pesquisa teve uma nova atualização e que foi feita a partir do cadastro de empresas e produtos produzidos pela Pesquisa Industrial Anual (PIA-Empresa e PIA-Produto) de 2019. Nesse processo, atualiza-se o ano base da pesquisa, a cesta de produtos investigados e a estrutura de ponderação. Mais informações: <a href=\"../doc/CNAE 2.0.pdf\">CNAE 2.0</a> ;  <a href=\"../doc/PRODLIST - Indústria .pdf\">Lista de Produtos da Indústria</a> e <a href=\"../doc/IBGE DICIONARIO DE ESTATISTICA.pdf\">Dicionário Brasileiro de Estatística</a>.\n",
      "Origem dos dados: Instituto  Brasileiro de Geografia e Estatística - www.ibge.gov.br\n",
      "Frequência dos dados: Mensal\n",
      "\n",
      "========================================================================\n",
      "Produção industrial - veículos automotores, reboques e carrocerias - quantum - índice (média 2022 = 100) - PIMVEICULOSAUTN\n",
      "-------------------------------------------------------------------------\n",
      "Descrição: A produção industrial da fabricação de veículos automotores, reboques e carrocerias compreende a fabricação de veículos automotores para transporte de pessoas e mercadorias e a fabricação de cabines, carrocerias, reboques e semi-reboques para veículos automotores, assim como a fabricação de peças e acessórios de material elétrico e eletrônico, de bancos e estofados para os veículos automotores. A base foi fixada como a média das observações no ano de 2022. Notas: A Pesquisa Industrial Mensal Produção Física têm por objetivo acompanhar a evolução do produto real da indústria no curto prazo, sendo necessário o levantamento de informações de volume físico de produtos selecionados e representativos de diferentes atividades industriais. A partir de maio de 2014, a Pesquisa Industrial Mensal Produção Física, sofre reformulação e dá-se início a divulgação da nova série de índices mensais da produção industrial, com base nas novas classificações, de atividades e produtos, usadas pelas demais pesquisas da indústria a partir de 2007, quais sejam: a Classificação Nacional de Atividades Econômicas - CNAE 2.0 e a Lista de Produtos da Indústria - PRODLIST-Indústria. Em 2023, a pesquisa teve uma nova atualização e que foi feita a partir do cadastro de empresas e produtos produzidos pela Pesquisa Industrial Anual (PIA-Empresa e PIA-Produto) de 2019. Nesse processo, atualiza-se o ano base da pesquisa, a cesta de produtos investigados e a estrutura de ponderação. Mais informações: <a href=\"../doc/CNAE 2.0.pdf\">CNAE 2.0</a> ;  <a href=\"../doc/PRODLIST - Indústria .pdf\">Lista de Produtos da Indústria</a> e <a href=\"../doc/IBGE DICIONARIO DE ESTATISTICA.pdf\">Dicionário Brasileiro de Estatística</a>.\n",
      "Origem dos dados: Instituto  Brasileiro de Geografia e Estatística - www.ibge.gov.br\n",
      "Frequência dos dados: Mensal\n",
      "\n",
      "========================================================================\n",
      "Produção industrial - artigos do vestuário e acessórios - quantum - índice (média 2022 = 100) - PIMVESTUARIOACEN\n",
      "-------------------------------------------------------------------------\n",
      "Descrição: A produção industrial da confecção de artigos do vestuário e acessórios compreende a confecção, por costura, de roupas para adultos e crianças, de qualquer material e para qualquer uso, confeccionadas em série ou sob medida. Esta classificação não compreende a reparação ou conserto de peças do vestuário e a fabricação de roupas de borracha ou de material plástico unidas por adesivos e outra forma que não seja costura. A base foi fixada como a média das observações no ano de 2022. Notas: A Pesquisa Industrial Mensal Produção Física têm por objetivo acompanhar a evolução do produto real da indústria no curto prazo, sendo necessário o levantamento de informações de volume físico de produtos selecionados e representativos de diferentes atividades industriais. A partir de maio de 2014, a Pesquisa Industrial Mensal Produção Física, sofre reformulação e dá-se início a divulgação da nova série de índices mensais da produção industrial, com base nas novas classificações, de atividades e produtos, usadas pelas demais pesquisas da indústria a partir de 2007, quais sejam: a Classificação Nacional de Atividades Econômicas - CNAE 2.0 e a Lista de Produtos da Indústria - PRODLIST-Indústria. Em 2023, a pesquisa teve uma nova atualização e que foi feita a partir do cadastro de empresas e produtos produzidos pela Pesquisa Industrial Anual (PIA-Empresa e PIA-Produto) de 2019. Nesse processo, atualiza-se o ano base da pesquisa, a cesta de produtos investigados e a estrutura de ponderação. Mais informações: <a href=\"../doc/CNAE 2.0.pdf\">CNAE 2.0</a> ;  <a href=\"../doc/PRODLIST - Indústria .pdf\">Lista de Produtos da Indústria</a> e <a href=\"../doc/IBGE DICIONARIO DE ESTATISTICA.pdf\">Dicionário Brasileiro de Estatística</a>.\n",
      "Origem dos dados: Instituto  Brasileiro de Geografia e Estatística - www.ibge.gov.br\n",
      "Frequência dos dados: Mensal\n",
      "\n",
      "========================================================================\n",
      "Energia elétrica - consumo final energia - indústria - quantidade - CONSUMOIND\n",
      "-------------------------------------------------------------------------\n",
      "Descrição: A energia elétrica no Brasil é dada através de uma matriz que é composta por energias renováveis e não renováveis. As renováveis têm seus recursos encontrados na natureza e estes são inesgotáveis ao passo que as não renováveis são esgotáveis. Caracteriza-se pelo fornecimento à unidade consumidora em que seja desenvolvida atividade industrial, assim como o transporte de matéria-prima, insumo ou produto resultante do seu processamento, desde que realizado de forma integrada fisicamente à unidade consumidora industrial. Fonte: Para 1961 a 1975: Departamento de Águas e Energia Elétrica. Apud: Anuário Estatístico do Brasil, diversos anos, IBGE. Nota: A soma dos estados não necessariamente coincidem com o total Brasil, devido aos dados do Brasil incluírem estimativas de empresas que não tiveram informações por estados. Em 1997 não existe dado por UF. Mais informações: <a href=\"../doc/NT.EPE.DEA.SEE.005.2021 - BEN _ Manual 2020_vf.pdf\">BALANÇO ENERGÉTICO NACIONAL - MANUAL METODOLÓGICO DO BEN</a> e <a href=\"../doc/Anuário Estatístico de Energia Elétrica 2020.pdf\">Anuário Estatístico de Energia Elétrica 2020</a>.\n",
      "Origem dos dados: Ministério de Minas e Energia, Balanço Energético Nacional (MME) - www.mme.gov.br\n",
      "Frequência dos dados: Anual\n",
      "\n",
      "========================================================================\n",
      "Condições atuais do empresário do comércio - CNC12_ICAEC12\n",
      "-------------------------------------------------------------------------\n",
      "Descrição: O Índice de Condições Atuais do Empresário do Comércio (Icaec), é construído com base em três questões que compõem e comparam a situação econômica do País, do setor de atuação e da própria empresa em relação ao mesmo período do ano anterior. Ajuste sazonal: sujeitas ao comportamento sazonal do nível de atividade do comércio e da economia em geral, a série do Icaec é dessazonalizada para possibilitar a comparação mensal (mês sobre o mês imediatamente anterior). Mais informações: https://pesquisascnc.com.br/\n",
      "Origem dos dados: Confederação Nacional do Comércio de Bens, Serviços e Turismo - https://pesquisascnc.com.br/\n",
      "Frequência dos dados: Mensal\n",
      "\n",
      "========================================================================\n",
      "Índice de confiança do empresário do comércio - CNC12_ICEC12\n",
      "-------------------------------------------------------------------------\n",
      "Descrição: O Índice de Confiança do Empresário do Comércio (Icec) é um indicador antecedente pesquisado mensalmente pela Confederação Nacional do Comércio de Bens, Serviços e Turismo (CNC), com os tomadores de decisão das empresas do varejo. O objetivo é detectar as tendências das ações empresariais do setor, levando em conta as avaliações das condições correntes e expectativas para seis meses à frente. A amostra é composta por aproximadamente seis mil empresas situadas em todas as capitais do País, e os índices apresentam dispersões entre zero e 200 pontos, sendo 100 pontos o nível base de satisfação. O Icec é construído com base em nove questões que compõem o Índice de Condições Atuais do Empresário do Comércio (Icaec), o Índice de Expectativas do Empresário do Comércio (IEEC)e o Índice de Investimento do Empresário do Comércio (IIEC). Ajuste sazonal: sujeitas ao comportamento sazonal do nível de atividade do comércio e da economia em geral, as séries dos componentes do Icec são dessazonalizadas para possibilitar a comparação mensal (mês sobre o mês imediatamente anterior). Em janeiro de 2023, as séries passaram a ser ajustadas por modelo X-13 ARIMA-SEATS, em que se consideram como fatores sazonais o efeito calendário, os feriados de Carnaval, Páscoa e Corpus Christi, além da identificação de outliers. Mais informações: https://pesquisascnc.com.br/\n",
      "Origem dos dados: Confederação Nacional do Comércio de Bens, Serviços e Turismo - https://pesquisascnc.com.br/\n",
      "Frequência dos dados: Mensal\n",
      "\n",
      "========================================================================\n",
      "Intenção de consumo das famílias - total - CNC12_ICF12\n",
      "-------------------------------------------------------------------------\n",
      "Descrição: A pesquisa nacional de Intenção de Consumo das Famílias (ICF) é um indicador antecedente do potencial das vendas do comércio, apurado mensalmente pela Confederação Nacional do Comércio de Bens, Serviços e Turismo (CNC). Os resultados medem o grau de satisfação e insatisfação dos consumidores, em que o índice abaixo de 100 pontos indica percepção de insatisfação, enquanto acima de 100 (com limite de 200 pontos) indica satisfação. A pesquisa contempla 18 mil questionários analisados mensalmente, com dados de consumidores coletados em todas as Unidades Federativas, compilados em sete indicadores: três sobre as condições atuais (emprego, renda e nível de consumo), dois sobre expectativas para três meses à frente (perspectiva de consumo e perspectiva profissional), além da avaliação do acesso ao crédito e momento atual para aquisição de bens duráveis. Como as informações estão sujeitas ao comportamento sazonal da economia, as séries são dessazonalizadas para permitir a comparação dos indicadores no mês com os do mês imediatamente anterior.  Mais informações: https://pesquisascnc.com.br/\n",
      "Origem dos dados: Confederação Nacional do Comércio de Bens, Serviços e Turismo - https://pesquisascnc.com.br/\n",
      "Frequência dos dados: Mensal\n",
      "\n",
      "========================================================================\n",
      "Índice de confiança do consumidor (ICC) - FCESP12_IIC12\n",
      "-------------------------------------------------------------------------\n",
      "Descrição: O Índice de confiança do consumidor (ICC) tem como objetivo identificar o sentimento dos consumidores levando em conta suas condições econômicas atuais e a expectativa em relação à sua situação econômica futura.  O índice é calculado a partir de um questionário e, em  cada pergunta, são  computadas as diferenças entre as frequências de respostas positivas e negativas, sendo o índice final a média simples dessas diferenças.  Variando de 0 (pessimismo total) a 200 (otimismo total), ele é composto a partir de dados segmentados por nível de renda, sexo e idade.  O ICC é composto por outros dois índices: o índice de condições econômicas atuais (ICEA) e o índice de expectativas do consumidor (IEC). Mais informações: <a href= \"../doc/ÍNDICE DE CONFIANÇA DO CONSUMIDOR - INFOS.pdf\">Índice de Confiança do Consumidor - ICC</a>.\n",
      "Origem dos dados: Federação do Comércio do Estado de São Paulo, Pesquisa Conjuntural do Comércio Varejista  da Região Metropolitana de São Paulo (Fecomercio SP) - www.fecomercio.com.br\n",
      "Frequência dos dados: Mensal\n",
      "\n"
     ]
    }
   ],
   "source": [
    "print(\"Maiores informações sobre os dados: \\n\")\n",
    "\n",
    "for idx, row in df.iterrows():\n",
    "    print('========================================================================')\n",
    "    print(f'{row.NAME} - {row.CODE}')\n",
    "    print('-------------------------------------------------------------------------')\n",
    "    print(f'Descrição: {row.COMMENT}')\n",
    "    print(f'Origem dos dados: {row.SOURCE} - {row['SOURCE URL']}')\n",
    "    print(f'Frequência dos dados: {row.FREQUENCY}\\n')\n",
    "\n",
    "    "
   ]
  },
  {
   "cell_type": "markdown",
   "metadata": {},
   "source": [
    "Como se observa acima, há inúmeros indicadores envolvidos com os seguintes tópicos:\n",
    "\n",
    "1. Indicadores de Produção Industrial por segmento de produto\n",
    "2. Indicador de uso de energia elétrica pela Indústria\n",
    "3. Indicadores de confiança do Empresário Varejista \n",
    "4. Indicadores de confiança do Consumidor\n",
    "\n",
    "\n",
    "Os primeiros indicarão o crescimento setorial da produção industrial. Serão importantes para avaliar se há algum indicativo de que um determinado segmento está atraindo o empresariado (e possivelmente indicando algum lucro oculto pelo qual seja interessante analisar mais detalhadamente).\n",
    "Já o indicador de uso de energia elétrica pode servir para modelar e compreender como o consumo de energia pode afetar o setor industrial.\n",
    "\n",
    "Por fim, os indicadores de confiança dos varejistas e consumidores, numa primeira análise, podem indicar se há espaço para investimentos na produção ou se a tendência da demanda é reduzir. \n",
    "\n",
    "\n",
    "#### Temporalidade\n",
    "\n",
    "Já de início, percebe-se que uma das fontes é anualizada (consumo de energia elétrica), motivo pelo qual terá que ser tratada na Preparação de Dados.\n"
   ]
  },
  {
   "cell_type": "markdown",
   "metadata": {},
   "source": [
    "#### Aprofundando nos dados\n",
    "\n",
    "Cada série de dados de produção possui as seguintes colunas:"
   ]
  },
  {
   "cell_type": "code",
   "execution_count": 92,
   "metadata": {},
   "outputs": [
    {
     "name": "stdout",
     "output_type": "stream",
     "text": [
      "<class 'pandas.core.frame.DataFrame'>\n",
      "DatetimeIndex: 591 entries, 2002-01-01 to 2025-01-01\n",
      "Data columns (total 6 columns):\n",
      " #   Column     Non-Null Count  Dtype  \n",
      "---  ------     --------------  -----  \n",
      " 0   CODE       591 non-null    object \n",
      " 1   RAW DATE   591 non-null    object \n",
      " 2   TERCODIGO  591 non-null    object \n",
      " 3   YEAR       591 non-null    int32  \n",
      " 4   NIVNOME    591 non-null    object \n",
      " 5   VALUE (-)  591 non-null    float64\n",
      "dtypes: float64(1), int32(1), object(4)\n",
      "memory usage: 30.0+ KB\n"
     ]
    }
   ],
   "source": [
    "exemplo = ip.timeseries('PIM2020S321N')\n",
    "exemplo.info()"
   ]
  },
  {
   "cell_type": "markdown",
   "metadata": {},
   "source": [
    "Nesse caso, a explicação das colunas, extraídas do site da API <a href='https://www.luanborelli.net/ipeadatapy/docs/usage/quickstart/metadata.html'>IpeaDataPY</a>:\n",
    "\n",
    "1. CODE: Código da série \n",
    "\n",
    "2. RAW DATE: data de extração dos dados \n",
    "\n",
    "3. TERCODIGO: Código do território (os dados de produção são setoriais, divididos por Estados)\n",
    "\n",
    "4. YEAR: Ano de referência\n",
    "\n",
    "5. NIVNOME: Nível da segmentação. No caso dos dados de produção, são ESTADUAIS\n",
    "\n",
    "6. VALUE: Valor do indicador\n",
    "\n",
    "\n",
    "O código TERCODIGO pode ser extraído pelo comando abaixo:"
   ]
  },
  {
   "cell_type": "code",
   "execution_count": 93,
   "metadata": {},
   "outputs": [
    {
     "data": {
      "text/html": [
       "<div>\n",
       "<style scoped>\n",
       "    .dataframe tbody tr th:only-of-type {\n",
       "        vertical-align: middle;\n",
       "    }\n",
       "\n",
       "    .dataframe tbody tr th {\n",
       "        vertical-align: top;\n",
       "    }\n",
       "\n",
       "    .dataframe thead th {\n",
       "        text-align: right;\n",
       "    }\n",
       "</style>\n",
       "<table border=\"1\" class=\"dataframe\">\n",
       "  <thead>\n",
       "    <tr style=\"text-align: right;\">\n",
       "      <th></th>\n",
       "      <th>NAME</th>\n",
       "      <th>ID</th>\n",
       "      <th>LEVEL</th>\n",
       "      <th>AREA</th>\n",
       "      <th>CAPITAL</th>\n",
       "    </tr>\n",
       "  </thead>\n",
       "  <tbody>\n",
       "    <tr>\n",
       "      <th>0</th>\n",
       "      <td>(não definido)</td>\n",
       "      <td></td>\n",
       "      <td></td>\n",
       "      <td>NaN</td>\n",
       "      <td>None</td>\n",
       "    </tr>\n",
       "    <tr>\n",
       "      <th>1</th>\n",
       "      <td>Brasil</td>\n",
       "      <td>0</td>\n",
       "      <td>Brasil</td>\n",
       "      <td>8531507.6</td>\n",
       "      <td>False</td>\n",
       "    </tr>\n",
       "    <tr>\n",
       "      <th>2</th>\n",
       "      <td>Região Norte</td>\n",
       "      <td>1</td>\n",
       "      <td>Regiões</td>\n",
       "      <td>3869637.9</td>\n",
       "      <td>False</td>\n",
       "    </tr>\n",
       "    <tr>\n",
       "      <th>3</th>\n",
       "      <td>Rondônia</td>\n",
       "      <td>11</td>\n",
       "      <td>Estados</td>\n",
       "      <td>238512.8</td>\n",
       "      <td>False</td>\n",
       "    </tr>\n",
       "    <tr>\n",
       "      <th>4</th>\n",
       "      <td>Alta Floresta D'Oeste</td>\n",
       "      <td>1100015</td>\n",
       "      <td>Municípios</td>\n",
       "      <td>7111.8</td>\n",
       "      <td>False</td>\n",
       "    </tr>\n",
       "  </tbody>\n",
       "</table>\n",
       "</div>"
      ],
      "text/plain": [
       "                    NAME       ID       LEVEL       AREA CAPITAL\n",
       "0         (não definido)                             NaN    None\n",
       "1                 Brasil        0      Brasil  8531507.6   False\n",
       "2           Região Norte        1     Regiões  3869637.9   False\n",
       "3               Rondônia       11     Estados   238512.8   False\n",
       "4  Alta Floresta D'Oeste  1100015  Municípios     7111.8   False"
      ]
     },
     "execution_count": 93,
     "metadata": {},
     "output_type": "execute_result"
    }
   ],
   "source": [
    "estados = ip.territories()\n",
    "estados.head()"
   ]
  },
  {
   "cell_type": "markdown",
   "metadata": {},
   "source": [
    "Esse código de Estados será utilizado mais à frente para permitir uma exploração mais adequada dos dados."
   ]
  },
  {
   "cell_type": "markdown",
   "metadata": {},
   "source": [
    "Já o de consumo de energia possui a seguinte estrutura, semelhante ao de produção."
   ]
  },
  {
   "cell_type": "code",
   "execution_count": 94,
   "metadata": {},
   "outputs": [
    {
     "name": "stdout",
     "output_type": "stream",
     "text": [
      "<class 'pandas.core.frame.DataFrame'>\n",
      "DatetimeIndex: 2006 entries, 1961-01-01 to 2024-01-01\n",
      "Data columns (total 6 columns):\n",
      " #   Column       Non-Null Count  Dtype  \n",
      "---  ------       --------------  -----  \n",
      " 0   CODE         2006 non-null   object \n",
      " 1   RAW DATE     2006 non-null   object \n",
      " 2   TERCODIGO    2006 non-null   object \n",
      " 3   YEAR         2006 non-null   int32  \n",
      " 4   NIVNOME      2006 non-null   object \n",
      " 5   VALUE (MWh)  2006 non-null   float64\n",
      "dtypes: float64(1), int32(1), object(4)\n",
      "memory usage: 101.9+ KB\n"
     ]
    }
   ],
   "source": [
    "exemplo = ip.timeseries('CONSUMOIND')\n",
    "exemplo.info()"
   ]
  },
  {
   "cell_type": "markdown",
   "metadata": {},
   "source": [
    "Por fim, os indicadores de confiança, que não são setoriais, não possuem as colunas NIVNOME e TERCODIGO"
   ]
  },
  {
   "cell_type": "code",
   "execution_count": 95,
   "metadata": {},
   "outputs": [
    {
     "name": "stdout",
     "output_type": "stream",
     "text": [
      "<class 'pandas.core.frame.DataFrame'>\n",
      "DatetimeIndex: 146 entries, 2013-01-01 to 2025-02-01\n",
      "Data columns (total 6 columns):\n",
      " #   Column          Non-Null Count  Dtype  \n",
      "---  ------          --------------  -----  \n",
      " 0   CODE            146 non-null    object \n",
      " 1   RAW DATE        146 non-null    object \n",
      " 2   DAY             146 non-null    int32  \n",
      " 3   MONTH           146 non-null    int32  \n",
      " 4   YEAR            146 non-null    int32  \n",
      " 5   VALUE (Indice)  146 non-null    float64\n",
      "dtypes: float64(1), int32(3), object(2)\n",
      "memory usage: 6.3+ KB\n"
     ]
    }
   ],
   "source": [
    "exemplo = ip.timeseries('CNC12_ICAEC12')\n",
    "exemplo.info()"
   ]
  },
  {
   "cell_type": "markdown",
   "metadata": {},
   "source": [
    "##### Indicadores de Produção\n",
    "\n",
    "Para a extração dos dados, percebeu-se ser necessário apenas os seguintes dados:\n",
    "\n",
    "- DATE\n",
    "- CODE\n",
    "- TERCODIGO\n",
    "- NIVNOME\n",
    "- VALUE (-)"
   ]
  },
  {
   "cell_type": "code",
   "execution_count": 96,
   "metadata": {},
   "outputs": [
    {
     "data": {
      "text/html": [
       "<div>\n",
       "<style scoped>\n",
       "    .dataframe tbody tr th:only-of-type {\n",
       "        vertical-align: middle;\n",
       "    }\n",
       "\n",
       "    .dataframe tbody tr th {\n",
       "        vertical-align: top;\n",
       "    }\n",
       "\n",
       "    .dataframe thead th {\n",
       "        text-align: right;\n",
       "    }\n",
       "</style>\n",
       "<table border=\"1\" class=\"dataframe\">\n",
       "  <thead>\n",
       "    <tr style=\"text-align: right;\">\n",
       "      <th></th>\n",
       "      <th>CODE</th>\n",
       "      <th>TERCODIGO</th>\n",
       "      <th>NIVNOME</th>\n",
       "      <th>VALOR</th>\n",
       "    </tr>\n",
       "    <tr>\n",
       "      <th>DATE</th>\n",
       "      <th></th>\n",
       "      <th></th>\n",
       "      <th></th>\n",
       "      <th></th>\n",
       "    </tr>\n",
       "  </thead>\n",
       "  <tbody>\n",
       "    <tr>\n",
       "      <th>2022-01-01</th>\n",
       "      <td>PIM2020S321N</td>\n",
       "      <td>33</td>\n",
       "      <td>Estados</td>\n",
       "      <td>37.57661</td>\n",
       "    </tr>\n",
       "    <tr>\n",
       "      <th>2022-01-01</th>\n",
       "      <td>PIM2020S321N</td>\n",
       "      <td>35</td>\n",
       "      <td>Estados</td>\n",
       "      <td>61.12097</td>\n",
       "    </tr>\n",
       "    <tr>\n",
       "      <th>2022-01-01</th>\n",
       "      <td>PIM2020S321N</td>\n",
       "      <td>52</td>\n",
       "      <td>Estados</td>\n",
       "      <td>75.93972</td>\n",
       "    </tr>\n",
       "    <tr>\n",
       "      <th>2022-02-01</th>\n",
       "      <td>PIM2020S321N</td>\n",
       "      <td>33</td>\n",
       "      <td>Estados</td>\n",
       "      <td>80.85588</td>\n",
       "    </tr>\n",
       "    <tr>\n",
       "      <th>2022-02-01</th>\n",
       "      <td>PIM2020S321N</td>\n",
       "      <td>52</td>\n",
       "      <td>Estados</td>\n",
       "      <td>85.93959</td>\n",
       "    </tr>\n",
       "    <tr>\n",
       "      <th>...</th>\n",
       "      <td>...</td>\n",
       "      <td>...</td>\n",
       "      <td>...</td>\n",
       "      <td>...</td>\n",
       "    </tr>\n",
       "    <tr>\n",
       "      <th>2025-01-01</th>\n",
       "      <td>PIMVESTUARIOACEN</td>\n",
       "      <td>42</td>\n",
       "      <td>Estados</td>\n",
       "      <td>73.60355</td>\n",
       "    </tr>\n",
       "    <tr>\n",
       "      <th>2025-01-01</th>\n",
       "      <td>PIMVESTUARIOACEN</td>\n",
       "      <td>23</td>\n",
       "      <td>Estados</td>\n",
       "      <td>75.56116</td>\n",
       "    </tr>\n",
       "    <tr>\n",
       "      <th>2025-01-01</th>\n",
       "      <td>PIMVESTUARIOACEN</td>\n",
       "      <td>52</td>\n",
       "      <td>Estados</td>\n",
       "      <td>77.85341</td>\n",
       "    </tr>\n",
       "    <tr>\n",
       "      <th>2025-01-01</th>\n",
       "      <td>PIMVESTUARIOACEN</td>\n",
       "      <td>35</td>\n",
       "      <td>Estados</td>\n",
       "      <td>78.74954</td>\n",
       "    </tr>\n",
       "    <tr>\n",
       "      <th>2025-01-01</th>\n",
       "      <td>PIMVESTUARIOACEN</td>\n",
       "      <td>24</td>\n",
       "      <td>Estados</td>\n",
       "      <td>119.15008</td>\n",
       "    </tr>\n",
       "  </tbody>\n",
       "</table>\n",
       "<p>7141 rows × 4 columns</p>\n",
       "</div>"
      ],
      "text/plain": [
       "                        CODE TERCODIGO  NIVNOME      VALOR\n",
       "DATE                                                      \n",
       "2022-01-01      PIM2020S321N        33  Estados   37.57661\n",
       "2022-01-01      PIM2020S321N        35  Estados   61.12097\n",
       "2022-01-01      PIM2020S321N        52  Estados   75.93972\n",
       "2022-02-01      PIM2020S321N        33  Estados   80.85588\n",
       "2022-02-01      PIM2020S321N        52  Estados   85.93959\n",
       "...                      ...       ...      ...        ...\n",
       "2025-01-01  PIMVESTUARIOACEN        42  Estados   73.60355\n",
       "2025-01-01  PIMVESTUARIOACEN        23  Estados   75.56116\n",
       "2025-01-01  PIMVESTUARIOACEN        52  Estados   77.85341\n",
       "2025-01-01  PIMVESTUARIOACEN        35  Estados   78.74954\n",
       "2025-01-01  PIMVESTUARIOACEN        24  Estados  119.15008\n",
       "\n",
       "[7141 rows x 4 columns]"
      ]
     },
     "execution_count": 96,
     "metadata": {},
     "output_type": "execute_result"
    }
   ],
   "source": [
    "indicadores_producao = [\n",
    "    'PIM2020S321N','PIM2020S326N','PIMALIMENTN','PIMBEBIDAN','PIMBORRAPLASN','PIMCALCOURON','PIMCELUPAPELN','PIMEXTMINN','PIMFUMON',\n",
    "'PIMINDTRANSFN','PIMMADEIRAN','PIMMAQAPAELEN','PIMMAQEQUIPN','PIMMETALURGIAN','PIMMINNAOMETN','PIMMOBILIARION','PIMOUTETRANSPN',\n",
    "'PIMOUTPQUIMICON','PIMPRODMETEXCMEN','PIMREFPETALCN','PIMTEXTILN','PIMVEICULOSAUTN','PIMVESTUARIOACEN'\n",
    "]\n",
    "\n",
    "dados_producao = pd.DataFrame()\n",
    "\n",
    "for indicador in indicadores_producao:\n",
    "    temp = ip.timeseries(indicador, yearGreaterThan = 2021)[['CODE', 'TERCODIGO', 'NIVNOME', 'VALUE (-)']]\n",
    "    temp.rename(columns={'VALUE (-)': 'VALOR'}, inplace=True)\n",
    "    dados_producao = pd.concat([dados_producao, temp])\n",
    "\n",
    "dados_producao"
   ]
  },
  {
   "cell_type": "markdown",
   "metadata": {},
   "source": [
    "##### Indicadores de Consumo de Energia Elétrica\n",
    "\n",
    "Para a extração dos dados, percebeu-se ser necessário apenas os seguintes dados:\n",
    "\n",
    "- DATE\n",
    "- CODE\n",
    "- TERCODIGO\n",
    "- NIVNOME\n",
    "- VALUE (MWh)"
   ]
  },
  {
   "cell_type": "code",
   "execution_count": 97,
   "metadata": {},
   "outputs": [
    {
     "data": {
      "text/html": [
       "<div>\n",
       "<style scoped>\n",
       "    .dataframe tbody tr th:only-of-type {\n",
       "        vertical-align: middle;\n",
       "    }\n",
       "\n",
       "    .dataframe tbody tr th {\n",
       "        vertical-align: top;\n",
       "    }\n",
       "\n",
       "    .dataframe thead th {\n",
       "        text-align: right;\n",
       "    }\n",
       "</style>\n",
       "<table border=\"1\" class=\"dataframe\">\n",
       "  <thead>\n",
       "    <tr style=\"text-align: right;\">\n",
       "      <th></th>\n",
       "      <th>CODE</th>\n",
       "      <th>TERCODIGO</th>\n",
       "      <th>NIVNOME</th>\n",
       "      <th>VALOR</th>\n",
       "    </tr>\n",
       "    <tr>\n",
       "      <th>DATE</th>\n",
       "      <th></th>\n",
       "      <th></th>\n",
       "      <th></th>\n",
       "      <th></th>\n",
       "    </tr>\n",
       "  </thead>\n",
       "  <tbody>\n",
       "    <tr>\n",
       "      <th>2022-01-01</th>\n",
       "      <td>CONSUMOIND</td>\n",
       "      <td>14</td>\n",
       "      <td>Estados</td>\n",
       "      <td>2.466700e+04</td>\n",
       "    </tr>\n",
       "    <tr>\n",
       "      <th>2022-01-01</th>\n",
       "      <td>CONSUMOIND</td>\n",
       "      <td>12</td>\n",
       "      <td>Estados</td>\n",
       "      <td>4.790571e+04</td>\n",
       "    </tr>\n",
       "    <tr>\n",
       "      <th>2022-01-01</th>\n",
       "      <td>CONSUMOIND</td>\n",
       "      <td>16</td>\n",
       "      <td>Estados</td>\n",
       "      <td>1.034202e+05</td>\n",
       "    </tr>\n",
       "    <tr>\n",
       "      <th>2022-01-01</th>\n",
       "      <td>CONSUMOIND</td>\n",
       "      <td>22</td>\n",
       "      <td>Estados</td>\n",
       "      <td>2.259830e+05</td>\n",
       "    </tr>\n",
       "    <tr>\n",
       "      <th>2022-01-01</th>\n",
       "      <td>CONSUMOIND</td>\n",
       "      <td>17</td>\n",
       "      <td>Estados</td>\n",
       "      <td>4.213908e+05</td>\n",
       "    </tr>\n",
       "    <tr>\n",
       "      <th>...</th>\n",
       "      <td>...</td>\n",
       "      <td>...</td>\n",
       "      <td>...</td>\n",
       "      <td>...</td>\n",
       "    </tr>\n",
       "    <tr>\n",
       "      <th>2024-01-01</th>\n",
       "      <td>CONSUMOIND</td>\n",
       "      <td>42</td>\n",
       "      <td>Estados</td>\n",
       "      <td>1.240143e+07</td>\n",
       "    </tr>\n",
       "    <tr>\n",
       "      <th>2024-01-01</th>\n",
       "      <td>CONSUMOIND</td>\n",
       "      <td>15</td>\n",
       "      <td>Estados</td>\n",
       "      <td>1.424582e+07</td>\n",
       "    </tr>\n",
       "    <tr>\n",
       "      <th>2024-01-01</th>\n",
       "      <td>CONSUMOIND</td>\n",
       "      <td>41</td>\n",
       "      <td>Estados</td>\n",
       "      <td>1.517981e+07</td>\n",
       "    </tr>\n",
       "    <tr>\n",
       "      <th>2024-01-01</th>\n",
       "      <td>CONSUMOIND</td>\n",
       "      <td>31</td>\n",
       "      <td>Estados</td>\n",
       "      <td>3.523402e+07</td>\n",
       "    </tr>\n",
       "    <tr>\n",
       "      <th>2024-01-01</th>\n",
       "      <td>CONSUMOIND</td>\n",
       "      <td>35</td>\n",
       "      <td>Estados</td>\n",
       "      <td>5.283992e+07</td>\n",
       "    </tr>\n",
       "  </tbody>\n",
       "</table>\n",
       "<p>87 rows × 4 columns</p>\n",
       "</div>"
      ],
      "text/plain": [
       "                  CODE TERCODIGO  NIVNOME         VALOR\n",
       "DATE                                                   \n",
       "2022-01-01  CONSUMOIND        14  Estados  2.466700e+04\n",
       "2022-01-01  CONSUMOIND        12  Estados  4.790571e+04\n",
       "2022-01-01  CONSUMOIND        16  Estados  1.034202e+05\n",
       "2022-01-01  CONSUMOIND        22  Estados  2.259830e+05\n",
       "2022-01-01  CONSUMOIND        17  Estados  4.213908e+05\n",
       "...                ...       ...      ...           ...\n",
       "2024-01-01  CONSUMOIND        42  Estados  1.240143e+07\n",
       "2024-01-01  CONSUMOIND        15  Estados  1.424582e+07\n",
       "2024-01-01  CONSUMOIND        41  Estados  1.517981e+07\n",
       "2024-01-01  CONSUMOIND        31  Estados  3.523402e+07\n",
       "2024-01-01  CONSUMOIND        35  Estados  5.283992e+07\n",
       "\n",
       "[87 rows x 4 columns]"
      ]
     },
     "execution_count": 97,
     "metadata": {},
     "output_type": "execute_result"
    }
   ],
   "source": [
    "dados_energia = ip.timeseries('CONSUMOIND', yearGreaterThan=2021)[['CODE', 'TERCODIGO', 'NIVNOME', 'VALUE (MWh)']]\n",
    "dados_energia.rename(columns={'VALUE (MWh)': 'VALOR'}, inplace=True)\n",
    "dados_energia"
   ]
  },
  {
   "cell_type": "markdown",
   "metadata": {},
   "source": [
    "##### Indicadores de Confiança\n",
    "\n",
    "Para a extração dos dados, percebeu-se ser necessário apenas os seguintes dados:\n",
    "\n",
    "- DATE\n",
    "- CODE\n",
    "- VALUE (Indice)"
   ]
  },
  {
   "cell_type": "code",
   "execution_count": 98,
   "metadata": {},
   "outputs": [
    {
     "data": {
      "text/html": [
       "<div>\n",
       "<style scoped>\n",
       "    .dataframe tbody tr th:only-of-type {\n",
       "        vertical-align: middle;\n",
       "    }\n",
       "\n",
       "    .dataframe tbody tr th {\n",
       "        vertical-align: top;\n",
       "    }\n",
       "\n",
       "    .dataframe thead th {\n",
       "        text-align: right;\n",
       "    }\n",
       "</style>\n",
       "<table border=\"1\" class=\"dataframe\">\n",
       "  <thead>\n",
       "    <tr style=\"text-align: right;\">\n",
       "      <th></th>\n",
       "      <th>CODE</th>\n",
       "      <th>VALOR</th>\n",
       "    </tr>\n",
       "    <tr>\n",
       "      <th>DATE</th>\n",
       "      <th></th>\n",
       "      <th></th>\n",
       "    </tr>\n",
       "  </thead>\n",
       "  <tbody>\n",
       "    <tr>\n",
       "      <th>2022-01-01</th>\n",
       "      <td>CNC12_ICAEC12</td>\n",
       "      <td>100.083487</td>\n",
       "    </tr>\n",
       "    <tr>\n",
       "      <th>2022-02-01</th>\n",
       "      <td>CNC12_ICAEC12</td>\n",
       "      <td>100.442384</td>\n",
       "    </tr>\n",
       "    <tr>\n",
       "      <th>2022-03-01</th>\n",
       "      <td>CNC12_ICAEC12</td>\n",
       "      <td>98.267597</td>\n",
       "    </tr>\n",
       "    <tr>\n",
       "      <th>2022-04-01</th>\n",
       "      <td>CNC12_ICAEC12</td>\n",
       "      <td>98.026514</td>\n",
       "    </tr>\n",
       "    <tr>\n",
       "      <th>2022-05-01</th>\n",
       "      <td>CNC12_ICAEC12</td>\n",
       "      <td>102.191804</td>\n",
       "    </tr>\n",
       "    <tr>\n",
       "      <th>...</th>\n",
       "      <td>...</td>\n",
       "      <td>...</td>\n",
       "    </tr>\n",
       "    <tr>\n",
       "      <th>2024-10-01</th>\n",
       "      <td>FCESP12_IIC12</td>\n",
       "      <td>120.970000</td>\n",
       "    </tr>\n",
       "    <tr>\n",
       "      <th>2024-11-01</th>\n",
       "      <td>FCESP12_IIC12</td>\n",
       "      <td>123.930000</td>\n",
       "    </tr>\n",
       "    <tr>\n",
       "      <th>2024-12-01</th>\n",
       "      <td>FCESP12_IIC12</td>\n",
       "      <td>125.620000</td>\n",
       "    </tr>\n",
       "    <tr>\n",
       "      <th>2025-01-01</th>\n",
       "      <td>FCESP12_IIC12</td>\n",
       "      <td>123.510000</td>\n",
       "    </tr>\n",
       "    <tr>\n",
       "      <th>2025-02-01</th>\n",
       "      <td>FCESP12_IIC12</td>\n",
       "      <td>120.480000</td>\n",
       "    </tr>\n",
       "  </tbody>\n",
       "</table>\n",
       "<p>152 rows × 2 columns</p>\n",
       "</div>"
      ],
      "text/plain": [
       "                     CODE       VALOR\n",
       "DATE                                 \n",
       "2022-01-01  CNC12_ICAEC12  100.083487\n",
       "2022-02-01  CNC12_ICAEC12  100.442384\n",
       "2022-03-01  CNC12_ICAEC12   98.267597\n",
       "2022-04-01  CNC12_ICAEC12   98.026514\n",
       "2022-05-01  CNC12_ICAEC12  102.191804\n",
       "...                   ...         ...\n",
       "2024-10-01  FCESP12_IIC12  120.970000\n",
       "2024-11-01  FCESP12_IIC12  123.930000\n",
       "2024-12-01  FCESP12_IIC12  125.620000\n",
       "2025-01-01  FCESP12_IIC12  123.510000\n",
       "2025-02-01  FCESP12_IIC12  120.480000\n",
       "\n",
       "[152 rows x 2 columns]"
      ]
     },
     "execution_count": 98,
     "metadata": {},
     "output_type": "execute_result"
    }
   ],
   "source": [
    "indicadores_consumo = ['CNC12_ICAEC12','CNC12_ICEC12','CNC12_ICF12','FCESP12_IIC12']\n",
    "dados_consumo = pd.DataFrame()\n",
    "\n",
    "for indicador in indicadores_consumo:\n",
    "    temp = ip.timeseries(indicador, yearGreaterThan = 2021)\n",
    "    temp.rename(columns = {'VALUE (Indice)': 'VALOR', 'VALUE (-)': 'VALOR'}, inplace=True)\n",
    "    dados_consumo = pd.concat([dados_consumo, temp[['CODE', 'VALOR']]])\n",
    "\n",
    "dados_consumo  "
   ]
  },
  {
   "cell_type": "markdown",
   "metadata": {},
   "source": [
    "### Preparação Prévia\n",
    "\n",
    "\n",
    "Antes de iniciar a Análise Exploratória de Dados, é interessante realizar uma preparação prévia dos dados, a fim de que comportem informações úteis e de forma adequada. \n"
   ]
  },
  {
   "cell_type": "markdown",
   "metadata": {},
   "source": [
    "##### dados_producao\n",
    "\n",
    "Analisando os dados de produção, podemos perceber abaixo que o Código não indica fielmente a que indicado se refere. Além disso, o TERCODIGO não permite insights profundos por não ser reconhecido facilmente, conforme abaixo:"
   ]
  },
  {
   "cell_type": "code",
   "execution_count": 99,
   "metadata": {},
   "outputs": [
    {
     "data": {
      "text/html": [
       "<div>\n",
       "<style scoped>\n",
       "    .dataframe tbody tr th:only-of-type {\n",
       "        vertical-align: middle;\n",
       "    }\n",
       "\n",
       "    .dataframe tbody tr th {\n",
       "        vertical-align: top;\n",
       "    }\n",
       "\n",
       "    .dataframe thead th {\n",
       "        text-align: right;\n",
       "    }\n",
       "</style>\n",
       "<table border=\"1\" class=\"dataframe\">\n",
       "  <thead>\n",
       "    <tr style=\"text-align: right;\">\n",
       "      <th></th>\n",
       "      <th>DATE</th>\n",
       "      <th>CODE</th>\n",
       "      <th>TERCODIGO</th>\n",
       "      <th>NIVNOME</th>\n",
       "      <th>VALOR</th>\n",
       "    </tr>\n",
       "  </thead>\n",
       "  <tbody>\n",
       "    <tr>\n",
       "      <th>0</th>\n",
       "      <td>2022-01-01</td>\n",
       "      <td>PIM2020S321N</td>\n",
       "      <td>33</td>\n",
       "      <td>Estados</td>\n",
       "      <td>37.57661</td>\n",
       "    </tr>\n",
       "    <tr>\n",
       "      <th>1</th>\n",
       "      <td>2022-01-01</td>\n",
       "      <td>PIM2020S321N</td>\n",
       "      <td>35</td>\n",
       "      <td>Estados</td>\n",
       "      <td>61.12097</td>\n",
       "    </tr>\n",
       "    <tr>\n",
       "      <th>2</th>\n",
       "      <td>2022-01-01</td>\n",
       "      <td>PIM2020S321N</td>\n",
       "      <td>52</td>\n",
       "      <td>Estados</td>\n",
       "      <td>75.93972</td>\n",
       "    </tr>\n",
       "    <tr>\n",
       "      <th>3</th>\n",
       "      <td>2022-02-01</td>\n",
       "      <td>PIM2020S321N</td>\n",
       "      <td>33</td>\n",
       "      <td>Estados</td>\n",
       "      <td>80.85588</td>\n",
       "    </tr>\n",
       "    <tr>\n",
       "      <th>4</th>\n",
       "      <td>2022-02-01</td>\n",
       "      <td>PIM2020S321N</td>\n",
       "      <td>52</td>\n",
       "      <td>Estados</td>\n",
       "      <td>85.93959</td>\n",
       "    </tr>\n",
       "  </tbody>\n",
       "</table>\n",
       "</div>"
      ],
      "text/plain": [
       "        DATE          CODE TERCODIGO  NIVNOME     VALOR\n",
       "0 2022-01-01  PIM2020S321N        33  Estados  37.57661\n",
       "1 2022-01-01  PIM2020S321N        35  Estados  61.12097\n",
       "2 2022-01-01  PIM2020S321N        52  Estados  75.93972\n",
       "3 2022-02-01  PIM2020S321N        33  Estados  80.85588\n",
       "4 2022-02-01  PIM2020S321N        52  Estados  85.93959"
      ]
     },
     "execution_count": 99,
     "metadata": {},
     "output_type": "execute_result"
    }
   ],
   "source": [
    "dados_producao.reset_index(inplace=True)\n",
    "dados_producao.head()\n"
   ]
  },
  {
   "cell_type": "markdown",
   "metadata": {},
   "source": [
    "Duas alterações são propostas:\n",
    "\n",
    "1. Alterar o nome do código \n",
    "2. Inserir nome do Estado\n"
   ]
  },
  {
   "cell_type": "code",
   "execution_count": 100,
   "metadata": {},
   "outputs": [
    {
     "data": {
      "text/html": [
       "<div>\n",
       "<style scoped>\n",
       "    .dataframe tbody tr th:only-of-type {\n",
       "        vertical-align: middle;\n",
       "    }\n",
       "\n",
       "    .dataframe tbody tr th {\n",
       "        vertical-align: top;\n",
       "    }\n",
       "\n",
       "    .dataframe thead th {\n",
       "        text-align: right;\n",
       "    }\n",
       "</style>\n",
       "<table border=\"1\" class=\"dataframe\">\n",
       "  <thead>\n",
       "    <tr style=\"text-align: right;\">\n",
       "      <th></th>\n",
       "      <th>CODE</th>\n",
       "      <th>NAME</th>\n",
       "    </tr>\n",
       "  </thead>\n",
       "  <tbody>\n",
       "    <tr>\n",
       "      <th>56</th>\n",
       "      <td>PIM2020S321N</td>\n",
       "      <td>produtos farmoquímicos e farmacêuticos</td>\n",
       "    </tr>\n",
       "    <tr>\n",
       "      <th>57</th>\n",
       "      <td>PIM2020S326N</td>\n",
       "      <td>equipamentos de informática, produtos eletrôn...</td>\n",
       "    </tr>\n",
       "    <tr>\n",
       "      <th>60</th>\n",
       "      <td>PIMALIMENTN</td>\n",
       "      <td>produtos alimentícios</td>\n",
       "    </tr>\n",
       "    <tr>\n",
       "      <th>61</th>\n",
       "      <td>PIMBEBIDAN</td>\n",
       "      <td>bebidas</td>\n",
       "    </tr>\n",
       "    <tr>\n",
       "      <th>62</th>\n",
       "      <td>PIMBORRAPLASN</td>\n",
       "      <td>produtos de borracha e material plástico</td>\n",
       "    </tr>\n",
       "  </tbody>\n",
       "</table>\n",
       "</div>"
      ],
      "text/plain": [
       "             CODE                                               NAME\n",
       "56   PIM2020S321N            produtos farmoquímicos e farmacêuticos \n",
       "57   PIM2020S326N   equipamentos de informática, produtos eletrôn...\n",
       "60    PIMALIMENTN                             produtos alimentícios \n",
       "61     PIMBEBIDAN                                           bebidas \n",
       "62  PIMBORRAPLASN          produtos de borracha e material plástico "
      ]
     },
     "execution_count": 100,
     "metadata": {},
     "output_type": "execute_result"
    }
   ],
   "source": [
    "nomes_codigos = df[df['CODE'].isin(dados_producao.CODE)][['CODE', 'NAME']]\n",
    "nomes_codigos['NAME'] = [nome.split('-')[1] for nome in nomes_codigos['NAME']]\n",
    "nomes_codigos.head()"
   ]
  },
  {
   "cell_type": "markdown",
   "metadata": {},
   "source": [
    "Inserindo nome:"
   ]
  },
  {
   "cell_type": "code",
   "execution_count": 101,
   "metadata": {},
   "outputs": [
    {
     "data": {
      "text/html": [
       "<div>\n",
       "<style scoped>\n",
       "    .dataframe tbody tr th:only-of-type {\n",
       "        vertical-align: middle;\n",
       "    }\n",
       "\n",
       "    .dataframe tbody tr th {\n",
       "        vertical-align: top;\n",
       "    }\n",
       "\n",
       "    .dataframe thead th {\n",
       "        text-align: right;\n",
       "    }\n",
       "</style>\n",
       "<table border=\"1\" class=\"dataframe\">\n",
       "  <thead>\n",
       "    <tr style=\"text-align: right;\">\n",
       "      <th></th>\n",
       "      <th>DATE</th>\n",
       "      <th>CODE</th>\n",
       "      <th>TERCODIGO</th>\n",
       "      <th>NIVNOME</th>\n",
       "      <th>VALOR</th>\n",
       "      <th>NAME</th>\n",
       "    </tr>\n",
       "  </thead>\n",
       "  <tbody>\n",
       "    <tr>\n",
       "      <th>0</th>\n",
       "      <td>2022-01-01</td>\n",
       "      <td>PIM2020S321N</td>\n",
       "      <td>33</td>\n",
       "      <td>Estados</td>\n",
       "      <td>37.57661</td>\n",
       "      <td>produtos farmoquímicos e farmacêuticos</td>\n",
       "    </tr>\n",
       "    <tr>\n",
       "      <th>1</th>\n",
       "      <td>2022-01-01</td>\n",
       "      <td>PIM2020S321N</td>\n",
       "      <td>35</td>\n",
       "      <td>Estados</td>\n",
       "      <td>61.12097</td>\n",
       "      <td>produtos farmoquímicos e farmacêuticos</td>\n",
       "    </tr>\n",
       "    <tr>\n",
       "      <th>2</th>\n",
       "      <td>2022-01-01</td>\n",
       "      <td>PIM2020S321N</td>\n",
       "      <td>52</td>\n",
       "      <td>Estados</td>\n",
       "      <td>75.93972</td>\n",
       "      <td>produtos farmoquímicos e farmacêuticos</td>\n",
       "    </tr>\n",
       "    <tr>\n",
       "      <th>3</th>\n",
       "      <td>2022-02-01</td>\n",
       "      <td>PIM2020S321N</td>\n",
       "      <td>33</td>\n",
       "      <td>Estados</td>\n",
       "      <td>80.85588</td>\n",
       "      <td>produtos farmoquímicos e farmacêuticos</td>\n",
       "    </tr>\n",
       "    <tr>\n",
       "      <th>4</th>\n",
       "      <td>2022-02-01</td>\n",
       "      <td>PIM2020S321N</td>\n",
       "      <td>52</td>\n",
       "      <td>Estados</td>\n",
       "      <td>85.93959</td>\n",
       "      <td>produtos farmoquímicos e farmacêuticos</td>\n",
       "    </tr>\n",
       "    <tr>\n",
       "      <th>...</th>\n",
       "      <td>...</td>\n",
       "      <td>...</td>\n",
       "      <td>...</td>\n",
       "      <td>...</td>\n",
       "      <td>...</td>\n",
       "      <td>...</td>\n",
       "    </tr>\n",
       "    <tr>\n",
       "      <th>7136</th>\n",
       "      <td>2025-01-01</td>\n",
       "      <td>PIMVESTUARIOACEN</td>\n",
       "      <td>42</td>\n",
       "      <td>Estados</td>\n",
       "      <td>73.60355</td>\n",
       "      <td>artigos do vestuário e acessórios</td>\n",
       "    </tr>\n",
       "    <tr>\n",
       "      <th>7137</th>\n",
       "      <td>2025-01-01</td>\n",
       "      <td>PIMVESTUARIOACEN</td>\n",
       "      <td>23</td>\n",
       "      <td>Estados</td>\n",
       "      <td>75.56116</td>\n",
       "      <td>artigos do vestuário e acessórios</td>\n",
       "    </tr>\n",
       "    <tr>\n",
       "      <th>7138</th>\n",
       "      <td>2025-01-01</td>\n",
       "      <td>PIMVESTUARIOACEN</td>\n",
       "      <td>52</td>\n",
       "      <td>Estados</td>\n",
       "      <td>77.85341</td>\n",
       "      <td>artigos do vestuário e acessórios</td>\n",
       "    </tr>\n",
       "    <tr>\n",
       "      <th>7139</th>\n",
       "      <td>2025-01-01</td>\n",
       "      <td>PIMVESTUARIOACEN</td>\n",
       "      <td>35</td>\n",
       "      <td>Estados</td>\n",
       "      <td>78.74954</td>\n",
       "      <td>artigos do vestuário e acessórios</td>\n",
       "    </tr>\n",
       "    <tr>\n",
       "      <th>7140</th>\n",
       "      <td>2025-01-01</td>\n",
       "      <td>PIMVESTUARIOACEN</td>\n",
       "      <td>24</td>\n",
       "      <td>Estados</td>\n",
       "      <td>119.15008</td>\n",
       "      <td>artigos do vestuário e acessórios</td>\n",
       "    </tr>\n",
       "  </tbody>\n",
       "</table>\n",
       "<p>7141 rows × 6 columns</p>\n",
       "</div>"
      ],
      "text/plain": [
       "           DATE              CODE TERCODIGO  NIVNOME      VALOR  \\\n",
       "0    2022-01-01      PIM2020S321N        33  Estados   37.57661   \n",
       "1    2022-01-01      PIM2020S321N        35  Estados   61.12097   \n",
       "2    2022-01-01      PIM2020S321N        52  Estados   75.93972   \n",
       "3    2022-02-01      PIM2020S321N        33  Estados   80.85588   \n",
       "4    2022-02-01      PIM2020S321N        52  Estados   85.93959   \n",
       "...         ...               ...       ...      ...        ...   \n",
       "7136 2025-01-01  PIMVESTUARIOACEN        42  Estados   73.60355   \n",
       "7137 2025-01-01  PIMVESTUARIOACEN        23  Estados   75.56116   \n",
       "7138 2025-01-01  PIMVESTUARIOACEN        52  Estados   77.85341   \n",
       "7139 2025-01-01  PIMVESTUARIOACEN        35  Estados   78.74954   \n",
       "7140 2025-01-01  PIMVESTUARIOACEN        24  Estados  119.15008   \n",
       "\n",
       "                                          NAME  \n",
       "0      produtos farmoquímicos e farmacêuticos   \n",
       "1      produtos farmoquímicos e farmacêuticos   \n",
       "2      produtos farmoquímicos e farmacêuticos   \n",
       "3      produtos farmoquímicos e farmacêuticos   \n",
       "4      produtos farmoquímicos e farmacêuticos   \n",
       "...                                        ...  \n",
       "7136        artigos do vestuário e acessórios   \n",
       "7137        artigos do vestuário e acessórios   \n",
       "7138        artigos do vestuário e acessórios   \n",
       "7139        artigos do vestuário e acessórios   \n",
       "7140        artigos do vestuário e acessórios   \n",
       "\n",
       "[7141 rows x 6 columns]"
      ]
     },
     "execution_count": 101,
     "metadata": {},
     "output_type": "execute_result"
    }
   ],
   "source": [
    "dados_producao_corrigido = dados_producao.merge(nomes_codigos, on='CODE', how='left', validate='many_to_one')\n",
    "dados_producao_corrigido"
   ]
  },
  {
   "cell_type": "markdown",
   "metadata": {},
   "source": [
    "Inserindo Estado:"
   ]
  },
  {
   "cell_type": "code",
   "execution_count": 102,
   "metadata": {},
   "outputs": [],
   "source": [
    "estados_reduzido = estados[['NAME', 'ID']]\n",
    "estados_reduzido.columns = ['NOME_ESTADO', 'TERCODIGO']"
   ]
  },
  {
   "cell_type": "code",
   "execution_count": 103,
   "metadata": {},
   "outputs": [
    {
     "data": {
      "text/html": [
       "<div>\n",
       "<style scoped>\n",
       "    .dataframe tbody tr th:only-of-type {\n",
       "        vertical-align: middle;\n",
       "    }\n",
       "\n",
       "    .dataframe tbody tr th {\n",
       "        vertical-align: top;\n",
       "    }\n",
       "\n",
       "    .dataframe thead th {\n",
       "        text-align: right;\n",
       "    }\n",
       "</style>\n",
       "<table border=\"1\" class=\"dataframe\">\n",
       "  <thead>\n",
       "    <tr style=\"text-align: right;\">\n",
       "      <th></th>\n",
       "      <th>NOME_ESTADO</th>\n",
       "      <th>TERCODIGO</th>\n",
       "    </tr>\n",
       "  </thead>\n",
       "  <tbody>\n",
       "    <tr>\n",
       "      <th>0</th>\n",
       "      <td>(não definido)</td>\n",
       "      <td></td>\n",
       "    </tr>\n",
       "    <tr>\n",
       "      <th>1</th>\n",
       "      <td>Brasil</td>\n",
       "      <td>0</td>\n",
       "    </tr>\n",
       "    <tr>\n",
       "      <th>2</th>\n",
       "      <td>Região Norte</td>\n",
       "      <td>1</td>\n",
       "    </tr>\n",
       "    <tr>\n",
       "      <th>3</th>\n",
       "      <td>Rondônia</td>\n",
       "      <td>11</td>\n",
       "    </tr>\n",
       "    <tr>\n",
       "      <th>4</th>\n",
       "      <td>Alta Floresta D'Oeste</td>\n",
       "      <td>1100015</td>\n",
       "    </tr>\n",
       "    <tr>\n",
       "      <th>...</th>\n",
       "      <td>...</td>\n",
       "      <td>...</td>\n",
       "    </tr>\n",
       "    <tr>\n",
       "      <th>19344</th>\n",
       "      <td>Brasília</td>\n",
       "      <td>530010</td>\n",
       "    </tr>\n",
       "    <tr>\n",
       "      <th>19345</th>\n",
       "      <td>Brasília</td>\n",
       "      <td>530010</td>\n",
       "    </tr>\n",
       "    <tr>\n",
       "      <th>19346</th>\n",
       "      <td>Brasília</td>\n",
       "      <td>530010</td>\n",
       "    </tr>\n",
       "    <tr>\n",
       "      <th>19347</th>\n",
       "      <td>Brasília</td>\n",
       "      <td>5300108</td>\n",
       "    </tr>\n",
       "    <tr>\n",
       "      <th>19348</th>\n",
       "      <td>Distrito Federal</td>\n",
       "      <td>5301</td>\n",
       "    </tr>\n",
       "  </tbody>\n",
       "</table>\n",
       "<p>19349 rows × 2 columns</p>\n",
       "</div>"
      ],
      "text/plain": [
       "                 NOME_ESTADO TERCODIGO\n",
       "0             (não definido)          \n",
       "1                     Brasil         0\n",
       "2               Região Norte         1\n",
       "3                   Rondônia        11\n",
       "4      Alta Floresta D'Oeste   1100015\n",
       "...                      ...       ...\n",
       "19344               Brasília    530010\n",
       "19345               Brasília    530010\n",
       "19346               Brasília    530010\n",
       "19347               Brasília   5300108\n",
       "19348       Distrito Federal      5301\n",
       "\n",
       "[19349 rows x 2 columns]"
      ]
     },
     "execution_count": 103,
     "metadata": {},
     "output_type": "execute_result"
    }
   ],
   "source": [
    "estados_reduzido"
   ]
  },
  {
   "cell_type": "code",
   "execution_count": 104,
   "metadata": {},
   "outputs": [
    {
     "name": "stderr",
     "output_type": "stream",
     "text": [
      "/tmp/ipykernel_177538/2957514607.py:3: SettingWithCopyWarning:\n",
      "\n",
      "\n",
      "A value is trying to be set on a copy of a slice from a DataFrame\n",
      "\n",
      "See the caveats in the documentation: https://pandas.pydata.org/pandas-docs/stable/user_guide/indexing.html#returning-a-view-versus-a-copy\n",
      "\n"
     ]
    },
    {
     "data": {
      "text/html": [
       "<div>\n",
       "<style scoped>\n",
       "    .dataframe tbody tr th:only-of-type {\n",
       "        vertical-align: middle;\n",
       "    }\n",
       "\n",
       "    .dataframe tbody tr th {\n",
       "        vertical-align: top;\n",
       "    }\n",
       "\n",
       "    .dataframe thead th {\n",
       "        text-align: right;\n",
       "    }\n",
       "</style>\n",
       "<table border=\"1\" class=\"dataframe\">\n",
       "  <thead>\n",
       "    <tr style=\"text-align: right;\">\n",
       "      <th></th>\n",
       "      <th>DATE</th>\n",
       "      <th>CODE</th>\n",
       "      <th>TERCODIGO</th>\n",
       "      <th>NIVNOME</th>\n",
       "      <th>VALOR</th>\n",
       "      <th>NAME</th>\n",
       "      <th>NOME_ESTADO</th>\n",
       "    </tr>\n",
       "  </thead>\n",
       "  <tbody>\n",
       "    <tr>\n",
       "      <th>0</th>\n",
       "      <td>2022-01-01</td>\n",
       "      <td>PIM2020S321N</td>\n",
       "      <td>33</td>\n",
       "      <td>Estados</td>\n",
       "      <td>37.57661</td>\n",
       "      <td>produtos farmoquímicos e farmacêuticos</td>\n",
       "      <td>Rio de Janeiro</td>\n",
       "    </tr>\n",
       "    <tr>\n",
       "      <th>1</th>\n",
       "      <td>2022-01-01</td>\n",
       "      <td>PIM2020S321N</td>\n",
       "      <td>35</td>\n",
       "      <td>Estados</td>\n",
       "      <td>61.12097</td>\n",
       "      <td>produtos farmoquímicos e farmacêuticos</td>\n",
       "      <td>São Paulo</td>\n",
       "    </tr>\n",
       "    <tr>\n",
       "      <th>2</th>\n",
       "      <td>2022-01-01</td>\n",
       "      <td>PIM2020S321N</td>\n",
       "      <td>52</td>\n",
       "      <td>Estados</td>\n",
       "      <td>75.93972</td>\n",
       "      <td>produtos farmoquímicos e farmacêuticos</td>\n",
       "      <td>Goiás</td>\n",
       "    </tr>\n",
       "    <tr>\n",
       "      <th>3</th>\n",
       "      <td>2022-02-01</td>\n",
       "      <td>PIM2020S321N</td>\n",
       "      <td>33</td>\n",
       "      <td>Estados</td>\n",
       "      <td>80.85588</td>\n",
       "      <td>produtos farmoquímicos e farmacêuticos</td>\n",
       "      <td>Rio de Janeiro</td>\n",
       "    </tr>\n",
       "    <tr>\n",
       "      <th>4</th>\n",
       "      <td>2022-02-01</td>\n",
       "      <td>PIM2020S321N</td>\n",
       "      <td>52</td>\n",
       "      <td>Estados</td>\n",
       "      <td>85.93959</td>\n",
       "      <td>produtos farmoquímicos e farmacêuticos</td>\n",
       "      <td>Goiás</td>\n",
       "    </tr>\n",
       "  </tbody>\n",
       "</table>\n",
       "</div>"
      ],
      "text/plain": [
       "        DATE          CODE TERCODIGO  NIVNOME     VALOR  \\\n",
       "0 2022-01-01  PIM2020S321N        33  Estados  37.57661   \n",
       "1 2022-01-01  PIM2020S321N        35  Estados  61.12097   \n",
       "2 2022-01-01  PIM2020S321N        52  Estados  75.93972   \n",
       "3 2022-02-01  PIM2020S321N        33  Estados  80.85588   \n",
       "4 2022-02-01  PIM2020S321N        52  Estados  85.93959   \n",
       "\n",
       "                                       NAME     NOME_ESTADO  \n",
       "0   produtos farmoquímicos e farmacêuticos   Rio de Janeiro  \n",
       "1   produtos farmoquímicos e farmacêuticos        São Paulo  \n",
       "2   produtos farmoquímicos e farmacêuticos            Goiás  \n",
       "3   produtos farmoquímicos e farmacêuticos   Rio de Janeiro  \n",
       "4   produtos farmoquímicos e farmacêuticos            Goiás  "
      ]
     },
     "execution_count": 104,
     "metadata": {},
     "output_type": "execute_result"
    }
   ],
   "source": [
    "estados_reduzido = estados[['NAME', 'ID']]\n",
    "estados_reduzido.columns = ['NOME_ESTADO', 'TERCODIGO']\n",
    "estados_reduzido.drop_duplicates(subset='TERCODIGO', inplace=True)\n",
    "dados_producao_corrigido = dados_producao_corrigido.merge(estados_reduzido, on='TERCODIGO', how='left', validate='many_to_one')\n",
    "dados_producao_corrigido.head()"
   ]
  },
  {
   "cell_type": "code",
   "execution_count": 105,
   "metadata": {},
   "outputs": [
    {
     "data": {
      "text/html": [
       "<div>\n",
       "<style scoped>\n",
       "    .dataframe tbody tr th:only-of-type {\n",
       "        vertical-align: middle;\n",
       "    }\n",
       "\n",
       "    .dataframe tbody tr th {\n",
       "        vertical-align: top;\n",
       "    }\n",
       "\n",
       "    .dataframe thead th {\n",
       "        text-align: right;\n",
       "    }\n",
       "</style>\n",
       "<table border=\"1\" class=\"dataframe\">\n",
       "  <thead>\n",
       "    <tr style=\"text-align: right;\">\n",
       "      <th></th>\n",
       "      <th>DATE</th>\n",
       "      <th>NOME_ESTADO</th>\n",
       "      <th>NAME</th>\n",
       "      <th>VALOR</th>\n",
       "    </tr>\n",
       "  </thead>\n",
       "  <tbody>\n",
       "    <tr>\n",
       "      <th>0</th>\n",
       "      <td>2022-01-01</td>\n",
       "      <td>Rio de Janeiro</td>\n",
       "      <td>produtos farmoquímicos e farmacêuticos</td>\n",
       "      <td>37.57661</td>\n",
       "    </tr>\n",
       "    <tr>\n",
       "      <th>1</th>\n",
       "      <td>2022-01-01</td>\n",
       "      <td>São Paulo</td>\n",
       "      <td>produtos farmoquímicos e farmacêuticos</td>\n",
       "      <td>61.12097</td>\n",
       "    </tr>\n",
       "    <tr>\n",
       "      <th>2</th>\n",
       "      <td>2022-01-01</td>\n",
       "      <td>Goiás</td>\n",
       "      <td>produtos farmoquímicos e farmacêuticos</td>\n",
       "      <td>75.93972</td>\n",
       "    </tr>\n",
       "    <tr>\n",
       "      <th>3</th>\n",
       "      <td>2022-02-01</td>\n",
       "      <td>Rio de Janeiro</td>\n",
       "      <td>produtos farmoquímicos e farmacêuticos</td>\n",
       "      <td>80.85588</td>\n",
       "    </tr>\n",
       "    <tr>\n",
       "      <th>4</th>\n",
       "      <td>2022-02-01</td>\n",
       "      <td>Goiás</td>\n",
       "      <td>produtos farmoquímicos e farmacêuticos</td>\n",
       "      <td>85.93959</td>\n",
       "    </tr>\n",
       "    <tr>\n",
       "      <th>...</th>\n",
       "      <td>...</td>\n",
       "      <td>...</td>\n",
       "      <td>...</td>\n",
       "      <td>...</td>\n",
       "    </tr>\n",
       "    <tr>\n",
       "      <th>7136</th>\n",
       "      <td>2025-01-01</td>\n",
       "      <td>Santa Catarina</td>\n",
       "      <td>artigos do vestuário e acessórios</td>\n",
       "      <td>73.60355</td>\n",
       "    </tr>\n",
       "    <tr>\n",
       "      <th>7137</th>\n",
       "      <td>2025-01-01</td>\n",
       "      <td>Ceará</td>\n",
       "      <td>artigos do vestuário e acessórios</td>\n",
       "      <td>75.56116</td>\n",
       "    </tr>\n",
       "    <tr>\n",
       "      <th>7138</th>\n",
       "      <td>2025-01-01</td>\n",
       "      <td>Goiás</td>\n",
       "      <td>artigos do vestuário e acessórios</td>\n",
       "      <td>77.85341</td>\n",
       "    </tr>\n",
       "    <tr>\n",
       "      <th>7139</th>\n",
       "      <td>2025-01-01</td>\n",
       "      <td>São Paulo</td>\n",
       "      <td>artigos do vestuário e acessórios</td>\n",
       "      <td>78.74954</td>\n",
       "    </tr>\n",
       "    <tr>\n",
       "      <th>7140</th>\n",
       "      <td>2025-01-01</td>\n",
       "      <td>Rio Grande do Norte</td>\n",
       "      <td>artigos do vestuário e acessórios</td>\n",
       "      <td>119.15008</td>\n",
       "    </tr>\n",
       "  </tbody>\n",
       "</table>\n",
       "<p>7141 rows × 4 columns</p>\n",
       "</div>"
      ],
      "text/plain": [
       "           DATE          NOME_ESTADO  \\\n",
       "0    2022-01-01       Rio de Janeiro   \n",
       "1    2022-01-01            São Paulo   \n",
       "2    2022-01-01                Goiás   \n",
       "3    2022-02-01       Rio de Janeiro   \n",
       "4    2022-02-01                Goiás   \n",
       "...         ...                  ...   \n",
       "7136 2025-01-01       Santa Catarina   \n",
       "7137 2025-01-01                Ceará   \n",
       "7138 2025-01-01                Goiás   \n",
       "7139 2025-01-01            São Paulo   \n",
       "7140 2025-01-01  Rio Grande do Norte   \n",
       "\n",
       "                                          NAME      VALOR  \n",
       "0      produtos farmoquímicos e farmacêuticos    37.57661  \n",
       "1      produtos farmoquímicos e farmacêuticos    61.12097  \n",
       "2      produtos farmoquímicos e farmacêuticos    75.93972  \n",
       "3      produtos farmoquímicos e farmacêuticos    80.85588  \n",
       "4      produtos farmoquímicos e farmacêuticos    85.93959  \n",
       "...                                        ...        ...  \n",
       "7136        artigos do vestuário e acessórios    73.60355  \n",
       "7137        artigos do vestuário e acessórios    75.56116  \n",
       "7138        artigos do vestuário e acessórios    77.85341  \n",
       "7139        artigos do vestuário e acessórios    78.74954  \n",
       "7140        artigos do vestuário e acessórios   119.15008  \n",
       "\n",
       "[7141 rows x 4 columns]"
      ]
     },
     "execution_count": 105,
     "metadata": {},
     "output_type": "execute_result"
    }
   ],
   "source": [
    "dados_producao_corrigido = dados_producao_corrigido[['DATE', 'NOME_ESTADO', 'NAME', 'VALOR']]\n",
    "dados_producao_corrigido"
   ]
  },
  {
   "cell_type": "markdown",
   "metadata": {},
   "source": [
    "##### dados_energia\n",
    "\n",
    "Mesma coisa dos dados de produção"
   ]
  },
  {
   "cell_type": "code",
   "execution_count": 106,
   "metadata": {},
   "outputs": [
    {
     "data": {
      "text/html": [
       "<div>\n",
       "<style scoped>\n",
       "    .dataframe tbody tr th:only-of-type {\n",
       "        vertical-align: middle;\n",
       "    }\n",
       "\n",
       "    .dataframe tbody tr th {\n",
       "        vertical-align: top;\n",
       "    }\n",
       "\n",
       "    .dataframe thead th {\n",
       "        text-align: right;\n",
       "    }\n",
       "</style>\n",
       "<table border=\"1\" class=\"dataframe\">\n",
       "  <thead>\n",
       "    <tr style=\"text-align: right;\">\n",
       "      <th></th>\n",
       "      <th>DATE</th>\n",
       "      <th>CODE</th>\n",
       "      <th>TERCODIGO</th>\n",
       "      <th>NIVNOME</th>\n",
       "      <th>VALOR</th>\n",
       "    </tr>\n",
       "  </thead>\n",
       "  <tbody>\n",
       "    <tr>\n",
       "      <th>0</th>\n",
       "      <td>2022-01-01</td>\n",
       "      <td>CONSUMOIND</td>\n",
       "      <td>14</td>\n",
       "      <td>Estados</td>\n",
       "      <td>24667.00</td>\n",
       "    </tr>\n",
       "    <tr>\n",
       "      <th>1</th>\n",
       "      <td>2022-01-01</td>\n",
       "      <td>CONSUMOIND</td>\n",
       "      <td>12</td>\n",
       "      <td>Estados</td>\n",
       "      <td>47905.71</td>\n",
       "    </tr>\n",
       "    <tr>\n",
       "      <th>2</th>\n",
       "      <td>2022-01-01</td>\n",
       "      <td>CONSUMOIND</td>\n",
       "      <td>16</td>\n",
       "      <td>Estados</td>\n",
       "      <td>103420.23</td>\n",
       "    </tr>\n",
       "    <tr>\n",
       "      <th>3</th>\n",
       "      <td>2022-01-01</td>\n",
       "      <td>CONSUMOIND</td>\n",
       "      <td>22</td>\n",
       "      <td>Estados</td>\n",
       "      <td>225983.00</td>\n",
       "    </tr>\n",
       "    <tr>\n",
       "      <th>4</th>\n",
       "      <td>2022-01-01</td>\n",
       "      <td>CONSUMOIND</td>\n",
       "      <td>17</td>\n",
       "      <td>Estados</td>\n",
       "      <td>421390.85</td>\n",
       "    </tr>\n",
       "  </tbody>\n",
       "</table>\n",
       "</div>"
      ],
      "text/plain": [
       "        DATE        CODE TERCODIGO  NIVNOME      VALOR\n",
       "0 2022-01-01  CONSUMOIND        14  Estados   24667.00\n",
       "1 2022-01-01  CONSUMOIND        12  Estados   47905.71\n",
       "2 2022-01-01  CONSUMOIND        16  Estados  103420.23\n",
       "3 2022-01-01  CONSUMOIND        22  Estados  225983.00\n",
       "4 2022-01-01  CONSUMOIND        17  Estados  421390.85"
      ]
     },
     "execution_count": 106,
     "metadata": {},
     "output_type": "execute_result"
    }
   ],
   "source": [
    "dados_energia.reset_index(inplace=True)\n",
    "dados_energia.head()\n"
   ]
  },
  {
   "cell_type": "code",
   "execution_count": 107,
   "metadata": {},
   "outputs": [
    {
     "data": {
      "text/html": [
       "<div>\n",
       "<style scoped>\n",
       "    .dataframe tbody tr th:only-of-type {\n",
       "        vertical-align: middle;\n",
       "    }\n",
       "\n",
       "    .dataframe tbody tr th {\n",
       "        vertical-align: top;\n",
       "    }\n",
       "\n",
       "    .dataframe thead th {\n",
       "        text-align: right;\n",
       "    }\n",
       "</style>\n",
       "<table border=\"1\" class=\"dataframe\">\n",
       "  <thead>\n",
       "    <tr style=\"text-align: right;\">\n",
       "      <th></th>\n",
       "      <th>DATE</th>\n",
       "      <th>NOME_ESTADO</th>\n",
       "      <th>NAME</th>\n",
       "      <th>VALOR</th>\n",
       "    </tr>\n",
       "  </thead>\n",
       "  <tbody>\n",
       "    <tr>\n",
       "      <th>0</th>\n",
       "      <td>2022-01-01</td>\n",
       "      <td>Roraima</td>\n",
       "      <td>Consumo de Energia Elétrica</td>\n",
       "      <td>2.466700e+04</td>\n",
       "    </tr>\n",
       "    <tr>\n",
       "      <th>1</th>\n",
       "      <td>2022-01-01</td>\n",
       "      <td>Acre</td>\n",
       "      <td>Consumo de Energia Elétrica</td>\n",
       "      <td>4.790571e+04</td>\n",
       "    </tr>\n",
       "    <tr>\n",
       "      <th>2</th>\n",
       "      <td>2022-01-01</td>\n",
       "      <td>Amapá</td>\n",
       "      <td>Consumo de Energia Elétrica</td>\n",
       "      <td>1.034202e+05</td>\n",
       "    </tr>\n",
       "    <tr>\n",
       "      <th>3</th>\n",
       "      <td>2022-01-01</td>\n",
       "      <td>Piauí</td>\n",
       "      <td>Consumo de Energia Elétrica</td>\n",
       "      <td>2.259830e+05</td>\n",
       "    </tr>\n",
       "    <tr>\n",
       "      <th>4</th>\n",
       "      <td>2022-01-01</td>\n",
       "      <td>Tocantins</td>\n",
       "      <td>Consumo de Energia Elétrica</td>\n",
       "      <td>4.213908e+05</td>\n",
       "    </tr>\n",
       "    <tr>\n",
       "      <th>...</th>\n",
       "      <td>...</td>\n",
       "      <td>...</td>\n",
       "      <td>...</td>\n",
       "      <td>...</td>\n",
       "    </tr>\n",
       "    <tr>\n",
       "      <th>82</th>\n",
       "      <td>2024-01-01</td>\n",
       "      <td>Santa Catarina</td>\n",
       "      <td>Consumo de Energia Elétrica</td>\n",
       "      <td>1.240143e+07</td>\n",
       "    </tr>\n",
       "    <tr>\n",
       "      <th>83</th>\n",
       "      <td>2024-01-01</td>\n",
       "      <td>Pará</td>\n",
       "      <td>Consumo de Energia Elétrica</td>\n",
       "      <td>1.424582e+07</td>\n",
       "    </tr>\n",
       "    <tr>\n",
       "      <th>84</th>\n",
       "      <td>2024-01-01</td>\n",
       "      <td>Paraná</td>\n",
       "      <td>Consumo de Energia Elétrica</td>\n",
       "      <td>1.517981e+07</td>\n",
       "    </tr>\n",
       "    <tr>\n",
       "      <th>85</th>\n",
       "      <td>2024-01-01</td>\n",
       "      <td>Minas Gerais</td>\n",
       "      <td>Consumo de Energia Elétrica</td>\n",
       "      <td>3.523402e+07</td>\n",
       "    </tr>\n",
       "    <tr>\n",
       "      <th>86</th>\n",
       "      <td>2024-01-01</td>\n",
       "      <td>São Paulo</td>\n",
       "      <td>Consumo de Energia Elétrica</td>\n",
       "      <td>5.283992e+07</td>\n",
       "    </tr>\n",
       "  </tbody>\n",
       "</table>\n",
       "<p>87 rows × 4 columns</p>\n",
       "</div>"
      ],
      "text/plain": [
       "         DATE     NOME_ESTADO                         NAME         VALOR\n",
       "0  2022-01-01         Roraima  Consumo de Energia Elétrica  2.466700e+04\n",
       "1  2022-01-01            Acre  Consumo de Energia Elétrica  4.790571e+04\n",
       "2  2022-01-01           Amapá  Consumo de Energia Elétrica  1.034202e+05\n",
       "3  2022-01-01           Piauí  Consumo de Energia Elétrica  2.259830e+05\n",
       "4  2022-01-01       Tocantins  Consumo de Energia Elétrica  4.213908e+05\n",
       "..        ...             ...                          ...           ...\n",
       "82 2024-01-01  Santa Catarina  Consumo de Energia Elétrica  1.240143e+07\n",
       "83 2024-01-01            Pará  Consumo de Energia Elétrica  1.424582e+07\n",
       "84 2024-01-01          Paraná  Consumo de Energia Elétrica  1.517981e+07\n",
       "85 2024-01-01    Minas Gerais  Consumo de Energia Elétrica  3.523402e+07\n",
       "86 2024-01-01       São Paulo  Consumo de Energia Elétrica  5.283992e+07\n",
       "\n",
       "[87 rows x 4 columns]"
      ]
     },
     "execution_count": 107,
     "metadata": {},
     "output_type": "execute_result"
    }
   ],
   "source": [
    "dados_energia_corrigido = dados_energia.merge(estados_reduzido, on='TERCODIGO', how='left', validate='many_to_one')\n",
    "dados_energia_corrigido['CODE'] = 'Consumo de Energia Elétrica'\n",
    "dados_energia_corrigido = dados_energia_corrigido[['DATE', 'NOME_ESTADO', 'CODE', 'VALOR']]\n",
    "dados_energia_corrigido.columns = ['DATE', 'NOME_ESTADO', 'NAME', 'VALOR']\n",
    "dados_energia_corrigido"
   ]
  },
  {
   "cell_type": "markdown",
   "metadata": {},
   "source": [
    "##### dados_consumo"
   ]
  },
  {
   "cell_type": "code",
   "execution_count": 108,
   "metadata": {},
   "outputs": [
    {
     "data": {
      "text/html": [
       "<div>\n",
       "<style scoped>\n",
       "    .dataframe tbody tr th:only-of-type {\n",
       "        vertical-align: middle;\n",
       "    }\n",
       "\n",
       "    .dataframe tbody tr th {\n",
       "        vertical-align: top;\n",
       "    }\n",
       "\n",
       "    .dataframe thead th {\n",
       "        text-align: right;\n",
       "    }\n",
       "</style>\n",
       "<table border=\"1\" class=\"dataframe\">\n",
       "  <thead>\n",
       "    <tr style=\"text-align: right;\">\n",
       "      <th></th>\n",
       "      <th>DATE</th>\n",
       "      <th>CODE</th>\n",
       "      <th>VALOR</th>\n",
       "    </tr>\n",
       "  </thead>\n",
       "  <tbody>\n",
       "    <tr>\n",
       "      <th>0</th>\n",
       "      <td>2022-01-01</td>\n",
       "      <td>CNC12_ICAEC12</td>\n",
       "      <td>100.083487</td>\n",
       "    </tr>\n",
       "    <tr>\n",
       "      <th>1</th>\n",
       "      <td>2022-02-01</td>\n",
       "      <td>CNC12_ICAEC12</td>\n",
       "      <td>100.442384</td>\n",
       "    </tr>\n",
       "    <tr>\n",
       "      <th>2</th>\n",
       "      <td>2022-03-01</td>\n",
       "      <td>CNC12_ICAEC12</td>\n",
       "      <td>98.267597</td>\n",
       "    </tr>\n",
       "    <tr>\n",
       "      <th>3</th>\n",
       "      <td>2022-04-01</td>\n",
       "      <td>CNC12_ICAEC12</td>\n",
       "      <td>98.026514</td>\n",
       "    </tr>\n",
       "    <tr>\n",
       "      <th>4</th>\n",
       "      <td>2022-05-01</td>\n",
       "      <td>CNC12_ICAEC12</td>\n",
       "      <td>102.191804</td>\n",
       "    </tr>\n",
       "  </tbody>\n",
       "</table>\n",
       "</div>"
      ],
      "text/plain": [
       "        DATE           CODE       VALOR\n",
       "0 2022-01-01  CNC12_ICAEC12  100.083487\n",
       "1 2022-02-01  CNC12_ICAEC12  100.442384\n",
       "2 2022-03-01  CNC12_ICAEC12   98.267597\n",
       "3 2022-04-01  CNC12_ICAEC12   98.026514\n",
       "4 2022-05-01  CNC12_ICAEC12  102.191804"
      ]
     },
     "execution_count": 108,
     "metadata": {},
     "output_type": "execute_result"
    }
   ],
   "source": [
    "dados_consumo.reset_index(inplace=True)\n",
    "dados_consumo.head()"
   ]
  },
  {
   "cell_type": "code",
   "execution_count": 109,
   "metadata": {},
   "outputs": [
    {
     "data": {
      "text/html": [
       "<div>\n",
       "<style scoped>\n",
       "    .dataframe tbody tr th:only-of-type {\n",
       "        vertical-align: middle;\n",
       "    }\n",
       "\n",
       "    .dataframe tbody tr th {\n",
       "        vertical-align: top;\n",
       "    }\n",
       "\n",
       "    .dataframe thead th {\n",
       "        text-align: right;\n",
       "    }\n",
       "</style>\n",
       "<table border=\"1\" class=\"dataframe\">\n",
       "  <thead>\n",
       "    <tr style=\"text-align: right;\">\n",
       "      <th></th>\n",
       "      <th>CODE</th>\n",
       "      <th>NAME</th>\n",
       "    </tr>\n",
       "  </thead>\n",
       "  <tbody>\n",
       "    <tr>\n",
       "      <th>1431</th>\n",
       "      <td>CNC12_ICAEC12</td>\n",
       "      <td>Condições atuais do empresário do comércio</td>\n",
       "    </tr>\n",
       "    <tr>\n",
       "      <th>1432</th>\n",
       "      <td>CNC12_ICEC12</td>\n",
       "      <td>Índice de confiança do empresário do comércio</td>\n",
       "    </tr>\n",
       "    <tr>\n",
       "      <th>1433</th>\n",
       "      <td>CNC12_ICF12</td>\n",
       "      <td>Intenção de consumo das famílias - total</td>\n",
       "    </tr>\n",
       "    <tr>\n",
       "      <th>1445</th>\n",
       "      <td>FCESP12_IIC12</td>\n",
       "      <td>Índice de confiança do consumidor (ICC)</td>\n",
       "    </tr>\n",
       "  </tbody>\n",
       "</table>\n",
       "</div>"
      ],
      "text/plain": [
       "               CODE                                           NAME\n",
       "1431  CNC12_ICAEC12     Condições atuais do empresário do comércio\n",
       "1432   CNC12_ICEC12  Índice de confiança do empresário do comércio\n",
       "1433    CNC12_ICF12       Intenção de consumo das famílias - total\n",
       "1445  FCESP12_IIC12        Índice de confiança do consumidor (ICC)"
      ]
     },
     "execution_count": 109,
     "metadata": {},
     "output_type": "execute_result"
    }
   ],
   "source": [
    "nomes_codigos = df[df['CODE'].isin(dados_consumo.CODE)][['CODE', 'NAME']]\n",
    "nomes_codigos.head()"
   ]
  },
  {
   "cell_type": "code",
   "execution_count": 110,
   "metadata": {},
   "outputs": [
    {
     "data": {
      "text/html": [
       "<div>\n",
       "<style scoped>\n",
       "    .dataframe tbody tr th:only-of-type {\n",
       "        vertical-align: middle;\n",
       "    }\n",
       "\n",
       "    .dataframe tbody tr th {\n",
       "        vertical-align: top;\n",
       "    }\n",
       "\n",
       "    .dataframe thead th {\n",
       "        text-align: right;\n",
       "    }\n",
       "</style>\n",
       "<table border=\"1\" class=\"dataframe\">\n",
       "  <thead>\n",
       "    <tr style=\"text-align: right;\">\n",
       "      <th></th>\n",
       "      <th>DATE</th>\n",
       "      <th>NOME_ESTADO</th>\n",
       "      <th>NAME</th>\n",
       "      <th>VALOR</th>\n",
       "    </tr>\n",
       "  </thead>\n",
       "  <tbody>\n",
       "    <tr>\n",
       "      <th>0</th>\n",
       "      <td>2022-01-01</td>\n",
       "      <td>Brasil</td>\n",
       "      <td>Condições atuais do empresário do comércio</td>\n",
       "      <td>100.083487</td>\n",
       "    </tr>\n",
       "    <tr>\n",
       "      <th>1</th>\n",
       "      <td>2022-02-01</td>\n",
       "      <td>Brasil</td>\n",
       "      <td>Condições atuais do empresário do comércio</td>\n",
       "      <td>100.442384</td>\n",
       "    </tr>\n",
       "    <tr>\n",
       "      <th>2</th>\n",
       "      <td>2022-03-01</td>\n",
       "      <td>Brasil</td>\n",
       "      <td>Condições atuais do empresário do comércio</td>\n",
       "      <td>98.267597</td>\n",
       "    </tr>\n",
       "    <tr>\n",
       "      <th>3</th>\n",
       "      <td>2022-04-01</td>\n",
       "      <td>Brasil</td>\n",
       "      <td>Condições atuais do empresário do comércio</td>\n",
       "      <td>98.026514</td>\n",
       "    </tr>\n",
       "    <tr>\n",
       "      <th>4</th>\n",
       "      <td>2022-05-01</td>\n",
       "      <td>Brasil</td>\n",
       "      <td>Condições atuais do empresário do comércio</td>\n",
       "      <td>102.191804</td>\n",
       "    </tr>\n",
       "    <tr>\n",
       "      <th>...</th>\n",
       "      <td>...</td>\n",
       "      <td>...</td>\n",
       "      <td>...</td>\n",
       "      <td>...</td>\n",
       "    </tr>\n",
       "    <tr>\n",
       "      <th>147</th>\n",
       "      <td>2024-10-01</td>\n",
       "      <td>Brasil</td>\n",
       "      <td>Índice de confiança do consumidor (ICC)</td>\n",
       "      <td>120.970000</td>\n",
       "    </tr>\n",
       "    <tr>\n",
       "      <th>148</th>\n",
       "      <td>2024-11-01</td>\n",
       "      <td>Brasil</td>\n",
       "      <td>Índice de confiança do consumidor (ICC)</td>\n",
       "      <td>123.930000</td>\n",
       "    </tr>\n",
       "    <tr>\n",
       "      <th>149</th>\n",
       "      <td>2024-12-01</td>\n",
       "      <td>Brasil</td>\n",
       "      <td>Índice de confiança do consumidor (ICC)</td>\n",
       "      <td>125.620000</td>\n",
       "    </tr>\n",
       "    <tr>\n",
       "      <th>150</th>\n",
       "      <td>2025-01-01</td>\n",
       "      <td>Brasil</td>\n",
       "      <td>Índice de confiança do consumidor (ICC)</td>\n",
       "      <td>123.510000</td>\n",
       "    </tr>\n",
       "    <tr>\n",
       "      <th>151</th>\n",
       "      <td>2025-02-01</td>\n",
       "      <td>Brasil</td>\n",
       "      <td>Índice de confiança do consumidor (ICC)</td>\n",
       "      <td>120.480000</td>\n",
       "    </tr>\n",
       "  </tbody>\n",
       "</table>\n",
       "<p>152 rows × 4 columns</p>\n",
       "</div>"
      ],
      "text/plain": [
       "          DATE NOME_ESTADO                                        NAME  \\\n",
       "0   2022-01-01      Brasil  Condições atuais do empresário do comércio   \n",
       "1   2022-02-01      Brasil  Condições atuais do empresário do comércio   \n",
       "2   2022-03-01      Brasil  Condições atuais do empresário do comércio   \n",
       "3   2022-04-01      Brasil  Condições atuais do empresário do comércio   \n",
       "4   2022-05-01      Brasil  Condições atuais do empresário do comércio   \n",
       "..         ...         ...                                         ...   \n",
       "147 2024-10-01      Brasil     Índice de confiança do consumidor (ICC)   \n",
       "148 2024-11-01      Brasil     Índice de confiança do consumidor (ICC)   \n",
       "149 2024-12-01      Brasil     Índice de confiança do consumidor (ICC)   \n",
       "150 2025-01-01      Brasil     Índice de confiança do consumidor (ICC)   \n",
       "151 2025-02-01      Brasil     Índice de confiança do consumidor (ICC)   \n",
       "\n",
       "          VALOR  \n",
       "0    100.083487  \n",
       "1    100.442384  \n",
       "2     98.267597  \n",
       "3     98.026514  \n",
       "4    102.191804  \n",
       "..          ...  \n",
       "147  120.970000  \n",
       "148  123.930000  \n",
       "149  125.620000  \n",
       "150  123.510000  \n",
       "151  120.480000  \n",
       "\n",
       "[152 rows x 4 columns]"
      ]
     },
     "execution_count": 110,
     "metadata": {},
     "output_type": "execute_result"
    }
   ],
   "source": [
    "dados_consumo_corrigido = dados_consumo.merge(nomes_codigos, on='CODE', how='left', validate='many_to_one')\n",
    "dados_consumo_corrigido['NOME_ESTADO'] = 'Brasil'\n",
    "dados_consumo_corrigido = dados_consumo_corrigido[['DATE', 'NOME_ESTADO', 'NAME', 'VALOR']]\n",
    "dados_consumo_corrigido"
   ]
  },
  {
   "cell_type": "markdown",
   "metadata": {},
   "source": [
    "### Análise Exploratória de Dados \n",
    "\n",
    "Feita a preparação, segue-se a análise para verificar a qualidade dos dados e a sua respectiva distribuição.\n",
    "\n",
    "\n",
    "Observação: desde já, percebeu-se que não faz sentido verificar a distribuição de indicadores que evoluem com o tempo. Logo, apenas os indicadores de consumo terão sua distribuição avaliada.\n"
   ]
  },
  {
   "cell_type": "markdown",
   "metadata": {},
   "source": [
    "##### dados_producao_corrigido"
   ]
  },
  {
   "cell_type": "markdown",
   "metadata": {},
   "source": [
    "Quantidade de valoes nulos: \n",
    "\n",
    "A princípio, não há."
   ]
  },
  {
   "cell_type": "code",
   "execution_count": 111,
   "metadata": {},
   "outputs": [
    {
     "name": "stdout",
     "output_type": "stream",
     "text": [
      "<class 'pandas.core.frame.DataFrame'>\n",
      "RangeIndex: 7141 entries, 0 to 7140\n",
      "Data columns (total 4 columns):\n",
      " #   Column       Non-Null Count  Dtype         \n",
      "---  ------       --------------  -----         \n",
      " 0   DATE         7141 non-null   datetime64[ns]\n",
      " 1   NOME_ESTADO  7141 non-null   object        \n",
      " 2   NAME         7141 non-null   object        \n",
      " 3   VALOR        7141 non-null   float64       \n",
      "dtypes: datetime64[ns](1), float64(1), object(2)\n",
      "memory usage: 223.3+ KB\n"
     ]
    }
   ],
   "source": [
    "dados_producao_corrigido.info()"
   ]
  },
  {
   "cell_type": "markdown",
   "metadata": {},
   "source": [
    "Contudo, se formos olhar para cada indicador, podemos perceber que há quantidades distintas, mesmo havendo cada data:"
   ]
  },
  {
   "cell_type": "code",
   "execution_count": 112,
   "metadata": {},
   "outputs": [
    {
     "name": "stdout",
     "output_type": "stream",
     "text": [
      "-------------------------------\n",
      "Avaliando o indicador:  PRODUTOS FARMOQUÍMICOS E FARMACÊUTICOS \n",
      "-------------------------------\n",
      " \n",
      "Data Mínima:                    2022-01-01 00:00:00\n",
      "Data Máxima:                    2025-01-01 00:00:00\n",
      "Quantidade Dados:               111\n",
      "Quantidade Dados Por Estado:  \n",
      "\n",
      "NOME_ESTADO\n",
      "Rio de Janeiro    37\n",
      "São Paulo         37\n",
      "Goiás             37\n",
      "Name: count, dtype: int64\n",
      "\n",
      "\n",
      "Descrição dos Dados:\n",
      "count    111.000000\n",
      "mean      99.639791\n",
      "std       29.388239\n",
      "min       37.576610\n",
      "25%       85.628270\n",
      "50%       98.086550\n",
      "75%      111.983075\n",
      "max      286.810260\n",
      "Name: VALOR, dtype: float64\n",
      "\n",
      "-------------------------------\n",
      "Avaliando o indicador:  EQUIPAMENTOS DE INFORMÁTICA, PRODUTOS ELETRÔNICOS E ÓPTICOS \n",
      "-------------------------------\n",
      " \n",
      "Data Mínima:                    2022-01-01 00:00:00\n",
      "Data Máxima:                    2025-01-01 00:00:00\n",
      "Quantidade Dados:               74\n",
      "Quantidade Dados Por Estado:  \n",
      "\n",
      "NOME_ESTADO\n",
      "Amazonas     37\n",
      "São Paulo    37\n",
      "Name: count, dtype: int64\n",
      "\n",
      "\n",
      "Descrição dos Dados:\n",
      "count     74.000000\n",
      "mean      91.956140\n",
      "std       20.516357\n",
      "min       54.419400\n",
      "25%       75.144835\n",
      "50%       93.107965\n",
      "75%      106.124597\n",
      "max      152.608610\n",
      "Name: VALOR, dtype: float64\n",
      "\n",
      "-------------------------------\n",
      "Avaliando o indicador:  PRODUTOS ALIMENTÍCIOS \n",
      "-------------------------------\n",
      " \n",
      "Data Mínima:                    2022-01-01 00:00:00\n",
      "Data Máxima:                    2025-01-01 00:00:00\n",
      "Quantidade Dados:               592\n",
      "Quantidade Dados Por Estado:  \n",
      "\n",
      "NOME_ESTADO\n",
      "São Paulo              37\n",
      "Goiás                  37\n",
      "Ceará                  37\n",
      "Minas Gerais           37\n",
      "Mato Grosso do Sul     37\n",
      "Paraná                 37\n",
      "Maranhão               37\n",
      "Rio Grande do Norte    37\n",
      "Bahia                  37\n",
      "Pernambuco             37\n",
      "Santa Catarina         37\n",
      "Pará                   37\n",
      "Mato Grosso            37\n",
      "Rio de Janeiro         37\n",
      "Espírito Santo         37\n",
      "Rio Grande do Sul      37\n",
      "Name: count, dtype: int64\n",
      "\n",
      "\n",
      "Descrição dos Dados:\n",
      "count    592.000000\n",
      "mean     103.195625\n",
      "std       11.891288\n",
      "min       69.657970\n",
      "25%       95.944145\n",
      "50%      102.579795\n",
      "75%      109.766712\n",
      "max      189.540100\n",
      "Name: VALOR, dtype: float64\n",
      "\n",
      "-------------------------------\n",
      "Avaliando o indicador:  BEBIDAS \n",
      "-------------------------------\n",
      " \n",
      "Data Mínima:                    2022-01-01 00:00:00\n",
      "Data Máxima:                    2025-01-01 00:00:00\n",
      "Quantidade Dados:               481\n",
      "Quantidade Dados Por Estado:  \n",
      "\n",
      "NOME_ESTADO\n",
      "Amazonas             37\n",
      "Minas Gerais         37\n",
      "Pará                 37\n",
      "Goiás                37\n",
      "Mato Grosso          37\n",
      "Maranhão             37\n",
      "Pernambuco           37\n",
      "Bahia                37\n",
      "Ceará                37\n",
      "São Paulo            37\n",
      "Rio de Janeiro       37\n",
      "Paraná               37\n",
      "Rio Grande do Sul    37\n",
      "Name: count, dtype: int64\n",
      "\n",
      "\n",
      "Descrição dos Dados:\n",
      "count    481.000000\n",
      "mean     101.265152\n",
      "std       13.406336\n",
      "min       52.760640\n",
      "25%       93.729010\n",
      "50%      101.493750\n",
      "75%      108.919960\n",
      "max      165.114050\n",
      "Name: VALOR, dtype: float64\n",
      "\n",
      "-------------------------------\n",
      "Avaliando o indicador:  PRODUTOS DE BORRACHA E MATERIAL PLÁSTICO \n",
      "-------------------------------\n",
      " \n",
      "Data Mínima:                    2022-01-01 00:00:00\n",
      "Data Máxima:                    2025-01-01 00:00:00\n",
      "Quantidade Dados:               333\n",
      "Quantidade Dados Por Estado:  \n",
      "\n",
      "NOME_ESTADO\n",
      "Minas Gerais         37\n",
      "Paraná               37\n",
      "São Paulo            37\n",
      "Santa Catarina       37\n",
      "Bahia                37\n",
      "Pernambuco           37\n",
      "Rio Grande do Sul    37\n",
      "Amazonas             37\n",
      "Rio de Janeiro       37\n",
      "Name: count, dtype: int64\n",
      "\n",
      "\n",
      "Descrição dos Dados:\n",
      "count    333.000000\n",
      "mean     101.945613\n",
      "std        9.992450\n",
      "min       75.099450\n",
      "25%       94.929410\n",
      "50%      101.963030\n",
      "75%      107.734300\n",
      "max      133.763860\n",
      "Name: VALOR, dtype: float64\n",
      "\n",
      "-------------------------------\n",
      "Avaliando o indicador:  COUROS, ARTIGOS PARA VIAGEM E CALÇADOS \n",
      "-------------------------------\n",
      " \n",
      "Data Mínima:                    2022-01-01 00:00:00\n",
      "Data Máxima:                    2025-01-01 00:00:00\n",
      "Quantidade Dados:               111\n",
      "Quantidade Dados Por Estado:  \n",
      "\n",
      "NOME_ESTADO\n",
      "Ceará                37\n",
      "Bahia                37\n",
      "Rio Grande do Sul    37\n",
      "Name: count, dtype: int64\n",
      "\n",
      "\n",
      "Descrição dos Dados:\n",
      "count    111.000000\n",
      "mean     101.592009\n",
      "std       20.699857\n",
      "min       49.187390\n",
      "25%       88.582835\n",
      "50%      102.587180\n",
      "75%      115.707215\n",
      "max      154.972180\n",
      "Name: VALOR, dtype: float64\n",
      "\n",
      "-------------------------------\n",
      "Avaliando o indicador:  CELULOSE, PAPEL E PRODUTOS DE PAPEL \n",
      "-------------------------------\n",
      " \n",
      "Data Mínima:                    2022-01-01 00:00:00\n",
      "Data Máxima:                    2025-01-01 00:00:00\n",
      "Quantidade Dados:               444\n",
      "Quantidade Dados Por Estado:  \n",
      "\n",
      "NOME_ESTADO\n",
      "Maranhão              37\n",
      "Pernambuco            37\n",
      "Mato Grosso do Sul    37\n",
      "Goiás                 37\n",
      "Bahia                 37\n",
      "Santa Catarina        37\n",
      "Minas Gerais          37\n",
      "São Paulo             37\n",
      "Rio Grande do Sul     37\n",
      "Paraná                37\n",
      "Espírito Santo        37\n",
      "Pará                  37\n",
      "Name: count, dtype: int64\n",
      "\n",
      "\n",
      "Descrição dos Dados:\n",
      "count    444.000000\n",
      "mean      95.109073\n",
      "std       23.808226\n",
      "min       24.770180\n",
      "25%       92.458405\n",
      "50%      100.176370\n",
      "75%      105.677937\n",
      "max      230.888170\n",
      "Name: VALOR, dtype: float64\n",
      "\n",
      "-------------------------------\n",
      "Avaliando o indicador:  INDÚSTRIAS EXTRATIVAS \n",
      "-------------------------------\n",
      " \n",
      "Data Mínima:                    2022-01-01 00:00:00\n",
      "Data Máxima:                    2025-01-01 00:00:00\n",
      "Quantidade Dados:               407\n",
      "Quantidade Dados Por Estado:  \n",
      "\n",
      "NOME_ESTADO\n",
      "Minas Gerais           37\n",
      "Goiás                  37\n",
      "Pará                   37\n",
      "Maranhão               37\n",
      "Rio de Janeiro         37\n",
      "São Paulo              37\n",
      "Amazonas               37\n",
      "Rio Grande do Norte    37\n",
      "Bahia                  37\n",
      "Mato Grosso do Sul     37\n",
      "Espírito Santo         37\n",
      "Name: count, dtype: int64\n",
      "\n",
      "\n",
      "Descrição dos Dados:\n",
      "count    407.000000\n",
      "mean      94.563381\n",
      "std       22.632960\n",
      "min       13.508060\n",
      "25%       83.403795\n",
      "50%       99.693090\n",
      "75%      108.455600\n",
      "max      136.698910\n",
      "Name: VALOR, dtype: float64\n",
      "\n",
      "-------------------------------\n",
      "Avaliando o indicador:  PRODUTOS DO FUMO \n",
      "-------------------------------\n",
      " \n",
      "Data Mínima:                    2022-01-01 00:00:00\n",
      "Data Máxima:                    2025-01-01 00:00:00\n",
      "Quantidade Dados:               74\n",
      "Quantidade Dados Por Estado:  \n",
      "\n",
      "NOME_ESTADO\n",
      "Rio Grande do Sul    37\n",
      "Minas Gerais         37\n",
      "Name: count, dtype: int64\n",
      "\n",
      "\n",
      "Descrição dos Dados:\n",
      "count     74.000000\n",
      "mean     102.765067\n",
      "std       46.054414\n",
      "min       18.562060\n",
      "25%       73.642285\n",
      "50%      108.778875\n",
      "75%      121.920465\n",
      "max      206.592820\n",
      "Name: VALOR, dtype: float64\n",
      "\n",
      "-------------------------------\n",
      "Avaliando o indicador:  INDÚSTRIA DE TRANSFORMAÇÃO \n",
      "-------------------------------\n",
      " \n",
      "Data Mínima:                    2022-01-01 00:00:00\n",
      "Data Máxima:                    2025-01-01 00:00:00\n",
      "Quantidade Dados:               629\n",
      "Quantidade Dados Por Estado:  \n",
      "\n",
      "NOME_ESTADO\n",
      "Mato Grosso do Sul     37\n",
      "Goiás                  37\n",
      "Minas Gerais           37\n",
      "São Paulo              37\n",
      "Amazonas               37\n",
      "Maranhão               37\n",
      "Ceará                  37\n",
      "Rio de Janeiro         37\n",
      "Santa Catarina         37\n",
      "Rio Grande do Sul      37\n",
      "Paraná                 37\n",
      "Bahia                  37\n",
      "Mato Grosso            37\n",
      "Pernambuco             37\n",
      "Pará                   37\n",
      "Espírito Santo         37\n",
      "Rio Grande do Norte    37\n",
      "Name: count, dtype: int64\n",
      "\n",
      "\n",
      "Descrição dos Dados:\n",
      "count    629.000000\n",
      "mean     103.038881\n",
      "std       15.406793\n",
      "min       65.564250\n",
      "25%       94.858920\n",
      "50%      101.699630\n",
      "75%      108.061470\n",
      "max      235.580890\n",
      "Name: VALOR, dtype: float64\n",
      "\n",
      "-------------------------------\n",
      "Avaliando o indicador:  PRODUTOS DE MADEIRA \n",
      "-------------------------------\n",
      " \n",
      "Data Mínima:                    2022-01-01 00:00:00\n",
      "Data Máxima:                    2025-01-01 00:00:00\n",
      "Quantidade Dados:               148\n",
      "Quantidade Dados Por Estado:  \n",
      "\n",
      "NOME_ESTADO\n",
      "Mato Grosso       37\n",
      "Pará              37\n",
      "Santa Catarina    37\n",
      "Paraná            37\n",
      "Name: count, dtype: int64\n",
      "\n",
      "\n",
      "Descrição dos Dados:\n",
      "count    148.000000\n",
      "mean      98.328640\n",
      "std       12.120821\n",
      "min       62.767910\n",
      "25%       90.884910\n",
      "50%       98.572275\n",
      "75%      105.784842\n",
      "max      139.918720\n",
      "Name: VALOR, dtype: float64\n",
      "\n",
      "-------------------------------\n",
      "Avaliando o indicador:  MÁQUINAS, APARELHOS E MATERIAIS ELÉTRICOS \n",
      "-------------------------------\n",
      " \n",
      "Data Mínima:                    2022-01-01 00:00:00\n",
      "Data Máxima:                    2025-01-01 00:00:00\n",
      "Quantidade Dados:               296\n",
      "Quantidade Dados Por Estado:  \n",
      "\n",
      "NOME_ESTADO\n",
      "Paraná            37\n",
      "Santa Catarina    37\n",
      "Ceará             37\n",
      "Amazonas          37\n",
      "São Paulo         37\n",
      "Bahia             37\n",
      "Pernambuco        37\n",
      "Minas Gerais      37\n",
      "Name: count, dtype: int64\n",
      "\n",
      "\n",
      "Descrição dos Dados:\n",
      "count    296.000000\n",
      "mean     106.727959\n",
      "std       27.329990\n",
      "min       53.498860\n",
      "25%       91.226573\n",
      "50%      103.106675\n",
      "75%      113.824967\n",
      "max      236.214400\n",
      "Name: VALOR, dtype: float64\n",
      "\n",
      "-------------------------------\n",
      "Avaliando o indicador:  MÁQUINAS E EQUIPAMENTOS \n",
      "-------------------------------\n",
      " \n",
      "Data Mínima:                    2022-01-01 00:00:00\n",
      "Data Máxima:                    2025-01-01 00:00:00\n",
      "Quantidade Dados:               296\n",
      "Quantidade Dados Por Estado:  \n",
      "\n",
      "NOME_ESTADO\n",
      "Rio Grande do Sul    37\n",
      "São Paulo            37\n",
      "Rio de Janeiro       37\n",
      "Minas Gerais         37\n",
      "Amazonas             37\n",
      "Santa Catarina       37\n",
      "Paraná               37\n",
      "Goiás                37\n",
      "Name: count, dtype: int64\n",
      "\n",
      "\n",
      "Descrição dos Dados:\n",
      "count    296.000000\n",
      "mean      99.265427\n",
      "std       20.420502\n",
      "min       26.584330\n",
      "25%       87.612840\n",
      "50%       98.907835\n",
      "75%      109.405440\n",
      "max      204.760050\n",
      "Name: VALOR, dtype: float64\n",
      "\n",
      "-------------------------------\n",
      "Avaliando o indicador:  METALURGIA \n",
      "-------------------------------\n",
      " \n",
      "Data Mínima:                    2022-01-01 00:00:00\n",
      "Data Máxima:                    2025-01-01 00:00:00\n",
      "Quantidade Dados:               444\n",
      "Quantidade Dados Por Estado:  \n",
      "\n",
      "NOME_ESTADO\n",
      "Goiás                37\n",
      "Rio de Janeiro       37\n",
      "Minas Gerais         37\n",
      "São Paulo            37\n",
      "Santa Catarina       37\n",
      "Maranhão             37\n",
      "Pará                 37\n",
      "Espírito Santo       37\n",
      "Rio Grande do Sul    37\n",
      "Bahia                37\n",
      "Pernambuco           37\n",
      "Ceará                37\n",
      "Name: count, dtype: int64\n",
      "\n",
      "\n",
      "Descrição dos Dados:\n",
      "count    444.000000\n",
      "mean      99.479992\n",
      "std       14.806611\n",
      "min       34.068090\n",
      "25%       91.326953\n",
      "50%       99.842100\n",
      "75%      108.421813\n",
      "max      143.317580\n",
      "Name: VALOR, dtype: float64\n",
      "\n",
      "-------------------------------\n",
      "Avaliando o indicador:  PRODUTOS DE MINERAIS E NÃO METÁLICOS \n",
      "-------------------------------\n",
      " \n",
      "Data Mínima:                    2022-01-01 00:00:00\n",
      "Data Máxima:                    2025-01-01 00:00:00\n",
      "Quantidade Dados:               518\n",
      "Quantidade Dados Por Estado:  \n",
      "\n",
      "NOME_ESTADO\n",
      "Mato Grosso          37\n",
      "Goiás                37\n",
      "Maranhão             37\n",
      "Ceará                37\n",
      "Paraná               37\n",
      "Minas Gerais         37\n",
      "Bahia                37\n",
      "Rio Grande do Sul    37\n",
      "Espírito Santo       37\n",
      "Santa Catarina       37\n",
      "São Paulo            37\n",
      "Rio de Janeiro       37\n",
      "Pará                 37\n",
      "Pernambuco           37\n",
      "Name: count, dtype: int64\n",
      "\n",
      "\n",
      "Descrição dos Dados:\n",
      "count    518.000000\n",
      "mean      96.768257\n",
      "std       14.572109\n",
      "min       38.395200\n",
      "25%       88.645670\n",
      "50%       97.311870\n",
      "75%      105.227005\n",
      "max      148.001180\n",
      "Name: VALOR, dtype: float64\n",
      "\n",
      "-------------------------------\n",
      "Avaliando o indicador:  MÓVEIS \n",
      "-------------------------------\n",
      " \n",
      "Data Mínima:                    2022-01-01 00:00:00\n",
      "Data Máxima:                    2025-01-01 00:00:00\n",
      "Quantidade Dados:               111\n",
      "Quantidade Dados Por Estado:  \n",
      "\n",
      "NOME_ESTADO\n",
      "Paraná               37\n",
      "Rio Grande do Sul    37\n",
      "Santa Catarina       37\n",
      "Name: count, dtype: int64\n",
      "\n",
      "\n",
      "Descrição dos Dados:\n",
      "count    111.000000\n",
      "mean      98.006109\n",
      "std       15.162323\n",
      "min       62.014060\n",
      "25%       88.392320\n",
      "50%       97.949650\n",
      "75%      108.598490\n",
      "max      136.335070\n",
      "Name: VALOR, dtype: float64\n",
      "\n",
      "-------------------------------\n",
      "Avaliando o indicador:  OUTROS EQUIPAMENTOS DE TRANSPORTE, EXCETO VEÍCULOS AUTOMOTORES \n",
      "-------------------------------\n",
      " \n",
      "Data Mínima:                    2022-01-01 00:00:00\n",
      "Data Máxima:                    2025-01-01 00:00:00\n",
      "Quantidade Dados:               148\n",
      "Quantidade Dados Por Estado:  \n",
      "\n",
      "NOME_ESTADO\n",
      "Rio de Janeiro    37\n",
      "Pernambuco        37\n",
      "Amazonas          37\n",
      "São Paulo         37\n",
      "Name: count, dtype: int64\n",
      "\n",
      "\n",
      "Descrição dos Dados:\n",
      "count    148.000000\n",
      "mean     128.346667\n",
      "std       74.155351\n",
      "min       24.871320\n",
      "25%       98.527125\n",
      "50%      116.873795\n",
      "75%      135.926120\n",
      "max      844.403840\n",
      "Name: VALOR, dtype: float64\n",
      "\n",
      "-------------------------------\n",
      "Avaliando o indicador:  PRODUTOS QUÍMICOS \n",
      "-------------------------------\n",
      " \n",
      "Data Mínima:                    2022-01-01 00:00:00\n",
      "Data Máxima:                    2025-01-01 00:00:00\n",
      "Quantidade Dados:               444\n",
      "Quantidade Dados Por Estado:  \n",
      "\n",
      "NOME_ESTADO\n",
      "Minas Gerais         37\n",
      "São Paulo            37\n",
      "Santa Catarina       37\n",
      "Bahia                37\n",
      "Rio Grande do Sul    37\n",
      "Amazonas             37\n",
      "Ceará                37\n",
      "Rio de Janeiro       37\n",
      "Paraná               37\n",
      "Pernambuco           37\n",
      "Goiás                37\n",
      "Mato Grosso          37\n",
      "Name: count, dtype: int64\n",
      "\n",
      "\n",
      "Descrição dos Dados:\n",
      "count    444.000000\n",
      "mean      97.516656\n",
      "std       21.073027\n",
      "min       20.995510\n",
      "25%       85.821262\n",
      "50%       98.180100\n",
      "75%      109.579110\n",
      "max      186.598130\n",
      "Name: VALOR, dtype: float64\n",
      "\n",
      "-------------------------------\n",
      "Avaliando o indicador:  PRODUTOS DE METAL, EXCETO MÁQUINAS E EQUIPAMENTOS \n",
      "-------------------------------\n",
      " \n",
      "Data Mínima:                    2022-01-01 00:00:00\n",
      "Data Máxima:                    2025-01-01 00:00:00\n",
      "Quantidade Dados:               370\n",
      "Quantidade Dados Por Estado:  \n",
      "\n",
      "NOME_ESTADO\n",
      "Rio Grande do Sul    37\n",
      "São Paulo            37\n",
      "Goiás                37\n",
      "Paraná               37\n",
      "Santa Catarina       37\n",
      "Minas Gerais         37\n",
      "Amazonas             37\n",
      "Pernambuco           37\n",
      "Rio de Janeiro       37\n",
      "Ceará                37\n",
      "Name: count, dtype: int64\n",
      "\n",
      "\n",
      "Descrição dos Dados:\n",
      "count    370.000000\n",
      "mean      99.902918\n",
      "std       13.647515\n",
      "min       47.058840\n",
      "25%       91.754340\n",
      "50%       99.850860\n",
      "75%      107.377358\n",
      "max      138.320760\n",
      "Name: VALOR, dtype: float64\n",
      "\n",
      "-------------------------------\n",
      "Avaliando o indicador:  COQUE, DERIVADOS DE PETRÓLEO E BIOCOMBUSTÍVEIS \n",
      "-------------------------------\n",
      " \n",
      "Data Mínima:                    2022-01-01 00:00:00\n",
      "Data Máxima:                    2025-01-01 00:00:00\n",
      "Quantidade Dados:               481\n",
      "Quantidade Dados Por Estado:  \n",
      "\n",
      "NOME_ESTADO\n",
      "Mato Grosso do Sul     37\n",
      "Goiás                  37\n",
      "Mato Grosso            37\n",
      "Minas Gerais           37\n",
      "São Paulo              37\n",
      "Rio Grande do Sul      37\n",
      "Rio de Janeiro         37\n",
      "Amazonas               37\n",
      "Ceará                  37\n",
      "Bahia                  37\n",
      "Paraná                 37\n",
      "Rio Grande do Norte    37\n",
      "Pernambuco             37\n",
      "Name: count, dtype: int64\n",
      "\n",
      "\n",
      "Descrição dos Dados:\n",
      "count    481.000000\n",
      "mean     106.035394\n",
      "std       41.139988\n",
      "min        0.000860\n",
      "25%       88.161030\n",
      "50%      107.625460\n",
      "75%      123.720290\n",
      "max      285.921040\n",
      "Name: VALOR, dtype: float64\n",
      "\n",
      "-------------------------------\n",
      "Avaliando o indicador:  PRODUTOS TÊXTEIS \n",
      "-------------------------------\n",
      " \n",
      "Data Mínima:                    2022-01-01 00:00:00\n",
      "Data Máxima:                    2025-01-01 00:00:00\n",
      "Quantidade Dados:               111\n",
      "Quantidade Dados Por Estado:  \n",
      "\n",
      "NOME_ESTADO\n",
      "São Paulo         37\n",
      "Santa Catarina    37\n",
      "Ceará             37\n",
      "Name: count, dtype: int64\n",
      "\n",
      "\n",
      "Descrição dos Dados:\n",
      "count    111.000000\n",
      "mean     113.388331\n",
      "std       25.983434\n",
      "min       53.260260\n",
      "25%      102.140055\n",
      "50%      109.860800\n",
      "75%      119.799865\n",
      "max      200.348560\n",
      "Name: VALOR, dtype: float64\n",
      "\n",
      "-------------------------------\n",
      "Avaliando o indicador:  VEÍCULOS AUTOMOTORES, REBOQUES E CARROCERIAS \n",
      "-------------------------------\n",
      " \n",
      "Data Mínima:                    2022-01-01 00:00:00\n",
      "Data Máxima:                    2025-01-01 00:00:00\n",
      "Quantidade Dados:               296\n",
      "Quantidade Dados Por Estado:  \n",
      "\n",
      "NOME_ESTADO\n",
      "Paraná               37\n",
      "Rio de Janeiro       37\n",
      "São Paulo            37\n",
      "Pernambuco           37\n",
      "Minas Gerais         37\n",
      "Goiás                37\n",
      "Santa Catarina       37\n",
      "Rio Grande do Sul    37\n",
      "Name: count, dtype: int64\n",
      "\n",
      "\n",
      "Descrição dos Dados:\n",
      "count    296.000000\n",
      "mean     101.519571\n",
      "std       18.646902\n",
      "min       64.378780\n",
      "25%       89.708265\n",
      "50%      101.197285\n",
      "75%      110.005760\n",
      "max      185.591790\n",
      "Name: VALOR, dtype: float64\n",
      "\n",
      "-------------------------------\n",
      "Avaliando o indicador:  ARTIGOS DO VESTUÁRIO E ACESSÓRIOS \n",
      "-------------------------------\n",
      " \n",
      "Data Mínima:                    2022-01-01 00:00:00\n",
      "Data Máxima:                    2025-01-01 00:00:00\n",
      "Quantidade Dados:               222\n",
      "Quantidade Dados Por Estado:  \n",
      "\n",
      "NOME_ESTADO\n",
      "São Paulo              37\n",
      "Santa Catarina         37\n",
      "Rio de Janeiro         37\n",
      "Ceará                  37\n",
      "Goiás                  37\n",
      "Rio Grande do Norte    37\n",
      "Name: count, dtype: int64\n",
      "\n",
      "\n",
      "Descrição dos Dados:\n",
      "count    222.000000\n",
      "mean      98.676409\n",
      "std       24.230583\n",
      "min        8.562300\n",
      "25%       85.795523\n",
      "50%       99.388120\n",
      "75%      112.722900\n",
      "max      166.988420\n",
      "Name: VALOR, dtype: float64\n",
      "\n"
     ]
    }
   ],
   "source": [
    "for indicador in dados_producao_corrigido['NAME'].unique():\n",
    "    print('-------------------------------')\n",
    "    print(f'Avaliando o indicador: {indicador.upper()}')\n",
    "    print('-------------------------------')\n",
    "    temp = dados_producao_corrigido[dados_producao_corrigido['NAME']==indicador]\n",
    "\n",
    "    texto_verificacao = f\"\"\" \n",
    "Data Mínima:                    {temp.DATE.min()}\n",
    "Data Máxima:                    {temp.DATE.max()}\n",
    "Quantidade Dados:               {temp.shape[0]}\n",
    "Quantidade Dados Por Estado:  \n",
    "\n",
    "{temp.NOME_ESTADO.value_counts()}\n",
    "\n",
    "\n",
    "Descrição dos Dados:\n",
    "{temp['VALOR'].describe()}\n",
    "\"\"\"\n",
    "    print(texto_verificacao)"
   ]
  },
  {
   "cell_type": "markdown",
   "metadata": {},
   "source": [
    "Disso, cogita-se que <b>nem todo Estado possui produção industrial para cada um dos itens</b> OU <b>há erro na base de dados</b>.\n",
    "\n",
    "A primeira hipótese, contudo, aparenta ter mais força, ainda que seja inviável de se verificar.\n"
   ]
  },
  {
   "cell_type": "code",
   "execution_count": 113,
   "metadata": {},
   "outputs": [],
   "source": [
    "dados_por_uf = dados_producao_corrigido[['NOME_ESTADO', 'NAME']].drop_duplicates().groupby(['NOME_ESTADO'], as_index=False)[['NAME']].count()"
   ]
  },
  {
   "cell_type": "code",
   "execution_count": 114,
   "metadata": {},
   "outputs": [
    {
     "data": {
      "application/vnd.plotly.v1+json": {
       "config": {
        "plotlyServerURL": "https://plot.ly"
       },
       "data": [
        {
         "hovertemplate": "Estado=%{x}<br>Quantidade de Indicadores=%{y}<extra></extra>",
         "legendgroup": "",
         "marker": {
          "color": "#636efa",
          "pattern": {
           "shape": ""
          }
         },
         "name": "",
         "orientation": "v",
         "showlegend": false,
         "textposition": "auto",
         "type": "bar",
         "x": [
          "Mato Grosso do Sul",
          "Rio Grande do Norte",
          "Espírito Santo",
          "Maranhão",
          "Mato Grosso",
          "Pará",
          "Amazonas",
          "Bahia",
          "Ceará",
          "Pernambuco",
          "Goiás",
          "Paraná",
          "Minas Gerais",
          "Rio Grande do Sul",
          "Rio de Janeiro",
          "Santa Catarina",
          "São Paulo"
         ],
         "xaxis": "x",
         "y": {
          "bdata": "BQUGBwcICwwMDQ4ODw8PDxM=",
          "dtype": "i1"
         },
         "yaxis": "y"
        }
       ],
       "layout": {
        "barmode": "relative",
        "height": 500,
        "legend": {
         "tracegroupgap": 0
        },
        "template": {
         "data": {
          "bar": [
           {
            "error_x": {
             "color": "#2a3f5f"
            },
            "error_y": {
             "color": "#2a3f5f"
            },
            "marker": {
             "line": {
              "color": "white",
              "width": 0.5
             },
             "pattern": {
              "fillmode": "overlay",
              "size": 10,
              "solidity": 0.2
             }
            },
            "type": "bar"
           }
          ],
          "barpolar": [
           {
            "marker": {
             "line": {
              "color": "white",
              "width": 0.5
             },
             "pattern": {
              "fillmode": "overlay",
              "size": 10,
              "solidity": 0.2
             }
            },
            "type": "barpolar"
           }
          ],
          "carpet": [
           {
            "aaxis": {
             "endlinecolor": "#2a3f5f",
             "gridcolor": "#C8D4E3",
             "linecolor": "#C8D4E3",
             "minorgridcolor": "#C8D4E3",
             "startlinecolor": "#2a3f5f"
            },
            "baxis": {
             "endlinecolor": "#2a3f5f",
             "gridcolor": "#C8D4E3",
             "linecolor": "#C8D4E3",
             "minorgridcolor": "#C8D4E3",
             "startlinecolor": "#2a3f5f"
            },
            "type": "carpet"
           }
          ],
          "choropleth": [
           {
            "colorbar": {
             "outlinewidth": 0,
             "ticks": ""
            },
            "type": "choropleth"
           }
          ],
          "contour": [
           {
            "colorbar": {
             "outlinewidth": 0,
             "ticks": ""
            },
            "colorscale": [
             [
              0,
              "#0d0887"
             ],
             [
              0.1111111111111111,
              "#46039f"
             ],
             [
              0.2222222222222222,
              "#7201a8"
             ],
             [
              0.3333333333333333,
              "#9c179e"
             ],
             [
              0.4444444444444444,
              "#bd3786"
             ],
             [
              0.5555555555555556,
              "#d8576b"
             ],
             [
              0.6666666666666666,
              "#ed7953"
             ],
             [
              0.7777777777777778,
              "#fb9f3a"
             ],
             [
              0.8888888888888888,
              "#fdca26"
             ],
             [
              1,
              "#f0f921"
             ]
            ],
            "type": "contour"
           }
          ],
          "contourcarpet": [
           {
            "colorbar": {
             "outlinewidth": 0,
             "ticks": ""
            },
            "type": "contourcarpet"
           }
          ],
          "heatmap": [
           {
            "colorbar": {
             "outlinewidth": 0,
             "ticks": ""
            },
            "colorscale": [
             [
              0,
              "#0d0887"
             ],
             [
              0.1111111111111111,
              "#46039f"
             ],
             [
              0.2222222222222222,
              "#7201a8"
             ],
             [
              0.3333333333333333,
              "#9c179e"
             ],
             [
              0.4444444444444444,
              "#bd3786"
             ],
             [
              0.5555555555555556,
              "#d8576b"
             ],
             [
              0.6666666666666666,
              "#ed7953"
             ],
             [
              0.7777777777777778,
              "#fb9f3a"
             ],
             [
              0.8888888888888888,
              "#fdca26"
             ],
             [
              1,
              "#f0f921"
             ]
            ],
            "type": "heatmap"
           }
          ],
          "histogram": [
           {
            "marker": {
             "pattern": {
              "fillmode": "overlay",
              "size": 10,
              "solidity": 0.2
             }
            },
            "type": "histogram"
           }
          ],
          "histogram2d": [
           {
            "colorbar": {
             "outlinewidth": 0,
             "ticks": ""
            },
            "colorscale": [
             [
              0,
              "#0d0887"
             ],
             [
              0.1111111111111111,
              "#46039f"
             ],
             [
              0.2222222222222222,
              "#7201a8"
             ],
             [
              0.3333333333333333,
              "#9c179e"
             ],
             [
              0.4444444444444444,
              "#bd3786"
             ],
             [
              0.5555555555555556,
              "#d8576b"
             ],
             [
              0.6666666666666666,
              "#ed7953"
             ],
             [
              0.7777777777777778,
              "#fb9f3a"
             ],
             [
              0.8888888888888888,
              "#fdca26"
             ],
             [
              1,
              "#f0f921"
             ]
            ],
            "type": "histogram2d"
           }
          ],
          "histogram2dcontour": [
           {
            "colorbar": {
             "outlinewidth": 0,
             "ticks": ""
            },
            "colorscale": [
             [
              0,
              "#0d0887"
             ],
             [
              0.1111111111111111,
              "#46039f"
             ],
             [
              0.2222222222222222,
              "#7201a8"
             ],
             [
              0.3333333333333333,
              "#9c179e"
             ],
             [
              0.4444444444444444,
              "#bd3786"
             ],
             [
              0.5555555555555556,
              "#d8576b"
             ],
             [
              0.6666666666666666,
              "#ed7953"
             ],
             [
              0.7777777777777778,
              "#fb9f3a"
             ],
             [
              0.8888888888888888,
              "#fdca26"
             ],
             [
              1,
              "#f0f921"
             ]
            ],
            "type": "histogram2dcontour"
           }
          ],
          "mesh3d": [
           {
            "colorbar": {
             "outlinewidth": 0,
             "ticks": ""
            },
            "type": "mesh3d"
           }
          ],
          "parcoords": [
           {
            "line": {
             "colorbar": {
              "outlinewidth": 0,
              "ticks": ""
             }
            },
            "type": "parcoords"
           }
          ],
          "pie": [
           {
            "automargin": true,
            "type": "pie"
           }
          ],
          "scatter": [
           {
            "fillpattern": {
             "fillmode": "overlay",
             "size": 10,
             "solidity": 0.2
            },
            "type": "scatter"
           }
          ],
          "scatter3d": [
           {
            "line": {
             "colorbar": {
              "outlinewidth": 0,
              "ticks": ""
             }
            },
            "marker": {
             "colorbar": {
              "outlinewidth": 0,
              "ticks": ""
             }
            },
            "type": "scatter3d"
           }
          ],
          "scattercarpet": [
           {
            "marker": {
             "colorbar": {
              "outlinewidth": 0,
              "ticks": ""
             }
            },
            "type": "scattercarpet"
           }
          ],
          "scattergeo": [
           {
            "marker": {
             "colorbar": {
              "outlinewidth": 0,
              "ticks": ""
             }
            },
            "type": "scattergeo"
           }
          ],
          "scattergl": [
           {
            "marker": {
             "colorbar": {
              "outlinewidth": 0,
              "ticks": ""
             }
            },
            "type": "scattergl"
           }
          ],
          "scattermap": [
           {
            "marker": {
             "colorbar": {
              "outlinewidth": 0,
              "ticks": ""
             }
            },
            "type": "scattermap"
           }
          ],
          "scattermapbox": [
           {
            "marker": {
             "colorbar": {
              "outlinewidth": 0,
              "ticks": ""
             }
            },
            "type": "scattermapbox"
           }
          ],
          "scatterpolar": [
           {
            "marker": {
             "colorbar": {
              "outlinewidth": 0,
              "ticks": ""
             }
            },
            "type": "scatterpolar"
           }
          ],
          "scatterpolargl": [
           {
            "marker": {
             "colorbar": {
              "outlinewidth": 0,
              "ticks": ""
             }
            },
            "type": "scatterpolargl"
           }
          ],
          "scatterternary": [
           {
            "marker": {
             "colorbar": {
              "outlinewidth": 0,
              "ticks": ""
             }
            },
            "type": "scatterternary"
           }
          ],
          "surface": [
           {
            "colorbar": {
             "outlinewidth": 0,
             "ticks": ""
            },
            "colorscale": [
             [
              0,
              "#0d0887"
             ],
             [
              0.1111111111111111,
              "#46039f"
             ],
             [
              0.2222222222222222,
              "#7201a8"
             ],
             [
              0.3333333333333333,
              "#9c179e"
             ],
             [
              0.4444444444444444,
              "#bd3786"
             ],
             [
              0.5555555555555556,
              "#d8576b"
             ],
             [
              0.6666666666666666,
              "#ed7953"
             ],
             [
              0.7777777777777778,
              "#fb9f3a"
             ],
             [
              0.8888888888888888,
              "#fdca26"
             ],
             [
              1,
              "#f0f921"
             ]
            ],
            "type": "surface"
           }
          ],
          "table": [
           {
            "cells": {
             "fill": {
              "color": "#EBF0F8"
             },
             "line": {
              "color": "white"
             }
            },
            "header": {
             "fill": {
              "color": "#C8D4E3"
             },
             "line": {
              "color": "white"
             }
            },
            "type": "table"
           }
          ]
         },
         "layout": {
          "annotationdefaults": {
           "arrowcolor": "#2a3f5f",
           "arrowhead": 0,
           "arrowwidth": 1
          },
          "autotypenumbers": "strict",
          "coloraxis": {
           "colorbar": {
            "outlinewidth": 0,
            "ticks": ""
           }
          },
          "colorscale": {
           "diverging": [
            [
             0,
             "#8e0152"
            ],
            [
             0.1,
             "#c51b7d"
            ],
            [
             0.2,
             "#de77ae"
            ],
            [
             0.3,
             "#f1b6da"
            ],
            [
             0.4,
             "#fde0ef"
            ],
            [
             0.5,
             "#f7f7f7"
            ],
            [
             0.6,
             "#e6f5d0"
            ],
            [
             0.7,
             "#b8e186"
            ],
            [
             0.8,
             "#7fbc41"
            ],
            [
             0.9,
             "#4d9221"
            ],
            [
             1,
             "#276419"
            ]
           ],
           "sequential": [
            [
             0,
             "#0d0887"
            ],
            [
             0.1111111111111111,
             "#46039f"
            ],
            [
             0.2222222222222222,
             "#7201a8"
            ],
            [
             0.3333333333333333,
             "#9c179e"
            ],
            [
             0.4444444444444444,
             "#bd3786"
            ],
            [
             0.5555555555555556,
             "#d8576b"
            ],
            [
             0.6666666666666666,
             "#ed7953"
            ],
            [
             0.7777777777777778,
             "#fb9f3a"
            ],
            [
             0.8888888888888888,
             "#fdca26"
            ],
            [
             1,
             "#f0f921"
            ]
           ],
           "sequentialminus": [
            [
             0,
             "#0d0887"
            ],
            [
             0.1111111111111111,
             "#46039f"
            ],
            [
             0.2222222222222222,
             "#7201a8"
            ],
            [
             0.3333333333333333,
             "#9c179e"
            ],
            [
             0.4444444444444444,
             "#bd3786"
            ],
            [
             0.5555555555555556,
             "#d8576b"
            ],
            [
             0.6666666666666666,
             "#ed7953"
            ],
            [
             0.7777777777777778,
             "#fb9f3a"
            ],
            [
             0.8888888888888888,
             "#fdca26"
            ],
            [
             1,
             "#f0f921"
            ]
           ]
          },
          "colorway": [
           "#636efa",
           "#EF553B",
           "#00cc96",
           "#ab63fa",
           "#FFA15A",
           "#19d3f3",
           "#FF6692",
           "#B6E880",
           "#FF97FF",
           "#FECB52"
          ],
          "font": {
           "color": "#2a3f5f"
          },
          "geo": {
           "bgcolor": "white",
           "lakecolor": "white",
           "landcolor": "white",
           "showlakes": true,
           "showland": true,
           "subunitcolor": "#C8D4E3"
          },
          "hoverlabel": {
           "align": "left"
          },
          "hovermode": "closest",
          "mapbox": {
           "style": "light"
          },
          "paper_bgcolor": "white",
          "plot_bgcolor": "white",
          "polar": {
           "angularaxis": {
            "gridcolor": "#EBF0F8",
            "linecolor": "#EBF0F8",
            "ticks": ""
           },
           "bgcolor": "white",
           "radialaxis": {
            "gridcolor": "#EBF0F8",
            "linecolor": "#EBF0F8",
            "ticks": ""
           }
          },
          "scene": {
           "xaxis": {
            "backgroundcolor": "white",
            "gridcolor": "#DFE8F3",
            "gridwidth": 2,
            "linecolor": "#EBF0F8",
            "showbackground": true,
            "ticks": "",
            "zerolinecolor": "#EBF0F8"
           },
           "yaxis": {
            "backgroundcolor": "white",
            "gridcolor": "#DFE8F3",
            "gridwidth": 2,
            "linecolor": "#EBF0F8",
            "showbackground": true,
            "ticks": "",
            "zerolinecolor": "#EBF0F8"
           },
           "zaxis": {
            "backgroundcolor": "white",
            "gridcolor": "#DFE8F3",
            "gridwidth": 2,
            "linecolor": "#EBF0F8",
            "showbackground": true,
            "ticks": "",
            "zerolinecolor": "#EBF0F8"
           }
          },
          "shapedefaults": {
           "line": {
            "color": "#2a3f5f"
           }
          },
          "ternary": {
           "aaxis": {
            "gridcolor": "#DFE8F3",
            "linecolor": "#A2B1C6",
            "ticks": ""
           },
           "baxis": {
            "gridcolor": "#DFE8F3",
            "linecolor": "#A2B1C6",
            "ticks": ""
           },
           "bgcolor": "white",
           "caxis": {
            "gridcolor": "#DFE8F3",
            "linecolor": "#A2B1C6",
            "ticks": ""
           }
          },
          "title": {
           "x": 0.05
          },
          "xaxis": {
           "automargin": true,
           "gridcolor": "#EBF0F8",
           "linecolor": "#EBF0F8",
           "ticks": "",
           "title": {
            "standoff": 15
           },
           "zerolinecolor": "#EBF0F8",
           "zerolinewidth": 2
          },
          "yaxis": {
           "automargin": true,
           "gridcolor": "#EBF0F8",
           "linecolor": "#EBF0F8",
           "ticks": "",
           "title": {
            "standoff": 15
           },
           "zerolinecolor": "#EBF0F8",
           "zerolinewidth": 2
          }
         }
        },
        "title": {
         "text": "Quantidade de Indicadores de Produção Industrial por Estado"
        },
        "xaxis": {
         "anchor": "y",
         "domain": [
          0,
          1
         ],
         "tickangle": -45,
         "title": {
          "text": "Estado"
         }
        },
        "yaxis": {
         "anchor": "x",
         "domain": [
          0,
          1
         ],
         "title": {
          "text": "Quantidade de Indicadores"
         }
        }
       }
      }
     },
     "metadata": {},
     "output_type": "display_data"
    }
   ],
   "source": [
    "import plotly.express as px\n",
    "\n",
    "fig = px.bar(\n",
    "    dados_por_uf.sort_values(by='NAME'),\n",
    "    x='NOME_ESTADO',\n",
    "    y='NAME',\n",
    "    title='Quantidade de Indicadores de Produção Industrial por Estado',\n",
    "    labels={'NAME': 'Quantidade de Indicadores', 'NOME_ESTADO': 'Estado'},\n",
    ")\n",
    "\n",
    "fig.update_layout(\n",
    "    xaxis_tickangle=-45,\n",
    "    template='plotly_white',\n",
    "    height=500\n",
    ")\n",
    "\n",
    "fig.show()"
   ]
  },
  {
   "cell_type": "markdown",
   "metadata": {},
   "source": [
    "Acima, percebe-se que muitas UF não foram representadas, como Roraima, por exemplo (que também possui indústrias, ainda que poucas), comprovando a segunda hipótese.\n",
    "\n",
    "Eis a primeira falha dos dados, cuja solução depende da unificação dos dados no país inteiro (para que os indicadores possam fazer sentido)."
   ]
  },
  {
   "cell_type": "code",
   "execution_count": 115,
   "metadata": {},
   "outputs": [
    {
     "data": {
      "text/html": [
       "<div>\n",
       "<style scoped>\n",
       "    .dataframe tbody tr th:only-of-type {\n",
       "        vertical-align: middle;\n",
       "    }\n",
       "\n",
       "    .dataframe tbody tr th {\n",
       "        vertical-align: top;\n",
       "    }\n",
       "\n",
       "    .dataframe thead th {\n",
       "        text-align: right;\n",
       "    }\n",
       "</style>\n",
       "<table border=\"1\" class=\"dataframe\">\n",
       "  <thead>\n",
       "    <tr style=\"text-align: right;\">\n",
       "      <th>NAME</th>\n",
       "      <th>artigos do vestuário e acessórios</th>\n",
       "      <th>bebidas</th>\n",
       "      <th>celulose, papel e produtos de papel</th>\n",
       "      <th>coque, derivados de petróleo e biocombustíveis</th>\n",
       "      <th>couros, artigos para viagem e calçados</th>\n",
       "      <th>equipamentos de informática, produtos eletrônicos e ópticos</th>\n",
       "      <th>indústria de transformação</th>\n",
       "      <th>indústrias extrativas</th>\n",
       "      <th>metalurgia</th>\n",
       "      <th>máquinas e equipamentos</th>\n",
       "      <th>...</th>\n",
       "      <th>produtos alimentícios</th>\n",
       "      <th>produtos de borracha e material plástico</th>\n",
       "      <th>produtos de madeira</th>\n",
       "      <th>produtos de metal, exceto máquinas e equipamentos</th>\n",
       "      <th>produtos de minerais e não metálicos</th>\n",
       "      <th>produtos do fumo</th>\n",
       "      <th>produtos farmoquímicos e farmacêuticos</th>\n",
       "      <th>produtos químicos</th>\n",
       "      <th>produtos têxteis</th>\n",
       "      <th>veículos automotores, reboques e carrocerias</th>\n",
       "    </tr>\n",
       "    <tr>\n",
       "      <th>DATE</th>\n",
       "      <th></th>\n",
       "      <th></th>\n",
       "      <th></th>\n",
       "      <th></th>\n",
       "      <th></th>\n",
       "      <th></th>\n",
       "      <th></th>\n",
       "      <th></th>\n",
       "      <th></th>\n",
       "      <th></th>\n",
       "      <th></th>\n",
       "      <th></th>\n",
       "      <th></th>\n",
       "      <th></th>\n",
       "      <th></th>\n",
       "      <th></th>\n",
       "      <th></th>\n",
       "      <th></th>\n",
       "      <th></th>\n",
       "      <th></th>\n",
       "      <th></th>\n",
       "    </tr>\n",
       "  </thead>\n",
       "  <tbody>\n",
       "    <tr>\n",
       "      <th>2022-01-01</th>\n",
       "      <td>601.11658</td>\n",
       "      <td>1231.95732</td>\n",
       "      <td>1288.46364</td>\n",
       "      <td>1035.90739</td>\n",
       "      <td>239.26613</td>\n",
       "      <td>181.91110</td>\n",
       "      <td>1595.85057</td>\n",
       "      <td>1099.36850</td>\n",
       "      <td>1225.20449</td>\n",
       "      <td>739.25915</td>\n",
       "      <td>...</td>\n",
       "      <td>1494.56677</td>\n",
       "      <td>832.67693</td>\n",
       "      <td>409.46616</td>\n",
       "      <td>1011.04519</td>\n",
       "      <td>1347.21149</td>\n",
       "      <td>115.51799</td>\n",
       "      <td>174.63730</td>\n",
       "      <td>1294.52100</td>\n",
       "      <td>257.99774</td>\n",
       "      <td>654.67215</td>\n",
       "    </tr>\n",
       "    <tr>\n",
       "      <th>2022-02-01</th>\n",
       "      <td>602.10475</td>\n",
       "      <td>1149.86810</td>\n",
       "      <td>1109.89841</td>\n",
       "      <td>884.83938</td>\n",
       "      <td>264.01113</td>\n",
       "      <td>189.88351</td>\n",
       "      <td>1550.83971</td>\n",
       "      <td>1023.90714</td>\n",
       "      <td>1182.29774</td>\n",
       "      <td>723.21796</td>\n",
       "      <td>...</td>\n",
       "      <td>1459.72927</td>\n",
       "      <td>866.09486</td>\n",
       "      <td>394.87933</td>\n",
       "      <td>1013.43611</td>\n",
       "      <td>1333.86163</td>\n",
       "      <td>141.32925</td>\n",
       "      <td>260.69000</td>\n",
       "      <td>1216.15391</td>\n",
       "      <td>294.96022</td>\n",
       "      <td>750.26390</td>\n",
       "    </tr>\n",
       "    <tr>\n",
       "      <th>2022-03-01</th>\n",
       "      <td>530.79044</td>\n",
       "      <td>1325.18016</td>\n",
       "      <td>1323.01907</td>\n",
       "      <td>997.54862</td>\n",
       "      <td>307.11370</td>\n",
       "      <td>230.82865</td>\n",
       "      <td>1676.72343</td>\n",
       "      <td>1082.26124</td>\n",
       "      <td>1282.26482</td>\n",
       "      <td>823.68768</td>\n",
       "      <td>...</td>\n",
       "      <td>1590.09474</td>\n",
       "      <td>927.13454</td>\n",
       "      <td>461.50783</td>\n",
       "      <td>1033.49068</td>\n",
       "      <td>1451.54740</td>\n",
       "      <td>268.84769</td>\n",
       "      <td>252.76411</td>\n",
       "      <td>1187.87630</td>\n",
       "      <td>310.68919</td>\n",
       "      <td>841.73841</td>\n",
       "    </tr>\n",
       "    <tr>\n",
       "      <th>2022-04-01</th>\n",
       "      <td>555.62905</td>\n",
       "      <td>1241.07783</td>\n",
       "      <td>1252.66457</td>\n",
       "      <td>1162.79518</td>\n",
       "      <td>257.47500</td>\n",
       "      <td>199.28156</td>\n",
       "      <td>1604.69451</td>\n",
       "      <td>1103.42822</td>\n",
       "      <td>1231.25224</td>\n",
       "      <td>782.59431</td>\n",
       "      <td>...</td>\n",
       "      <td>1459.94695</td>\n",
       "      <td>875.65509</td>\n",
       "      <td>434.81341</td>\n",
       "      <td>980.76219</td>\n",
       "      <td>1411.94623</td>\n",
       "      <td>266.84446</td>\n",
       "      <td>367.60948</td>\n",
       "      <td>1085.42201</td>\n",
       "      <td>296.63633</td>\n",
       "      <td>757.54489</td>\n",
       "    </tr>\n",
       "    <tr>\n",
       "      <th>2022-05-01</th>\n",
       "      <td>577.63634</td>\n",
       "      <td>1339.10931</td>\n",
       "      <td>1203.55178</td>\n",
       "      <td>1532.55214</td>\n",
       "      <td>276.73589</td>\n",
       "      <td>229.31405</td>\n",
       "      <td>1767.19470</td>\n",
       "      <td>1120.48837</td>\n",
       "      <td>1247.74098</td>\n",
       "      <td>766.02037</td>\n",
       "      <td>...</td>\n",
       "      <td>1612.70053</td>\n",
       "      <td>930.26312</td>\n",
       "      <td>454.54261</td>\n",
       "      <td>1021.69408</td>\n",
       "      <td>1446.55174</td>\n",
       "      <td>291.70104</td>\n",
       "      <td>278.70205</td>\n",
       "      <td>1176.59866</td>\n",
       "      <td>318.98029</td>\n",
       "      <td>827.32712</td>\n",
       "    </tr>\n",
       "  </tbody>\n",
       "</table>\n",
       "<p>5 rows × 23 columns</p>\n",
       "</div>"
      ],
      "text/plain": [
       "NAME        artigos do vestuário e acessórios     bebidas   \\\n",
       "DATE                                                         \n",
       "2022-01-01                           601.11658  1231.95732   \n",
       "2022-02-01                           602.10475  1149.86810   \n",
       "2022-03-01                           530.79044  1325.18016   \n",
       "2022-04-01                           555.62905  1241.07783   \n",
       "2022-05-01                           577.63634  1339.10931   \n",
       "\n",
       "NAME        celulose, papel e produtos de papel   \\\n",
       "DATE                                               \n",
       "2022-01-01                            1288.46364   \n",
       "2022-02-01                            1109.89841   \n",
       "2022-03-01                            1323.01907   \n",
       "2022-04-01                            1252.66457   \n",
       "2022-05-01                            1203.55178   \n",
       "\n",
       "NAME        coque, derivados de petróleo e biocombustíveis   \\\n",
       "DATE                                                          \n",
       "2022-01-01                                       1035.90739   \n",
       "2022-02-01                                        884.83938   \n",
       "2022-03-01                                        997.54862   \n",
       "2022-04-01                                       1162.79518   \n",
       "2022-05-01                                       1532.55214   \n",
       "\n",
       "NAME        couros, artigos para viagem e calçados   \\\n",
       "DATE                                                  \n",
       "2022-01-01                                239.26613   \n",
       "2022-02-01                                264.01113   \n",
       "2022-03-01                                307.11370   \n",
       "2022-04-01                                257.47500   \n",
       "2022-05-01                                276.73589   \n",
       "\n",
       "NAME        equipamentos de informática, produtos eletrônicos e ópticos   \\\n",
       "DATE                                                                       \n",
       "2022-01-01                                          181.91110              \n",
       "2022-02-01                                          189.88351              \n",
       "2022-03-01                                          230.82865              \n",
       "2022-04-01                                          199.28156              \n",
       "2022-05-01                                          229.31405              \n",
       "\n",
       "NAME        indústria de transformação   indústrias extrativas   metalurgia   \\\n",
       "DATE                                                                           \n",
       "2022-01-01                   1595.85057              1099.36850   1225.20449   \n",
       "2022-02-01                   1550.83971              1023.90714   1182.29774   \n",
       "2022-03-01                   1676.72343              1082.26124   1282.26482   \n",
       "2022-04-01                   1604.69451              1103.42822   1231.25224   \n",
       "2022-05-01                   1767.19470              1120.48837   1247.74098   \n",
       "\n",
       "NAME        máquinas e equipamentos   ...  produtos alimentícios   \\\n",
       "DATE                                  ...                           \n",
       "2022-01-01                 739.25915  ...              1494.56677   \n",
       "2022-02-01                 723.21796  ...              1459.72927   \n",
       "2022-03-01                 823.68768  ...              1590.09474   \n",
       "2022-04-01                 782.59431  ...              1459.94695   \n",
       "2022-05-01                 766.02037  ...              1612.70053   \n",
       "\n",
       "NAME        produtos de borracha e material plástico   produtos de madeira   \\\n",
       "DATE                                                                          \n",
       "2022-01-01                                  832.67693             409.46616   \n",
       "2022-02-01                                  866.09486             394.87933   \n",
       "2022-03-01                                  927.13454             461.50783   \n",
       "2022-04-01                                  875.65509             434.81341   \n",
       "2022-05-01                                  930.26312             454.54261   \n",
       "\n",
       "NAME        produtos de metal, exceto máquinas e equipamentos   \\\n",
       "DATE                                                             \n",
       "2022-01-01                                         1011.04519    \n",
       "2022-02-01                                         1013.43611    \n",
       "2022-03-01                                         1033.49068    \n",
       "2022-04-01                                          980.76219    \n",
       "2022-05-01                                         1021.69408    \n",
       "\n",
       "NAME        produtos de minerais e não metálicos   produtos do fumo   \\\n",
       "DATE                                                                   \n",
       "2022-01-01                             1347.21149          115.51799   \n",
       "2022-02-01                             1333.86163          141.32925   \n",
       "2022-03-01                             1451.54740          268.84769   \n",
       "2022-04-01                             1411.94623          266.84446   \n",
       "2022-05-01                             1446.55174          291.70104   \n",
       "\n",
       "NAME        produtos farmoquímicos e farmacêuticos   produtos químicos   \\\n",
       "DATE                                                                      \n",
       "2022-01-01                                174.63730          1294.52100   \n",
       "2022-02-01                                260.69000          1216.15391   \n",
       "2022-03-01                                252.76411          1187.87630   \n",
       "2022-04-01                                367.60948          1085.42201   \n",
       "2022-05-01                                278.70205          1176.59866   \n",
       "\n",
       "NAME        produtos têxteis   veículos automotores, reboques e carrocerias   \n",
       "DATE                                                                          \n",
       "2022-01-01          257.99774                                      654.67215  \n",
       "2022-02-01          294.96022                                      750.26390  \n",
       "2022-03-01          310.68919                                      841.73841  \n",
       "2022-04-01          296.63633                                      757.54489  \n",
       "2022-05-01          318.98029                                      827.32712  \n",
       "\n",
       "[5 rows x 23 columns]"
      ]
     },
     "execution_count": 115,
     "metadata": {},
     "output_type": "execute_result"
    }
   ],
   "source": [
    "dados_producao_modificado = dados_producao_corrigido.groupby(by=['DATE', 'NAME'], as_index=False)[['VALOR']].sum()\n",
    "dados_producao_modificado = dados_producao_modificado.pivot_table(values='VALOR', columns='NAME', index='DATE')\n",
    "dados_producao_modificado.head()"
   ]
  },
  {
   "cell_type": "markdown",
   "metadata": {},
   "source": [
    "Verificando os dados de produção nacional industrial:"
   ]
  },
  {
   "cell_type": "code",
   "execution_count": 116,
   "metadata": {},
   "outputs": [
    {
     "data": {
      "text/html": [
       "<div>\n",
       "<style scoped>\n",
       "    .dataframe tbody tr th:only-of-type {\n",
       "        vertical-align: middle;\n",
       "    }\n",
       "\n",
       "    .dataframe tbody tr th {\n",
       "        vertical-align: top;\n",
       "    }\n",
       "\n",
       "    .dataframe thead th {\n",
       "        text-align: right;\n",
       "    }\n",
       "</style>\n",
       "<table border=\"1\" class=\"dataframe\">\n",
       "  <thead>\n",
       "    <tr style=\"text-align: right;\">\n",
       "      <th>NAME</th>\n",
       "      <th>artigos do vestuário e acessórios</th>\n",
       "      <th>bebidas</th>\n",
       "      <th>celulose, papel e produtos de papel</th>\n",
       "      <th>coque, derivados de petróleo e biocombustíveis</th>\n",
       "      <th>couros, artigos para viagem e calçados</th>\n",
       "      <th>equipamentos de informática, produtos eletrônicos e ópticos</th>\n",
       "      <th>indústria de transformação</th>\n",
       "      <th>indústrias extrativas</th>\n",
       "      <th>metalurgia</th>\n",
       "      <th>máquinas e equipamentos</th>\n",
       "      <th>...</th>\n",
       "      <th>produtos alimentícios</th>\n",
       "      <th>produtos de borracha e material plástico</th>\n",
       "      <th>produtos de madeira</th>\n",
       "      <th>produtos de metal, exceto máquinas e equipamentos</th>\n",
       "      <th>produtos de minerais e não metálicos</th>\n",
       "      <th>produtos do fumo</th>\n",
       "      <th>produtos farmoquímicos e farmacêuticos</th>\n",
       "      <th>produtos químicos</th>\n",
       "      <th>produtos têxteis</th>\n",
       "      <th>veículos automotores, reboques e carrocerias</th>\n",
       "    </tr>\n",
       "  </thead>\n",
       "  <tbody>\n",
       "    <tr>\n",
       "      <th>count</th>\n",
       "      <td>37.000000</td>\n",
       "      <td>37.000000</td>\n",
       "      <td>37.000000</td>\n",
       "      <td>37.000000</td>\n",
       "      <td>37.000000</td>\n",
       "      <td>37.00000</td>\n",
       "      <td>37.000000</td>\n",
       "      <td>37.000000</td>\n",
       "      <td>37.000000</td>\n",
       "      <td>37.000000</td>\n",
       "      <td>...</td>\n",
       "      <td>37.000000</td>\n",
       "      <td>37.000000</td>\n",
       "      <td>37.000000</td>\n",
       "      <td>37.000000</td>\n",
       "      <td>37.000000</td>\n",
       "      <td>37.000000</td>\n",
       "      <td>37.000000</td>\n",
       "      <td>37.000000</td>\n",
       "      <td>37.000000</td>\n",
       "      <td>37.000000</td>\n",
       "    </tr>\n",
       "    <tr>\n",
       "      <th>mean</th>\n",
       "      <td>592.058451</td>\n",
       "      <td>1316.446978</td>\n",
       "      <td>1141.308874</td>\n",
       "      <td>1378.460124</td>\n",
       "      <td>304.776026</td>\n",
       "      <td>183.91228</td>\n",
       "      <td>1751.660971</td>\n",
       "      <td>1040.197188</td>\n",
       "      <td>1193.759905</td>\n",
       "      <td>794.123418</td>\n",
       "      <td>...</td>\n",
       "      <td>1651.129995</td>\n",
       "      <td>917.510514</td>\n",
       "      <td>393.314560</td>\n",
       "      <td>999.029182</td>\n",
       "      <td>1354.755594</td>\n",
       "      <td>205.530134</td>\n",
       "      <td>298.919374</td>\n",
       "      <td>1170.199869</td>\n",
       "      <td>340.164994</td>\n",
       "      <td>812.156566</td>\n",
       "    </tr>\n",
       "    <tr>\n",
       "      <th>std</th>\n",
       "      <td>76.015724</td>\n",
       "      <td>87.664537</td>\n",
       "      <td>63.985410</td>\n",
       "      <td>276.946545</td>\n",
       "      <td>52.003854</td>\n",
       "      <td>26.78830</td>\n",
       "      <td>126.390010</td>\n",
       "      <td>82.586369</td>\n",
       "      <td>74.075610</td>\n",
       "      <td>78.252081</td>\n",
       "      <td>...</td>\n",
       "      <td>107.259366</td>\n",
       "      <td>54.239369</td>\n",
       "      <td>35.620657</td>\n",
       "      <td>60.265918</td>\n",
       "      <td>101.163097</td>\n",
       "      <td>65.946266</td>\n",
       "      <td>58.710737</td>\n",
       "      <td>124.986590</td>\n",
       "      <td>56.569605</td>\n",
       "      <td>92.130506</td>\n",
       "    </tr>\n",
       "    <tr>\n",
       "      <th>min</th>\n",
       "      <td>407.676690</td>\n",
       "      <td>1149.868100</td>\n",
       "      <td>1022.871200</td>\n",
       "      <td>884.839380</td>\n",
       "      <td>205.569490</td>\n",
       "      <td>116.49520</td>\n",
       "      <td>1509.295560</td>\n",
       "      <td>830.419890</td>\n",
       "      <td>975.941310</td>\n",
       "      <td>648.128730</td>\n",
       "      <td>...</td>\n",
       "      <td>1459.729270</td>\n",
       "      <td>788.670270</td>\n",
       "      <td>310.170360</td>\n",
       "      <td>854.058170</td>\n",
       "      <td>1160.616510</td>\n",
       "      <td>110.327400</td>\n",
       "      <td>174.637300</td>\n",
       "      <td>935.242220</td>\n",
       "      <td>196.889570</td>\n",
       "      <td>654.672150</td>\n",
       "    </tr>\n",
       "    <tr>\n",
       "      <th>25%</th>\n",
       "      <td>541.413990</td>\n",
       "      <td>1253.381210</td>\n",
       "      <td>1099.814790</td>\n",
       "      <td>1157.382270</td>\n",
       "      <td>257.475000</td>\n",
       "      <td>168.92838</td>\n",
       "      <td>1672.964060</td>\n",
       "      <td>986.190370</td>\n",
       "      <td>1156.199380</td>\n",
       "      <td>746.643440</td>\n",
       "      <td>...</td>\n",
       "      <td>1590.094740</td>\n",
       "      <td>885.782770</td>\n",
       "      <td>365.358060</td>\n",
       "      <td>975.048570</td>\n",
       "      <td>1291.394190</td>\n",
       "      <td>141.687130</td>\n",
       "      <td>254.098130</td>\n",
       "      <td>1085.422010</td>\n",
       "      <td>310.689190</td>\n",
       "      <td>750.263900</td>\n",
       "    </tr>\n",
       "    <tr>\n",
       "      <th>50%</th>\n",
       "      <td>600.856120</td>\n",
       "      <td>1314.268780</td>\n",
       "      <td>1119.486610</td>\n",
       "      <td>1348.391020</td>\n",
       "      <td>307.113700</td>\n",
       "      <td>186.15012</td>\n",
       "      <td>1755.568010</td>\n",
       "      <td>1049.652820</td>\n",
       "      <td>1198.028190</td>\n",
       "      <td>802.761610</td>\n",
       "      <td>...</td>\n",
       "      <td>1649.247090</td>\n",
       "      <td>927.134540</td>\n",
       "      <td>394.879330</td>\n",
       "      <td>1007.207110</td>\n",
       "      <td>1360.609580</td>\n",
       "      <td>193.596880</td>\n",
       "      <td>302.704370</td>\n",
       "      <td>1187.876300</td>\n",
       "      <td>336.830190</td>\n",
       "      <td>819.725880</td>\n",
       "    </tr>\n",
       "    <tr>\n",
       "      <th>75%</th>\n",
       "      <td>663.036850</td>\n",
       "      <td>1361.869410</td>\n",
       "      <td>1161.823130</td>\n",
       "      <td>1619.818410</td>\n",
       "      <td>352.187140</td>\n",
       "      <td>199.28156</td>\n",
       "      <td>1840.086130</td>\n",
       "      <td>1099.360800</td>\n",
       "      <td>1243.567890</td>\n",
       "      <td>839.610350</td>\n",
       "      <td>...</td>\n",
       "      <td>1727.548790</td>\n",
       "      <td>952.695850</td>\n",
       "      <td>414.201240</td>\n",
       "      <td>1027.358740</td>\n",
       "      <td>1435.086330</td>\n",
       "      <td>263.640260</td>\n",
       "      <td>327.928070</td>\n",
       "      <td>1271.780750</td>\n",
       "      <td>362.265940</td>\n",
       "      <td>841.738410</td>\n",
       "    </tr>\n",
       "    <tr>\n",
       "      <th>max</th>\n",
       "      <td>728.370500</td>\n",
       "      <td>1487.186900</td>\n",
       "      <td>1323.019070</td>\n",
       "      <td>1839.124700</td>\n",
       "      <td>394.367910</td>\n",
       "      <td>237.66522</td>\n",
       "      <td>1987.275470</td>\n",
       "      <td>1179.681160</td>\n",
       "      <td>1330.489240</td>\n",
       "      <td>969.960950</td>\n",
       "      <td>...</td>\n",
       "      <td>1871.859400</td>\n",
       "      <td>1015.361470</td>\n",
       "      <td>461.507830</td>\n",
       "      <td>1144.975080</td>\n",
       "      <td>1561.445130</td>\n",
       "      <td>305.210940</td>\n",
       "      <td>484.927870</td>\n",
       "      <td>1439.372900</td>\n",
       "      <td>439.077410</td>\n",
       "      <td>1031.369300</td>\n",
       "    </tr>\n",
       "  </tbody>\n",
       "</table>\n",
       "<p>8 rows × 23 columns</p>\n",
       "</div>"
      ],
      "text/plain": [
       "NAME   artigos do vestuário e acessórios      bebidas   \\\n",
       "count                           37.000000    37.000000   \n",
       "mean                           592.058451  1316.446978   \n",
       "std                             76.015724    87.664537   \n",
       "min                            407.676690  1149.868100   \n",
       "25%                            541.413990  1253.381210   \n",
       "50%                            600.856120  1314.268780   \n",
       "75%                            663.036850  1361.869410   \n",
       "max                            728.370500  1487.186900   \n",
       "\n",
       "NAME   celulose, papel e produtos de papel   \\\n",
       "count                             37.000000   \n",
       "mean                            1141.308874   \n",
       "std                               63.985410   \n",
       "min                             1022.871200   \n",
       "25%                             1099.814790   \n",
       "50%                             1119.486610   \n",
       "75%                             1161.823130   \n",
       "max                             1323.019070   \n",
       "\n",
       "NAME   coque, derivados de petróleo e biocombustíveis   \\\n",
       "count                                        37.000000   \n",
       "mean                                       1378.460124   \n",
       "std                                         276.946545   \n",
       "min                                         884.839380   \n",
       "25%                                        1157.382270   \n",
       "50%                                        1348.391020   \n",
       "75%                                        1619.818410   \n",
       "max                                        1839.124700   \n",
       "\n",
       "NAME   couros, artigos para viagem e calçados   \\\n",
       "count                                37.000000   \n",
       "mean                                304.776026   \n",
       "std                                  52.003854   \n",
       "min                                 205.569490   \n",
       "25%                                 257.475000   \n",
       "50%                                 307.113700   \n",
       "75%                                 352.187140   \n",
       "max                                 394.367910   \n",
       "\n",
       "NAME   equipamentos de informática, produtos eletrônicos e ópticos   \\\n",
       "count                                           37.00000              \n",
       "mean                                           183.91228              \n",
       "std                                             26.78830              \n",
       "min                                            116.49520              \n",
       "25%                                            168.92838              \n",
       "50%                                            186.15012              \n",
       "75%                                            199.28156              \n",
       "max                                            237.66522              \n",
       "\n",
       "NAME   indústria de transformação   indústrias extrativas   metalurgia   \\\n",
       "count                    37.000000               37.000000    37.000000   \n",
       "mean                   1751.660971             1040.197188  1193.759905   \n",
       "std                     126.390010               82.586369    74.075610   \n",
       "min                    1509.295560              830.419890   975.941310   \n",
       "25%                    1672.964060              986.190370  1156.199380   \n",
       "50%                    1755.568010             1049.652820  1198.028190   \n",
       "75%                    1840.086130             1099.360800  1243.567890   \n",
       "max                    1987.275470             1179.681160  1330.489240   \n",
       "\n",
       "NAME   máquinas e equipamentos   ...  produtos alimentícios   \\\n",
       "count                 37.000000  ...               37.000000   \n",
       "mean                 794.123418  ...             1651.129995   \n",
       "std                   78.252081  ...              107.259366   \n",
       "min                  648.128730  ...             1459.729270   \n",
       "25%                  746.643440  ...             1590.094740   \n",
       "50%                  802.761610  ...             1649.247090   \n",
       "75%                  839.610350  ...             1727.548790   \n",
       "max                  969.960950  ...             1871.859400   \n",
       "\n",
       "NAME   produtos de borracha e material plástico   produtos de madeira   \\\n",
       "count                                  37.000000             37.000000   \n",
       "mean                                  917.510514            393.314560   \n",
       "std                                    54.239369             35.620657   \n",
       "min                                   788.670270            310.170360   \n",
       "25%                                   885.782770            365.358060   \n",
       "50%                                   927.134540            394.879330   \n",
       "75%                                   952.695850            414.201240   \n",
       "max                                  1015.361470            461.507830   \n",
       "\n",
       "NAME   produtos de metal, exceto máquinas e equipamentos   \\\n",
       "count                                          37.000000    \n",
       "mean                                          999.029182    \n",
       "std                                            60.265918    \n",
       "min                                           854.058170    \n",
       "25%                                           975.048570    \n",
       "50%                                          1007.207110    \n",
       "75%                                          1027.358740    \n",
       "max                                          1144.975080    \n",
       "\n",
       "NAME   produtos de minerais e não metálicos   produtos do fumo   \\\n",
       "count                              37.000000          37.000000   \n",
       "mean                             1354.755594         205.530134   \n",
       "std                               101.163097          65.946266   \n",
       "min                              1160.616510         110.327400   \n",
       "25%                              1291.394190         141.687130   \n",
       "50%                              1360.609580         193.596880   \n",
       "75%                              1435.086330         263.640260   \n",
       "max                              1561.445130         305.210940   \n",
       "\n",
       "NAME   produtos farmoquímicos e farmacêuticos   produtos químicos   \\\n",
       "count                                37.000000           37.000000   \n",
       "mean                                298.919374         1170.199869   \n",
       "std                                  58.710737          124.986590   \n",
       "min                                 174.637300          935.242220   \n",
       "25%                                 254.098130         1085.422010   \n",
       "50%                                 302.704370         1187.876300   \n",
       "75%                                 327.928070         1271.780750   \n",
       "max                                 484.927870         1439.372900   \n",
       "\n",
       "NAME   produtos têxteis   veículos automotores, reboques e carrocerias   \n",
       "count          37.000000                                      37.000000  \n",
       "mean          340.164994                                     812.156566  \n",
       "std            56.569605                                      92.130506  \n",
       "min           196.889570                                     654.672150  \n",
       "25%           310.689190                                     750.263900  \n",
       "50%           336.830190                                     819.725880  \n",
       "75%           362.265940                                     841.738410  \n",
       "max           439.077410                                    1031.369300  \n",
       "\n",
       "[8 rows x 23 columns]"
      ]
     },
     "execution_count": 116,
     "metadata": {},
     "output_type": "execute_result"
    }
   ],
   "source": [
    "dados_producao_modificado.describe()"
   ]
  },
  {
   "cell_type": "code",
   "execution_count": 117,
   "metadata": {},
   "outputs": [
    {
     "data": {
      "image/png": "[encoded data removed]",
      "text/plain": [
       "<Figure size 1400x800 with 1 Axes>"
      ]
     },
     "metadata": {},
     "output_type": "display_data"
    }
   ],
   "source": [
    "import pandas as pd\n",
    "import seaborn as sns\n",
    "import matplotlib.pyplot as plt\n",
    "\n",
    "# Derrete o DataFrame para o formato long\n",
    "dados_long = dados_producao_modificado.reset_index().melt(id_vars='DATE', var_name='Setor', value_name='VALOR')\n",
    "\n",
    "# Cria o boxplot\n",
    "plt.figure(figsize=(14, 8))\n",
    "sns.boxplot(data=dados_long, x='VALOR', y='Setor', orient='h')\n",
    "\n",
    "plt.title('Distribuição da Produção por Setor Industrial (Boxplot)')\n",
    "plt.xlabel('Valor da Produção')\n",
    "plt.ylabel('Setor Industrial')\n",
    "plt.tight_layout()\n",
    "plt.show()"
   ]
  },
  {
   "cell_type": "markdown",
   "metadata": {},
   "source": [
    "Apesar de serem dados que progridem no tempo (afetando o uso do boxplot), percebe-se que itens com maior intervalo interquartil podem mostrar eventual evolução rápida. \n",
    "\n",
    "Além disso, alguns casos de outliers são detectados, mas optou-se por não excluir. O motivo é simples: pode haver algum sentido. "
   ]
  },
  {
   "cell_type": "code",
   "execution_count": 118,
   "metadata": {},
   "outputs": [
    {
     "data": {
      "application/vnd.plotly.v1+json": {
       "config": {
        "plotlyServerURL": "https://plot.ly"
       },
       "data": [
        {
         "mode": "lines",
         "name": " artigos do vestuário e acessórios ",
         "type": "scatter",
         "x": [
          "2022-01-01T00:00:00.000000000",
          "2022-02-01T00:00:00.000000000",
          "2022-03-01T00:00:00.000000000",
          "2022-04-01T00:00:00.000000000",
          "2022-05-01T00:00:00.000000000",
          "2022-06-01T00:00:00.000000000",
          "2022-07-01T00:00:00.000000000",
          "2022-08-01T00:00:00.000000000",
          "2022-09-01T00:00:00.000000000",
          "2022-10-01T00:00:00.000000000",
          "2022-11-01T00:00:00.000000000",
          "2022-12-01T00:00:00.000000000",
          "2023-01-01T00:00:00.000000000",
          "2023-02-01T00:00:00.000000000",
          "2023-03-01T00:00:00.000000000",
          "2023-04-01T00:00:00.000000000",
          "2023-05-01T00:00:00.000000000",
          "2023-06-01T00:00:00.000000000",
          "2023-07-01T00:00:00.000000000",
          "2023-08-01T00:00:00.000000000",
          "2023-09-01T00:00:00.000000000",
          "2023-10-01T00:00:00.000000000",
          "2023-11-01T00:00:00.000000000",
          "2023-12-01T00:00:00.000000000",
          "2024-01-01T00:00:00.000000000",
          "2024-02-01T00:00:00.000000000",
          "2024-03-01T00:00:00.000000000",
          "2024-04-01T00:00:00.000000000",
          "2024-05-01T00:00:00.000000000",
          "2024-06-01T00:00:00.000000000",
          "2024-07-01T00:00:00.000000000",
          "2024-08-01T00:00:00.000000000",
          "2024-09-01T00:00:00.000000000",
          "2024-10-01T00:00:00.000000000",
          "2024-11-01T00:00:00.000000000",
          "2024-12-01T00:00:00.000000000",
          "2025-01-01T00:00:00.000000000"
         ],
         "y": {
          "bdata": "IF9f+lhN4z9DjxIC+FnzP+8vV1xqfvk/CghN5A1wAEAfFfRWca0EQCgRp+PmIgpAFib86NVAEEC2Th8zKs0TQMpomwAwThdA1EdQs1e8GUDecmI5fSocQFT5iuY8yRxAILT+eEV0HkDeeSrBpAEgQOdm5FzU4CBA52bkXNTgIECPKo7gbDYhQOTnM3tlbyJAHKS6N09TI0BsjgtnLuEkQIEeLPJIhiZA/G2yDbS6J0BPtgKRG4cpQNhQ7NlOlipA+WUVlmxIK0DlkRCJWhUsQGNk7/n0EC1AL7qMtF1BLkDY+LZLWlYvQDzqobUyXTBA7FQtE5Q1MUDeezg93AoyQArbTlwz2DJACttOXDPYM0D5FG0stbY0QOnS++goAzVACV5AgORFNUA=",
          "dtype": "f8"
         }
        },
        {
         "mode": "lines",
         "name": " bebidas ",
         "type": "scatter",
         "x": [
          "2022-01-01T00:00:00.000000000",
          "2022-02-01T00:00:00.000000000",
          "2022-03-01T00:00:00.000000000",
          "2022-04-01T00:00:00.000000000",
          "2022-05-01T00:00:00.000000000",
          "2022-06-01T00:00:00.000000000",
          "2022-07-01T00:00:00.000000000",
          "2022-08-01T00:00:00.000000000",
          "2022-09-01T00:00:00.000000000",
          "2022-10-01T00:00:00.000000000",
          "2022-11-01T00:00:00.000000000",
          "2022-12-01T00:00:00.000000000",
          "2023-01-01T00:00:00.000000000",
          "2023-02-01T00:00:00.000000000",
          "2023-03-01T00:00:00.000000000",
          "2023-04-01T00:00:00.000000000",
          "2023-05-01T00:00:00.000000000",
          "2023-06-01T00:00:00.000000000",
          "2023-07-01T00:00:00.000000000",
          "2023-08-01T00:00:00.000000000",
          "2023-09-01T00:00:00.000000000",
          "2023-10-01T00:00:00.000000000",
          "2023-11-01T00:00:00.000000000",
          "2023-12-01T00:00:00.000000000",
          "2024-01-01T00:00:00.000000000",
          "2024-02-01T00:00:00.000000000",
          "2024-03-01T00:00:00.000000000",
          "2024-04-01T00:00:00.000000000",
          "2024-05-01T00:00:00.000000000",
          "2024-06-01T00:00:00.000000000",
          "2024-07-01T00:00:00.000000000",
          "2024-08-01T00:00:00.000000000",
          "2024-09-01T00:00:00.000000000",
          "2024-10-01T00:00:00.000000000",
          "2024-11-01T00:00:00.000000000",
          "2024-12-01T00:00:00.000000000",
          "2025-01-01T00:00:00.000000000"
         ],
         "y": {
          "bdata": "oHhNp1omzz+geE2nWibPP/DKQg8na+g/CPR5hR6J8D/WHUhUCoP5P5DQNYgKOv8/Yk6y0ILJAUB6vcx41n4FQDCBy54NHQpAnruhhgBiDkB4tSSrbhoSQFcGT2kSXRVAMDItYkXFFkAegSWVgf8XQM5B2vBP3xlAgU59xXHzGUDRYL6zqoIbQJAfBhxMDBxA+qVUBkrZHEBO8rPobaAeQG8Prdc5bSBAemydPxlJIkB6bJ0/GUkkQDwNcxrVRyZAtv/AGkrfJ0BmdfbmqwQpQORIuVd5ACpAVrLhlSVjKkAXlzVlpRgrQMeO8tgDfitA6OtZ5UFsLED6TasVy2UtQP8VFP5MfC5AZ2TmqW4KMEDOnJf587swQJYkv2KvpDFAWN4lEpRFMkA=",
          "dtype": "f8"
         }
        },
        {
         "mode": "lines",
         "name": " celulose, papel e produtos de papel ",
         "type": "scatter",
         "x": [
          "2022-01-01T00:00:00.000000000",
          "2022-02-01T00:00:00.000000000",
          "2022-03-01T00:00:00.000000000",
          "2022-04-01T00:00:00.000000000",
          "2022-05-01T00:00:00.000000000",
          "2022-06-01T00:00:00.000000000",
          "2022-07-01T00:00:00.000000000",
          "2022-08-01T00:00:00.000000000",
          "2022-09-01T00:00:00.000000000",
          "2022-10-01T00:00:00.000000000",
          "2022-11-01T00:00:00.000000000",
          "2022-12-01T00:00:00.000000000",
          "2023-01-01T00:00:00.000000000",
          "2023-02-01T00:00:00.000000000",
          "2023-03-01T00:00:00.000000000",
          "2023-04-01T00:00:00.000000000",
          "2023-05-01T00:00:00.000000000",
          "2023-06-01T00:00:00.000000000",
          "2023-07-01T00:00:00.000000000",
          "2023-08-01T00:00:00.000000000",
          "2023-09-01T00:00:00.000000000",
          "2023-10-01T00:00:00.000000000",
          "2023-11-01T00:00:00.000000000",
          "2023-12-01T00:00:00.000000000",
          "2024-01-01T00:00:00.000000000",
          "2024-02-01T00:00:00.000000000",
          "2024-03-01T00:00:00.000000000",
          "2024-04-01T00:00:00.000000000",
          "2024-05-01T00:00:00.000000000",
          "2024-06-01T00:00:00.000000000",
          "2024-07-01T00:00:00.000000000",
          "2024-08-01T00:00:00.000000000",
          "2024-09-01T00:00:00.000000000",
          "2024-10-01T00:00:00.000000000",
          "2024-11-01T00:00:00.000000000",
          "2024-12-01T00:00:00.000000000",
          "2025-01-01T00:00:00.000000000"
         ],
         "y": {
          "bdata": "POLeCt9Q7D8AUz/PD8zyP4Gpn+cHZgFADLUNFPuFB0AfNzC30VYMQL5zRrqRLxFAwssv0v/RE0Ae0MhuOU4WQOlnqiLrFRhAZxX4XfnvGUAFcpc0ChcbQBljMf2eUxxAOBCUhAJyHUA4EJSEAnIdQKiNT6Ljbx5AF1d6/rNiH0DAOCUeKVYgQIrYnCv0siBANi7rxiCTIUDEdZg5iY8iQNqqNeE3JSNA2P55M1n0I0CMIlxNKm8kQNjRPFFFDSVAJE1L7IWQJUDOO0F5HfYlQJi3QOa6sCZAAoYrumA9J0DHq3kmlEAoQNBIV0tiASlA4tGN6cLqKUAZhkCU4nsqQBwcaC0++ipAj57HuYneK0AYUe4kWDUsQItPSxER6ixAggk0gEIzLUA=",
          "dtype": "f8"
         }
        },
        {
         "mode": "lines",
         "name": " coque, derivados de petróleo e biocombustíveis ",
         "type": "scatter",
         "x": [
          "2022-01-01T00:00:00.000000000",
          "2022-02-01T00:00:00.000000000",
          "2022-03-01T00:00:00.000000000",
          "2022-04-01T00:00:00.000000000",
          "2022-05-01T00:00:00.000000000",
          "2022-06-01T00:00:00.000000000",
          "2022-07-01T00:00:00.000000000",
          "2022-08-01T00:00:00.000000000",
          "2022-09-01T00:00:00.000000000",
          "2022-10-01T00:00:00.000000000",
          "2022-11-01T00:00:00.000000000",
          "2022-12-01T00:00:00.000000000",
          "2023-01-01T00:00:00.000000000",
          "2023-02-01T00:00:00.000000000",
          "2023-03-01T00:00:00.000000000",
          "2023-04-01T00:00:00.000000000",
          "2023-05-01T00:00:00.000000000",
          "2023-06-01T00:00:00.000000000",
          "2023-07-01T00:00:00.000000000",
          "2023-08-01T00:00:00.000000000",
          "2023-09-01T00:00:00.000000000",
          "2023-10-01T00:00:00.000000000",
          "2023-11-01T00:00:00.000000000",
          "2023-12-01T00:00:00.000000000",
          "2024-01-01T00:00:00.000000000",
          "2024-02-01T00:00:00.000000000",
          "2024-03-01T00:00:00.000000000",
          "2024-04-01T00:00:00.000000000",
          "2024-05-01T00:00:00.000000000",
          "2024-06-01T00:00:00.000000000",
          "2024-07-01T00:00:00.000000000",
          "2024-08-01T00:00:00.000000000",
          "2024-09-01T00:00:00.000000000",
          "2024-10-01T00:00:00.000000000",
          "2024-11-01T00:00:00.000000000",
          "2024-12-01T00:00:00.000000000",
          "2025-01-01T00:00:00.000000000"
         ],
         "y": {
          "bdata": "oETKd1VDxD+gRMp3VUPEP4BZcNTBsNE/Pv3003gq4j+mZpgkXPHzP2VV9l8ecf8/shtDctexBkBEbJ+7L9sMQMOyKahl2xBAMAWALdDMEkBT9p9GFvQTQOBXkSHh4RRAgClDUimlFUDtxc5BKeMVQLItoBqcqxZAN6Eev6hDGEDikNMVZW4bQPI9pjlTxB5A+R7TnCliIUBjc5yTokkjQN8XcQYb5SRA1RFQkjtWJkCXIoU6D1onQMx7r1c5PChA3CyxR8wRKUDuRQ2tOcgpQLvKwrNzWipAC3aaxQofK0BNx57p5YQsQCn4WRaqRC5A8ZlrzZkIMEBPtIoJ7OAwQBc4JjWvpTFA+IpcV85ZMkCdE6hSqccyQA9JX0G2CDNA4HDUsI4jM0A=",
          "dtype": "f8"
         }
        },
        {
         "mode": "lines",
         "name": " couros, artigos para viagem e calçados ",
         "type": "scatter",
         "x": [
          "2022-01-01T00:00:00.000000000",
          "2022-02-01T00:00:00.000000000",
          "2022-03-01T00:00:00.000000000",
          "2022-04-01T00:00:00.000000000",
          "2022-05-01T00:00:00.000000000",
          "2022-06-01T00:00:00.000000000",
          "2022-07-01T00:00:00.000000000",
          "2022-08-01T00:00:00.000000000",
          "2022-09-01T00:00:00.000000000",
          "2022-10-01T00:00:00.000000000",
          "2022-11-01T00:00:00.000000000",
          "2022-12-01T00:00:00.000000000",
          "2023-01-01T00:00:00.000000000",
          "2023-02-01T00:00:00.000000000",
          "2023-03-01T00:00:00.000000000",
          "2023-04-01T00:00:00.000000000",
          "2023-05-01T00:00:00.000000000",
          "2023-06-01T00:00:00.000000000",
          "2023-07-01T00:00:00.000000000",
          "2023-08-01T00:00:00.000000000",
          "2023-09-01T00:00:00.000000000",
          "2023-10-01T00:00:00.000000000",
          "2023-11-01T00:00:00.000000000",
          "2023-12-01T00:00:00.000000000",
          "2024-01-01T00:00:00.000000000",
          "2024-02-01T00:00:00.000000000",
          "2024-03-01T00:00:00.000000000",
          "2024-04-01T00:00:00.000000000",
          "2024-05-01T00:00:00.000000000",
          "2024-06-01T00:00:00.000000000",
          "2024-07-01T00:00:00.000000000",
          "2024-08-01T00:00:00.000000000",
          "2024-09-01T00:00:00.000000000",
          "2024-10-01T00:00:00.000000000",
          "2024-11-01T00:00:00.000000000",
          "2024-12-01T00:00:00.000000000",
          "2025-01-01T00:00:00.000000000"
         ],
         "y": {
          "bdata": "gK1HOWrYxj/IsbCtyzvfP0Pv59r1afA/dLQOMQ7Q9D+HPZ1yBNj6P2Byqvut7ABAiS/OhqRdA0AUiJl7muYJQJEHj1XJpxBAjTTiXowEFEA55+PbTxoXQDhLZIAJAhhAiKkspvCaGEDGKN0U2qgZQHphiElnQxxAqmQei5hgHUAHg5G4wUcfQAbTVmyTFyBAwmv5eIY2IUAAVYjeleEiQLTFskOtXyRATBawOoBCJkDTP0CK9vAnQPJPJ1OKYyhA9ZpEeFPtKEBrTbJRuwkqQD6/p9v4HStA10C3j1s2LECeljuZpSQtQMcifyBxry1AXnvYkI4yL0CLiHUZw4gwQMDuIRntVjFAwO4hGe1WMkAzu3M+ux0zQDO7cz67HTNAJRu84C5xM0A=",
          "dtype": "f8"
         }
        },
        {
         "mode": "lines",
         "name": " equipamentos de informática, produtos eletrônicos e ópticos ",
         "type": "scatter",
         "x": [
          "2022-01-01T00:00:00.000000000",
          "2022-02-01T00:00:00.000000000",
          "2022-03-01T00:00:00.000000000",
          "2022-04-01T00:00:00.000000000",
          "2022-05-01T00:00:00.000000000",
          "2022-06-01T00:00:00.000000000",
          "2022-07-01T00:00:00.000000000",
          "2022-08-01T00:00:00.000000000",
          "2022-09-01T00:00:00.000000000",
          "2022-10-01T00:00:00.000000000",
          "2022-11-01T00:00:00.000000000",
          "2022-12-01T00:00:00.000000000",
          "2023-01-01T00:00:00.000000000",
          "2023-02-01T00:00:00.000000000",
          "2023-03-01T00:00:00.000000000",
          "2023-04-01T00:00:00.000000000",
          "2023-05-01T00:00:00.000000000",
          "2023-06-01T00:00:00.000000000",
          "2023-07-01T00:00:00.000000000",
          "2023-08-01T00:00:00.000000000",
          "2023-09-01T00:00:00.000000000",
          "2023-10-01T00:00:00.000000000",
          "2023-11-01T00:00:00.000000000",
          "2023-12-01T00:00:00.000000000",
          "2024-01-01T00:00:00.000000000",
          "2024-02-01T00:00:00.000000000",
          "2024-03-01T00:00:00.000000000",
          "2024-04-01T00:00:00.000000000",
          "2024-05-01T00:00:00.000000000",
          "2024-06-01T00:00:00.000000000",
          "2024-07-01T00:00:00.000000000",
          "2024-08-01T00:00:00.000000000",
          "2024-09-01T00:00:00.000000000",
          "2024-10-01T00:00:00.000000000",
          "2024-11-01T00:00:00.000000000",
          "2024-12-01T00:00:00.000000000",
          "2025-01-01T00:00:00.000000000"
         ],
         "y": {
          "bdata": "BvgdtJpG4T8qbygCGlTyP6jZb/5/tgBA6kfWi74tBkAsXZALmKANQMlDM/b8XxFAQRh2I/SBFECcnTcetpsXQIjMfUtvqRpAtWH0AizeHUBSZzQbaRUgQLg5vHwpiiBATmnnntAyIUA8mbJ6bw0iQDyZsnpvDSRAFATl6JjXJEAKZNsRpBomQHifOBj5EidAOC9w0MWZJ0D2S9F/X+goQOSWDg6z1ylAIsULlUe2KkDh/r1bLA4rQOH+vVssDitAvF59OasELEAr62GTb6stQNSDqolI2C5A3lxikHjiL0DHjBQNwpMwQF/wrw2JAjFA5Uw7ZJx3MUDqBoV03DAyQCnXrIrTyjJAimc8x7ZmM0BPvdmZcu8zQOexgxVrNzRAW2k5HRKWNEA=",
          "dtype": "f8"
         }
        },
        {
         "mode": "lines",
         "name": " indústria de transformação ",
         "type": "scatter",
         "x": [
          "2022-01-01T00:00:00.000000000",
          "2022-02-01T00:00:00.000000000",
          "2022-03-01T00:00:00.000000000",
          "2022-04-01T00:00:00.000000000",
          "2022-05-01T00:00:00.000000000",
          "2022-06-01T00:00:00.000000000",
          "2022-07-01T00:00:00.000000000",
          "2022-08-01T00:00:00.000000000",
          "2022-09-01T00:00:00.000000000",
          "2022-10-01T00:00:00.000000000",
          "2022-11-01T00:00:00.000000000",
          "2022-12-01T00:00:00.000000000",
          "2023-01-01T00:00:00.000000000",
          "2023-02-01T00:00:00.000000000",
          "2023-03-01T00:00:00.000000000",
          "2023-04-01T00:00:00.000000000",
          "2023-05-01T00:00:00.000000000",
          "2023-06-01T00:00:00.000000000",
          "2023-07-01T00:00:00.000000000",
          "2023-08-01T00:00:00.000000000",
          "2023-09-01T00:00:00.000000000",
          "2023-10-01T00:00:00.000000000",
          "2023-11-01T00:00:00.000000000",
          "2023-12-01T00:00:00.000000000",
          "2024-01-01T00:00:00.000000000",
          "2024-02-01T00:00:00.000000000",
          "2024-03-01T00:00:00.000000000",
          "2024-04-01T00:00:00.000000000",
          "2024-05-01T00:00:00.000000000",
          "2024-06-01T00:00:00.000000000",
          "2024-07-01T00:00:00.000000000",
          "2024-08-01T00:00:00.000000000",
          "2024-09-01T00:00:00.000000000",
          "2024-10-01T00:00:00.000000000",
          "2024-11-01T00:00:00.000000000",
          "2024-12-01T00:00:00.000000000",
          "2025-01-01T00:00:00.000000000"
         ],
         "y": {
          "bdata": "cC1CZcstxz8o6SY/7ibRP3QrPDX6yOM/TMaxHwAs6j+4TtViCrj1P5KUj3ly9v0/4gIQRKs9BEC4S2ToVyUKQHrWp3j/pw5AlAdrKKlNEUCrrMabG7gSQFMjD8qrJhNAVAIavZKnE0BUAhq9kqcTQGogNcZiPRVAktDKCMiZFUAay1t2i9sXQJvz3RUPBBpAD4u8riH2HEAifzH0mFUgQFrdX44iuiFATRQfQfwLI0DX+lEgTAkkQFQPLUeKoCRADZg8bAOyJUBzR1ZFc7QmQLDhMnAzjydAwTkRA9iQKECGn8ekLfMpQGj+bTEpbitAaP5tMSluLUD+lfEgm2EvQP0AAT8XfjBAQ1HhW3lvMUC1s7VMDxsyQBsjolI7azJAJ2N4+OPCMkA=",
          "dtype": "f8"
         }
        },
        {
         "mode": "lines",
         "name": " indústrias extrativas ",
         "type": "scatter",
         "x": [
          "2022-01-01T00:00:00.000000000",
          "2022-02-01T00:00:00.000000000",
          "2022-03-01T00:00:00.000000000",
          "2022-04-01T00:00:00.000000000",
          "2022-05-01T00:00:00.000000000",
          "2022-06-01T00:00:00.000000000",
          "2022-07-01T00:00:00.000000000",
          "2022-08-01T00:00:00.000000000",
          "2022-09-01T00:00:00.000000000",
          "2022-10-01T00:00:00.000000000",
          "2022-11-01T00:00:00.000000000",
          "2022-12-01T00:00:00.000000000",
          "2023-01-01T00:00:00.000000000",
          "2023-02-01T00:00:00.000000000",
          "2023-03-01T00:00:00.000000000",
          "2023-04-01T00:00:00.000000000",
          "2023-05-01T00:00:00.000000000",
          "2023-06-01T00:00:00.000000000",
          "2023-07-01T00:00:00.000000000",
          "2023-08-01T00:00:00.000000000",
          "2023-09-01T00:00:00.000000000",
          "2023-10-01T00:00:00.000000000",
          "2023-11-01T00:00:00.000000000",
          "2023-12-01T00:00:00.000000000",
          "2024-01-01T00:00:00.000000000",
          "2024-02-01T00:00:00.000000000",
          "2024-03-01T00:00:00.000000000",
          "2024-04-01T00:00:00.000000000",
          "2024-05-01T00:00:00.000000000",
          "2024-06-01T00:00:00.000000000",
          "2024-07-01T00:00:00.000000000",
          "2024-08-01T00:00:00.000000000",
          "2024-09-01T00:00:00.000000000",
          "2024-10-01T00:00:00.000000000",
          "2024-11-01T00:00:00.000000000",
          "2024-12-01T00:00:00.000000000",
          "2025-01-01T00:00:00.000000000"
         ],
         "y": {
          "bdata": "jJAwtj+k6D+u7554RC/1Px4zTd9hXABAzrP6+z+dBkDSxUurJ0INQHSu+nlwsxFADIERi4SyFUAMgRGLhLIZQFbHzvdmFx1Au6XijAUhIEB03qWgCvwgQHChRrhLhiJA7Sck0WmjI0Al7NQc7mUkQATaafJEyiVALmwxMujYJkBnLKcnvVUoQI8yOJEG1SlAv9lZIDJ+K0DxErmFJvwsQOOjunEdLS5A4v3wiXcRL0BQWfCtHyEwQG7pYGbGCTFAjN4ladeOMUCRG025lcIxQMisaoGY9jFAyKxqgZj2MUCuYfcKW08yQFcJuSOEzjJAcseL1yZyM0DaUwejmS00QNK02eNKzjRArlBz5e9XNUDugxonvLI1QP0vm74nBTZAAfF+Ui45NkA=",
          "dtype": "f8"
         }
        },
        {
         "mode": "lines",
         "name": " metalurgia ",
         "type": "scatter",
         "x": [
          "2022-01-01T00:00:00.000000000",
          "2022-02-01T00:00:00.000000000",
          "2022-03-01T00:00:00.000000000",
          "2022-04-01T00:00:00.000000000",
          "2022-05-01T00:00:00.000000000",
          "2022-06-01T00:00:00.000000000",
          "2022-07-01T00:00:00.000000000",
          "2022-08-01T00:00:00.000000000",
          "2022-09-01T00:00:00.000000000",
          "2022-10-01T00:00:00.000000000",
          "2022-11-01T00:00:00.000000000",
          "2022-12-01T00:00:00.000000000",
          "2023-01-01T00:00:00.000000000",
          "2023-02-01T00:00:00.000000000",
          "2023-03-01T00:00:00.000000000",
          "2023-04-01T00:00:00.000000000",
          "2023-05-01T00:00:00.000000000",
          "2023-06-01T00:00:00.000000000",
          "2023-07-01T00:00:00.000000000",
          "2023-08-01T00:00:00.000000000",
          "2023-09-01T00:00:00.000000000",
          "2023-10-01T00:00:00.000000000",
          "2023-11-01T00:00:00.000000000",
          "2023-12-01T00:00:00.000000000",
          "2024-01-01T00:00:00.000000000",
          "2024-02-01T00:00:00.000000000",
          "2024-03-01T00:00:00.000000000",
          "2024-04-01T00:00:00.000000000",
          "2024-05-01T00:00:00.000000000",
          "2024-06-01T00:00:00.000000000",
          "2024-07-01T00:00:00.000000000",
          "2024-08-01T00:00:00.000000000",
          "2024-09-01T00:00:00.000000000",
          "2024-10-01T00:00:00.000000000",
          "2024-11-01T00:00:00.000000000",
          "2024-12-01T00:00:00.000000000",
          "2025-01-01T00:00:00.000000000"
         ],
         "y": {
          "bdata": "aISXaFh/5j9WOqKip4/0PzB3OuxDMQFAJ5izIwn0BkCBPIwXDRYNQDr8jVmimxBA0Jgc9jmXE0Bwg/xifdoWQC5DZdDmRxlArhV4T9tMHEAMlyGveVUeQAyXIa95VR5ALPfXK+oAIEBUomo5UMsgQNzzqwt2WiJAQyP10yybI0BGlIHdiA8lQJoOYwwbtiVAWrjEOPfxJkA0R++N3FMoQIgaU76hTilA4njHLt+kKkC2FNv1DaorQFr9thKY4CtAgDb6LIPJLEAkZL53HM8tQNRUZ6VYFC9ApkXxeb8mMEDrkuqi3LQwQIs3Rib4VzFAr/jIs3NLMkBHzZxvYigzQBC8Xvx56zNAELxe/HnrNEDLCzBVFMg1QJXRT5jHPjZAUtBYui27NkA=",
          "dtype": "f8"
         }
        },
        {
         "mode": "lines",
         "name": " máquinas e equipamentos ",
         "type": "scatter",
         "x": [
          "2022-01-01T00:00:00.000000000",
          "2022-02-01T00:00:00.000000000",
          "2022-03-01T00:00:00.000000000",
          "2022-04-01T00:00:00.000000000",
          "2022-05-01T00:00:00.000000000",
          "2022-06-01T00:00:00.000000000",
          "2022-07-01T00:00:00.000000000",
          "2022-08-01T00:00:00.000000000",
          "2022-09-01T00:00:00.000000000",
          "2022-10-01T00:00:00.000000000",
          "2022-11-01T00:00:00.000000000",
          "2022-12-01T00:00:00.000000000",
          "2023-01-01T00:00:00.000000000",
          "2023-02-01T00:00:00.000000000",
          "2023-03-01T00:00:00.000000000",
          "2023-04-01T00:00:00.000000000",
          "2023-05-01T00:00:00.000000000",
          "2023-06-01T00:00:00.000000000",
          "2023-07-01T00:00:00.000000000",
          "2023-08-01T00:00:00.000000000",
          "2023-09-01T00:00:00.000000000",
          "2023-10-01T00:00:00.000000000",
          "2023-11-01T00:00:00.000000000",
          "2023-12-01T00:00:00.000000000",
          "2024-01-01T00:00:00.000000000",
          "2024-02-01T00:00:00.000000000",
          "2024-03-01T00:00:00.000000000",
          "2024-04-01T00:00:00.000000000",
          "2024-05-01T00:00:00.000000000",
          "2024-06-01T00:00:00.000000000",
          "2024-07-01T00:00:00.000000000",
          "2024-08-01T00:00:00.000000000",
          "2024-09-01T00:00:00.000000000",
          "2024-10-01T00:00:00.000000000",
          "2024-11-01T00:00:00.000000000",
          "2024-12-01T00:00:00.000000000",
          "2025-01-01T00:00:00.000000000"
         ],
         "y": {
          "bdata": "+NEPclAf0j8AOEVn/4bgP3pmJTLc/fA/sDB3iTit9z+2146UpIn9PxcbBZ1dQwJAbQQoNr6aBkDNBGjNtR8NQFiIkpsHTBFAvp2pEAlEFEDWuP3oVeYVQNKOKJWnphZA0o4olaemFkAcwedzfmEXQMCjvaVmwRpAbg52QYxpG0D6mzff/NwcQJH4zZDlJB5A/mDY0nMIIECVOgJOVHYhQGFrSqXfcyJAJ07YqIN5I0BtuC6PPRYkQBfIRYQHJyRAPnRYFGw8JEDhijq3SgslQKe47+qDDSZAWkJ0RiQ+J0CInACuVeInQAbDBly76yhAVMQNvZ83KkBUxA29nzcsQCBJ76UspS1ALVogDCY4L0By4G3ypB4wQBf6a9NwODBAgjygJNfIMEA=",
          "dtype": "f8"
         }
        },
        {
         "mode": "lines",
         "name": " máquinas, aparelhos e materiais elétricos ",
         "type": "scatter",
         "x": [
          "2022-01-01T00:00:00.000000000",
          "2022-02-01T00:00:00.000000000",
          "2022-03-01T00:00:00.000000000",
          "2022-04-01T00:00:00.000000000",
          "2022-05-01T00:00:00.000000000",
          "2022-06-01T00:00:00.000000000",
          "2022-07-01T00:00:00.000000000",
          "2022-08-01T00:00:00.000000000",
          "2022-09-01T00:00:00.000000000",
          "2022-10-01T00:00:00.000000000",
          "2022-11-01T00:00:00.000000000",
          "2022-12-01T00:00:00.000000000",
          "2023-01-01T00:00:00.000000000",
          "2023-02-01T00:00:00.000000000",
          "2023-03-01T00:00:00.000000000",
          "2023-04-01T00:00:00.000000000",
          "2023-05-01T00:00:00.000000000",
          "2023-06-01T00:00:00.000000000",
          "2023-07-01T00:00:00.000000000",
          "2023-08-01T00:00:00.000000000",
          "2023-09-01T00:00:00.000000000",
          "2023-10-01T00:00:00.000000000",
          "2023-11-01T00:00:00.000000000",
          "2023-12-01T00:00:00.000000000",
          "2024-01-01T00:00:00.000000000",
          "2024-02-01T00:00:00.000000000",
          "2024-03-01T00:00:00.000000000",
          "2024-04-01T00:00:00.000000000",
          "2024-05-01T00:00:00.000000000",
          "2024-06-01T00:00:00.000000000",
          "2024-07-01T00:00:00.000000000",
          "2024-08-01T00:00:00.000000000",
          "2024-09-01T00:00:00.000000000",
          "2024-10-01T00:00:00.000000000",
          "2024-11-01T00:00:00.000000000",
          "2024-12-01T00:00:00.000000000",
          "2025-01-01T00:00:00.000000000"
         ],
         "y": {
          "bdata": "KCAjsWvuxz94pvCk/6PhP44ZI9zhsO4/hJoiM/pZ8j/5SOCPfBP5P/czdPldeP0/FiXtVnPEAEC/Fwt/AGkEQEiZnzGXIwdAzBl6YXmqCUAo6FSzJCIMQCjoVLMkIgxAfQ84CzvHDEDsoHq5l3ANQKGSPMzGMhBAnrKMuKOCEECEAkNAWhgSQH1lkSahiBNAgNqcuAEWFUDLcJIihKEXQJe2rqLoJBlAHhn+tKtoG0BVDg5UPjYdQIndFueD7B1AkU36ZYaGH0AFbKWH64ggQPZfqUEiVyFApBWFsqWkIkDerEgrnbsjQCqry3imiSRAFKCT+3H0JUDqi8J8FD8nQJKkxoAsjyhAbzgZeC8+KkBvOBl4Lz4sQOpgubAbLy1AuoyuXSpnLkA=",
          "dtype": "f8"
         }
        },
        {
         "mode": "lines",
         "name": " móveis ",
         "type": "scatter",
         "x": [
          "2022-01-01T00:00:00.000000000",
          "2022-02-01T00:00:00.000000000",
          "2022-03-01T00:00:00.000000000",
          "2022-04-01T00:00:00.000000000",
          "2022-05-01T00:00:00.000000000",
          "2022-06-01T00:00:00.000000000",
          "2022-07-01T00:00:00.000000000",
          "2022-08-01T00:00:00.000000000",
          "2022-09-01T00:00:00.000000000",
          "2022-10-01T00:00:00.000000000",
          "2022-11-01T00:00:00.000000000",
          "2022-12-01T00:00:00.000000000",
          "2023-01-01T00:00:00.000000000",
          "2023-02-01T00:00:00.000000000",
          "2023-03-01T00:00:00.000000000",
          "2023-04-01T00:00:00.000000000",
          "2023-05-01T00:00:00.000000000",
          "2023-06-01T00:00:00.000000000",
          "2023-07-01T00:00:00.000000000",
          "2023-08-01T00:00:00.000000000",
          "2023-09-01T00:00:00.000000000",
          "2023-10-01T00:00:00.000000000",
          "2023-11-01T00:00:00.000000000",
          "2023-12-01T00:00:00.000000000",
          "2024-01-01T00:00:00.000000000",
          "2024-02-01T00:00:00.000000000",
          "2024-03-01T00:00:00.000000000",
          "2024-04-01T00:00:00.000000000",
          "2024-05-01T00:00:00.000000000",
          "2024-06-01T00:00:00.000000000",
          "2024-07-01T00:00:00.000000000",
          "2024-08-01T00:00:00.000000000",
          "2024-09-01T00:00:00.000000000",
          "2024-10-01T00:00:00.000000000",
          "2024-11-01T00:00:00.000000000",
          "2024-12-01T00:00:00.000000000",
          "2025-01-01T00:00:00.000000000"
         ],
         "y": {
          "bdata": "kLKyIsr+vT9Argjn9NnTPzo9w6cdi+g/gsoVzzEl8T8fmM98H3z6PyNlzvuG1QFALkuqAr33BkCiGWGPUVgNQIdJOKGFFhFAwCSb6otNE0A5zVTZTkkWQOqphE3A0BZAHGvPpMxHF0Bi4GnFyVgYQAH5mFkcbhpACA4kc6z0GkBGLNgMe3kcQPQ5bYuNnR1Adr3vxyRvHkCT7HKVV0wgQIWe7jNV+SBAarK/2047IkBI8U0WbHojQMsotdjQiyNAfw7iH1XMI0AoxbrE9E4kQGYQjwEu2SRAD6CvV/CrJUC6bl91yHImQHozOESicSdANJ8rAurtKED0JWPWoWIqQEhHacAivytASEdpwCK/LUA33awx9CYvQDfdrDH0Ji9AMPyW9pinL0A=",
          "dtype": "f8"
         }
        },
        {
         "mode": "lines",
         "name": " outros equipamentos de transporte, exceto veículos automotores ",
         "type": "scatter",
         "x": [
          "2022-01-01T00:00:00.000000000",
          "2022-02-01T00:00:00.000000000",
          "2022-03-01T00:00:00.000000000",
          "2022-04-01T00:00:00.000000000",
          "2022-05-01T00:00:00.000000000",
          "2022-06-01T00:00:00.000000000",
          "2022-07-01T00:00:00.000000000",
          "2022-08-01T00:00:00.000000000",
          "2022-09-01T00:00:00.000000000",
          "2022-10-01T00:00:00.000000000",
          "2022-11-01T00:00:00.000000000",
          "2022-12-01T00:00:00.000000000",
          "2023-01-01T00:00:00.000000000",
          "2023-02-01T00:00:00.000000000",
          "2023-03-01T00:00:00.000000000",
          "2023-04-01T00:00:00.000000000",
          "2023-05-01T00:00:00.000000000",
          "2023-06-01T00:00:00.000000000",
          "2023-07-01T00:00:00.000000000",
          "2023-08-01T00:00:00.000000000",
          "2023-09-01T00:00:00.000000000",
          "2023-10-01T00:00:00.000000000",
          "2023-11-01T00:00:00.000000000",
          "2023-12-01T00:00:00.000000000",
          "2024-01-01T00:00:00.000000000",
          "2024-02-01T00:00:00.000000000",
          "2024-03-01T00:00:00.000000000",
          "2024-04-01T00:00:00.000000000",
          "2024-05-01T00:00:00.000000000",
          "2024-06-01T00:00:00.000000000",
          "2024-07-01T00:00:00.000000000",
          "2024-08-01T00:00:00.000000000",
          "2024-09-01T00:00:00.000000000",
          "2024-10-01T00:00:00.000000000",
          "2024-11-01T00:00:00.000000000",
          "2024-12-01T00:00:00.000000000",
          "2025-01-01T00:00:00.000000000"
         ],
         "y": {
          "bdata": "YMQdXHU6lj9oFV4ruQK4P64lmftK+sE/riWZ+0r6wT+ApG8RJGjLPzMq3DpmZtM//4iqmNEt3T+qCw+P4ZbmP94DbrT8vO0/+ST5Snha8z8c84w/nK72PySbxSLVB/k/EvzWwtg1/D94UFv4rAcAQEntfHdqYAJAHGO7Mvf2A0AitUEefCAGQFV+ypGEbQhAtXWmy8USCkBedGETbAYMQEENPnCJaQ5AMxj56wePEEBMOBN6owgSQG/CdeeAThNAtqvEwh67FECDa8j5PUcWQJ1r0QN72BdATc7G2wggGUBv7MYUY40aQE+7JziOlRtAXYIG9RB4HEAuQYN6CDwgQCFMniBIiCBAh3XmsobjIEAGEyyQpEAhQNZt1HQLhyFAFmi+jVb1IUA=",
          "dtype": "f8"
         }
        },
        {
         "mode": "lines",
         "name": " produtos alimentícios ",
         "type": "scatter",
         "x": [
          "2022-01-01T00:00:00.000000000",
          "2022-02-01T00:00:00.000000000",
          "2022-03-01T00:00:00.000000000",
          "2022-04-01T00:00:00.000000000",
          "2022-05-01T00:00:00.000000000",
          "2022-06-01T00:00:00.000000000",
          "2022-07-01T00:00:00.000000000",
          "2022-08-01T00:00:00.000000000",
          "2022-09-01T00:00:00.000000000",
          "2022-10-01T00:00:00.000000000",
          "2022-11-01T00:00:00.000000000",
          "2022-12-01T00:00:00.000000000",
          "2023-01-01T00:00:00.000000000",
          "2023-02-01T00:00:00.000000000",
          "2023-03-01T00:00:00.000000000",
          "2023-04-01T00:00:00.000000000",
          "2023-05-01T00:00:00.000000000",
          "2023-06-01T00:00:00.000000000",
          "2023-07-01T00:00:00.000000000",
          "2023-08-01T00:00:00.000000000",
          "2023-09-01T00:00:00.000000000",
          "2023-10-01T00:00:00.000000000",
          "2023-11-01T00:00:00.000000000",
          "2023-12-01T00:00:00.000000000",
          "2024-01-01T00:00:00.000000000",
          "2024-02-01T00:00:00.000000000",
          "2024-03-01T00:00:00.000000000",
          "2024-04-01T00:00:00.000000000",
          "2024-05-01T00:00:00.000000000",
          "2024-06-01T00:00:00.000000000",
          "2024-07-01T00:00:00.000000000",
          "2024-08-01T00:00:00.000000000",
          "2024-09-01T00:00:00.000000000",
          "2024-10-01T00:00:00.000000000",
          "2024-11-01T00:00:00.000000000",
          "2024-12-01T00:00:00.000000000",
          "2025-01-01T00:00:00.000000000"
         ],
         "y": {
          "bdata": "oMquxcejtT+gyq7Fx6O1P2BNnPCMp9k/qCZ0TDSw2T+UeKK8vrjoP8RYtM1fOfI/ZsoHeEFk/D/0xsQpAWUDQENuGzAWVAdAFu6WvtsBC0CqfpPjEywOQMwYG2NPVhBAqQqzqDjREEAyym4FX1QRQOAmI8szshJA3LCC9kziEkDATNyaH0gVQHAJDqg5phdAqgngjIWVGkCqCeCMhZUeQJhhKzT2oyBAitSgZG8uIkA7KIOtP1wjQFnmXAncCyRAqc73sTm0JECcQ+g3rB0lQEDF8ELDzyVAl+f7uz3YJkA+CEDzUC8oQBD+U5L0XylA4ukL9M/4KkCIO7UDVcwsQLBGb35hNi5AriJYwdf6L0AhHQp4YIAwQEGFLsToyDBAibllEPguMUA=",
          "dtype": "f8"
         }
        },
        {
         "mode": "lines",
         "name": " produtos de borracha e material plástico ",
         "type": "scatter",
         "x": [
          "2022-01-01T00:00:00.000000000",
          "2022-02-01T00:00:00.000000000",
          "2022-03-01T00:00:00.000000000",
          "2022-04-01T00:00:00.000000000",
          "2022-05-01T00:00:00.000000000",
          "2022-06-01T00:00:00.000000000",
          "2022-07-01T00:00:00.000000000",
          "2022-08-01T00:00:00.000000000",
          "2022-09-01T00:00:00.000000000",
          "2022-10-01T00:00:00.000000000",
          "2022-11-01T00:00:00.000000000",
          "2022-12-01T00:00:00.000000000",
          "2023-01-01T00:00:00.000000000",
          "2023-02-01T00:00:00.000000000",
          "2023-03-01T00:00:00.000000000",
          "2023-04-01T00:00:00.000000000",
          "2023-05-01T00:00:00.000000000",
          "2023-06-01T00:00:00.000000000",
          "2023-07-01T00:00:00.000000000",
          "2023-08-01T00:00:00.000000000",
          "2023-09-01T00:00:00.000000000",
          "2023-10-01T00:00:00.000000000",
          "2023-11-01T00:00:00.000000000",
          "2023-12-01T00:00:00.000000000",
          "2024-01-01T00:00:00.000000000",
          "2024-02-01T00:00:00.000000000",
          "2024-03-01T00:00:00.000000000",
          "2024-04-01T00:00:00.000000000",
          "2024-05-01T00:00:00.000000000",
          "2024-06-01T00:00:00.000000000",
          "2024-07-01T00:00:00.000000000",
          "2024-08-01T00:00:00.000000000",
          "2024-09-01T00:00:00.000000000",
          "2024-10-01T00:00:00.000000000",
          "2024-11-01T00:00:00.000000000",
          "2024-12-01T00:00:00.000000000",
          "2025-01-01T00:00:00.000000000"
         ],
         "y": {
          "bdata": "EDOTER/ZyD/oJKl6MSThP+auh+f0V/I/Gn3cRad7+D+SgKBzBT0BQKo5lUK/cgRAL/cxz7IZCkD0IyUU6z4QQObJPAStxBJAZp69/S12FUBam6KTupIXQFqbopO6khdAPtypz4ovGUDoXCIziuUZQNKl0jVi/xxAPHsaYA62HkDeqsu3iqQgQEotLhEpvyFAa0csu5XOIkAuiKOTMWEkQEqBebw4nyVAcx+1JJckJ0CQAgqeAz8oQDK1UbRckShAPscpD3yGKUCPFrrWuYMqQAT7+lRE+ytATLxSTrttLUAcfVtzvtouQLMrW4vF/y9AYRMUy/L0MED4SU1+K+oxQOVAyTPMszJA5UDJM8yzM0A1l0lfS2Y0QGeXrpVqeDRAsXKgemwHNUA=",
          "dtype": "f8"
         }
        },
        {
         "mode": "lines",
         "name": " produtos de madeira ",
         "type": "scatter",
         "x": [
          "2022-01-01T00:00:00.000000000",
          "2022-02-01T00:00:00.000000000",
          "2022-03-01T00:00:00.000000000",
          "2022-04-01T00:00:00.000000000",
          "2022-05-01T00:00:00.000000000",
          "2022-06-01T00:00:00.000000000",
          "2022-07-01T00:00:00.000000000",
          "2022-08-01T00:00:00.000000000",
          "2022-09-01T00:00:00.000000000",
          "2022-10-01T00:00:00.000000000",
          "2022-11-01T00:00:00.000000000",
          "2022-12-01T00:00:00.000000000",
          "2023-01-01T00:00:00.000000000",
          "2023-02-01T00:00:00.000000000",
          "2023-03-01T00:00:00.000000000",
          "2023-04-01T00:00:00.000000000",
          "2023-05-01T00:00:00.000000000",
          "2023-06-01T00:00:00.000000000",
          "2023-07-01T00:00:00.000000000",
          "2023-08-01T00:00:00.000000000",
          "2023-09-01T00:00:00.000000000",
          "2023-10-01T00:00:00.000000000",
          "2023-11-01T00:00:00.000000000",
          "2023-12-01T00:00:00.000000000",
          "2024-01-01T00:00:00.000000000",
          "2024-02-01T00:00:00.000000000",
          "2024-03-01T00:00:00.000000000",
          "2024-04-01T00:00:00.000000000",
          "2024-05-01T00:00:00.000000000",
          "2024-06-01T00:00:00.000000000",
          "2024-07-01T00:00:00.000000000",
          "2024-08-01T00:00:00.000000000",
          "2024-09-01T00:00:00.000000000",
          "2024-10-01T00:00:00.000000000",
          "2024-11-01T00:00:00.000000000",
          "2024-12-01T00:00:00.000000000",
          "2025-01-01T00:00:00.000000000"
         ],
         "y": {
          "bdata": "7MQ89vL+5D+w0ebMJnTzP9hoc2YTugFAQzAoOtRQCEAdNm8skvIPQJzQ2fkYmRJAHBoJUbqOFUAG68Fk8J8YQBRsfsDwXxpAYoCagyyLG0Dwl/Ecz30cQPCX8RzPfRxA5mubwvX4HUA+7ORil6MfQCGAxb2tASFADgDUTWO8IUDulDHLHtgiQB2GBf0SOCRAsOfIqCcsJUC2gxlqFWkmQOgr39G5BSdAcrv6xavMJ0BwHSBuToYoQFu5C8fr2yhAEg1fP1aPKUCljgzAYkgqQKcFCHF7OitAfpt5jfJ+LEDADQovK4ctQB2Okew3tC5ATFuwuxYCMEAiEef4QNowQCLMwq/mxTFAFO5SFyOpMkAIoFcl5nkzQKXWq/m7wDNAuuai/eBTNEA=",
          "dtype": "f8"
         }
        },
        {
         "mode": "lines",
         "name": " produtos de metal, exceto máquinas e equipamentos ",
         "type": "scatter",
         "x": [
          "2022-01-01T00:00:00.000000000",
          "2022-02-01T00:00:00.000000000",
          "2022-03-01T00:00:00.000000000",
          "2022-04-01T00:00:00.000000000",
          "2022-05-01T00:00:00.000000000",
          "2022-06-01T00:00:00.000000000",
          "2022-07-01T00:00:00.000000000",
          "2022-08-01T00:00:00.000000000",
          "2022-09-01T00:00:00.000000000",
          "2022-10-01T00:00:00.000000000",
          "2022-11-01T00:00:00.000000000",
          "2022-12-01T00:00:00.000000000",
          "2023-01-01T00:00:00.000000000",
          "2023-02-01T00:00:00.000000000",
          "2023-03-01T00:00:00.000000000",
          "2023-04-01T00:00:00.000000000",
          "2023-05-01T00:00:00.000000000",
          "2023-06-01T00:00:00.000000000",
          "2023-07-01T00:00:00.000000000",
          "2023-08-01T00:00:00.000000000",
          "2023-09-01T00:00:00.000000000",
          "2023-10-01T00:00:00.000000000",
          "2023-11-01T00:00:00.000000000",
          "2023-12-01T00:00:00.000000000",
          "2024-01-01T00:00:00.000000000",
          "2024-02-01T00:00:00.000000000",
          "2024-03-01T00:00:00.000000000",
          "2024-04-01T00:00:00.000000000",
          "2024-05-01T00:00:00.000000000",
          "2024-06-01T00:00:00.000000000",
          "2024-07-01T00:00:00.000000000",
          "2024-08-01T00:00:00.000000000",
          "2024-09-01T00:00:00.000000000",
          "2024-10-01T00:00:00.000000000",
          "2024-11-01T00:00:00.000000000",
          "2024-12-01T00:00:00.000000000",
          "2025-01-01T00:00:00.000000000"
         ],
         "y": {
          "bdata": "6K/tuqJE4T+A+5mFTGbxP2QGQwikRPs/ICOB7koeAUDBPjL0aroFQCk9piYs3wlAvJptNVtIDkB+1uphEYgRQIo+TZlAdhNAPOtgdlKRFUAoq/jViaMXQPAO1aRqFBhAZg6jzVbNGUBcAIsocFwaQCYSGpJwvhxAJhIaknC+HECmS93h4/IdQIz9Vk5yER9AiGCzZLAbIEB6ZpenBishQBytcP8R2SFAXKqEUr8DI0A1byTgP+kjQPW8u2rsQiRAeqW9ZQ4HJUDGKOtd/tslQDiSgyTw8SZASUeYAJk7KEAhaL9kHHopQOSR5NBmeSpAdUZD2MIjLECYFdSNm9wtQDWgJ6XmXy9AGtCTUvOvMECn/tywlmsxQNaNdiy12DFA9KfZFyFwMkA=",
          "dtype": "f8"
         }
        },
        {
         "mode": "lines",
         "name": " produtos de minerais e não metálicos ",
         "type": "scatter",
         "x": [
          "2022-01-01T00:00:00.000000000",
          "2022-02-01T00:00:00.000000000",
          "2022-03-01T00:00:00.000000000",
          "2022-04-01T00:00:00.000000000",
          "2022-05-01T00:00:00.000000000",
          "2022-06-01T00:00:00.000000000",
          "2022-07-01T00:00:00.000000000",
          "2022-08-01T00:00:00.000000000",
          "2022-09-01T00:00:00.000000000",
          "2022-10-01T00:00:00.000000000",
          "2022-11-01T00:00:00.000000000",
          "2022-12-01T00:00:00.000000000",
          "2023-01-01T00:00:00.000000000",
          "2023-02-01T00:00:00.000000000",
          "2023-03-01T00:00:00.000000000",
          "2023-04-01T00:00:00.000000000",
          "2023-05-01T00:00:00.000000000",
          "2023-06-01T00:00:00.000000000",
          "2023-07-01T00:00:00.000000000",
          "2023-08-01T00:00:00.000000000",
          "2023-09-01T00:00:00.000000000",
          "2023-10-01T00:00:00.000000000",
          "2023-11-01T00:00:00.000000000",
          "2023-12-01T00:00:00.000000000",
          "2024-01-01T00:00:00.000000000",
          "2024-02-01T00:00:00.000000000",
          "2024-03-01T00:00:00.000000000",
          "2024-04-01T00:00:00.000000000",
          "2024-05-01T00:00:00.000000000",
          "2024-06-01T00:00:00.000000000",
          "2024-07-01T00:00:00.000000000",
          "2024-08-01T00:00:00.000000000",
          "2024-09-01T00:00:00.000000000",
          "2024-10-01T00:00:00.000000000",
          "2024-11-01T00:00:00.000000000",
          "2024-12-01T00:00:00.000000000",
          "2025-01-01T00:00:00.000000000"
         ],
         "y": {
          "bdata": "QDXRYSHL3T+sXBVcSrrsP46hK28e+vk/stY7GjUBAkAH2L9aK7YHQD93fjpXMwxAEI2YfxhQEUAQjZh/GFAVQCR6LOriZhhAKbCnq+ruGkD+p+TzAz0cQJxmNYyoqhxAHzeqqjBPHUAfN6qqME8dQH9tIBcCDh9AxB3Xhb7dH0DsVPaRWvQgQGHAoy+myCFAi6ZNfhAeI0D5uV4gS6QkQPM7P2HBoyVApJWy8UXRJkDVH74QE8onQNMQY7z1zidAsc1VQWQYKEDIhSTzH2coQFqhF8rwGylA8Jb//CXuKUCWbThlS8sqQHLng5h51CtAUJUcS45tLUA4FgeRhwIvQNGekPSPMDBAHvXgNxryMECNLBOmr4gxQP2P9VGhtTFAVFwUuLXrMUA=",
          "dtype": "f8"
         }
        },
        {
         "mode": "lines",
         "name": " produtos do fumo ",
         "type": "scatter",
         "x": [
          "2022-01-01T00:00:00.000000000",
          "2022-02-01T00:00:00.000000000",
          "2022-03-01T00:00:00.000000000",
          "2022-04-01T00:00:00.000000000",
          "2022-05-01T00:00:00.000000000",
          "2022-06-01T00:00:00.000000000",
          "2022-07-01T00:00:00.000000000",
          "2022-08-01T00:00:00.000000000",
          "2022-09-01T00:00:00.000000000",
          "2022-10-01T00:00:00.000000000",
          "2022-11-01T00:00:00.000000000",
          "2022-12-01T00:00:00.000000000",
          "2023-01-01T00:00:00.000000000",
          "2023-02-01T00:00:00.000000000",
          "2023-03-01T00:00:00.000000000",
          "2023-04-01T00:00:00.000000000",
          "2023-05-01T00:00:00.000000000",
          "2023-06-01T00:00:00.000000000",
          "2023-07-01T00:00:00.000000000",
          "2023-08-01T00:00:00.000000000",
          "2023-09-01T00:00:00.000000000",
          "2023-10-01T00:00:00.000000000",
          "2023-11-01T00:00:00.000000000",
          "2023-12-01T00:00:00.000000000",
          "2024-01-01T00:00:00.000000000",
          "2024-02-01T00:00:00.000000000",
          "2024-03-01T00:00:00.000000000",
          "2024-04-01T00:00:00.000000000",
          "2024-05-01T00:00:00.000000000",
          "2024-06-01T00:00:00.000000000",
          "2024-07-01T00:00:00.000000000",
          "2024-08-01T00:00:00.000000000",
          "2024-09-01T00:00:00.000000000",
          "2024-10-01T00:00:00.000000000",
          "2024-11-01T00:00:00.000000000",
          "2024-12-01T00:00:00.000000000",
          "2025-01-01T00:00:00.000000000"
         ],
         "y": {
          "bdata": "gLlpwwZGmz/QXtv7csXHP/iklefR+O8/fbGeGQnW/D9wTUVdC90FQLlyXOiqxQxAQwLi5jZjEUAS5VUZ0eITQL1e/bY72BRA3cc0ZVpxFUCbqZtbIRYWQJupm1shFhZAjtQkObpmFkCvF/EhpG4XQAy6NEudsRpAYhpl7uimHUC5yRw92dEgQEWU9/pPvSJAus7tHnpMJEChvtl3adklQGnB1wjnSCZAHuKXZZusJkAox7kJwSYnQOBIQlGyXidAdTc7udGkJ0AuNyHtlX8oQG7pKj1lSypAbukqPWVLLEBD9SkNfK8tQCvv3AhFQi9ArbJaQqheMEAMEMVtNPkwQISjmuSoYjFAjujuP/HBMUA2UdANrfYxQD1r1oTC9jFAIUFn3ywTMkA=",
          "dtype": "f8"
         }
        },
        {
         "mode": "lines",
         "name": " produtos farmoquímicos e farmacêuticos ",
         "type": "scatter",
         "x": [
          "2022-01-01T00:00:00.000000000",
          "2022-02-01T00:00:00.000000000",
          "2022-03-01T00:00:00.000000000",
          "2022-04-01T00:00:00.000000000",
          "2022-05-01T00:00:00.000000000",
          "2022-06-01T00:00:00.000000000",
          "2022-07-01T00:00:00.000000000",
          "2022-08-01T00:00:00.000000000",
          "2022-09-01T00:00:00.000000000",
          "2022-10-01T00:00:00.000000000",
          "2022-11-01T00:00:00.000000000",
          "2022-12-01T00:00:00.000000000",
          "2023-01-01T00:00:00.000000000",
          "2023-02-01T00:00:00.000000000",
          "2023-03-01T00:00:00.000000000",
          "2023-04-01T00:00:00.000000000",
          "2023-05-01T00:00:00.000000000",
          "2023-06-01T00:00:00.000000000",
          "2023-07-01T00:00:00.000000000",
          "2023-08-01T00:00:00.000000000",
          "2023-09-01T00:00:00.000000000",
          "2023-10-01T00:00:00.000000000",
          "2023-11-01T00:00:00.000000000",
          "2023-12-01T00:00:00.000000000",
          "2024-01-01T00:00:00.000000000",
          "2024-02-01T00:00:00.000000000",
          "2024-03-01T00:00:00.000000000",
          "2024-04-01T00:00:00.000000000",
          "2024-05-01T00:00:00.000000000",
          "2024-06-01T00:00:00.000000000",
          "2024-07-01T00:00:00.000000000",
          "2024-08-01T00:00:00.000000000",
          "2024-09-01T00:00:00.000000000",
          "2024-10-01T00:00:00.000000000",
          "2024-11-01T00:00:00.000000000",
          "2024-12-01T00:00:00.000000000",
          "2025-01-01T00:00:00.000000000"
         ],
         "y": {
          "bdata": "AAAAAAAAAADozBjYw7/RP9wgrFuD7uA/4t6mdJdq8j8b3CUuTcj3P/qZ6/854fs/f/lHfF/kAUCRnyJLRzcGQDI949HepwtA6DisHkF+DkCCO/+moJwRQKWJJfGPZBNAjLWR765eFEC/WmMMqNQVQK/gN5V/nRdAm7xck4JmGUC/GK82gs4aQM7RydbNwhtAcNN7JgkiHUAkVFAcZM0eQNS9CsIDOiBAiBjhkeUGIUCR1BK7EM8hQFCU2BQgCiJAOnth6OM5IkB+rFTYB6QiQE3oMYhYniNAkOMzHQayJEAhUxKdudIlQMlohHWc/CZAyWiEdZz8KECx5bH7TzIqQKA07gvSHCtAHRh9qrMNLEAPXSOU5+osQKJHl6rFOi1AaWiiq7mjLUA=",
          "dtype": "f8"
         }
        },
        {
         "mode": "lines",
         "name": " produtos químicos ",
         "type": "scatter",
         "x": [
          "2022-01-01T00:00:00.000000000",
          "2022-02-01T00:00:00.000000000",
          "2022-03-01T00:00:00.000000000",
          "2022-04-01T00:00:00.000000000",
          "2022-05-01T00:00:00.000000000",
          "2022-06-01T00:00:00.000000000",
          "2022-07-01T00:00:00.000000000",
          "2022-08-01T00:00:00.000000000",
          "2022-09-01T00:00:00.000000000",
          "2022-10-01T00:00:00.000000000",
          "2022-11-01T00:00:00.000000000",
          "2022-12-01T00:00:00.000000000",
          "2023-01-01T00:00:00.000000000",
          "2023-02-01T00:00:00.000000000",
          "2023-03-01T00:00:00.000000000",
          "2023-04-01T00:00:00.000000000",
          "2023-05-01T00:00:00.000000000",
          "2023-06-01T00:00:00.000000000",
          "2023-07-01T00:00:00.000000000",
          "2023-08-01T00:00:00.000000000",
          "2023-09-01T00:00:00.000000000",
          "2023-10-01T00:00:00.000000000",
          "2023-11-01T00:00:00.000000000",
          "2023-12-01T00:00:00.000000000",
          "2024-01-01T00:00:00.000000000",
          "2024-02-01T00:00:00.000000000",
          "2024-03-01T00:00:00.000000000",
          "2024-04-01T00:00:00.000000000",
          "2024-05-01T00:00:00.000000000",
          "2024-06-01T00:00:00.000000000",
          "2024-07-01T00:00:00.000000000",
          "2024-08-01T00:00:00.000000000",
          "2024-09-01T00:00:00.000000000",
          "2024-10-01T00:00:00.000000000",
          "2024-11-01T00:00:00.000000000",
          "2024-12-01T00:00:00.000000000",
          "2025-01-01T00:00:00.000000000"
         ],
         "y": {
          "bdata": "fGcULzHO5j+aYVUYeFH0P1L+cA4XVvw/+799JySNAECHbvQQo2EEQHh5dc4XwQhA5lS+PTEiDUAWy6tHd5ERQMlyIa0MPRRACttTZWFrFkB671htclEYQHo1NrBfNRlAeCvdktbnGkD7NomNi6sbQDa/YT8rWBxACcLemQxlHEDKWhGCMsEdQOJPQAoHYB9AYAAYbE/BIECUJ6Fs9zoiQOjbQkXIniNAcaFBLqPgJEAIjxtkP+klQFn+Q2CJNiZAFJmWJJDuJkAeB5ssoEQnQB4HmyygRCdAds3a0ehEJ0CKbBfxr4MnQF0tcAwrbyhAK7trOcrgKUAru2s5yuArQK2h10IsNS1A4lMlgLzILkDQS4RajiIwQIFRmRaqkzBAk7HhPpE+MUA=",
          "dtype": "f8"
         }
        },
        {
         "mode": "lines",
         "name": " produtos têxteis ",
         "type": "scatter",
         "x": [
          "2022-01-01T00:00:00.000000000",
          "2022-02-01T00:00:00.000000000",
          "2022-03-01T00:00:00.000000000",
          "2022-04-01T00:00:00.000000000",
          "2022-05-01T00:00:00.000000000",
          "2022-06-01T00:00:00.000000000",
          "2022-07-01T00:00:00.000000000",
          "2022-08-01T00:00:00.000000000",
          "2022-09-01T00:00:00.000000000",
          "2022-10-01T00:00:00.000000000",
          "2022-11-01T00:00:00.000000000",
          "2022-12-01T00:00:00.000000000",
          "2023-01-01T00:00:00.000000000",
          "2023-02-01T00:00:00.000000000",
          "2023-03-01T00:00:00.000000000",
          "2023-04-01T00:00:00.000000000",
          "2023-05-01T00:00:00.000000000",
          "2023-06-01T00:00:00.000000000",
          "2023-07-01T00:00:00.000000000",
          "2023-08-01T00:00:00.000000000",
          "2023-09-01T00:00:00.000000000",
          "2023-10-01T00:00:00.000000000",
          "2023-11-01T00:00:00.000000000",
          "2023-12-01T00:00:00.000000000",
          "2024-01-01T00:00:00.000000000",
          "2024-02-01T00:00:00.000000000",
          "2024-03-01T00:00:00.000000000",
          "2024-04-01T00:00:00.000000000",
          "2024-05-01T00:00:00.000000000",
          "2024-06-01T00:00:00.000000000",
          "2024-07-01T00:00:00.000000000",
          "2024-08-01T00:00:00.000000000",
          "2024-09-01T00:00:00.000000000",
          "2024-10-01T00:00:00.000000000",
          "2024-11-01T00:00:00.000000000",
          "2024-12-01T00:00:00.000000000",
          "2025-01-01T00:00:00.000000000"
         ],
         "y": {
          "bdata": "YF5AQfcl0D+C2hueOAjlP/5q9+u+CPI/s5qmTLaf+D+q+HgFSVgAQEiPJy65fgRAnNm5MkqNCEBQsBSEqSwNQHN6D0AkxhBANLcxGRy6EkCWKCxCkG8UQJYoLEKQbxRAXOWebfZBFkCW/XZlZkwYQHVb7lI7+xpAi2fEizUtHUDyQgX5kfMfQDhKMMQxKyFAYEXNimN6IkAmz0mz7dAjQCD1rT03FiVAWMZf5NRzJkBLJXNAEaEnQMilVchkwydAz6nalfyCKEDp1aS1yacpQOVPJ9o87SpAIIVnWgWWLEBX1WGWV20uQEc4EkscEjBAz3a+He0DMUAA0xUrQwAyQE1ERYTM+DJATURFhMz4M0B40tbBq9o0QEYvpU3qNzVAl8y/joXjNUA=",
          "dtype": "f8"
         }
        },
        {
         "mode": "lines",
         "name": " veículos automotores, reboques e carrocerias ",
         "type": "scatter",
         "x": [
          "2022-01-01T00:00:00.000000000",
          "2022-02-01T00:00:00.000000000",
          "2022-03-01T00:00:00.000000000",
          "2022-04-01T00:00:00.000000000",
          "2022-05-01T00:00:00.000000000",
          "2022-06-01T00:00:00.000000000",
          "2022-07-01T00:00:00.000000000",
          "2022-08-01T00:00:00.000000000",
          "2022-09-01T00:00:00.000000000",
          "2022-10-01T00:00:00.000000000",
          "2022-11-01T00:00:00.000000000",
          "2022-12-01T00:00:00.000000000",
          "2023-01-01T00:00:00.000000000",
          "2023-02-01T00:00:00.000000000",
          "2023-03-01T00:00:00.000000000",
          "2023-04-01T00:00:00.000000000",
          "2023-05-01T00:00:00.000000000",
          "2023-06-01T00:00:00.000000000",
          "2023-07-01T00:00:00.000000000",
          "2023-08-01T00:00:00.000000000",
          "2023-09-01T00:00:00.000000000",
          "2023-10-01T00:00:00.000000000",
          "2023-11-01T00:00:00.000000000",
          "2023-12-01T00:00:00.000000000",
          "2024-01-01T00:00:00.000000000",
          "2024-02-01T00:00:00.000000000",
          "2024-03-01T00:00:00.000000000",
          "2024-04-01T00:00:00.000000000",
          "2024-05-01T00:00:00.000000000",
          "2024-06-01T00:00:00.000000000",
          "2024-07-01T00:00:00.000000000",
          "2024-08-01T00:00:00.000000000",
          "2024-09-01T00:00:00.000000000",
          "2024-10-01T00:00:00.000000000",
          "2024-11-01T00:00:00.000000000",
          "2024-12-01T00:00:00.000000000",
          "2025-01-01T00:00:00.000000000"
         ],
         "y": {
          "bdata": "AAAAAAAAAADIJyufpj3QP2SI+2TwAug/XBJhQA1g8D+i8AF1aLX3PyCRxSHGLv4/rwwNfA2nAkCIj7W504YIQLxQb+aMrgtAO88UXFddD0ACjo1/38oRQAODdvGlhBJArcWs5h2zEkCYa90JIUwTQJT5iRJTPBVAzRPzCxRzFUAITxAPqGUXQF0Tl09EThhAOMPIo4ezGEDSdJRa694aQDbZTmpigxxAOiolprJ3HkAkfMDOfAQgQGKx/C0MDSBARCO+mmJDIECxhTcT5QMhQMKRf1Ys7SFAwVGpVM9bI0DFLneArwskQMlm5gsG7CRAD0WstApnJkBIP+387hwoQJuPCdC3nylAm48J0LefK0ACQVRITC8tQMUyAwJ5+y1ABUXlf9nvLkA=",
          "dtype": "f8"
         }
        }
       ],
       "layout": {
        "height": 600,
        "hovermode": "x unified",
        "legend": {
         "title": {
          "text": "Setor"
         }
        },
        "template": {
         "data": {
          "bar": [
           {
            "error_x": {
             "color": "#2a3f5f"
            },
            "error_y": {
             "color": "#2a3f5f"
            },
            "marker": {
             "line": {
              "color": "white",
              "width": 0.5
             },
             "pattern": {
              "fillmode": "overlay",
              "size": 10,
              "solidity": 0.2
             }
            },
            "type": "bar"
           }
          ],
          "barpolar": [
           {
            "marker": {
             "line": {
              "color": "white",
              "width": 0.5
             },
             "pattern": {
              "fillmode": "overlay",
              "size": 10,
              "solidity": 0.2
             }
            },
            "type": "barpolar"
           }
          ],
          "carpet": [
           {
            "aaxis": {
             "endlinecolor": "#2a3f5f",
             "gridcolor": "#C8D4E3",
             "linecolor": "#C8D4E3",
             "minorgridcolor": "#C8D4E3",
             "startlinecolor": "#2a3f5f"
            },
            "baxis": {
             "endlinecolor": "#2a3f5f",
             "gridcolor": "#C8D4E3",
             "linecolor": "#C8D4E3",
             "minorgridcolor": "#C8D4E3",
             "startlinecolor": "#2a3f5f"
            },
            "type": "carpet"
           }
          ],
          "choropleth": [
           {
            "colorbar": {
             "outlinewidth": 0,
             "ticks": ""
            },
            "type": "choropleth"
           }
          ],
          "contour": [
           {
            "colorbar": {
             "outlinewidth": 0,
             "ticks": ""
            },
            "colorscale": [
             [
              0,
              "#0d0887"
             ],
             [
              0.1111111111111111,
              "#46039f"
             ],
             [
              0.2222222222222222,
              "#7201a8"
             ],
             [
              0.3333333333333333,
              "#9c179e"
             ],
             [
              0.4444444444444444,
              "#bd3786"
             ],
             [
              0.5555555555555556,
              "#d8576b"
             ],
             [
              0.6666666666666666,
              "#ed7953"
             ],
             [
              0.7777777777777778,
              "#fb9f3a"
             ],
             [
              0.8888888888888888,
              "#fdca26"
             ],
             [
              1,
              "#f0f921"
             ]
            ],
            "type": "contour"
           }
          ],
          "contourcarpet": [
           {
            "colorbar": {
             "outlinewidth": 0,
             "ticks": ""
            },
            "type": "contourcarpet"
           }
          ],
          "heatmap": [
           {
            "colorbar": {
             "outlinewidth": 0,
             "ticks": ""
            },
            "colorscale": [
             [
              0,
              "#0d0887"
             ],
             [
              0.1111111111111111,
              "#46039f"
             ],
             [
              0.2222222222222222,
              "#7201a8"
             ],
             [
              0.3333333333333333,
              "#9c179e"
             ],
             [
              0.4444444444444444,
              "#bd3786"
             ],
             [
              0.5555555555555556,
              "#d8576b"
             ],
             [
              0.6666666666666666,
              "#ed7953"
             ],
             [
              0.7777777777777778,
              "#fb9f3a"
             ],
             [
              0.8888888888888888,
              "#fdca26"
             ],
             [
              1,
              "#f0f921"
             ]
            ],
            "type": "heatmap"
           }
          ],
          "histogram": [
           {
            "marker": {
             "pattern": {
              "fillmode": "overlay",
              "size": 10,
              "solidity": 0.2
             }
            },
            "type": "histogram"
           }
          ],
          "histogram2d": [
           {
            "colorbar": {
             "outlinewidth": 0,
             "ticks": ""
            },
            "colorscale": [
             [
              0,
              "#0d0887"
             ],
             [
              0.1111111111111111,
              "#46039f"
             ],
             [
              0.2222222222222222,
              "#7201a8"
             ],
             [
              0.3333333333333333,
              "#9c179e"
             ],
             [
              0.4444444444444444,
              "#bd3786"
             ],
             [
              0.5555555555555556,
              "#d8576b"
             ],
             [
              0.6666666666666666,
              "#ed7953"
             ],
             [
              0.7777777777777778,
              "#fb9f3a"
             ],
             [
              0.8888888888888888,
              "#fdca26"
             ],
             [
              1,
              "#f0f921"
             ]
            ],
            "type": "histogram2d"
           }
          ],
          "histogram2dcontour": [
           {
            "colorbar": {
             "outlinewidth": 0,
             "ticks": ""
            },
            "colorscale": [
             [
              0,
              "#0d0887"
             ],
             [
              0.1111111111111111,
              "#46039f"
             ],
             [
              0.2222222222222222,
              "#7201a8"
             ],
             [
              0.3333333333333333,
              "#9c179e"
             ],
             [
              0.4444444444444444,
              "#bd3786"
             ],
             [
              0.5555555555555556,
              "#d8576b"
             ],
             [
              0.6666666666666666,
              "#ed7953"
             ],
             [
              0.7777777777777778,
              "#fb9f3a"
             ],
             [
              0.8888888888888888,
              "#fdca26"
             ],
             [
              1,
              "#f0f921"
             ]
            ],
            "type": "histogram2dcontour"
           }
          ],
          "mesh3d": [
           {
            "colorbar": {
             "outlinewidth": 0,
             "ticks": ""
            },
            "type": "mesh3d"
           }
          ],
          "parcoords": [
           {
            "line": {
             "colorbar": {
              "outlinewidth": 0,
              "ticks": ""
             }
            },
            "type": "parcoords"
           }
          ],
          "pie": [
           {
            "automargin": true,
            "type": "pie"
           }
          ],
          "scatter": [
           {
            "fillpattern": {
             "fillmode": "overlay",
             "size": 10,
             "solidity": 0.2
            },
            "type": "scatter"
           }
          ],
          "scatter3d": [
           {
            "line": {
             "colorbar": {
              "outlinewidth": 0,
              "ticks": ""
             }
            },
            "marker": {
             "colorbar": {
              "outlinewidth": 0,
              "ticks": ""
             }
            },
            "type": "scatter3d"
           }
          ],
          "scattercarpet": [
           {
            "marker": {
             "colorbar": {
              "outlinewidth": 0,
              "ticks": ""
             }
            },
            "type": "scattercarpet"
           }
          ],
          "scattergeo": [
           {
            "marker": {
             "colorbar": {
              "outlinewidth": 0,
              "ticks": ""
             }
            },
            "type": "scattergeo"
           }
          ],
          "scattergl": [
           {
            "marker": {
             "colorbar": {
              "outlinewidth": 0,
              "ticks": ""
             }
            },
            "type": "scattergl"
           }
          ],
          "scattermap": [
           {
            "marker": {
             "colorbar": {
              "outlinewidth": 0,
              "ticks": ""
             }
            },
            "type": "scattermap"
           }
          ],
          "scattermapbox": [
           {
            "marker": {
             "colorbar": {
              "outlinewidth": 0,
              "ticks": ""
             }
            },
            "type": "scattermapbox"
           }
          ],
          "scatterpolar": [
           {
            "marker": {
             "colorbar": {
              "outlinewidth": 0,
              "ticks": ""
             }
            },
            "type": "scatterpolar"
           }
          ],
          "scatterpolargl": [
           {
            "marker": {
             "colorbar": {
              "outlinewidth": 0,
              "ticks": ""
             }
            },
            "type": "scatterpolargl"
           }
          ],
          "scatterternary": [
           {
            "marker": {
             "colorbar": {
              "outlinewidth": 0,
              "ticks": ""
             }
            },
            "type": "scatterternary"
           }
          ],
          "surface": [
           {
            "colorbar": {
             "outlinewidth": 0,
             "ticks": ""
            },
            "colorscale": [
             [
              0,
              "#0d0887"
             ],
             [
              0.1111111111111111,
              "#46039f"
             ],
             [
              0.2222222222222222,
              "#7201a8"
             ],
             [
              0.3333333333333333,
              "#9c179e"
             ],
             [
              0.4444444444444444,
              "#bd3786"
             ],
             [
              0.5555555555555556,
              "#d8576b"
             ],
             [
              0.6666666666666666,
              "#ed7953"
             ],
             [
              0.7777777777777778,
              "#fb9f3a"
             ],
             [
              0.8888888888888888,
              "#fdca26"
             ],
             [
              1,
              "#f0f921"
             ]
            ],
            "type": "surface"
           }
          ],
          "table": [
           {
            "cells": {
             "fill": {
              "color": "#EBF0F8"
             },
             "line": {
              "color": "white"
             }
            },
            "header": {
             "fill": {
              "color": "#C8D4E3"
             },
             "line": {
              "color": "white"
             }
            },
            "type": "table"
           }
          ]
         },
         "layout": {
          "annotationdefaults": {
           "arrowcolor": "#2a3f5f",
           "arrowhead": 0,
           "arrowwidth": 1
          },
          "autotypenumbers": "strict",
          "coloraxis": {
           "colorbar": {
            "outlinewidth": 0,
            "ticks": ""
           }
          },
          "colorscale": {
           "diverging": [
            [
             0,
             "#8e0152"
            ],
            [
             0.1,
             "#c51b7d"
            ],
            [
             0.2,
             "#de77ae"
            ],
            [
             0.3,
             "#f1b6da"
            ],
            [
             0.4,
             "#fde0ef"
            ],
            [
             0.5,
             "#f7f7f7"
            ],
            [
             0.6,
             "#e6f5d0"
            ],
            [
             0.7,
             "#b8e186"
            ],
            [
             0.8,
             "#7fbc41"
            ],
            [
             0.9,
             "#4d9221"
            ],
            [
             1,
             "#276419"
            ]
           ],
           "sequential": [
            [
             0,
             "#0d0887"
            ],
            [
             0.1111111111111111,
             "#46039f"
            ],
            [
             0.2222222222222222,
             "#7201a8"
            ],
            [
             0.3333333333333333,
             "#9c179e"
            ],
            [
             0.4444444444444444,
             "#bd3786"
            ],
            [
             0.5555555555555556,
             "#d8576b"
            ],
            [
             0.6666666666666666,
             "#ed7953"
            ],
            [
             0.7777777777777778,
             "#fb9f3a"
            ],
            [
             0.8888888888888888,
             "#fdca26"
            ],
            [
             1,
             "#f0f921"
            ]
           ],
           "sequentialminus": [
            [
             0,
             "#0d0887"
            ],
            [
             0.1111111111111111,
             "#46039f"
            ],
            [
             0.2222222222222222,
             "#7201a8"
            ],
            [
             0.3333333333333333,
             "#9c179e"
            ],
            [
             0.4444444444444444,
             "#bd3786"
            ],
            [
             0.5555555555555556,
             "#d8576b"
            ],
            [
             0.6666666666666666,
             "#ed7953"
            ],
            [
             0.7777777777777778,
             "#fb9f3a"
            ],
            [
             0.8888888888888888,
             "#fdca26"
            ],
            [
             1,
             "#f0f921"
            ]
           ]
          },
          "colorway": [
           "#636efa",
           "#EF553B",
           "#00cc96",
           "#ab63fa",
           "#FFA15A",
           "#19d3f3",
           "#FF6692",
           "#B6E880",
           "#FF97FF",
           "#FECB52"
          ],
          "font": {
           "color": "#2a3f5f"
          },
          "geo": {
           "bgcolor": "white",
           "lakecolor": "white",
           "landcolor": "white",
           "showlakes": true,
           "showland": true,
           "subunitcolor": "#C8D4E3"
          },
          "hoverlabel": {
           "align": "left"
          },
          "hovermode": "closest",
          "mapbox": {
           "style": "light"
          },
          "paper_bgcolor": "white",
          "plot_bgcolor": "white",
          "polar": {
           "angularaxis": {
            "gridcolor": "#EBF0F8",
            "linecolor": "#EBF0F8",
            "ticks": ""
           },
           "bgcolor": "white",
           "radialaxis": {
            "gridcolor": "#EBF0F8",
            "linecolor": "#EBF0F8",
            "ticks": ""
           }
          },
          "scene": {
           "xaxis": {
            "backgroundcolor": "white",
            "gridcolor": "#DFE8F3",
            "gridwidth": 2,
            "linecolor": "#EBF0F8",
            "showbackground": true,
            "ticks": "",
            "zerolinecolor": "#EBF0F8"
           },
           "yaxis": {
            "backgroundcolor": "white",
            "gridcolor": "#DFE8F3",
            "gridwidth": 2,
            "linecolor": "#EBF0F8",
            "showbackground": true,
            "ticks": "",
            "zerolinecolor": "#EBF0F8"
           },
           "zaxis": {
            "backgroundcolor": "white",
            "gridcolor": "#DFE8F3",
            "gridwidth": 2,
            "linecolor": "#EBF0F8",
            "showbackground": true,
            "ticks": "",
            "zerolinecolor": "#EBF0F8"
           }
          },
          "shapedefaults": {
           "line": {
            "color": "#2a3f5f"
           }
          },
          "ternary": {
           "aaxis": {
            "gridcolor": "#DFE8F3",
            "linecolor": "#A2B1C6",
            "ticks": ""
           },
           "baxis": {
            "gridcolor": "#DFE8F3",
            "linecolor": "#A2B1C6",
            "ticks": ""
           },
           "bgcolor": "white",
           "caxis": {
            "gridcolor": "#DFE8F3",
            "linecolor": "#A2B1C6",
            "ticks": ""
           }
          },
          "title": {
           "x": 0.05
          },
          "xaxis": {
           "automargin": true,
           "gridcolor": "#EBF0F8",
           "linecolor": "#EBF0F8",
           "ticks": "",
           "title": {
            "standoff": 15
           },
           "zerolinecolor": "#EBF0F8",
           "zerolinewidth": 2
          },
          "yaxis": {
           "automargin": true,
           "gridcolor": "#EBF0F8",
           "linecolor": "#EBF0F8",
           "ticks": "",
           "title": {
            "standoff": 15
           },
           "zerolinecolor": "#EBF0F8",
           "zerolinewidth": 2
          }
         }
        },
        "title": {
         "text": "Evolução Acumulada (Normalizada) da Produção por Setor Industrial (2022–2025)"
        },
        "xaxis": {
         "title": {
          "text": "Data"
         }
        },
        "yaxis": {
         "title": {
          "text": "Produção Acumulada Normalizada"
         }
        }
       }
      }
     },
     "metadata": {},
     "output_type": "display_data"
    }
   ],
   "source": [
    "from sklearn.preprocessing import MinMaxScaler\n",
    "import plotly.graph_objects as go\n",
    "import pandas as pd\n",
    "\n",
    "# Normalizar os dados (Min-Max)\n",
    "scaler = MinMaxScaler()\n",
    "dados_normalizados = pd.DataFrame(\n",
    "    scaler.fit_transform(dados_producao_modificado),\n",
    "    columns=dados_producao_modificado.columns,\n",
    "    index=dados_producao_modificado.index\n",
    ")\n",
    "\n",
    "# Calcular acumulado ao longo do tempo\n",
    "dados_acumulados = dados_normalizados.cumsum()\n",
    "\n",
    "# Criar figura Plotly\n",
    "fig = go.Figure()\n",
    "\n",
    "for coluna in dados_acumulados.columns:\n",
    "    fig.add_trace(go.Scatter(\n",
    "        x=dados_acumulados.index,\n",
    "        y=dados_acumulados[coluna],\n",
    "        mode='lines',\n",
    "        name=coluna\n",
    "    ))\n",
    "\n",
    "fig.update_layout(\n",
    "    title='Evolução Acumulada (Normalizada) da Produção por Setor Industrial (2022–2025)',\n",
    "    xaxis_title='Data',\n",
    "    yaxis_title='Produção Acumulada Normalizada',\n",
    "    legend_title='Setor',\n",
    "    template='plotly_white',\n",
    "    hovermode='x unified',\n",
    "    height=600\n",
    ")\n",
    "\n",
    "fig.show()\n",
    "\n"
   ]
  },
  {
   "cell_type": "markdown",
   "metadata": {},
   "source": [
    "Ainda que normalizado, todos os setores tiveram um crescimento, ainda que algunsfossem bem menores que outros.\n",
    "\n",
    "Isso pode se dar em virtude da própria inflação ou do desenvolvimento do país."
   ]
  },
  {
   "cell_type": "code",
   "execution_count": 119,
   "metadata": {},
   "outputs": [
    {
     "data": {
      "application/vnd.plotly.v1+json": {
       "config": {
        "plotlyServerURL": "https://plot.ly"
       },
       "data": [
        {
         "coloraxis": "coloraxis",
         "hovertemplate": "NAME: %{x}<br>NAME: %{y}<br>Correlação: %{z}<extra></extra>",
         "name": "0",
         "texttemplate": "%{z:.2f}",
         "type": "heatmap",
         "x": [
          " artigos do vestuário e acessórios ",
          " bebidas ",
          " celulose, papel e produtos de papel ",
          " coque, derivados de petróleo e biocombustíveis ",
          " couros, artigos para viagem e calçados ",
          " equipamentos de informática, produtos eletrônicos e ópticos ",
          " indústria de transformação ",
          " indústrias extrativas ",
          " metalurgia ",
          " máquinas e equipamentos ",
          " máquinas, aparelhos e materiais elétricos ",
          " móveis ",
          " outros equipamentos de transporte, exceto veículos automotores ",
          " produtos alimentícios ",
          " produtos de borracha e material plástico ",
          " produtos de madeira ",
          " produtos de metal, exceto máquinas e equipamentos ",
          " produtos de minerais e não metálicos ",
          " produtos do fumo ",
          " produtos farmoquímicos e farmacêuticos ",
          " produtos químicos ",
          " produtos têxteis ",
          " veículos automotores, reboques e carrocerias "
         ],
         "xaxis": "x",
         "y": [
          " artigos do vestuário e acessórios ",
          " bebidas ",
          " celulose, papel e produtos de papel ",
          " coque, derivados de petróleo e biocombustíveis ",
          " couros, artigos para viagem e calçados ",
          " equipamentos de informática, produtos eletrônicos e ópticos ",
          " indústria de transformação ",
          " indústrias extrativas ",
          " metalurgia ",
          " máquinas e equipamentos ",
          " máquinas, aparelhos e materiais elétricos ",
          " móveis ",
          " outros equipamentos de transporte, exceto veículos automotores ",
          " produtos alimentícios ",
          " produtos de borracha e material plástico ",
          " produtos de madeira ",
          " produtos de metal, exceto máquinas e equipamentos ",
          " produtos de minerais e não metálicos ",
          " produtos do fumo ",
          " produtos farmoquímicos e farmacêuticos ",
          " produtos químicos ",
          " produtos têxteis ",
          " veículos automotores, reboques e carrocerias "
         ],
         "yaxis": "y",
         "z": {
          "bdata": "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",
          "dtype": "f8",
          "shape": "23, 23"
         }
        }
       ],
       "layout": {
        "coloraxis": {
         "colorbar": {
          "title": {
           "text": "Correlação"
          }
         },
         "colorscale": [
          [
           0,
           "rgb(5,48,97)"
          ],
          [
           0.1,
           "rgb(33,102,172)"
          ],
          [
           0.2,
           "rgb(67,147,195)"
          ],
          [
           0.3,
           "rgb(146,197,222)"
          ],
          [
           0.4,
           "rgb(209,229,240)"
          ],
          [
           0.5,
           "rgb(247,247,247)"
          ],
          [
           0.6,
           "rgb(253,219,199)"
          ],
          [
           0.7,
           "rgb(244,165,130)"
          ],
          [
           0.8,
           "rgb(214,96,77)"
          ],
          [
           0.9,
           "rgb(178,24,43)"
          ],
          [
           1,
           "rgb(103,0,31)"
          ]
         ]
        },
        "height": 800,
        "template": {
         "data": {
          "bar": [
           {
            "error_x": {
             "color": "#2a3f5f"
            },
            "error_y": {
             "color": "#2a3f5f"
            },
            "marker": {
             "line": {
              "color": "white",
              "width": 0.5
             },
             "pattern": {
              "fillmode": "overlay",
              "size": 10,
              "solidity": 0.2
             }
            },
            "type": "bar"
           }
          ],
          "barpolar": [
           {
            "marker": {
             "line": {
              "color": "white",
              "width": 0.5
             },
             "pattern": {
              "fillmode": "overlay",
              "size": 10,
              "solidity": 0.2
             }
            },
            "type": "barpolar"
           }
          ],
          "carpet": [
           {
            "aaxis": {
             "endlinecolor": "#2a3f5f",
             "gridcolor": "#C8D4E3",
             "linecolor": "#C8D4E3",
             "minorgridcolor": "#C8D4E3",
             "startlinecolor": "#2a3f5f"
            },
            "baxis": {
             "endlinecolor": "#2a3f5f",
             "gridcolor": "#C8D4E3",
             "linecolor": "#C8D4E3",
             "minorgridcolor": "#C8D4E3",
             "startlinecolor": "#2a3f5f"
            },
            "type": "carpet"
           }
          ],
          "choropleth": [
           {
            "colorbar": {
             "outlinewidth": 0,
             "ticks": ""
            },
            "type": "choropleth"
           }
          ],
          "contour": [
           {
            "colorbar": {
             "outlinewidth": 0,
             "ticks": ""
            },
            "colorscale": [
             [
              0,
              "#0d0887"
             ],
             [
              0.1111111111111111,
              "#46039f"
             ],
             [
              0.2222222222222222,
              "#7201a8"
             ],
             [
              0.3333333333333333,
              "#9c179e"
             ],
             [
              0.4444444444444444,
              "#bd3786"
             ],
             [
              0.5555555555555556,
              "#d8576b"
             ],
             [
              0.6666666666666666,
              "#ed7953"
             ],
             [
              0.7777777777777778,
              "#fb9f3a"
             ],
             [
              0.8888888888888888,
              "#fdca26"
             ],
             [
              1,
              "#f0f921"
             ]
            ],
            "type": "contour"
           }
          ],
          "contourcarpet": [
           {
            "colorbar": {
             "outlinewidth": 0,
             "ticks": ""
            },
            "type": "contourcarpet"
           }
          ],
          "heatmap": [
           {
            "colorbar": {
             "outlinewidth": 0,
             "ticks": ""
            },
            "colorscale": [
             [
              0,
              "#0d0887"
             ],
             [
              0.1111111111111111,
              "#46039f"
             ],
             [
              0.2222222222222222,
              "#7201a8"
             ],
             [
              0.3333333333333333,
              "#9c179e"
             ],
             [
              0.4444444444444444,
              "#bd3786"
             ],
             [
              0.5555555555555556,
              "#d8576b"
             ],
             [
              0.6666666666666666,
              "#ed7953"
             ],
             [
              0.7777777777777778,
              "#fb9f3a"
             ],
             [
              0.8888888888888888,
              "#fdca26"
             ],
             [
              1,
              "#f0f921"
             ]
            ],
            "type": "heatmap"
           }
          ],
          "histogram": [
           {
            "marker": {
             "pattern": {
              "fillmode": "overlay",
              "size": 10,
              "solidity": 0.2
             }
            },
            "type": "histogram"
           }
          ],
          "histogram2d": [
           {
            "colorbar": {
             "outlinewidth": 0,
             "ticks": ""
            },
            "colorscale": [
             [
              0,
              "#0d0887"
             ],
             [
              0.1111111111111111,
              "#46039f"
             ],
             [
              0.2222222222222222,
              "#7201a8"
             ],
             [
              0.3333333333333333,
              "#9c179e"
             ],
             [
              0.4444444444444444,
              "#bd3786"
             ],
             [
              0.5555555555555556,
              "#d8576b"
             ],
             [
              0.6666666666666666,
              "#ed7953"
             ],
             [
              0.7777777777777778,
              "#fb9f3a"
             ],
             [
              0.8888888888888888,
              "#fdca26"
             ],
             [
              1,
              "#f0f921"
             ]
            ],
            "type": "histogram2d"
           }
          ],
          "histogram2dcontour": [
           {
            "colorbar": {
             "outlinewidth": 0,
             "ticks": ""
            },
            "colorscale": [
             [
              0,
              "#0d0887"
             ],
             [
              0.1111111111111111,
              "#46039f"
             ],
             [
              0.2222222222222222,
              "#7201a8"
             ],
             [
              0.3333333333333333,
              "#9c179e"
             ],
             [
              0.4444444444444444,
              "#bd3786"
             ],
             [
              0.5555555555555556,
              "#d8576b"
             ],
             [
              0.6666666666666666,
              "#ed7953"
             ],
             [
              0.7777777777777778,
              "#fb9f3a"
             ],
             [
              0.8888888888888888,
              "#fdca26"
             ],
             [
              1,
              "#f0f921"
             ]
            ],
            "type": "histogram2dcontour"
           }
          ],
          "mesh3d": [
           {
            "colorbar": {
             "outlinewidth": 0,
             "ticks": ""
            },
            "type": "mesh3d"
           }
          ],
          "parcoords": [
           {
            "line": {
             "colorbar": {
              "outlinewidth": 0,
              "ticks": ""
             }
            },
            "type": "parcoords"
           }
          ],
          "pie": [
           {
            "automargin": true,
            "type": "pie"
           }
          ],
          "scatter": [
           {
            "fillpattern": {
             "fillmode": "overlay",
             "size": 10,
             "solidity": 0.2
            },
            "type": "scatter"
           }
          ],
          "scatter3d": [
           {
            "line": {
             "colorbar": {
              "outlinewidth": 0,
              "ticks": ""
             }
            },
            "marker": {
             "colorbar": {
              "outlinewidth": 0,
              "ticks": ""
             }
            },
            "type": "scatter3d"
           }
          ],
          "scattercarpet": [
           {
            "marker": {
             "colorbar": {
              "outlinewidth": 0,
              "ticks": ""
             }
            },
            "type": "scattercarpet"
           }
          ],
          "scattergeo": [
           {
            "marker": {
             "colorbar": {
              "outlinewidth": 0,
              "ticks": ""
             }
            },
            "type": "scattergeo"
           }
          ],
          "scattergl": [
           {
            "marker": {
             "colorbar": {
              "outlinewidth": 0,
              "ticks": ""
             }
            },
            "type": "scattergl"
           }
          ],
          "scattermap": [
           {
            "marker": {
             "colorbar": {
              "outlinewidth": 0,
              "ticks": ""
             }
            },
            "type": "scattermap"
           }
          ],
          "scattermapbox": [
           {
            "marker": {
             "colorbar": {
              "outlinewidth": 0,
              "ticks": ""
             }
            },
            "type": "scattermapbox"
           }
          ],
          "scatterpolar": [
           {
            "marker": {
             "colorbar": {
              "outlinewidth": 0,
              "ticks": ""
             }
            },
            "type": "scatterpolar"
           }
          ],
          "scatterpolargl": [
           {
            "marker": {
             "colorbar": {
              "outlinewidth": 0,
              "ticks": ""
             }
            },
            "type": "scatterpolargl"
           }
          ],
          "scatterternary": [
           {
            "marker": {
             "colorbar": {
              "outlinewidth": 0,
              "ticks": ""
             }
            },
            "type": "scatterternary"
           }
          ],
          "surface": [
           {
            "colorbar": {
             "outlinewidth": 0,
             "ticks": ""
            },
            "colorscale": [
             [
              0,
              "#0d0887"
             ],
             [
              0.1111111111111111,
              "#46039f"
             ],
             [
              0.2222222222222222,
              "#7201a8"
             ],
             [
              0.3333333333333333,
              "#9c179e"
             ],
             [
              0.4444444444444444,
              "#bd3786"
             ],
             [
              0.5555555555555556,
              "#d8576b"
             ],
             [
              0.6666666666666666,
              "#ed7953"
             ],
             [
              0.7777777777777778,
              "#fb9f3a"
             ],
             [
              0.8888888888888888,
              "#fdca26"
             ],
             [
              1,
              "#f0f921"
             ]
            ],
            "type": "surface"
           }
          ],
          "table": [
           {
            "cells": {
             "fill": {
              "color": "#EBF0F8"
             },
             "line": {
              "color": "white"
             }
            },
            "header": {
             "fill": {
              "color": "#C8D4E3"
             },
             "line": {
              "color": "white"
             }
            },
            "type": "table"
           }
          ]
         },
         "layout": {
          "annotationdefaults": {
           "arrowcolor": "#2a3f5f",
           "arrowhead": 0,
           "arrowwidth": 1
          },
          "autotypenumbers": "strict",
          "coloraxis": {
           "colorbar": {
            "outlinewidth": 0,
            "ticks": ""
           }
          },
          "colorscale": {
           "diverging": [
            [
             0,
             "#8e0152"
            ],
            [
             0.1,
             "#c51b7d"
            ],
            [
             0.2,
             "#de77ae"
            ],
            [
             0.3,
             "#f1b6da"
            ],
            [
             0.4,
             "#fde0ef"
            ],
            [
             0.5,
             "#f7f7f7"
            ],
            [
             0.6,
             "#e6f5d0"
            ],
            [
             0.7,
             "#b8e186"
            ],
            [
             0.8,
             "#7fbc41"
            ],
            [
             0.9,
             "#4d9221"
            ],
            [
             1,
             "#276419"
            ]
           ],
           "sequential": [
            [
             0,
             "#0d0887"
            ],
            [
             0.1111111111111111,
             "#46039f"
            ],
            [
             0.2222222222222222,
             "#7201a8"
            ],
            [
             0.3333333333333333,
             "#9c179e"
            ],
            [
             0.4444444444444444,
             "#bd3786"
            ],
            [
             0.5555555555555556,
             "#d8576b"
            ],
            [
             0.6666666666666666,
             "#ed7953"
            ],
            [
             0.7777777777777778,
             "#fb9f3a"
            ],
            [
             0.8888888888888888,
             "#fdca26"
            ],
            [
             1,
             "#f0f921"
            ]
           ],
           "sequentialminus": [
            [
             0,
             "#0d0887"
            ],
            [
             0.1111111111111111,
             "#46039f"
            ],
            [
             0.2222222222222222,
             "#7201a8"
            ],
            [
             0.3333333333333333,
             "#9c179e"
            ],
            [
             0.4444444444444444,
             "#bd3786"
            ],
            [
             0.5555555555555556,
             "#d8576b"
            ],
            [
             0.6666666666666666,
             "#ed7953"
            ],
            [
             0.7777777777777778,
             "#fb9f3a"
            ],
            [
             0.8888888888888888,
             "#fdca26"
            ],
            [
             1,
             "#f0f921"
            ]
           ]
          },
          "colorway": [
           "#636efa",
           "#EF553B",
           "#00cc96",
           "#ab63fa",
           "#FFA15A",
           "#19d3f3",
           "#FF6692",
           "#B6E880",
           "#FF97FF",
           "#FECB52"
          ],
          "font": {
           "color": "#2a3f5f"
          },
          "geo": {
           "bgcolor": "white",
           "lakecolor": "white",
           "landcolor": "white",
           "showlakes": true,
           "showland": true,
           "subunitcolor": "#C8D4E3"
          },
          "hoverlabel": {
           "align": "left"
          },
          "hovermode": "closest",
          "mapbox": {
           "style": "light"
          },
          "paper_bgcolor": "white",
          "plot_bgcolor": "white",
          "polar": {
           "angularaxis": {
            "gridcolor": "#EBF0F8",
            "linecolor": "#EBF0F8",
            "ticks": ""
           },
           "bgcolor": "white",
           "radialaxis": {
            "gridcolor": "#EBF0F8",
            "linecolor": "#EBF0F8",
            "ticks": ""
           }
          },
          "scene": {
           "xaxis": {
            "backgroundcolor": "white",
            "gridcolor": "#DFE8F3",
            "gridwidth": 2,
            "linecolor": "#EBF0F8",
            "showbackground": true,
            "ticks": "",
            "zerolinecolor": "#EBF0F8"
           },
           "yaxis": {
            "backgroundcolor": "white",
            "gridcolor": "#DFE8F3",
            "gridwidth": 2,
            "linecolor": "#EBF0F8",
            "showbackground": true,
            "ticks": "",
            "zerolinecolor": "#EBF0F8"
           },
           "zaxis": {
            "backgroundcolor": "white",
            "gridcolor": "#DFE8F3",
            "gridwidth": 2,
            "linecolor": "#EBF0F8",
            "showbackground": true,
            "ticks": "",
            "zerolinecolor": "#EBF0F8"
           }
          },
          "shapedefaults": {
           "line": {
            "color": "#2a3f5f"
           }
          },
          "ternary": {
           "aaxis": {
            "gridcolor": "#DFE8F3",
            "linecolor": "#A2B1C6",
            "ticks": ""
           },
           "baxis": {
            "gridcolor": "#DFE8F3",
            "linecolor": "#A2B1C6",
            "ticks": ""
           },
           "bgcolor": "white",
           "caxis": {
            "gridcolor": "#DFE8F3",
            "linecolor": "#A2B1C6",
            "ticks": ""
           }
          },
          "title": {
           "x": 0.05
          },
          "xaxis": {
           "automargin": true,
           "gridcolor": "#EBF0F8",
           "linecolor": "#EBF0F8",
           "ticks": "",
           "title": {
            "standoff": 15
           },
           "zerolinecolor": "#EBF0F8",
           "zerolinewidth": 2
          },
          "yaxis": {
           "automargin": true,
           "gridcolor": "#EBF0F8",
           "linecolor": "#EBF0F8",
           "ticks": "",
           "title": {
            "standoff": 15
           },
           "zerolinecolor": "#EBF0F8",
           "zerolinewidth": 2
          }
         }
        },
        "title": {
         "text": "Mapa de Calor das Correlações entre Setores Industriais"
        },
        "xaxis": {
         "anchor": "y",
         "domain": [
          0,
          1
         ],
         "title": {
          "text": "Setores Industriais"
         }
        },
        "yaxis": {
         "anchor": "x",
         "autorange": "reversed",
         "domain": [
          0,
          1
         ],
         "title": {
          "text": "Setores Industriais"
         }
        }
       }
      }
     },
     "metadata": {},
     "output_type": "display_data"
    }
   ],
   "source": [
    "import plotly.express as px\n",
    "import pandas as pd\n",
    "\n",
    "# Calcula a matriz de correlação\n",
    "correlacao = dados_producao_modificado.corr(method='pearson')\n",
    "\n",
    "# Cria o heatmap com Plotly\n",
    "fig = px.imshow(\n",
    "    correlacao,\n",
    "    text_auto='.2f',\n",
    "    color_continuous_scale='RdBu_r',\n",
    "    title='Mapa de Calor das Correlações entre Setores Industriais',\n",
    "    labels=dict(color='Correlação'),\n",
    "    aspect='auto'\n",
    ")\n",
    "\n",
    "fig.update_layout(\n",
    "    xaxis_title='Setores Industriais',\n",
    "    yaxis_title='Setores Industriais',\n",
    "    template='plotly_white',\n",
    "    height=800\n",
    ")\n",
    "\n",
    "fig.show()\n"
   ]
  },
  {
   "cell_type": "markdown",
   "metadata": {},
   "source": [
    "Acima, percebem-se interessantes correlações lineares, o que pode gerar hipóteses para uma futura solução analítica. Por ora, contudo, não há grande utilidade."
   ]
  },
  {
   "cell_type": "markdown",
   "metadata": {},
   "source": [
    "##### dados_energia_corrigido"
   ]
  },
  {
   "cell_type": "code",
   "execution_count": 120,
   "metadata": {},
   "outputs": [
    {
     "name": "stdout",
     "output_type": "stream",
     "text": [
      "<class 'pandas.core.frame.DataFrame'>\n",
      "RangeIndex: 87 entries, 0 to 86\n",
      "Data columns (total 4 columns):\n",
      " #   Column       Non-Null Count  Dtype         \n",
      "---  ------       --------------  -----         \n",
      " 0   DATE         87 non-null     datetime64[ns]\n",
      " 1   NOME_ESTADO  87 non-null     object        \n",
      " 2   NAME         87 non-null     object        \n",
      " 3   VALOR        87 non-null     float64       \n",
      "dtypes: datetime64[ns](1), float64(1), object(2)\n",
      "memory usage: 2.8+ KB\n"
     ]
    }
   ],
   "source": [
    "dados_energia_corrigido.info()"
   ]
  },
  {
   "cell_type": "markdown",
   "metadata": {},
   "source": [
    "Aparentemente nenhum valor nulo. Mas e por Estado?"
   ]
  },
  {
   "cell_type": "code",
   "execution_count": 121,
   "metadata": {},
   "outputs": [
    {
     "name": "stdout",
     "output_type": "stream",
     "text": [
      "\n",
      "==============================================\n",
      "Estado:                     Roraima\n",
      "Data Início:                2022-01-01 00:00:00\n",
      "Data Fim:                   2024-01-01 00:00:00\n",
      "Quantidade de Dados:        3\n",
      "Descrição Valorres: \n",
      "\n",
      "count        3.000000\n",
      "mean     29645.189667\n",
      "std       4508.380762\n",
      "min      24667.000000\n",
      "25%      27741.340000\n",
      "50%      30815.680000\n",
      "75%      32134.284500\n",
      "max      33452.889000\n",
      "Name: VALOR, dtype: float64\n",
      "==============================================\n",
      "\n",
      "\n",
      "==============================================\n",
      "Estado:                     Acre\n",
      "Data Início:                2022-01-01 00:00:00\n",
      "Data Fim:                   2024-01-01 00:00:00\n",
      "Quantidade de Dados:        3\n",
      "Descrição Valorres: \n",
      "\n",
      "count        3.000000\n",
      "mean     49065.835333\n",
      "std       2798.282426\n",
      "min      47034.200000\n",
      "25%      47469.955000\n",
      "50%      47905.710000\n",
      "75%      50081.653000\n",
      "max      52257.596000\n",
      "Name: VALOR, dtype: float64\n",
      "==============================================\n",
      "\n",
      "\n",
      "==============================================\n",
      "Estado:                     Amapá\n",
      "Data Início:                2022-01-01 00:00:00\n",
      "Data Fim:                   2024-01-01 00:00:00\n",
      "Quantidade de Dados:        3\n",
      "Descrição Valorres: \n",
      "\n",
      "count         3.000000\n",
      "mean      65055.439667\n",
      "std       33402.239954\n",
      "min       42435.490000\n",
      "25%       45873.044500\n",
      "50%       49310.599000\n",
      "75%       76365.414500\n",
      "max      103420.230000\n",
      "Name: VALOR, dtype: float64\n",
      "==============================================\n",
      "\n",
      "\n",
      "==============================================\n",
      "Estado:                     Piauí\n",
      "Data Início:                2022-01-01 00:00:00\n",
      "Data Fim:                   2024-01-01 00:00:00\n",
      "Quantidade de Dados:        3\n",
      "Descrição Valorres: \n",
      "\n",
      "count         3.000000\n",
      "mean     229020.020333\n",
      "std        6687.141826\n",
      "min      224390.340000\n",
      "25%      225186.670000\n",
      "50%      225983.000000\n",
      "75%      231334.860500\n",
      "max      236686.721000\n",
      "Name: VALOR, dtype: float64\n",
      "==============================================\n",
      "\n",
      "\n",
      "==============================================\n",
      "Estado:                     Tocantins\n",
      "Data Início:                2022-01-01 00:00:00\n",
      "Data Fim:                   2024-01-01 00:00:00\n",
      "Quantidade de Dados:        3\n",
      "Descrição Valorres: \n",
      "\n",
      "count         3.000000\n",
      "mean     459996.343333\n",
      "std       40364.129479\n",
      "min      421390.850000\n",
      "25%      439037.065000\n",
      "50%      456683.280000\n",
      "75%      479299.090000\n",
      "max      501914.900000\n",
      "Name: VALOR, dtype: float64\n",
      "==============================================\n",
      "\n",
      "\n",
      "==============================================\n",
      "Estado:                     Rondônia\n",
      "Data Início:                2022-01-01 00:00:00\n",
      "Data Fim:                   2024-01-01 00:00:00\n",
      "Quantidade de Dados:        3\n",
      "Descrição Valorres: \n",
      "\n",
      "count         3.000000\n",
      "mean     521492.098333\n",
      "std       34321.837515\n",
      "min      485277.920000\n",
      "25%      505467.390000\n",
      "50%      525656.860000\n",
      "75%      539599.187500\n",
      "max      553541.515000\n",
      "Name: VALOR, dtype: float64\n",
      "==============================================\n",
      "\n",
      "\n",
      "==============================================\n",
      "Estado:                     Distrito Federal\n",
      "Data Início:                2022-01-01 00:00:00\n",
      "Data Fim:                   2024-01-01 00:00:00\n",
      "Quantidade de Dados:        3\n",
      "Descrição Valorres: \n",
      "\n",
      "count         3.000000\n",
      "mean     597085.500000\n",
      "std       19555.439478\n",
      "min      581915.800000\n",
      "25%      586050.400000\n",
      "50%      590185.000000\n",
      "75%      604670.350000\n",
      "max      619155.700000\n",
      "Name: VALOR, dtype: float64\n",
      "==============================================\n",
      "\n",
      "\n",
      "==============================================\n",
      "Estado:                     Sergipe\n",
      "Data Início:                2022-01-01 00:00:00\n",
      "Data Fim:                   2024-01-01 00:00:00\n",
      "Quantidade de Dados:        3\n",
      "Descrição Valorres: \n",
      "\n",
      "count    3.000000e+00\n",
      "mean     1.145655e+06\n",
      "std      2.721074e+03\n",
      "min      1.142554e+06\n",
      "25%      1.144660e+06\n",
      "50%      1.146765e+06\n",
      "75%      1.147205e+06\n",
      "max      1.147646e+06\n",
      "Name: VALOR, dtype: float64\n",
      "==============================================\n",
      "\n",
      "\n",
      "==============================================\n",
      "Estado:                     Rio Grande do Norte\n",
      "Data Início:                2022-01-01 00:00:00\n",
      "Data Fim:                   2024-01-01 00:00:00\n",
      "Quantidade de Dados:        3\n",
      "Descrição Valorres: \n",
      "\n",
      "count    3.000000e+00\n",
      "mean     1.276885e+06\n",
      "std      3.914478e+04\n",
      "min      1.249376e+06\n",
      "25%      1.254478e+06\n",
      "50%      1.259579e+06\n",
      "75%      1.290640e+06\n",
      "max      1.321700e+06\n",
      "Name: VALOR, dtype: float64\n",
      "==============================================\n",
      "\n",
      "\n",
      "==============================================\n",
      "Estado:                     Paraíba\n",
      "Data Início:                2022-01-01 00:00:00\n",
      "Data Fim:                   2024-01-01 00:00:00\n",
      "Quantidade de Dados:        3\n",
      "Descrição Valorres: \n",
      "\n",
      "count    3.000000e+00\n",
      "mean     1.313779e+06\n",
      "std      4.794822e+04\n",
      "min      1.278593e+06\n",
      "25%      1.286472e+06\n",
      "50%      1.294352e+06\n",
      "75%      1.331372e+06\n",
      "max      1.368392e+06\n",
      "Name: VALOR, dtype: float64\n",
      "==============================================\n",
      "\n",
      "\n",
      "==============================================\n",
      "Estado:                     Alagoas\n",
      "Data Início:                2022-01-01 00:00:00\n",
      "Data Fim:                   2024-01-01 00:00:00\n",
      "Quantidade de Dados:        3\n",
      "Descrição Valorres: \n",
      "\n",
      "count    3.000000e+00\n",
      "mean     1.645626e+06\n",
      "std      9.861491e+04\n",
      "min      1.537222e+06\n",
      "25%      1.603431e+06\n",
      "50%      1.669639e+06\n",
      "75%      1.699828e+06\n",
      "max      1.730016e+06\n",
      "Name: VALOR, dtype: float64\n",
      "==============================================\n",
      "\n",
      "\n",
      "==============================================\n",
      "Estado:                     Mato Grosso do Sul\n",
      "Data Início:                2022-01-01 00:00:00\n",
      "Data Fim:                   2024-01-01 00:00:00\n",
      "Quantidade de Dados:        3\n",
      "Descrição Valorres: \n",
      "\n",
      "count    3.000000e+00\n",
      "mean     1.685218e+06\n",
      "std      1.596495e+05\n",
      "min      1.565045e+06\n",
      "25%      1.594643e+06\n",
      "50%      1.624240e+06\n",
      "75%      1.745305e+06\n",
      "max      1.866370e+06\n",
      "Name: VALOR, dtype: float64\n",
      "==============================================\n",
      "\n",
      "\n",
      "==============================================\n",
      "Estado:                     Amazonas\n",
      "Data Início:                2022-01-01 00:00:00\n",
      "Data Fim:                   2024-01-01 00:00:00\n",
      "Quantidade de Dados:        3\n",
      "Descrição Valorres: \n",
      "\n",
      "count    3.000000e+00\n",
      "mean     2.085192e+06\n",
      "std      1.793024e+05\n",
      "min      1.944254e+06\n",
      "25%      1.984285e+06\n",
      "50%      2.024316e+06\n",
      "75%      2.155662e+06\n",
      "max      2.287007e+06\n",
      "Name: VALOR, dtype: float64\n",
      "==============================================\n",
      "\n",
      "\n",
      "==============================================\n",
      "Estado:                     Mato Grosso\n",
      "Data Início:                2022-01-01 00:00:00\n",
      "Data Fim:                   2024-01-01 00:00:00\n",
      "Quantidade de Dados:        3\n",
      "Descrição Valorres: \n",
      "\n",
      "count    3.000000e+00\n",
      "mean     2.509977e+06\n",
      "std      1.624696e+05\n",
      "min      2.378793e+06\n",
      "25%      2.419109e+06\n",
      "50%      2.459426e+06\n",
      "75%      2.575570e+06\n",
      "max      2.691713e+06\n",
      "Name: VALOR, dtype: float64\n",
      "==============================================\n",
      "\n",
      "\n",
      "==============================================\n",
      "Estado:                     Ceará\n",
      "Data Início:                2022-01-01 00:00:00\n",
      "Data Fim:                   2024-01-01 00:00:00\n",
      "Quantidade de Dados:        3\n",
      "Descrição Valorres: \n",
      "\n",
      "count    3.000000e+00\n",
      "mean     2.714098e+06\n",
      "std      4.995119e+04\n",
      "min      2.667505e+06\n",
      "25%      2.687728e+06\n",
      "50%      2.707951e+06\n",
      "75%      2.737395e+06\n",
      "max      2.766838e+06\n",
      "Name: VALOR, dtype: float64\n",
      "==============================================\n",
      "\n",
      "\n",
      "==============================================\n",
      "Estado:                     Maranhão\n",
      "Data Início:                2022-01-01 00:00:00\n",
      "Data Fim:                   2024-01-01 00:00:00\n",
      "Quantidade de Dados:        3\n",
      "Descrição Valorres: \n",
      "\n",
      "count    3.000000e+00\n",
      "mean     5.185321e+06\n",
      "std      2.094033e+06\n",
      "min      2.828684e+06\n",
      "25%      4.361818e+06\n",
      "50%      5.894951e+06\n",
      "75%      6.363640e+06\n",
      "max      6.832329e+06\n",
      "Name: VALOR, dtype: float64\n",
      "==============================================\n",
      "\n",
      "\n",
      "==============================================\n",
      "Estado:                     Pernambuco\n",
      "Data Início:                2022-01-01 00:00:00\n",
      "Data Fim:                   2024-01-01 00:00:00\n",
      "Quantidade de Dados:        3\n",
      "Descrição Valorres: \n",
      "\n",
      "count    3.000000e+00\n",
      "mean     3.848621e+06\n",
      "std      4.634158e+04\n",
      "min      3.800530e+06\n",
      "25%      3.826437e+06\n",
      "50%      3.852343e+06\n",
      "75%      3.872666e+06\n",
      "max      3.892989e+06\n",
      "Name: VALOR, dtype: float64\n",
      "==============================================\n",
      "\n",
      "\n",
      "==============================================\n",
      "Estado:                     Espírito Santo\n",
      "Data Início:                2022-01-01 00:00:00\n",
      "Data Fim:                   2024-01-01 00:00:00\n",
      "Quantidade de Dados:        3\n",
      "Descrição Valorres: \n",
      "\n",
      "count    3.000000e+00\n",
      "mean     4.408440e+06\n",
      "std      4.204734e+05\n",
      "min      4.009635e+06\n",
      "25%      4.188828e+06\n",
      "50%      4.368022e+06\n",
      "75%      4.607842e+06\n",
      "max      4.847663e+06\n",
      "Name: VALOR, dtype: float64\n",
      "==============================================\n",
      "\n",
      "\n",
      "==============================================\n",
      "Estado:                     Goiás\n",
      "Data Início:                2022-01-01 00:00:00\n",
      "Data Fim:                   2024-01-01 00:00:00\n",
      "Quantidade de Dados:        3\n",
      "Descrição Valorres: \n",
      "\n",
      "count    3.000000e+00\n",
      "mean     6.175409e+06\n",
      "std      2.093042e+05\n",
      "min      5.973145e+06\n",
      "25%      6.067561e+06\n",
      "50%      6.161976e+06\n",
      "75%      6.276541e+06\n",
      "max      6.391107e+06\n",
      "Name: VALOR, dtype: float64\n",
      "==============================================\n",
      "\n",
      "\n",
      "==============================================\n",
      "Estado:                     Rio de Janeiro\n",
      "Data Início:                2022-01-01 00:00:00\n",
      "Data Fim:                   2024-01-01 00:00:00\n",
      "Quantidade de Dados:        3\n",
      "Descrição Valorres: \n",
      "\n",
      "count    3.000000e+00\n",
      "mean     8.395524e+06\n",
      "std      1.142447e+05\n",
      "min      8.272910e+06\n",
      "25%      8.343797e+06\n",
      "50%      8.414684e+06\n",
      "75%      8.456830e+06\n",
      "max      8.498976e+06\n",
      "Name: VALOR, dtype: float64\n",
      "==============================================\n",
      "\n",
      "\n",
      "==============================================\n",
      "Estado:                     Bahia\n",
      "Data Início:                2022-01-01 00:00:00\n",
      "Data Fim:                   2024-01-01 00:00:00\n",
      "Quantidade de Dados:        3\n",
      "Descrição Valorres: \n",
      "\n",
      "count    3.000000e+00\n",
      "mean     9.677118e+06\n",
      "std      1.753180e+05\n",
      "min      9.550180e+06\n",
      "25%      9.577098e+06\n",
      "50%      9.604015e+06\n",
      "75%      9.740586e+06\n",
      "max      9.877157e+06\n",
      "Name: VALOR, dtype: float64\n",
      "==============================================\n",
      "\n",
      "\n",
      "==============================================\n",
      "Estado:                     Rio Grande do Sul\n",
      "Data Início:                2022-01-01 00:00:00\n",
      "Data Fim:                   2024-01-01 00:00:00\n",
      "Quantidade de Dados:        3\n",
      "Descrição Valorres: \n",
      "\n",
      "count    3.000000e+00\n",
      "mean     1.017808e+07\n",
      "std      8.580792e+04\n",
      "min      1.010937e+07\n",
      "25%      1.012998e+07\n",
      "50%      1.015060e+07\n",
      "75%      1.021243e+07\n",
      "max      1.027426e+07\n",
      "Name: VALOR, dtype: float64\n",
      "==============================================\n",
      "\n",
      "\n",
      "==============================================\n",
      "Estado:                     Região Centro-oeste\n",
      "Data Início:                2022-01-01 00:00:00\n",
      "Data Fim:                   2022-01-01 00:00:00\n",
      "Quantidade de Dados:        1\n",
      "Descrição Valorres: \n",
      "\n",
      "count           1.00\n",
      "mean     10536139.28\n",
      "std              NaN\n",
      "min      10536139.28\n",
      "25%      10536139.28\n",
      "50%      10536139.28\n",
      "75%      10536139.28\n",
      "max      10536139.28\n",
      "Name: VALOR, dtype: float64\n",
      "==============================================\n",
      "\n",
      "\n",
      "==============================================\n",
      "Estado:                     Santa Catarina\n",
      "Data Início:                2022-01-01 00:00:00\n",
      "Data Fim:                   2024-01-01 00:00:00\n",
      "Quantidade de Dados:        3\n",
      "Descrição Valorres: \n",
      "\n",
      "count    3.000000e+00\n",
      "mean     1.190664e+07\n",
      "std      4.309757e+05\n",
      "min      1.161309e+07\n",
      "25%      1.165925e+07\n",
      "50%      1.170541e+07\n",
      "75%      1.205342e+07\n",
      "max      1.240143e+07\n",
      "Name: VALOR, dtype: float64\n",
      "==============================================\n",
      "\n",
      "\n",
      "==============================================\n",
      "Estado:                     Pará\n",
      "Data Início:                2022-01-01 00:00:00\n",
      "Data Fim:                   2024-01-01 00:00:00\n",
      "Quantidade de Dados:        3\n",
      "Descrição Valorres: \n",
      "\n",
      "count    3.000000e+00\n",
      "mean     1.374549e+07\n",
      "std      6.060629e+05\n",
      "min      1.307157e+07\n",
      "25%      1.349532e+07\n",
      "50%      1.391907e+07\n",
      "75%      1.408244e+07\n",
      "max      1.424582e+07\n",
      "Name: VALOR, dtype: float64\n",
      "==============================================\n",
      "\n",
      "\n",
      "==============================================\n",
      "Estado:                     Paraná\n",
      "Data Início:                2022-01-01 00:00:00\n",
      "Data Fim:                   2024-01-01 00:00:00\n",
      "Quantidade de Dados:        3\n",
      "Descrição Valorres: \n",
      "\n",
      "count    3.000000e+00\n",
      "mean     1.462594e+07\n",
      "std      4.801637e+05\n",
      "min      1.432709e+07\n",
      "25%      1.434901e+07\n",
      "50%      1.437092e+07\n",
      "75%      1.477537e+07\n",
      "max      1.517981e+07\n",
      "Name: VALOR, dtype: float64\n",
      "==============================================\n",
      "\n",
      "\n",
      "==============================================\n",
      "Estado:                     Região Norte\n",
      "Data Início:                2022-01-01 00:00:00\n",
      "Data Fim:                   2022-01-01 00:00:00\n",
      "Quantidade de Dados:        1\n",
      "Descrição Valorres: \n",
      "\n",
      "count           1.00\n",
      "mean     16098486.35\n",
      "std              NaN\n",
      "min      16098486.35\n",
      "25%      16098486.35\n",
      "50%      16098486.35\n",
      "75%      16098486.35\n",
      "max      16098486.35\n",
      "Name: VALOR, dtype: float64\n",
      "==============================================\n",
      "\n",
      "\n",
      "==============================================\n",
      "Estado:                     Região Nordeste\n",
      "Data Início:                2022-01-01 00:00:00\n",
      "Data Fim:                   2022-01-01 00:00:00\n",
      "Quantidade de Dados:        1\n",
      "Descrição Valorres: \n",
      "\n",
      "count           1.00\n",
      "mean     24437533.71\n",
      "std              NaN\n",
      "min      24437533.71\n",
      "25%      24437533.71\n",
      "50%      24437533.71\n",
      "75%      24437533.71\n",
      "max      24437533.71\n",
      "Name: VALOR, dtype: float64\n",
      "==============================================\n",
      "\n",
      "\n",
      "==============================================\n",
      "Estado:                     Minas Gerais\n",
      "Data Início:                2022-01-01 00:00:00\n",
      "Data Fim:                   2024-01-01 00:00:00\n",
      "Quantidade de Dados:        3\n",
      "Descrição Valorres: \n",
      "\n",
      "count    3.000000e+00\n",
      "mean     3.378247e+07\n",
      "std      1.712659e+06\n",
      "min      3.189353e+07\n",
      "25%      3.305669e+07\n",
      "50%      3.421986e+07\n",
      "75%      3.472694e+07\n",
      "max      3.523402e+07\n",
      "Name: VALOR, dtype: float64\n",
      "==============================================\n",
      "\n",
      "\n",
      "==============================================\n",
      "Estado:                     Região Sul\n",
      "Data Início:                2022-01-01 00:00:00\n",
      "Data Fim:                   2022-01-01 00:00:00\n",
      "Quantidade de Dados:        1\n",
      "Descrição Valorres: \n",
      "\n",
      "count    1.000000e+00\n",
      "mean     3.613461e+07\n",
      "std               NaN\n",
      "min      3.613461e+07\n",
      "25%      3.613461e+07\n",
      "50%      3.613461e+07\n",
      "75%      3.613461e+07\n",
      "max      3.613461e+07\n",
      "Name: VALOR, dtype: float64\n",
      "==============================================\n",
      "\n",
      "\n",
      "==============================================\n",
      "Estado:                     São Paulo\n",
      "Data Início:                2022-01-01 00:00:00\n",
      "Data Fim:                   2024-01-01 00:00:00\n",
      "Quantidade de Dados:        3\n",
      "Descrição Valorres: \n",
      "\n",
      "count    3.000000e+00\n",
      "mean     5.143551e+07\n",
      "std      1.406408e+06\n",
      "min      5.002712e+07\n",
      "25%      5.073331e+07\n",
      "50%      5.143950e+07\n",
      "75%      5.213971e+07\n",
      "max      5.283992e+07\n",
      "Name: VALOR, dtype: float64\n",
      "==============================================\n",
      "\n",
      "\n",
      "==============================================\n",
      "Estado:                     Região Sudeste\n",
      "Data Início:                2022-01-01 00:00:00\n",
      "Data Fim:                   2022-01-01 00:00:00\n",
      "Quantidade de Dados:        1\n",
      "Descrição Valorres: \n",
      "\n",
      "count           1.00\n",
      "mean     95757349.13\n",
      "std              NaN\n",
      "min      95757349.13\n",
      "25%      95757349.13\n",
      "50%      95757349.13\n",
      "75%      95757349.13\n",
      "max      95757349.13\n",
      "Name: VALOR, dtype: float64\n",
      "==============================================\n",
      "\n",
      "\n",
      "==============================================\n",
      "Estado:                     Brasil\n",
      "Data Início:                2022-01-01 00:00:00\n",
      "Data Fim:                   2022-01-01 00:00:00\n",
      "Quantidade de Dados:        1\n",
      "Descrição Valorres: \n",
      "\n",
      "count    1.000000e+00\n",
      "mean     1.829641e+08\n",
      "std               NaN\n",
      "min      1.829641e+08\n",
      "25%      1.829641e+08\n",
      "50%      1.829641e+08\n",
      "75%      1.829641e+08\n",
      "max      1.829641e+08\n",
      "Name: VALOR, dtype: float64\n",
      "==============================================\n",
      "\n"
     ]
    }
   ],
   "source": [
    "for uf in dados_energia_corrigido.NOME_ESTADO.unique():\n",
    "    temp = dados_energia_corrigido[dados_energia_corrigido['NOME_ESTADO']==uf]\n",
    "    texto = f\"\"\"\n",
    "==============================================\n",
    "Estado:                     {uf}\n",
    "Data Início:                {temp.DATE.min()}\n",
    "Data Fim:                   {temp.DATE.max()}\n",
    "Quantidade de Dados:        {temp.shape[0]}\n",
    "Descrição Valorres: \n",
    "\n",
    "{temp.VALOR.describe()}\n",
    "==============================================\n",
    "\"\"\"\n",
    "    print(texto)"
   ]
  },
  {
   "cell_type": "markdown",
   "metadata": {},
   "source": [
    "Acima, percebe-se que o dataset possui dados regionais também, mas que são desnecessários.\n",
    "\n",
    "Ainda, verifica-se que os dados são anuais, o que pode gerar uma futura inconsistência com os dados de produção."
   ]
  },
  {
   "cell_type": "code",
   "execution_count": 122,
   "metadata": {},
   "outputs": [
    {
     "data": {
      "text/plain": [
       "array(['Roraima', 'Acre', 'Amapá', 'Piauí', 'Tocantins', 'Rondônia',\n",
       "       'Distrito Federal', 'Sergipe', 'Rio Grande do Norte', 'Paraíba',\n",
       "       'Alagoas', 'Mato Grosso do Sul', 'Amazonas', 'Mato Grosso',\n",
       "       'Ceará', 'Maranhão', 'Pernambuco', 'Espírito Santo', 'Goiás',\n",
       "       'Rio de Janeiro', 'Bahia', 'Rio Grande do Sul', 'Santa Catarina',\n",
       "       'Pará', 'Paraná', 'Minas Gerais', 'São Paulo'], dtype=object)"
      ]
     },
     "execution_count": 122,
     "metadata": {},
     "output_type": "execute_result"
    }
   ],
   "source": [
    "# Excluindo dados regionais\n",
    "\n",
    "dados_regionais = ['Brasil', 'Região Sudeste', 'Região Sul', 'Região Norte', 'Região Nordeste', 'Região Centro-oeste']\n",
    "dados_energia_corrigido = dados_energia_corrigido[~dados_energia_corrigido['NOME_ESTADO'].isin(dados_regionais)]\n",
    "dados_energia_corrigido.NOME_ESTADO.unique()"
   ]
  },
  {
   "cell_type": "code",
   "execution_count": 123,
   "metadata": {},
   "outputs": [
    {
     "data": {
      "text/plain": [
       "count    8.100000e+01\n",
       "mean     7.025643e+06\n",
       "std      1.129471e+07\n",
       "min      2.466700e+04\n",
       "25%      6.191557e+05\n",
       "50%      2.459426e+06\n",
       "75%      9.550180e+06\n",
       "max      5.283992e+07\n",
       "Name: VALOR, dtype: float64"
      ]
     },
     "execution_count": 123,
     "metadata": {},
     "output_type": "execute_result"
    }
   ],
   "source": [
    "dados_energia_corrigido.VALOR.describe()"
   ]
  },
  {
   "cell_type": "markdown",
   "metadata": {},
   "source": [
    "Agora possuem 27 UF, todas com 3 valores (2022, 2023 e 2024). Aparentemente são adequados."
   ]
  },
  {
   "cell_type": "code",
   "execution_count": 124,
   "metadata": {},
   "outputs": [
    {
     "data": {
      "application/vnd.plotly.v1+json": {
       "config": {
        "plotlyServerURL": "https://plot.ly"
       },
       "data": [
        {
         "hovertemplate": "DATE=2022-01-01 00:00:00<br>Estado=%{x}<br>Consumo (MWh)=%{y}<extra></extra>",
         "legendgroup": "2022-01-01 00:00:00",
         "marker": {
          "color": "#636efa",
          "symbol": "circle"
         },
         "mode": "markers",
         "name": "2022-01-01 00:00:00",
         "orientation": "v",
         "showlegend": true,
         "type": "scatter",
         "x": [
          "Roraima",
          "Acre",
          "Amapá",
          "Piauí",
          "Tocantins",
          "Rondônia",
          "Distrito Federal",
          "Sergipe",
          "Rio Grande do Norte",
          "Paraíba",
          "Alagoas",
          "Mato Grosso do Sul",
          "Amazonas",
          "Mato Grosso",
          "Ceará",
          "Maranhão",
          "Pernambuco",
          "Espírito Santo",
          "Goiás",
          "Rio de Janeiro",
          "Bahia",
          "Rio Grande do Sul",
          "Santa Catarina",
          "Pará",
          "Paraná",
          "Minas Gerais",
          "São Paulo"
         ],
         "xaxis": "x",
         "y": {
          "bdata": "AAAAAMAW2ECF61G4NmTnQOF6FK7DP/lAAAAAAPiVC0FmZmZmO7gZQeF6FK53nh1BZmZmZiflIkHXo3C9/YIxQQAAAAA7ODNBFK5HIUjhNEFI4XqUxXQ3QTMzMzN14TdBAAAAAL6qPUFI4Xp0FCZCQY/C9Yj4WURB7FG4/sWURUGamZl5G2RNQc3MzExRl05B13oUXibJVkFSuB6NuwxgQQAAAIgsN2JBuB6Fs1hcY0HD9Si0cyZmQUjhelSa7mhB46WbgA1pa0EAAACAgWp+QY/C9XA8h4hB",
          "dtype": "f8"
         },
         "yaxis": "y"
        },
        {
         "hovertemplate": "DATE=2023-01-01 00:00:00<br>Estado=%{x}<br>Consumo (MWh)=%{y}<extra></extra>",
         "legendgroup": "2023-01-01 00:00:00",
         "marker": {
          "color": "#EF553B",
          "symbol": "circle"
         },
         "mode": "markers",
         "name": "2023-01-01 00:00:00",
         "orientation": "v",
         "showlegend": true,
         "type": "scatter",
         "x": [
          "Roraima",
          "Amapá",
          "Acre",
          "Piauí",
          "Tocantins",
          "Rondônia",
          "Distrito Federal",
          "Sergipe",
          "Rio Grande do Norte",
          "Paraíba",
          "Mato Grosso do Sul",
          "Alagoas",
          "Amazonas",
          "Mato Grosso",
          "Ceará",
          "Pernambuco",
          "Espírito Santo",
          "Maranhão",
          "Goiás",
          "Rio de Janeiro",
          "Bahia",
          "Rio Grande do Sul",
          "Santa Catarina",
          "Pará",
          "Paraná",
          "Minas Gerais",
          "São Paulo"
         ],
         "xaxis": "x",
         "y": {
          "bdata": "UrgehesX3kDhehSub7jkQGZmZmZG9+ZAhetRuDJkC0HsUbgerd8bQYXrUbixCiBBAAAAANICIkGPwvXojH8xQQAAAABgEDNB4XoULoGCM0FmZmbmr8g4QaRwPcrfZTpBAAAAAHzjPkFmZmbmkMNCQQrXo3D3qERBexSuJ+n+TEEzMzOTpalQQZqZmcnJfFZBMzMz842BV0FmZmaGA49fQT0K1+t1UWJBwvUofDdIY0F6xynEiFNmQZmZmRlsjGpBg8DK1aZTa0GkcD2GOlGAQQAAAGLT2odB",
          "dtype": "f8"
         },
         "yaxis": "y"
        },
        {
         "hovertemplate": "DATE=2024-01-01 00:00:00<br>Estado=%{x}<br>Consumo (MWh)=%{y}<extra></extra>",
         "legendgroup": "2024-01-01 00:00:00",
         "marker": {
          "color": "#00cc96",
          "symbol": "circle"
         },
         "mode": "markers",
         "name": "2024-01-01 00:00:00",
         "orientation": "v",
         "showlegend": true,
         "type": "scatter",
         "x": [
          "Roraima",
          "Amapá",
          "Acre",
          "Piauí",
          "Tocantins",
          "Rondônia",
          "Distrito Federal",
          "Sergipe",
          "Paraíba",
          "Rio Grande do Norte",
          "Alagoas",
          "Mato Grosso do Sul",
          "Amazonas",
          "Mato Grosso",
          "Ceará",
          "Pernambuco",
          "Espírito Santo",
          "Goiás",
          "Maranhão",
          "Rio de Janeiro",
          "Bahia",
          "Rio Grande do Sul",
          "Santa Catarina",
          "Pará",
          "Paraná",
          "Minas Gerais",
          "São Paulo"
         ],
         "xaxis": "x",
         "y": {
          "bdata": "xSCwcpxV4EBKDAIr0xPoQI2XbhIzhOlA46WbxHXkDEGamZmZa6IeQXsUrgeL5CBBmpmZmTfCIUFzaJFtGm8xQYlBYIUPwDNBAAAAAOQqNEHm0CJ7B3o5Qbbz/RSCejxBAAAAgM9yQUHufD+lQIlEQSuHFjn7G0VBjGzne36zTUHb+X6iC35SQaabxKhQYVhBMzMzQzIQWkE5tMgO5DVgQWQ735/U1mJBd76fDrqYY0GiRbZbYqdnQRgEVgb3K2tBObTIVgT0bEF56SYUB82AQe58P5svMolB",
          "dtype": "f8"
         },
         "yaxis": "y"
        }
       ],
       "layout": {
        "height": 600,
        "legend": {
         "title": {
          "text": "DATE"
         },
         "tracegroupgap": 0
        },
        "template": {
         "data": {
          "bar": [
           {
            "error_x": {
             "color": "#2a3f5f"
            },
            "error_y": {
             "color": "#2a3f5f"
            },
            "marker": {
             "line": {
              "color": "white",
              "width": 0.5
             },
             "pattern": {
              "fillmode": "overlay",
              "size": 10,
              "solidity": 0.2
             }
            },
            "type": "bar"
           }
          ],
          "barpolar": [
           {
            "marker": {
             "line": {
              "color": "white",
              "width": 0.5
             },
             "pattern": {
              "fillmode": "overlay",
              "size": 10,
              "solidity": 0.2
             }
            },
            "type": "barpolar"
           }
          ],
          "carpet": [
           {
            "aaxis": {
             "endlinecolor": "#2a3f5f",
             "gridcolor": "#C8D4E3",
             "linecolor": "#C8D4E3",
             "minorgridcolor": "#C8D4E3",
             "startlinecolor": "#2a3f5f"
            },
            "baxis": {
             "endlinecolor": "#2a3f5f",
             "gridcolor": "#C8D4E3",
             "linecolor": "#C8D4E3",
             "minorgridcolor": "#C8D4E3",
             "startlinecolor": "#2a3f5f"
            },
            "type": "carpet"
           }
          ],
          "choropleth": [
           {
            "colorbar": {
             "outlinewidth": 0,
             "ticks": ""
            },
            "type": "choropleth"
           }
          ],
          "contour": [
           {
            "colorbar": {
             "outlinewidth": 0,
             "ticks": ""
            },
            "colorscale": [
             [
              0,
              "#0d0887"
             ],
             [
              0.1111111111111111,
              "#46039f"
             ],
             [
              0.2222222222222222,
              "#7201a8"
             ],
             [
              0.3333333333333333,
              "#9c179e"
             ],
             [
              0.4444444444444444,
              "#bd3786"
             ],
             [
              0.5555555555555556,
              "#d8576b"
             ],
             [
              0.6666666666666666,
              "#ed7953"
             ],
             [
              0.7777777777777778,
              "#fb9f3a"
             ],
             [
              0.8888888888888888,
              "#fdca26"
             ],
             [
              1,
              "#f0f921"
             ]
            ],
            "type": "contour"
           }
          ],
          "contourcarpet": [
           {
            "colorbar": {
             "outlinewidth": 0,
             "ticks": ""
            },
            "type": "contourcarpet"
           }
          ],
          "heatmap": [
           {
            "colorbar": {
             "outlinewidth": 0,
             "ticks": ""
            },
            "colorscale": [
             [
              0,
              "#0d0887"
             ],
             [
              0.1111111111111111,
              "#46039f"
             ],
             [
              0.2222222222222222,
              "#7201a8"
             ],
             [
              0.3333333333333333,
              "#9c179e"
             ],
             [
              0.4444444444444444,
              "#bd3786"
             ],
             [
              0.5555555555555556,
              "#d8576b"
             ],
             [
              0.6666666666666666,
              "#ed7953"
             ],
             [
              0.7777777777777778,
              "#fb9f3a"
             ],
             [
              0.8888888888888888,
              "#fdca26"
             ],
             [
              1,
              "#f0f921"
             ]
            ],
            "type": "heatmap"
           }
          ],
          "histogram": [
           {
            "marker": {
             "pattern": {
              "fillmode": "overlay",
              "size": 10,
              "solidity": 0.2
             }
            },
            "type": "histogram"
           }
          ],
          "histogram2d": [
           {
            "colorbar": {
             "outlinewidth": 0,
             "ticks": ""
            },
            "colorscale": [
             [
              0,
              "#0d0887"
             ],
             [
              0.1111111111111111,
              "#46039f"
             ],
             [
              0.2222222222222222,
              "#7201a8"
             ],
             [
              0.3333333333333333,
              "#9c179e"
             ],
             [
              0.4444444444444444,
              "#bd3786"
             ],
             [
              0.5555555555555556,
              "#d8576b"
             ],
             [
              0.6666666666666666,
              "#ed7953"
             ],
             [
              0.7777777777777778,
              "#fb9f3a"
             ],
             [
              0.8888888888888888,
              "#fdca26"
             ],
             [
              1,
              "#f0f921"
             ]
            ],
            "type": "histogram2d"
           }
          ],
          "histogram2dcontour": [
           {
            "colorbar": {
             "outlinewidth": 0,
             "ticks": ""
            },
            "colorscale": [
             [
              0,
              "#0d0887"
             ],
             [
              0.1111111111111111,
              "#46039f"
             ],
             [
              0.2222222222222222,
              "#7201a8"
             ],
             [
              0.3333333333333333,
              "#9c179e"
             ],
             [
              0.4444444444444444,
              "#bd3786"
             ],
             [
              0.5555555555555556,
              "#d8576b"
             ],
             [
              0.6666666666666666,
              "#ed7953"
             ],
             [
              0.7777777777777778,
              "#fb9f3a"
             ],
             [
              0.8888888888888888,
              "#fdca26"
             ],
             [
              1,
              "#f0f921"
             ]
            ],
            "type": "histogram2dcontour"
           }
          ],
          "mesh3d": [
           {
            "colorbar": {
             "outlinewidth": 0,
             "ticks": ""
            },
            "type": "mesh3d"
           }
          ],
          "parcoords": [
           {
            "line": {
             "colorbar": {
              "outlinewidth": 0,
              "ticks": ""
             }
            },
            "type": "parcoords"
           }
          ],
          "pie": [
           {
            "automargin": true,
            "type": "pie"
           }
          ],
          "scatter": [
           {
            "fillpattern": {
             "fillmode": "overlay",
             "size": 10,
             "solidity": 0.2
            },
            "type": "scatter"
           }
          ],
          "scatter3d": [
           {
            "line": {
             "colorbar": {
              "outlinewidth": 0,
              "ticks": ""
             }
            },
            "marker": {
             "colorbar": {
              "outlinewidth": 0,
              "ticks": ""
             }
            },
            "type": "scatter3d"
           }
          ],
          "scattercarpet": [
           {
            "marker": {
             "colorbar": {
              "outlinewidth": 0,
              "ticks": ""
             }
            },
            "type": "scattercarpet"
           }
          ],
          "scattergeo": [
           {
            "marker": {
             "colorbar": {
              "outlinewidth": 0,
              "ticks": ""
             }
            },
            "type": "scattergeo"
           }
          ],
          "scattergl": [
           {
            "marker": {
             "colorbar": {
              "outlinewidth": 0,
              "ticks": ""
             }
            },
            "type": "scattergl"
           }
          ],
          "scattermap": [
           {
            "marker": {
             "colorbar": {
              "outlinewidth": 0,
              "ticks": ""
             }
            },
            "type": "scattermap"
           }
          ],
          "scattermapbox": [
           {
            "marker": {
             "colorbar": {
              "outlinewidth": 0,
              "ticks": ""
             }
            },
            "type": "scattermapbox"
           }
          ],
          "scatterpolar": [
           {
            "marker": {
             "colorbar": {
              "outlinewidth": 0,
              "ticks": ""
             }
            },
            "type": "scatterpolar"
           }
          ],
          "scatterpolargl": [
           {
            "marker": {
             "colorbar": {
              "outlinewidth": 0,
              "ticks": ""
             }
            },
            "type": "scatterpolargl"
           }
          ],
          "scatterternary": [
           {
            "marker": {
             "colorbar": {
              "outlinewidth": 0,
              "ticks": ""
             }
            },
            "type": "scatterternary"
           }
          ],
          "surface": [
           {
            "colorbar": {
             "outlinewidth": 0,
             "ticks": ""
            },
            "colorscale": [
             [
              0,
              "#0d0887"
             ],
             [
              0.1111111111111111,
              "#46039f"
             ],
             [
              0.2222222222222222,
              "#7201a8"
             ],
             [
              0.3333333333333333,
              "#9c179e"
             ],
             [
              0.4444444444444444,
              "#bd3786"
             ],
             [
              0.5555555555555556,
              "#d8576b"
             ],
             [
              0.6666666666666666,
              "#ed7953"
             ],
             [
              0.7777777777777778,
              "#fb9f3a"
             ],
             [
              0.8888888888888888,
              "#fdca26"
             ],
             [
              1,
              "#f0f921"
             ]
            ],
            "type": "surface"
           }
          ],
          "table": [
           {
            "cells": {
             "fill": {
              "color": "#EBF0F8"
             },
             "line": {
              "color": "white"
             }
            },
            "header": {
             "fill": {
              "color": "#C8D4E3"
             },
             "line": {
              "color": "white"
             }
            },
            "type": "table"
           }
          ]
         },
         "layout": {
          "annotationdefaults": {
           "arrowcolor": "#2a3f5f",
           "arrowhead": 0,
           "arrowwidth": 1
          },
          "autotypenumbers": "strict",
          "coloraxis": {
           "colorbar": {
            "outlinewidth": 0,
            "ticks": ""
           }
          },
          "colorscale": {
           "diverging": [
            [
             0,
             "#8e0152"
            ],
            [
             0.1,
             "#c51b7d"
            ],
            [
             0.2,
             "#de77ae"
            ],
            [
             0.3,
             "#f1b6da"
            ],
            [
             0.4,
             "#fde0ef"
            ],
            [
             0.5,
             "#f7f7f7"
            ],
            [
             0.6,
             "#e6f5d0"
            ],
            [
             0.7,
             "#b8e186"
            ],
            [
             0.8,
             "#7fbc41"
            ],
            [
             0.9,
             "#4d9221"
            ],
            [
             1,
             "#276419"
            ]
           ],
           "sequential": [
            [
             0,
             "#0d0887"
            ],
            [
             0.1111111111111111,
             "#46039f"
            ],
            [
             0.2222222222222222,
             "#7201a8"
            ],
            [
             0.3333333333333333,
             "#9c179e"
            ],
            [
             0.4444444444444444,
             "#bd3786"
            ],
            [
             0.5555555555555556,
             "#d8576b"
            ],
            [
             0.6666666666666666,
             "#ed7953"
            ],
            [
             0.7777777777777778,
             "#fb9f3a"
            ],
            [
             0.8888888888888888,
             "#fdca26"
            ],
            [
             1,
             "#f0f921"
            ]
           ],
           "sequentialminus": [
            [
             0,
             "#0d0887"
            ],
            [
             0.1111111111111111,
             "#46039f"
            ],
            [
             0.2222222222222222,
             "#7201a8"
            ],
            [
             0.3333333333333333,
             "#9c179e"
            ],
            [
             0.4444444444444444,
             "#bd3786"
            ],
            [
             0.5555555555555556,
             "#d8576b"
            ],
            [
             0.6666666666666666,
             "#ed7953"
            ],
            [
             0.7777777777777778,
             "#fb9f3a"
            ],
            [
             0.8888888888888888,
             "#fdca26"
            ],
            [
             1,
             "#f0f921"
            ]
           ]
          },
          "colorway": [
           "#636efa",
           "#EF553B",
           "#00cc96",
           "#ab63fa",
           "#FFA15A",
           "#19d3f3",
           "#FF6692",
           "#B6E880",
           "#FF97FF",
           "#FECB52"
          ],
          "font": {
           "color": "#2a3f5f"
          },
          "geo": {
           "bgcolor": "white",
           "lakecolor": "white",
           "landcolor": "white",
           "showlakes": true,
           "showland": true,
           "subunitcolor": "#C8D4E3"
          },
          "hoverlabel": {
           "align": "left"
          },
          "hovermode": "closest",
          "mapbox": {
           "style": "light"
          },
          "paper_bgcolor": "white",
          "plot_bgcolor": "white",
          "polar": {
           "angularaxis": {
            "gridcolor": "#EBF0F8",
            "linecolor": "#EBF0F8",
            "ticks": ""
           },
           "bgcolor": "white",
           "radialaxis": {
            "gridcolor": "#EBF0F8",
            "linecolor": "#EBF0F8",
            "ticks": ""
           }
          },
          "scene": {
           "xaxis": {
            "backgroundcolor": "white",
            "gridcolor": "#DFE8F3",
            "gridwidth": 2,
            "linecolor": "#EBF0F8",
            "showbackground": true,
            "ticks": "",
            "zerolinecolor": "#EBF0F8"
           },
           "yaxis": {
            "backgroundcolor": "white",
            "gridcolor": "#DFE8F3",
            "gridwidth": 2,
            "linecolor": "#EBF0F8",
            "showbackground": true,
            "ticks": "",
            "zerolinecolor": "#EBF0F8"
           },
           "zaxis": {
            "backgroundcolor": "white",
            "gridcolor": "#DFE8F3",
            "gridwidth": 2,
            "linecolor": "#EBF0F8",
            "showbackground": true,
            "ticks": "",
            "zerolinecolor": "#EBF0F8"
           }
          },
          "shapedefaults": {
           "line": {
            "color": "#2a3f5f"
           }
          },
          "ternary": {
           "aaxis": {
            "gridcolor": "#DFE8F3",
            "linecolor": "#A2B1C6",
            "ticks": ""
           },
           "baxis": {
            "gridcolor": "#DFE8F3",
            "linecolor": "#A2B1C6",
            "ticks": ""
           },
           "bgcolor": "white",
           "caxis": {
            "gridcolor": "#DFE8F3",
            "linecolor": "#A2B1C6",
            "ticks": ""
           }
          },
          "title": {
           "x": 0.05
          },
          "xaxis": {
           "automargin": true,
           "gridcolor": "#EBF0F8",
           "linecolor": "#EBF0F8",
           "ticks": "",
           "title": {
            "standoff": 15
           },
           "zerolinecolor": "#EBF0F8",
           "zerolinewidth": 2
          },
          "yaxis": {
           "automargin": true,
           "gridcolor": "#EBF0F8",
           "linecolor": "#EBF0F8",
           "ticks": "",
           "title": {
            "standoff": 15
           },
           "zerolinecolor": "#EBF0F8",
           "zerolinewidth": 2
          }
         }
        },
        "title": {
         "text": "Consumo de Energia Elétrica por Estado"
        },
        "xaxis": {
         "anchor": "y",
         "domain": [
          0,
          1
         ],
         "tickangle": -45,
         "title": {
          "text": "Estado"
         }
        },
        "yaxis": {
         "anchor": "x",
         "domain": [
          0,
          1
         ],
         "title": {
          "text": "Consumo (MWh)"
         }
        }
       }
      }
     },
     "metadata": {},
     "output_type": "display_data"
    }
   ],
   "source": [
    "import plotly.express as px\n",
    "\n",
    "fig = px.scatter(\n",
    "    dados_energia_corrigido,\n",
    "    x='NOME_ESTADO',\n",
    "    y='VALOR',\n",
    "    color='DATE',  # Opcional: cores diferentes por data\n",
    "    title='Consumo de Energia Elétrica por Estado',\n",
    "    labels={'VALOR': 'Consumo (MWh)', 'NOME_ESTADO': 'Estado'}\n",
    ")\n",
    "\n",
    "fig.update_layout(\n",
    "    xaxis_tickangle=-45,\n",
    "    template='plotly_white',\n",
    "    height=600\n",
    ")\n",
    "\n",
    "fig.show()\n"
   ]
  },
  {
   "cell_type": "markdown",
   "metadata": {},
   "source": [
    "MG e SP disparam no consumo, fazendo com que outras UF fiquem ocultas. Normalizando para uma melhor visualização da evolução:"
   ]
  },
  {
   "cell_type": "code",
   "execution_count": 125,
   "metadata": {},
   "outputs": [
    {
     "data": {
      "application/vnd.plotly.v1+json": {
       "config": {
        "plotlyServerURL": "https://plot.ly"
       },
       "data": [
        {
         "hovertemplate": "DATE=2022-01-01 00:00:00<br>Estado=%{x}<br>Consumo Relativo ao Início=%{y}<extra></extra>",
         "legendgroup": "2022-01-01 00:00:00",
         "marker": {
          "color": "#636efa",
          "symbol": "circle"
         },
         "mode": "markers",
         "name": "2022-01-01 00:00:00",
         "orientation": "v",
         "showlegend": true,
         "type": "scatter",
         "x": [
          "Acre",
          "Alagoas",
          "Amapá",
          "Amazonas",
          "Bahia",
          "Ceará",
          "Distrito Federal",
          "Espírito Santo",
          "Goiás",
          "Maranhão",
          "Mato Grosso",
          "Mato Grosso do Sul",
          "Minas Gerais",
          "Paraná",
          "Paraíba",
          "Pará",
          "Pernambuco",
          "Piauí",
          "Rio Grande do Norte",
          "Rio Grande do Sul",
          "Rio de Janeiro",
          "Rondônia",
          "Roraima",
          "Santa Catarina",
          "Sergipe",
          "São Paulo",
          "Tocantins"
         ],
         "xaxis": "x",
         "y": {
          "bdata": "AAAAAAAA8D8AAAAAAADwPwAAAAAAAPA/AAAAAAAA8D8AAAAAAADwPwAAAAAAAPA/AAAAAAAA8D8AAAAAAADwPwAAAAAAAPA/AAAAAAAA8D8AAAAAAADwPwAAAAAAAPA/AAAAAAAA8D8AAAAAAADwPwAAAAAAAPA/AAAAAAAA8D8AAAAAAADwPwAAAAAAAPA/AAAAAAAA8D8AAAAAAADwPwAAAAAAAPA/AAAAAAAA8D8AAAAAAADwPwAAAAAAAPA/AAAAAAAA8D8AAAAAAADwPwAAAAAAAPA/",
          "dtype": "f8"
         },
         "yaxis": "y"
        },
        {
         "hovertemplate": "DATE=2023-01-01 00:00:00<br>Estado=%{x}<br>Consumo Relativo ao Início=%{y}<extra></extra>",
         "legendgroup": "2023-01-01 00:00:00",
         "marker": {
          "color": "#EF553B",
          "symbol": "circle"
         },
         "mode": "markers",
         "name": "2023-01-01 00:00:00",
         "orientation": "v",
         "showlegend": true,
         "type": "scatter",
         "x": [
          "Acre",
          "Alagoas",
          "Amapá",
          "Amazonas",
          "Bahia",
          "Ceará",
          "Distrito Federal",
          "Espírito Santo",
          "Goiás",
          "Maranhão",
          "Mato Grosso",
          "Mato Grosso do Sul",
          "Minas Gerais",
          "Paraná",
          "Paraíba",
          "Pará",
          "Pernambuco",
          "Piauí",
          "Rio Grande do Norte",
          "Rio Grande do Sul",
          "Rio de Janeiro",
          "Rondônia",
          "Roraima",
          "Santa Catarina",
          "Sergipe",
          "São Paulo",
          "Tocantins"
         ],
         "xaxis": "x",
         "y": {
          "bdata": "pErhM/hq7z/71FeXtQHyP/s+MOyyQto/qQGFE6uo8D9XXNvnFhfwP+Dv4/AaPvA/rQIH47CA7j9AaTJwG27xP+QVstt8gfA/TbvzUQOsAECfpcsd14rwP0afdknsmvA/x7cgn8Mq8T/zd7L5A+fvP482JSJp5u0/XqkG+pAJ8T8IbogN0pHvP2BCzOdDxu8/etHQYqS97z9P9JCbut7vPw+lW0L6de8/Sf9fxdFU8T/TXYzb//zzP9MCL5WQIPA/RcACarb57z/mRMIHEh/vPyYqQ5gMV/E/",
          "dtype": "f8"
         },
         "yaxis": "y"
        },
        {
         "hovertemplate": "DATE=2024-01-01 00:00:00<br>Estado=%{x}<br>Consumo Relativo ao Início=%{y}<extra></extra>",
         "legendgroup": "2024-01-01 00:00:00",
         "marker": {
          "color": "#00cc96",
          "symbol": "circle"
         },
         "mode": "markers",
         "name": "2024-01-01 00:00:00",
         "orientation": "v",
         "showlegend": true,
         "type": "scatter",
         "x": [
          "Acre",
          "Alagoas",
          "Amapá",
          "Amazonas",
          "Bahia",
          "Ceará",
          "Distrito Federal",
          "Espírito Santo",
          "Goiás",
          "Maranhão",
          "Mato Grosso",
          "Mato Grosso do Sul",
          "Minas Gerais",
          "Paraná",
          "Paraíba",
          "Pará",
          "Pernambuco",
          "Piauí",
          "Rio Grande do Norte",
          "Rio Grande do Sul",
          "Rio de Janeiro",
          "Rondônia",
          "Roraima",
          "Santa Catarina",
          "Sergipe",
          "São Paulo",
          "Tocantins"
         ],
         "xaxis": "x",
         "y": {
          "bdata": "TT+ShBd08T/0SIhz1WDxP3AKU2Pdg94/WidfthXS8j88y8fjPIzwP/ENQDKHmPA/IpFKJkgT7j/q4ykgFFjzP84rr2ecHvE/GRaweK9SA0BzamLXzxryP1OFm9ieFPM/B18qnQKt8T/+1+yAjObwP2r68Na/RO4/NCl9svNv8T/dJNeCNyvwP2g6YfgBwvA/U8eYkgLK8D9VlZAx5jHwP2Mu0NoHKfA/K7mrNi5A8j+WA2ur6bL1P22cimYNFvE/qP5UYqjb7z8UzU4Xg2/wPzpnQ5C1DvM/",
          "dtype": "f8"
         },
         "yaxis": "y"
        }
       ],
       "layout": {
        "height": 600,
        "legend": {
         "title": {
          "text": "DATE"
         },
         "tracegroupgap": 0
        },
        "template": {
         "data": {
          "bar": [
           {
            "error_x": {
             "color": "#2a3f5f"
            },
            "error_y": {
             "color": "#2a3f5f"
            },
            "marker": {
             "line": {
              "color": "white",
              "width": 0.5
             },
             "pattern": {
              "fillmode": "overlay",
              "size": 10,
              "solidity": 0.2
             }
            },
            "type": "bar"
           }
          ],
          "barpolar": [
           {
            "marker": {
             "line": {
              "color": "white",
              "width": 0.5
             },
             "pattern": {
              "fillmode": "overlay",
              "size": 10,
              "solidity": 0.2
             }
            },
            "type": "barpolar"
           }
          ],
          "carpet": [
           {
            "aaxis": {
             "endlinecolor": "#2a3f5f",
             "gridcolor": "#C8D4E3",
             "linecolor": "#C8D4E3",
             "minorgridcolor": "#C8D4E3",
             "startlinecolor": "#2a3f5f"
            },
            "baxis": {
             "endlinecolor": "#2a3f5f",
             "gridcolor": "#C8D4E3",
             "linecolor": "#C8D4E3",
             "minorgridcolor": "#C8D4E3",
             "startlinecolor": "#2a3f5f"
            },
            "type": "carpet"
           }
          ],
          "choropleth": [
           {
            "colorbar": {
             "outlinewidth": 0,
             "ticks": ""
            },
            "type": "choropleth"
           }
          ],
          "contour": [
           {
            "colorbar": {
             "outlinewidth": 0,
             "ticks": ""
            },
            "colorscale": [
             [
              0,
              "#0d0887"
             ],
             [
              0.1111111111111111,
              "#46039f"
             ],
             [
              0.2222222222222222,
              "#7201a8"
             ],
             [
              0.3333333333333333,
              "#9c179e"
             ],
             [
              0.4444444444444444,
              "#bd3786"
             ],
             [
              0.5555555555555556,
              "#d8576b"
             ],
             [
              0.6666666666666666,
              "#ed7953"
             ],
             [
              0.7777777777777778,
              "#fb9f3a"
             ],
             [
              0.8888888888888888,
              "#fdca26"
             ],
             [
              1,
              "#f0f921"
             ]
            ],
            "type": "contour"
           }
          ],
          "contourcarpet": [
           {
            "colorbar": {
             "outlinewidth": 0,
             "ticks": ""
            },
            "type": "contourcarpet"
           }
          ],
          "heatmap": [
           {
            "colorbar": {
             "outlinewidth": 0,
             "ticks": ""
            },
            "colorscale": [
             [
              0,
              "#0d0887"
             ],
             [
              0.1111111111111111,
              "#46039f"
             ],
             [
              0.2222222222222222,
              "#7201a8"
             ],
             [
              0.3333333333333333,
              "#9c179e"
             ],
             [
              0.4444444444444444,
              "#bd3786"
             ],
             [
              0.5555555555555556,
              "#d8576b"
             ],
             [
              0.6666666666666666,
              "#ed7953"
             ],
             [
              0.7777777777777778,
              "#fb9f3a"
             ],
             [
              0.8888888888888888,
              "#fdca26"
             ],
             [
              1,
              "#f0f921"
             ]
            ],
            "type": "heatmap"
           }
          ],
          "histogram": [
           {
            "marker": {
             "pattern": {
              "fillmode": "overlay",
              "size": 10,
              "solidity": 0.2
             }
            },
            "type": "histogram"
           }
          ],
          "histogram2d": [
           {
            "colorbar": {
             "outlinewidth": 0,
             "ticks": ""
            },
            "colorscale": [
             [
              0,
              "#0d0887"
             ],
             [
              0.1111111111111111,
              "#46039f"
             ],
             [
              0.2222222222222222,
              "#7201a8"
             ],
             [
              0.3333333333333333,
              "#9c179e"
             ],
             [
              0.4444444444444444,
              "#bd3786"
             ],
             [
              0.5555555555555556,
              "#d8576b"
             ],
             [
              0.6666666666666666,
              "#ed7953"
             ],
             [
              0.7777777777777778,
              "#fb9f3a"
             ],
             [
              0.8888888888888888,
              "#fdca26"
             ],
             [
              1,
              "#f0f921"
             ]
            ],
            "type": "histogram2d"
           }
          ],
          "histogram2dcontour": [
           {
            "colorbar": {
             "outlinewidth": 0,
             "ticks": ""
            },
            "colorscale": [
             [
              0,
              "#0d0887"
             ],
             [
              0.1111111111111111,
              "#46039f"
             ],
             [
              0.2222222222222222,
              "#7201a8"
             ],
             [
              0.3333333333333333,
              "#9c179e"
             ],
             [
              0.4444444444444444,
              "#bd3786"
             ],
             [
              0.5555555555555556,
              "#d8576b"
             ],
             [
              0.6666666666666666,
              "#ed7953"
             ],
             [
              0.7777777777777778,
              "#fb9f3a"
             ],
             [
              0.8888888888888888,
              "#fdca26"
             ],
             [
              1,
              "#f0f921"
             ]
            ],
            "type": "histogram2dcontour"
           }
          ],
          "mesh3d": [
           {
            "colorbar": {
             "outlinewidth": 0,
             "ticks": ""
            },
            "type": "mesh3d"
           }
          ],
          "parcoords": [
           {
            "line": {
             "colorbar": {
              "outlinewidth": 0,
              "ticks": ""
             }
            },
            "type": "parcoords"
           }
          ],
          "pie": [
           {
            "automargin": true,
            "type": "pie"
           }
          ],
          "scatter": [
           {
            "fillpattern": {
             "fillmode": "overlay",
             "size": 10,
             "solidity": 0.2
            },
            "type": "scatter"
           }
          ],
          "scatter3d": [
           {
            "line": {
             "colorbar": {
              "outlinewidth": 0,
              "ticks": ""
             }
            },
            "marker": {
             "colorbar": {
              "outlinewidth": 0,
              "ticks": ""
             }
            },
            "type": "scatter3d"
           }
          ],
          "scattercarpet": [
           {
            "marker": {
             "colorbar": {
              "outlinewidth": 0,
              "ticks": ""
             }
            },
            "type": "scattercarpet"
           }
          ],
          "scattergeo": [
           {
            "marker": {
             "colorbar": {
              "outlinewidth": 0,
              "ticks": ""
             }
            },
            "type": "scattergeo"
           }
          ],
          "scattergl": [
           {
            "marker": {
             "colorbar": {
              "outlinewidth": 0,
              "ticks": ""
             }
            },
            "type": "scattergl"
           }
          ],
          "scattermap": [
           {
            "marker": {
             "colorbar": {
              "outlinewidth": 0,
              "ticks": ""
             }
            },
            "type": "scattermap"
           }
          ],
          "scattermapbox": [
           {
            "marker": {
             "colorbar": {
              "outlinewidth": 0,
              "ticks": ""
             }
            },
            "type": "scattermapbox"
           }
          ],
          "scatterpolar": [
           {
            "marker": {
             "colorbar": {
              "outlinewidth": 0,
              "ticks": ""
             }
            },
            "type": "scatterpolar"
           }
          ],
          "scatterpolargl": [
           {
            "marker": {
             "colorbar": {
              "outlinewidth": 0,
              "ticks": ""
             }
            },
            "type": "scatterpolargl"
           }
          ],
          "scatterternary": [
           {
            "marker": {
             "colorbar": {
              "outlinewidth": 0,
              "ticks": ""
             }
            },
            "type": "scatterternary"
           }
          ],
          "surface": [
           {
            "colorbar": {
             "outlinewidth": 0,
             "ticks": ""
            },
            "colorscale": [
             [
              0,
              "#0d0887"
             ],
             [
              0.1111111111111111,
              "#46039f"
             ],
             [
              0.2222222222222222,
              "#7201a8"
             ],
             [
              0.3333333333333333,
              "#9c179e"
             ],
             [
              0.4444444444444444,
              "#bd3786"
             ],
             [
              0.5555555555555556,
              "#d8576b"
             ],
             [
              0.6666666666666666,
              "#ed7953"
             ],
             [
              0.7777777777777778,
              "#fb9f3a"
             ],
             [
              0.8888888888888888,
              "#fdca26"
             ],
             [
              1,
              "#f0f921"
             ]
            ],
            "type": "surface"
           }
          ],
          "table": [
           {
            "cells": {
             "fill": {
              "color": "#EBF0F8"
             },
             "line": {
              "color": "white"
             }
            },
            "header": {
             "fill": {
              "color": "#C8D4E3"
             },
             "line": {
              "color": "white"
             }
            },
            "type": "table"
           }
          ]
         },
         "layout": {
          "annotationdefaults": {
           "arrowcolor": "#2a3f5f",
           "arrowhead": 0,
           "arrowwidth": 1
          },
          "autotypenumbers": "strict",
          "coloraxis": {
           "colorbar": {
            "outlinewidth": 0,
            "ticks": ""
           }
          },
          "colorscale": {
           "diverging": [
            [
             0,
             "#8e0152"
            ],
            [
             0.1,
             "#c51b7d"
            ],
            [
             0.2,
             "#de77ae"
            ],
            [
             0.3,
             "#f1b6da"
            ],
            [
             0.4,
             "#fde0ef"
            ],
            [
             0.5,
             "#f7f7f7"
            ],
            [
             0.6,
             "#e6f5d0"
            ],
            [
             0.7,
             "#b8e186"
            ],
            [
             0.8,
             "#7fbc41"
            ],
            [
             0.9,
             "#4d9221"
            ],
            [
             1,
             "#276419"
            ]
           ],
           "sequential": [
            [
             0,
             "#0d0887"
            ],
            [
             0.1111111111111111,
             "#46039f"
            ],
            [
             0.2222222222222222,
             "#7201a8"
            ],
            [
             0.3333333333333333,
             "#9c179e"
            ],
            [
             0.4444444444444444,
             "#bd3786"
            ],
            [
             0.5555555555555556,
             "#d8576b"
            ],
            [
             0.6666666666666666,
             "#ed7953"
            ],
            [
             0.7777777777777778,
             "#fb9f3a"
            ],
            [
             0.8888888888888888,
             "#fdca26"
            ],
            [
             1,
             "#f0f921"
            ]
           ],
           "sequentialminus": [
            [
             0,
             "#0d0887"
            ],
            [
             0.1111111111111111,
             "#46039f"
            ],
            [
             0.2222222222222222,
             "#7201a8"
            ],
            [
             0.3333333333333333,
             "#9c179e"
            ],
            [
             0.4444444444444444,
             "#bd3786"
            ],
            [
             0.5555555555555556,
             "#d8576b"
            ],
            [
             0.6666666666666666,
             "#ed7953"
            ],
            [
             0.7777777777777778,
             "#fb9f3a"
            ],
            [
             0.8888888888888888,
             "#fdca26"
            ],
            [
             1,
             "#f0f921"
            ]
           ]
          },
          "colorway": [
           "#636efa",
           "#EF553B",
           "#00cc96",
           "#ab63fa",
           "#FFA15A",
           "#19d3f3",
           "#FF6692",
           "#B6E880",
           "#FF97FF",
           "#FECB52"
          ],
          "font": {
           "color": "#2a3f5f"
          },
          "geo": {
           "bgcolor": "white",
           "lakecolor": "white",
           "landcolor": "white",
           "showlakes": true,
           "showland": true,
           "subunitcolor": "#C8D4E3"
          },
          "hoverlabel": {
           "align": "left"
          },
          "hovermode": "closest",
          "mapbox": {
           "style": "light"
          },
          "paper_bgcolor": "white",
          "plot_bgcolor": "white",
          "polar": {
           "angularaxis": {
            "gridcolor": "#EBF0F8",
            "linecolor": "#EBF0F8",
            "ticks": ""
           },
           "bgcolor": "white",
           "radialaxis": {
            "gridcolor": "#EBF0F8",
            "linecolor": "#EBF0F8",
            "ticks": ""
           }
          },
          "scene": {
           "xaxis": {
            "backgroundcolor": "white",
            "gridcolor": "#DFE8F3",
            "gridwidth": 2,
            "linecolor": "#EBF0F8",
            "showbackground": true,
            "ticks": "",
            "zerolinecolor": "#EBF0F8"
           },
           "yaxis": {
            "backgroundcolor": "white",
            "gridcolor": "#DFE8F3",
            "gridwidth": 2,
            "linecolor": "#EBF0F8",
            "showbackground": true,
            "ticks": "",
            "zerolinecolor": "#EBF0F8"
           },
           "zaxis": {
            "backgroundcolor": "white",
            "gridcolor": "#DFE8F3",
            "gridwidth": 2,
            "linecolor": "#EBF0F8",
            "showbackground": true,
            "ticks": "",
            "zerolinecolor": "#EBF0F8"
           }
          },
          "shapedefaults": {
           "line": {
            "color": "#2a3f5f"
           }
          },
          "ternary": {
           "aaxis": {
            "gridcolor": "#DFE8F3",
            "linecolor": "#A2B1C6",
            "ticks": ""
           },
           "baxis": {
            "gridcolor": "#DFE8F3",
            "linecolor": "#A2B1C6",
            "ticks": ""
           },
           "bgcolor": "white",
           "caxis": {
            "gridcolor": "#DFE8F3",
            "linecolor": "#A2B1C6",
            "ticks": ""
           }
          },
          "title": {
           "x": 0.05
          },
          "xaxis": {
           "automargin": true,
           "gridcolor": "#EBF0F8",
           "linecolor": "#EBF0F8",
           "ticks": "",
           "title": {
            "standoff": 15
           },
           "zerolinecolor": "#EBF0F8",
           "zerolinewidth": 2
          },
          "yaxis": {
           "automargin": true,
           "gridcolor": "#EBF0F8",
           "linecolor": "#EBF0F8",
           "ticks": "",
           "title": {
            "standoff": 15
           },
           "zerolinecolor": "#EBF0F8",
           "zerolinewidth": 2
          }
         }
        },
        "title": {
         "text": "Consumo de Energia Elétrica Normalizado pela Primeira Data (por Estado)"
        },
        "xaxis": {
         "anchor": "y",
         "domain": [
          0,
          1
         ],
         "tickangle": -45,
         "title": {
          "text": "Estado"
         }
        },
        "yaxis": {
         "anchor": "x",
         "domain": [
          0,
          1
         ],
         "title": {
          "text": "Consumo Relativo ao Início"
         }
        }
       }
      }
     },
     "metadata": {},
     "output_type": "display_data"
    }
   ],
   "source": [
    "import pandas as pd\n",
    "import plotly.express as px\n",
    "\n",
    "# Copiar o DataFrame\n",
    "dados_normalizados = dados_energia_corrigido.copy()\n",
    "\n",
    "# Ordenar por data para garantir que a primeira data venha primeiro\n",
    "dados_normalizados = dados_normalizados.sort_values(['NOME_ESTADO', 'DATE'])\n",
    "\n",
    "# Obter o valor da primeira data por estado\n",
    "valores_iniciais = dados_normalizados.groupby('NOME_ESTADO')['VALOR'].transform('first')\n",
    "\n",
    "# Normalizar com base no valor da primeira data\n",
    "dados_normalizados['VALOR_NORMALIZADO'] = dados_normalizados['VALOR'] / valores_iniciais\n",
    "\n",
    "# Criar scatter plot com Plotly\n",
    "fig = px.scatter(\n",
    "    dados_normalizados,\n",
    "    x='NOME_ESTADO',\n",
    "    y='VALOR_NORMALIZADO',\n",
    "    color='DATE',\n",
    "    title='Consumo de Energia Elétrica Normalizado pela Primeira Data (por Estado)',\n",
    "    labels={'VALOR_NORMALIZADO': 'Consumo Relativo ao Início', 'NOME_ESTADO': 'Estado'}\n",
    ")\n",
    "\n",
    "fig.update_layout(\n",
    "    xaxis_tickangle=-45,\n",
    "    template='plotly_white',\n",
    "    height=600\n",
    ")\n",
    "\n",
    "fig.show()\n",
    "\n"
   ]
  },
  {
   "cell_type": "markdown",
   "metadata": {},
   "source": [
    "Aqui percebe-se que:\n",
    "\n",
    "1. Amapá e Paraíba obtiveram REDUÇÃO DE CONSUMO DE ENERGIA\n",
    "2. Maranhão figura como um outlier, com uma evolução elevadíssima de consumo de energia.\n",
    "3. Roraima, Espírito Santo, Amazonas e Mato Grosso do Sul possuem uma elevada evolução\n",
    "4. São Paulo, Rio de Janeiro, Rio Grande do Sul e outras UF já desenvolvidas, como era esperado, não tiveram um aumento expressivo. \n",
    "\n",
    "\n",
    "Isso pode indicar que os Estados menores começaram a se industrializar. "
   ]
  },
  {
   "cell_type": "markdown",
   "metadata": {},
   "source": [
    "##### dados_consumo_corrigido"
   ]
  },
  {
   "cell_type": "code",
   "execution_count": 126,
   "metadata": {},
   "outputs": [
    {
     "data": {
      "text/html": [
       "<div>\n",
       "<style scoped>\n",
       "    .dataframe tbody tr th:only-of-type {\n",
       "        vertical-align: middle;\n",
       "    }\n",
       "\n",
       "    .dataframe tbody tr th {\n",
       "        vertical-align: top;\n",
       "    }\n",
       "\n",
       "    .dataframe thead th {\n",
       "        text-align: right;\n",
       "    }\n",
       "</style>\n",
       "<table border=\"1\" class=\"dataframe\">\n",
       "  <thead>\n",
       "    <tr style=\"text-align: right;\">\n",
       "      <th></th>\n",
       "      <th>DATE</th>\n",
       "      <th>NOME_ESTADO</th>\n",
       "      <th>NAME</th>\n",
       "      <th>VALOR</th>\n",
       "    </tr>\n",
       "  </thead>\n",
       "  <tbody>\n",
       "    <tr>\n",
       "      <th>0</th>\n",
       "      <td>2022-01-01</td>\n",
       "      <td>Brasil</td>\n",
       "      <td>Condições atuais do empresário do comércio</td>\n",
       "      <td>100.083487</td>\n",
       "    </tr>\n",
       "    <tr>\n",
       "      <th>1</th>\n",
       "      <td>2022-02-01</td>\n",
       "      <td>Brasil</td>\n",
       "      <td>Condições atuais do empresário do comércio</td>\n",
       "      <td>100.442384</td>\n",
       "    </tr>\n",
       "    <tr>\n",
       "      <th>2</th>\n",
       "      <td>2022-03-01</td>\n",
       "      <td>Brasil</td>\n",
       "      <td>Condições atuais do empresário do comércio</td>\n",
       "      <td>98.267597</td>\n",
       "    </tr>\n",
       "    <tr>\n",
       "      <th>3</th>\n",
       "      <td>2022-04-01</td>\n",
       "      <td>Brasil</td>\n",
       "      <td>Condições atuais do empresário do comércio</td>\n",
       "      <td>98.026514</td>\n",
       "    </tr>\n",
       "    <tr>\n",
       "      <th>4</th>\n",
       "      <td>2022-05-01</td>\n",
       "      <td>Brasil</td>\n",
       "      <td>Condições atuais do empresário do comércio</td>\n",
       "      <td>102.191804</td>\n",
       "    </tr>\n",
       "  </tbody>\n",
       "</table>\n",
       "</div>"
      ],
      "text/plain": [
       "        DATE NOME_ESTADO                                        NAME  \\\n",
       "0 2022-01-01      Brasil  Condições atuais do empresário do comércio   \n",
       "1 2022-02-01      Brasil  Condições atuais do empresário do comércio   \n",
       "2 2022-03-01      Brasil  Condições atuais do empresário do comércio   \n",
       "3 2022-04-01      Brasil  Condições atuais do empresário do comércio   \n",
       "4 2022-05-01      Brasil  Condições atuais do empresário do comércio   \n",
       "\n",
       "        VALOR  \n",
       "0  100.083487  \n",
       "1  100.442384  \n",
       "2   98.267597  \n",
       "3   98.026514  \n",
       "4  102.191804  "
      ]
     },
     "execution_count": 126,
     "metadata": {},
     "output_type": "execute_result"
    }
   ],
   "source": [
    "dados_consumo_corrigido.head()"
   ]
  },
  {
   "cell_type": "code",
   "execution_count": 127,
   "metadata": {},
   "outputs": [
    {
     "name": "stdout",
     "output_type": "stream",
     "text": [
      " \n",
      "======================\n",
      "Indicador:      Condições atuais do empresário do comércio\n",
      "Data Inicial:   2022-01-01 00:00:00\n",
      "Data Final:     2025-02-01 00:00:00\n",
      "\n",
      "Descrição dos dados:\n",
      "count     38.000000\n",
      "mean      92.529981\n",
      "std       11.204665\n",
      "min       79.062462\n",
      "25%       83.501668\n",
      "50%       87.843201\n",
      "75%      101.754449\n",
      "max      115.741242\n",
      "Name: VALOR, dtype: float64\n",
      "\n",
      "Informações:\n",
      "\n",
      "<class 'pandas.core.frame.DataFrame'>\n",
      "Index: 38 entries, 0 to 37\n",
      "Data columns (total 4 columns):\n",
      " #   Column       Non-Null Count  Dtype         \n",
      "---  ------       --------------  -----         \n",
      " 0   DATE         38 non-null     datetime64[ns]\n",
      " 1   NOME_ESTADO  38 non-null     object        \n",
      " 2   NAME         38 non-null     object        \n",
      " 3   VALOR        38 non-null     float64       \n",
      "dtypes: datetime64[ns](1), float64(1), object(2)\n",
      "memory usage: 1.5+ KB\n",
      "======================\n",
      " \n",
      "======================\n",
      "Indicador:      Índice de confiança do empresário do comércio\n",
      "Data Inicial:   2022-01-01 00:00:00\n",
      "Data Final:     2025-02-01 00:00:00\n",
      "\n",
      "Descrição dos dados:\n",
      "count     38.000000\n",
      "mean     114.162431\n",
      "std        7.217391\n",
      "min      103.745615\n",
      "25%      108.741670\n",
      "50%      112.252403\n",
      "75%      119.262049\n",
      "max      131.921518\n",
      "Name: VALOR, dtype: float64\n",
      "\n",
      "Informações:\n",
      "\n",
      "<class 'pandas.core.frame.DataFrame'>\n",
      "Index: 38 entries, 38 to 75\n",
      "Data columns (total 4 columns):\n",
      " #   Column       Non-Null Count  Dtype         \n",
      "---  ------       --------------  -----         \n",
      " 0   DATE         38 non-null     datetime64[ns]\n",
      " 1   NOME_ESTADO  38 non-null     object        \n",
      " 2   NAME         38 non-null     object        \n",
      " 3   VALOR        38 non-null     float64       \n",
      "dtypes: datetime64[ns](1), float64(1), object(2)\n",
      "memory usage: 1.5+ KB\n",
      "======================\n",
      " \n",
      "======================\n",
      "Indicador:      Intenção de consumo das famílias - total\n",
      "Data Inicial:   2022-01-01 00:00:00\n",
      "Data Final:     2025-02-01 00:00:00\n",
      "\n",
      "Descrição dos dados:\n",
      "count     38.000000\n",
      "mean      95.517174\n",
      "std       10.040525\n",
      "min       76.239783\n",
      "25%       87.510714\n",
      "50%      100.179983\n",
      "75%      103.222297\n",
      "max      105.868500\n",
      "Name: VALOR, dtype: float64\n",
      "\n",
      "Informações:\n",
      "\n",
      "<class 'pandas.core.frame.DataFrame'>\n",
      "Index: 38 entries, 76 to 113\n",
      "Data columns (total 4 columns):\n",
      " #   Column       Non-Null Count  Dtype         \n",
      "---  ------       --------------  -----         \n",
      " 0   DATE         38 non-null     datetime64[ns]\n",
      " 1   NOME_ESTADO  38 non-null     object        \n",
      " 2   NAME         38 non-null     object        \n",
      " 3   VALOR        38 non-null     float64       \n",
      "dtypes: datetime64[ns](1), float64(1), object(2)\n",
      "memory usage: 1.5+ KB\n",
      "======================\n",
      " \n",
      "======================\n",
      "Indicador:      Índice de confiança do consumidor (ICC)\n",
      "Data Inicial:   2022-01-01 00:00:00\n",
      "Data Final:     2025-02-01 00:00:00\n",
      "\n",
      "Descrição dos dados:\n",
      "count     38.000000\n",
      "mean     121.766316\n",
      "std       10.007935\n",
      "min      103.600000\n",
      "25%      114.870000\n",
      "50%      124.780000\n",
      "75%      128.530000\n",
      "max      138.220000\n",
      "Name: VALOR, dtype: float64\n",
      "\n",
      "Informações:\n",
      "\n",
      "<class 'pandas.core.frame.DataFrame'>\n",
      "Index: 38 entries, 114 to 151\n",
      "Data columns (total 4 columns):\n",
      " #   Column       Non-Null Count  Dtype         \n",
      "---  ------       --------------  -----         \n",
      " 0   DATE         38 non-null     datetime64[ns]\n",
      " 1   NOME_ESTADO  38 non-null     object        \n",
      " 2   NAME         38 non-null     object        \n",
      " 3   VALOR        38 non-null     float64       \n",
      "dtypes: datetime64[ns](1), float64(1), object(2)\n",
      "memory usage: 1.5+ KB\n",
      "======================\n"
     ]
    }
   ],
   "source": [
    "for indicador in dados_consumo_corrigido['NAME'].unique():\n",
    "    temp = dados_consumo_corrigido[dados_consumo_corrigido['NAME']==indicador]\n",
    "    texto = f\"\"\" \n",
    "======================\n",
    "Indicador:      {indicador}\n",
    "Data Inicial:   {temp.DATE.min()}\n",
    "Data Final:     {temp.DATE.max()}\n",
    "\n",
    "Descrição dos dados:\n",
    "{temp.VALOR.describe()}\n",
    "\n",
    "Informações:\n",
    "\"\"\"\n",
    "    print(texto)\n",
    "    temp.info()\n",
    "    print('======================')"
   ]
  },
  {
   "cell_type": "markdown",
   "metadata": {},
   "source": [
    "Todos os indicadores possuem 38 dados, então aparentemente não há falta de nenhum. Lembrar que NOME_ESTADO é \"Brasil\", pois se trata de indicadores nacionais. \n",
    "\n",
    "Além disso, conforme o estudo de cada um deles, o valor deve variar entre 0 a 200, o que aparentemente tem sido seguido. \n",
    "\n",
    "Mas, como há dois indicadores para cada (empresairal e consumidor), será que há alguma correlação?"
   ]
  },
  {
   "cell_type": "code",
   "execution_count": 128,
   "metadata": {},
   "outputs": [
    {
     "data": {
      "text/html": [
       "<div>\n",
       "<style scoped>\n",
       "    .dataframe tbody tr th:only-of-type {\n",
       "        vertical-align: middle;\n",
       "    }\n",
       "\n",
       "    .dataframe tbody tr th {\n",
       "        vertical-align: top;\n",
       "    }\n",
       "\n",
       "    .dataframe thead th {\n",
       "        text-align: right;\n",
       "    }\n",
       "</style>\n",
       "<table border=\"1\" class=\"dataframe\">\n",
       "  <thead>\n",
       "    <tr style=\"text-align: right;\">\n",
       "      <th></th>\n",
       "      <th>DATE</th>\n",
       "      <th>NOME_ESTADO</th>\n",
       "      <th>NAME</th>\n",
       "      <th>VALOR</th>\n",
       "    </tr>\n",
       "  </thead>\n",
       "  <tbody>\n",
       "    <tr>\n",
       "      <th>0</th>\n",
       "      <td>2022-01-01</td>\n",
       "      <td>Brasil</td>\n",
       "      <td>Condições atuais do empresário do comércio</td>\n",
       "      <td>100.083487</td>\n",
       "    </tr>\n",
       "    <tr>\n",
       "      <th>1</th>\n",
       "      <td>2022-02-01</td>\n",
       "      <td>Brasil</td>\n",
       "      <td>Condições atuais do empresário do comércio</td>\n",
       "      <td>100.442384</td>\n",
       "    </tr>\n",
       "    <tr>\n",
       "      <th>2</th>\n",
       "      <td>2022-03-01</td>\n",
       "      <td>Brasil</td>\n",
       "      <td>Condições atuais do empresário do comércio</td>\n",
       "      <td>98.267597</td>\n",
       "    </tr>\n",
       "    <tr>\n",
       "      <th>3</th>\n",
       "      <td>2022-04-01</td>\n",
       "      <td>Brasil</td>\n",
       "      <td>Condições atuais do empresário do comércio</td>\n",
       "      <td>98.026514</td>\n",
       "    </tr>\n",
       "    <tr>\n",
       "      <th>4</th>\n",
       "      <td>2022-05-01</td>\n",
       "      <td>Brasil</td>\n",
       "      <td>Condições atuais do empresário do comércio</td>\n",
       "      <td>102.191804</td>\n",
       "    </tr>\n",
       "    <tr>\n",
       "      <th>...</th>\n",
       "      <td>...</td>\n",
       "      <td>...</td>\n",
       "      <td>...</td>\n",
       "      <td>...</td>\n",
       "    </tr>\n",
       "    <tr>\n",
       "      <th>147</th>\n",
       "      <td>2024-10-01</td>\n",
       "      <td>Brasil</td>\n",
       "      <td>Índice de confiança do consumidor (ICC)</td>\n",
       "      <td>120.970000</td>\n",
       "    </tr>\n",
       "    <tr>\n",
       "      <th>148</th>\n",
       "      <td>2024-11-01</td>\n",
       "      <td>Brasil</td>\n",
       "      <td>Índice de confiança do consumidor (ICC)</td>\n",
       "      <td>123.930000</td>\n",
       "    </tr>\n",
       "    <tr>\n",
       "      <th>149</th>\n",
       "      <td>2024-12-01</td>\n",
       "      <td>Brasil</td>\n",
       "      <td>Índice de confiança do consumidor (ICC)</td>\n",
       "      <td>125.620000</td>\n",
       "    </tr>\n",
       "    <tr>\n",
       "      <th>150</th>\n",
       "      <td>2025-01-01</td>\n",
       "      <td>Brasil</td>\n",
       "      <td>Índice de confiança do consumidor (ICC)</td>\n",
       "      <td>123.510000</td>\n",
       "    </tr>\n",
       "    <tr>\n",
       "      <th>151</th>\n",
       "      <td>2025-02-01</td>\n",
       "      <td>Brasil</td>\n",
       "      <td>Índice de confiança do consumidor (ICC)</td>\n",
       "      <td>120.480000</td>\n",
       "    </tr>\n",
       "  </tbody>\n",
       "</table>\n",
       "<p>152 rows × 4 columns</p>\n",
       "</div>"
      ],
      "text/plain": [
       "          DATE NOME_ESTADO                                        NAME  \\\n",
       "0   2022-01-01      Brasil  Condições atuais do empresário do comércio   \n",
       "1   2022-02-01      Brasil  Condições atuais do empresário do comércio   \n",
       "2   2022-03-01      Brasil  Condições atuais do empresário do comércio   \n",
       "3   2022-04-01      Brasil  Condições atuais do empresário do comércio   \n",
       "4   2022-05-01      Brasil  Condições atuais do empresário do comércio   \n",
       "..         ...         ...                                         ...   \n",
       "147 2024-10-01      Brasil     Índice de confiança do consumidor (ICC)   \n",
       "148 2024-11-01      Brasil     Índice de confiança do consumidor (ICC)   \n",
       "149 2024-12-01      Brasil     Índice de confiança do consumidor (ICC)   \n",
       "150 2025-01-01      Brasil     Índice de confiança do consumidor (ICC)   \n",
       "151 2025-02-01      Brasil     Índice de confiança do consumidor (ICC)   \n",
       "\n",
       "          VALOR  \n",
       "0    100.083487  \n",
       "1    100.442384  \n",
       "2     98.267597  \n",
       "3     98.026514  \n",
       "4    102.191804  \n",
       "..          ...  \n",
       "147  120.970000  \n",
       "148  123.930000  \n",
       "149  125.620000  \n",
       "150  123.510000  \n",
       "151  120.480000  \n",
       "\n",
       "[152 rows x 4 columns]"
      ]
     },
     "execution_count": 128,
     "metadata": {},
     "output_type": "execute_result"
    }
   ],
   "source": [
    "dados_consumo_corrigido"
   ]
  },
  {
   "cell_type": "code",
   "execution_count": 129,
   "metadata": {},
   "outputs": [
    {
     "data": {
      "application/vnd.plotly.v1+json": {
       "config": {
        "plotlyServerURL": "https://plot.ly"
       },
       "data": [
        {
         "coloraxis": "coloraxis",
         "hovertemplate": "NAME: %{x}<br>NAME: %{y}<br>Correlação: %{z}<extra></extra>",
         "name": "0",
         "texttemplate": "%{z:.2f}",
         "type": "heatmap",
         "x": [
          "Condições atuais do empresário do comércio",
          "Intenção de consumo das famílias - total",
          "Índice de confiança do consumidor (ICC)",
          "Índice de confiança do empresário do comércio"
         ],
         "xaxis": "x",
         "y": [
          "Condições atuais do empresário do comércio",
          "Intenção de consumo das famílias - total",
          "Índice de confiança do consumidor (ICC)",
          "Índice de confiança do empresário do comércio"
         ],
         "yaxis": "y",
         "z": {
          "bdata": "AAAAAAAA8D8m5cwCjFzov1IHyw8xMeO/0JHbJGiC7j8m5cwCjFzovwAAAAAAAPA/xJQ8EGVm7T85PtGdiZHov1IHyw8xMeO/xJQ8EGVm7T8AAAAAAADwPw7Txn3X9OS/0JHbJGiC7j85PtGdiZHovw7Txn3X9OS/AAAAAAAA8D8=",
          "dtype": "f8",
          "shape": "4, 4"
         }
        }
       ],
       "layout": {
        "coloraxis": {
         "colorbar": {
          "title": {
           "text": "Correlação"
          }
         },
         "colorscale": [
          [
           0,
           "rgb(5,48,97)"
          ],
          [
           0.1,
           "rgb(33,102,172)"
          ],
          [
           0.2,
           "rgb(67,147,195)"
          ],
          [
           0.3,
           "rgb(146,197,222)"
          ],
          [
           0.4,
           "rgb(209,229,240)"
          ],
          [
           0.5,
           "rgb(247,247,247)"
          ],
          [
           0.6,
           "rgb(253,219,199)"
          ],
          [
           0.7,
           "rgb(244,165,130)"
          ],
          [
           0.8,
           "rgb(214,96,77)"
          ],
          [
           0.9,
           "rgb(178,24,43)"
          ],
          [
           1,
           "rgb(103,0,31)"
          ]
         ]
        },
        "height": 600,
        "template": {
         "data": {
          "bar": [
           {
            "error_x": {
             "color": "#2a3f5f"
            },
            "error_y": {
             "color": "#2a3f5f"
            },
            "marker": {
             "line": {
              "color": "white",
              "width": 0.5
             },
             "pattern": {
              "fillmode": "overlay",
              "size": 10,
              "solidity": 0.2
             }
            },
            "type": "bar"
           }
          ],
          "barpolar": [
           {
            "marker": {
             "line": {
              "color": "white",
              "width": 0.5
             },
             "pattern": {
              "fillmode": "overlay",
              "size": 10,
              "solidity": 0.2
             }
            },
            "type": "barpolar"
           }
          ],
          "carpet": [
           {
            "aaxis": {
             "endlinecolor": "#2a3f5f",
             "gridcolor": "#C8D4E3",
             "linecolor": "#C8D4E3",
             "minorgridcolor": "#C8D4E3",
             "startlinecolor": "#2a3f5f"
            },
            "baxis": {
             "endlinecolor": "#2a3f5f",
             "gridcolor": "#C8D4E3",
             "linecolor": "#C8D4E3",
             "minorgridcolor": "#C8D4E3",
             "startlinecolor": "#2a3f5f"
            },
            "type": "carpet"
           }
          ],
          "choropleth": [
           {
            "colorbar": {
             "outlinewidth": 0,
             "ticks": ""
            },
            "type": "choropleth"
           }
          ],
          "contour": [
           {
            "colorbar": {
             "outlinewidth": 0,
             "ticks": ""
            },
            "colorscale": [
             [
              0,
              "#0d0887"
             ],
             [
              0.1111111111111111,
              "#46039f"
             ],
             [
              0.2222222222222222,
              "#7201a8"
             ],
             [
              0.3333333333333333,
              "#9c179e"
             ],
             [
              0.4444444444444444,
              "#bd3786"
             ],
             [
              0.5555555555555556,
              "#d8576b"
             ],
             [
              0.6666666666666666,
              "#ed7953"
             ],
             [
              0.7777777777777778,
              "#fb9f3a"
             ],
             [
              0.8888888888888888,
              "#fdca26"
             ],
             [
              1,
              "#f0f921"
             ]
            ],
            "type": "contour"
           }
          ],
          "contourcarpet": [
           {
            "colorbar": {
             "outlinewidth": 0,
             "ticks": ""
            },
            "type": "contourcarpet"
           }
          ],
          "heatmap": [
           {
            "colorbar": {
             "outlinewidth": 0,
             "ticks": ""
            },
            "colorscale": [
             [
              0,
              "#0d0887"
             ],
             [
              0.1111111111111111,
              "#46039f"
             ],
             [
              0.2222222222222222,
              "#7201a8"
             ],
             [
              0.3333333333333333,
              "#9c179e"
             ],
             [
              0.4444444444444444,
              "#bd3786"
             ],
             [
              0.5555555555555556,
              "#d8576b"
             ],
             [
              0.6666666666666666,
              "#ed7953"
             ],
             [
              0.7777777777777778,
              "#fb9f3a"
             ],
             [
              0.8888888888888888,
              "#fdca26"
             ],
             [
              1,
              "#f0f921"
             ]
            ],
            "type": "heatmap"
           }
          ],
          "histogram": [
           {
            "marker": {
             "pattern": {
              "fillmode": "overlay",
              "size": 10,
              "solidity": 0.2
             }
            },
            "type": "histogram"
           }
          ],
          "histogram2d": [
           {
            "colorbar": {
             "outlinewidth": 0,
             "ticks": ""
            },
            "colorscale": [
             [
              0,
              "#0d0887"
             ],
             [
              0.1111111111111111,
              "#46039f"
             ],
             [
              0.2222222222222222,
              "#7201a8"
             ],
             [
              0.3333333333333333,
              "#9c179e"
             ],
             [
              0.4444444444444444,
              "#bd3786"
             ],
             [
              0.5555555555555556,
              "#d8576b"
             ],
             [
              0.6666666666666666,
              "#ed7953"
             ],
             [
              0.7777777777777778,
              "#fb9f3a"
             ],
             [
              0.8888888888888888,
              "#fdca26"
             ],
             [
              1,
              "#f0f921"
             ]
            ],
            "type": "histogram2d"
           }
          ],
          "histogram2dcontour": [
           {
            "colorbar": {
             "outlinewidth": 0,
             "ticks": ""
            },
            "colorscale": [
             [
              0,
              "#0d0887"
             ],
             [
              0.1111111111111111,
              "#46039f"
             ],
             [
              0.2222222222222222,
              "#7201a8"
             ],
             [
              0.3333333333333333,
              "#9c179e"
             ],
             [
              0.4444444444444444,
              "#bd3786"
             ],
             [
              0.5555555555555556,
              "#d8576b"
             ],
             [
              0.6666666666666666,
              "#ed7953"
             ],
             [
              0.7777777777777778,
              "#fb9f3a"
             ],
             [
              0.8888888888888888,
              "#fdca26"
             ],
             [
              1,
              "#f0f921"
             ]
            ],
            "type": "histogram2dcontour"
           }
          ],
          "mesh3d": [
           {
            "colorbar": {
             "outlinewidth": 0,
             "ticks": ""
            },
            "type": "mesh3d"
           }
          ],
          "parcoords": [
           {
            "line": {
             "colorbar": {
              "outlinewidth": 0,
              "ticks": ""
             }
            },
            "type": "parcoords"
           }
          ],
          "pie": [
           {
            "automargin": true,
            "type": "pie"
           }
          ],
          "scatter": [
           {
            "fillpattern": {
             "fillmode": "overlay",
             "size": 10,
             "solidity": 0.2
            },
            "type": "scatter"
           }
          ],
          "scatter3d": [
           {
            "line": {
             "colorbar": {
              "outlinewidth": 0,
              "ticks": ""
             }
            },
            "marker": {
             "colorbar": {
              "outlinewidth": 0,
              "ticks": ""
             }
            },
            "type": "scatter3d"
           }
          ],
          "scattercarpet": [
           {
            "marker": {
             "colorbar": {
              "outlinewidth": 0,
              "ticks": ""
             }
            },
            "type": "scattercarpet"
           }
          ],
          "scattergeo": [
           {
            "marker": {
             "colorbar": {
              "outlinewidth": 0,
              "ticks": ""
             }
            },
            "type": "scattergeo"
           }
          ],
          "scattergl": [
           {
            "marker": {
             "colorbar": {
              "outlinewidth": 0,
              "ticks": ""
             }
            },
            "type": "scattergl"
           }
          ],
          "scattermap": [
           {
            "marker": {
             "colorbar": {
              "outlinewidth": 0,
              "ticks": ""
             }
            },
            "type": "scattermap"
           }
          ],
          "scattermapbox": [
           {
            "marker": {
             "colorbar": {
              "outlinewidth": 0,
              "ticks": ""
             }
            },
            "type": "scattermapbox"
           }
          ],
          "scatterpolar": [
           {
            "marker": {
             "colorbar": {
              "outlinewidth": 0,
              "ticks": ""
             }
            },
            "type": "scatterpolar"
           }
          ],
          "scatterpolargl": [
           {
            "marker": {
             "colorbar": {
              "outlinewidth": 0,
              "ticks": ""
             }
            },
            "type": "scatterpolargl"
           }
          ],
          "scatterternary": [
           {
            "marker": {
             "colorbar": {
              "outlinewidth": 0,
              "ticks": ""
             }
            },
            "type": "scatterternary"
           }
          ],
          "surface": [
           {
            "colorbar": {
             "outlinewidth": 0,
             "ticks": ""
            },
            "colorscale": [
             [
              0,
              "#0d0887"
             ],
             [
              0.1111111111111111,
              "#46039f"
             ],
             [
              0.2222222222222222,
              "#7201a8"
             ],
             [
              0.3333333333333333,
              "#9c179e"
             ],
             [
              0.4444444444444444,
              "#bd3786"
             ],
             [
              0.5555555555555556,
              "#d8576b"
             ],
             [
              0.6666666666666666,
              "#ed7953"
             ],
             [
              0.7777777777777778,
              "#fb9f3a"
             ],
             [
              0.8888888888888888,
              "#fdca26"
             ],
             [
              1,
              "#f0f921"
             ]
            ],
            "type": "surface"
           }
          ],
          "table": [
           {
            "cells": {
             "fill": {
              "color": "#EBF0F8"
             },
             "line": {
              "color": "white"
             }
            },
            "header": {
             "fill": {
              "color": "#C8D4E3"
             },
             "line": {
              "color": "white"
             }
            },
            "type": "table"
           }
          ]
         },
         "layout": {
          "annotationdefaults": {
           "arrowcolor": "#2a3f5f",
           "arrowhead": 0,
           "arrowwidth": 1
          },
          "autotypenumbers": "strict",
          "coloraxis": {
           "colorbar": {
            "outlinewidth": 0,
            "ticks": ""
           }
          },
          "colorscale": {
           "diverging": [
            [
             0,
             "#8e0152"
            ],
            [
             0.1,
             "#c51b7d"
            ],
            [
             0.2,
             "#de77ae"
            ],
            [
             0.3,
             "#f1b6da"
            ],
            [
             0.4,
             "#fde0ef"
            ],
            [
             0.5,
             "#f7f7f7"
            ],
            [
             0.6,
             "#e6f5d0"
            ],
            [
             0.7,
             "#b8e186"
            ],
            [
             0.8,
             "#7fbc41"
            ],
            [
             0.9,
             "#4d9221"
            ],
            [
             1,
             "#276419"
            ]
           ],
           "sequential": [
            [
             0,
             "#0d0887"
            ],
            [
             0.1111111111111111,
             "#46039f"
            ],
            [
             0.2222222222222222,
             "#7201a8"
            ],
            [
             0.3333333333333333,
             "#9c179e"
            ],
            [
             0.4444444444444444,
             "#bd3786"
            ],
            [
             0.5555555555555556,
             "#d8576b"
            ],
            [
             0.6666666666666666,
             "#ed7953"
            ],
            [
             0.7777777777777778,
             "#fb9f3a"
            ],
            [
             0.8888888888888888,
             "#fdca26"
            ],
            [
             1,
             "#f0f921"
            ]
           ],
           "sequentialminus": [
            [
             0,
             "#0d0887"
            ],
            [
             0.1111111111111111,
             "#46039f"
            ],
            [
             0.2222222222222222,
             "#7201a8"
            ],
            [
             0.3333333333333333,
             "#9c179e"
            ],
            [
             0.4444444444444444,
             "#bd3786"
            ],
            [
             0.5555555555555556,
             "#d8576b"
            ],
            [
             0.6666666666666666,
             "#ed7953"
            ],
            [
             0.7777777777777778,
             "#fb9f3a"
            ],
            [
             0.8888888888888888,
             "#fdca26"
            ],
            [
             1,
             "#f0f921"
            ]
           ]
          },
          "colorway": [
           "#636efa",
           "#EF553B",
           "#00cc96",
           "#ab63fa",
           "#FFA15A",
           "#19d3f3",
           "#FF6692",
           "#B6E880",
           "#FF97FF",
           "#FECB52"
          ],
          "font": {
           "color": "#2a3f5f"
          },
          "geo": {
           "bgcolor": "white",
           "lakecolor": "white",
           "landcolor": "white",
           "showlakes": true,
           "showland": true,
           "subunitcolor": "#C8D4E3"
          },
          "hoverlabel": {
           "align": "left"
          },
          "hovermode": "closest",
          "mapbox": {
           "style": "light"
          },
          "paper_bgcolor": "white",
          "plot_bgcolor": "white",
          "polar": {
           "angularaxis": {
            "gridcolor": "#EBF0F8",
            "linecolor": "#EBF0F8",
            "ticks": ""
           },
           "bgcolor": "white",
           "radialaxis": {
            "gridcolor": "#EBF0F8",
            "linecolor": "#EBF0F8",
            "ticks": ""
           }
          },
          "scene": {
           "xaxis": {
            "backgroundcolor": "white",
            "gridcolor": "#DFE8F3",
            "gridwidth": 2,
            "linecolor": "#EBF0F8",
            "showbackground": true,
            "ticks": "",
            "zerolinecolor": "#EBF0F8"
           },
           "yaxis": {
            "backgroundcolor": "white",
            "gridcolor": "#DFE8F3",
            "gridwidth": 2,
            "linecolor": "#EBF0F8",
            "showbackground": true,
            "ticks": "",
            "zerolinecolor": "#EBF0F8"
           },
           "zaxis": {
            "backgroundcolor": "white",
            "gridcolor": "#DFE8F3",
            "gridwidth": 2,
            "linecolor": "#EBF0F8",
            "showbackground": true,
            "ticks": "",
            "zerolinecolor": "#EBF0F8"
           }
          },
          "shapedefaults": {
           "line": {
            "color": "#2a3f5f"
           }
          },
          "ternary": {
           "aaxis": {
            "gridcolor": "#DFE8F3",
            "linecolor": "#A2B1C6",
            "ticks": ""
           },
           "baxis": {
            "gridcolor": "#DFE8F3",
            "linecolor": "#A2B1C6",
            "ticks": ""
           },
           "bgcolor": "white",
           "caxis": {
            "gridcolor": "#DFE8F3",
            "linecolor": "#A2B1C6",
            "ticks": ""
           }
          },
          "title": {
           "x": 0.05
          },
          "xaxis": {
           "automargin": true,
           "gridcolor": "#EBF0F8",
           "linecolor": "#EBF0F8",
           "ticks": "",
           "title": {
            "standoff": 15
           },
           "zerolinecolor": "#EBF0F8",
           "zerolinewidth": 2
          },
          "yaxis": {
           "automargin": true,
           "gridcolor": "#EBF0F8",
           "linecolor": "#EBF0F8",
           "ticks": "",
           "title": {
            "standoff": 15
           },
           "zerolinecolor": "#EBF0F8",
           "zerolinewidth": 2
          }
         }
        },
        "title": {
         "text": "Heatmap de Correlação entre Indicadores de Consumo e Comércio"
        },
        "xaxis": {
         "anchor": "y",
         "domain": [
          0,
          1
         ],
         "title": {
          "text": "Indicadores"
         }
        },
        "yaxis": {
         "anchor": "x",
         "autorange": "reversed",
         "domain": [
          0,
          1
         ],
         "title": {
          "text": "Indicadores"
         }
        }
       }
      }
     },
     "metadata": {},
     "output_type": "display_data"
    }
   ],
   "source": [
    "import pandas as pd\n",
    "import plotly.express as px\n",
    "\n",
    "# Pivotar o dataframe: linhas = DATE, colunas = NAME, valores = VALOR\n",
    "pivot_df = dados_consumo_corrigido.pivot(index='DATE', columns='NAME', values='VALOR')\n",
    "\n",
    "# Calcular a matriz de correlação\n",
    "correlacao = pivot_df.corr(method='pearson')\n",
    "\n",
    "# Criar heatmap com Plotly\n",
    "fig = px.imshow(\n",
    "    correlacao,\n",
    "    text_auto='.2f',\n",
    "    color_continuous_scale='RdBu_r',\n",
    "    title='Heatmap de Correlação entre Indicadores de Consumo e Comércio',\n",
    "    labels={'color': 'Correlação'},\n",
    "    aspect='auto'\n",
    ")\n",
    "\n",
    "fig.update_layout(\n",
    "    xaxis_title='Indicadores',\n",
    "    yaxis_title='Indicadores',\n",
    "    template='plotly_white',\n",
    "    height=600\n",
    ")\n",
    "\n",
    "fig.show()\n"
   ]
  },
  {
   "cell_type": "markdown",
   "metadata": {},
   "source": [
    "Como esperado, há altíssima correlação entre:\n",
    "\n",
    "- Índice de confiança do empresário do comércio x Condições atuais do empresário do Comércio\n",
    "\n",
    "- Índice de confiança do consumidor x Intenção de consumo das famílias - total\n",
    "\n",
    "\n",
    "Logo, apenas dois desses indicadores poderão ser mantidos. Em virtude do:\n",
    "\n",
    "- Índice de confiança do consumidor (ICC) ter menor correlação com os indicadores empresariais\n",
    "- Condições atuais do empresário do comércio ter menor correlação com os indicadores de consumo\n",
    "\n",
    "Eles serão os indicadores mantidos."
   ]
  },
  {
   "cell_type": "code",
   "execution_count": 130,
   "metadata": {},
   "outputs": [],
   "source": [
    "dados_consumo_corrigido = dados_consumo_corrigido[dados_consumo_corrigido['NAME'].isin(['Condições atuais do empresário do comércio', 'Índice de confiança do consumidor (ICC)'])]"
   ]
  },
  {
   "cell_type": "code",
   "execution_count": 137,
   "metadata": {},
   "outputs": [
    {
     "data": {
      "application/vnd.plotly.v1+json": {
       "config": {
        "plotlyServerURL": "https://plot.ly"
       },
       "data": [
        {
         "bingroup": "x",
         "hovertemplate": "NAME=Condições atuais do empresário do comércio<br>Valor do Indicador=%{x}<br>count=%{y}<extra></extra>",
         "legendgroup": "Condições atuais do empresário do comércio",
         "marker": {
          "color": "#636efa",
          "pattern": {
           "shape": ""
          }
         },
         "name": "Condições atuais do empresário do comércio",
         "nbinsx": 60,
         "orientation": "v",
         "showlegend": true,
         "type": "histogram",
         "x": {
          "bdata": "WEGQ2FcFWUALAh4FUBxZQDKuak0gkVhA/lJiZrKBWEAdUTKCRoxZQA50jjy5PlpAgjR+nDybWkAdYd/nFNJaQBxidMYc8FpASkXY7bRXXEAyoP6CcO9cQPO05oU+6FtAL/Tt4DpsW0AUk/GXF0paQK9uaITT7FdAuymRfj9oVkAbbRHTBEVVQHmIdmkrS1RAxS/FxgydVEDsVtXPuthVQEsE4hLnbFZAMzMzMzMTVkAK3PoJS7tUQOrwPFgbPlRAoslmI0hbVUDrMwW4vydWQAwiExpFtVVAZZUMRrbaVEDxuFR/EfpTQPzgcV//w1NAcLTbNh2QVEAo9aCFSvBUQL5KECAmFVVAixCqDQmEVUA1rud0h25VQFXcCWMALVVAjz7b+Kt+VECZ13zZ4OxTQA==",
          "dtype": "f8"
         },
         "xaxis": "x",
         "yaxis": "y"
        },
        {
         "bingroup": "x",
         "hovertemplate": "NAME=Índice de confiança do consumidor (ICC)<br>Valor do Indicador=%{x}<br>count=%{y}<extra></extra>",
         "legendgroup": "Índice de confiança do consumidor (ICC)",
         "marker": {
          "color": "#EF553B",
          "pattern": {
           "shape": ""
          }
         },
         "name": "Índice de confiança do consumidor (ICC)",
         "nbinsx": 60,
         "orientation": "v",
         "showlegend": true,
         "type": "histogram",
         "x": {
          "bdata": "ZmZmZmYWW0AzMzMzMwNaQEjhehSuR1pAZmZmZmYWWkBI4XoUrndaQGZmZmZm5llAhetRuB5lWkBxPQrXo7BaQD0K16Nw3VtAH4XrUbiOXEDD9ShcjzJdQPYoXI/CtV5AuB6F61FYX0ApXI/C9RhgQHsUrkfh2l9AZmZmZmZGX0CuR+F6FI5eQOF6FK5HUV9APQrXo3AdX0BxPQrXo2BgQBSuR+F6lGBAAAAAAACYYEBI4XoUrjdgQB+F61G4rmBAAAAAAACoYEDXo3A9CkdhQHE9CtejkGBAexSuR+EyYEA9CtejcJ1fQDMzMzMzw19AUrgehevxX0DhehSuR9FfQB+F61G4zl5ArkfhehQ+XkDsUbgehfteQEjhehSuZ19AcT0K16PgXkAfhetRuB5eQA==",
          "dtype": "f8"
         },
         "xaxis": "x2",
         "yaxis": "y2"
        }
       ],
       "layout": {
        "annotations": [
         {
          "font": {},
          "showarrow": false,
          "text": "NAME=Condições atuais do empresário do comércio",
          "x": 0.245,
          "xanchor": "center",
          "xref": "paper",
          "y": 1,
          "yanchor": "bottom",
          "yref": "paper"
         },
         {
          "font": {},
          "showarrow": false,
          "text": "NAME=Índice de confiança do consumidor (ICC)",
          "x": 0.755,
          "xanchor": "center",
          "xref": "paper",
          "y": 1,
          "yanchor": "bottom",
          "yref": "paper"
         }
        ],
        "barmode": "relative",
        "height": 800,
        "legend": {
         "title": {
          "text": "NAME"
         },
         "tracegroupgap": 0
        },
        "showlegend": false,
        "template": {
         "data": {
          "bar": [
           {
            "error_x": {
             "color": "#2a3f5f"
            },
            "error_y": {
             "color": "#2a3f5f"
            },
            "marker": {
             "line": {
              "color": "white",
              "width": 0.5
             },
             "pattern": {
              "fillmode": "overlay",
              "size": 10,
              "solidity": 0.2
             }
            },
            "type": "bar"
           }
          ],
          "barpolar": [
           {
            "marker": {
             "line": {
              "color": "white",
              "width": 0.5
             },
             "pattern": {
              "fillmode": "overlay",
              "size": 10,
              "solidity": 0.2
             }
            },
            "type": "barpolar"
           }
          ],
          "carpet": [
           {
            "aaxis": {
             "endlinecolor": "#2a3f5f",
             "gridcolor": "#C8D4E3",
             "linecolor": "#C8D4E3",
             "minorgridcolor": "#C8D4E3",
             "startlinecolor": "#2a3f5f"
            },
            "baxis": {
             "endlinecolor": "#2a3f5f",
             "gridcolor": "#C8D4E3",
             "linecolor": "#C8D4E3",
             "minorgridcolor": "#C8D4E3",
             "startlinecolor": "#2a3f5f"
            },
            "type": "carpet"
           }
          ],
          "choropleth": [
           {
            "colorbar": {
             "outlinewidth": 0,
             "ticks": ""
            },
            "type": "choropleth"
           }
          ],
          "contour": [
           {
            "colorbar": {
             "outlinewidth": 0,
             "ticks": ""
            },
            "colorscale": [
             [
              0,
              "#0d0887"
             ],
             [
              0.1111111111111111,
              "#46039f"
             ],
             [
              0.2222222222222222,
              "#7201a8"
             ],
             [
              0.3333333333333333,
              "#9c179e"
             ],
             [
              0.4444444444444444,
              "#bd3786"
             ],
             [
              0.5555555555555556,
              "#d8576b"
             ],
             [
              0.6666666666666666,
              "#ed7953"
             ],
             [
              0.7777777777777778,
              "#fb9f3a"
             ],
             [
              0.8888888888888888,
              "#fdca26"
             ],
             [
              1,
              "#f0f921"
             ]
            ],
            "type": "contour"
           }
          ],
          "contourcarpet": [
           {
            "colorbar": {
             "outlinewidth": 0,
             "ticks": ""
            },
            "type": "contourcarpet"
           }
          ],
          "heatmap": [
           {
            "colorbar": {
             "outlinewidth": 0,
             "ticks": ""
            },
            "colorscale": [
             [
              0,
              "#0d0887"
             ],
             [
              0.1111111111111111,
              "#46039f"
             ],
             [
              0.2222222222222222,
              "#7201a8"
             ],
             [
              0.3333333333333333,
              "#9c179e"
             ],
             [
              0.4444444444444444,
              "#bd3786"
             ],
             [
              0.5555555555555556,
              "#d8576b"
             ],
             [
              0.6666666666666666,
              "#ed7953"
             ],
             [
              0.7777777777777778,
              "#fb9f3a"
             ],
             [
              0.8888888888888888,
              "#fdca26"
             ],
             [
              1,
              "#f0f921"
             ]
            ],
            "type": "heatmap"
           }
          ],
          "histogram": [
           {
            "marker": {
             "pattern": {
              "fillmode": "overlay",
              "size": 10,
              "solidity": 0.2
             }
            },
            "type": "histogram"
           }
          ],
          "histogram2d": [
           {
            "colorbar": {
             "outlinewidth": 0,
             "ticks": ""
            },
            "colorscale": [
             [
              0,
              "#0d0887"
             ],
             [
              0.1111111111111111,
              "#46039f"
             ],
             [
              0.2222222222222222,
              "#7201a8"
             ],
             [
              0.3333333333333333,
              "#9c179e"
             ],
             [
              0.4444444444444444,
              "#bd3786"
             ],
             [
              0.5555555555555556,
              "#d8576b"
             ],
             [
              0.6666666666666666,
              "#ed7953"
             ],
             [
              0.7777777777777778,
              "#fb9f3a"
             ],
             [
              0.8888888888888888,
              "#fdca26"
             ],
             [
              1,
              "#f0f921"
             ]
            ],
            "type": "histogram2d"
           }
          ],
          "histogram2dcontour": [
           {
            "colorbar": {
             "outlinewidth": 0,
             "ticks": ""
            },
            "colorscale": [
             [
              0,
              "#0d0887"
             ],
             [
              0.1111111111111111,
              "#46039f"
             ],
             [
              0.2222222222222222,
              "#7201a8"
             ],
             [
              0.3333333333333333,
              "#9c179e"
             ],
             [
              0.4444444444444444,
              "#bd3786"
             ],
             [
              0.5555555555555556,
              "#d8576b"
             ],
             [
              0.6666666666666666,
              "#ed7953"
             ],
             [
              0.7777777777777778,
              "#fb9f3a"
             ],
             [
              0.8888888888888888,
              "#fdca26"
             ],
             [
              1,
              "#f0f921"
             ]
            ],
            "type": "histogram2dcontour"
           }
          ],
          "mesh3d": [
           {
            "colorbar": {
             "outlinewidth": 0,
             "ticks": ""
            },
            "type": "mesh3d"
           }
          ],
          "parcoords": [
           {
            "line": {
             "colorbar": {
              "outlinewidth": 0,
              "ticks": ""
             }
            },
            "type": "parcoords"
           }
          ],
          "pie": [
           {
            "automargin": true,
            "type": "pie"
           }
          ],
          "scatter": [
           {
            "fillpattern": {
             "fillmode": "overlay",
             "size": 10,
             "solidity": 0.2
            },
            "type": "scatter"
           }
          ],
          "scatter3d": [
           {
            "line": {
             "colorbar": {
              "outlinewidth": 0,
              "ticks": ""
             }
            },
            "marker": {
             "colorbar": {
              "outlinewidth": 0,
              "ticks": ""
             }
            },
            "type": "scatter3d"
           }
          ],
          "scattercarpet": [
           {
            "marker": {
             "colorbar": {
              "outlinewidth": 0,
              "ticks": ""
             }
            },
            "type": "scattercarpet"
           }
          ],
          "scattergeo": [
           {
            "marker": {
             "colorbar": {
              "outlinewidth": 0,
              "ticks": ""
             }
            },
            "type": "scattergeo"
           }
          ],
          "scattergl": [
           {
            "marker": {
             "colorbar": {
              "outlinewidth": 0,
              "ticks": ""
             }
            },
            "type": "scattergl"
           }
          ],
          "scattermap": [
           {
            "marker": {
             "colorbar": {
              "outlinewidth": 0,
              "ticks": ""
             }
            },
            "type": "scattermap"
           }
          ],
          "scattermapbox": [
           {
            "marker": {
             "colorbar": {
              "outlinewidth": 0,
              "ticks": ""
             }
            },
            "type": "scattermapbox"
           }
          ],
          "scatterpolar": [
           {
            "marker": {
             "colorbar": {
              "outlinewidth": 0,
              "ticks": ""
             }
            },
            "type": "scatterpolar"
           }
          ],
          "scatterpolargl": [
           {
            "marker": {
             "colorbar": {
              "outlinewidth": 0,
              "ticks": ""
             }
            },
            "type": "scatterpolargl"
           }
          ],
          "scatterternary": [
           {
            "marker": {
             "colorbar": {
              "outlinewidth": 0,
              "ticks": ""
             }
            },
            "type": "scatterternary"
           }
          ],
          "surface": [
           {
            "colorbar": {
             "outlinewidth": 0,
             "ticks": ""
            },
            "colorscale": [
             [
              0,
              "#0d0887"
             ],
             [
              0.1111111111111111,
              "#46039f"
             ],
             [
              0.2222222222222222,
              "#7201a8"
             ],
             [
              0.3333333333333333,
              "#9c179e"
             ],
             [
              0.4444444444444444,
              "#bd3786"
             ],
             [
              0.5555555555555556,
              "#d8576b"
             ],
             [
              0.6666666666666666,
              "#ed7953"
             ],
             [
              0.7777777777777778,
              "#fb9f3a"
             ],
             [
              0.8888888888888888,
              "#fdca26"
             ],
             [
              1,
              "#f0f921"
             ]
            ],
            "type": "surface"
           }
          ],
          "table": [
           {
            "cells": {
             "fill": {
              "color": "#EBF0F8"
             },
             "line": {
              "color": "white"
             }
            },
            "header": {
             "fill": {
              "color": "#C8D4E3"
             },
             "line": {
              "color": "white"
             }
            },
            "type": "table"
           }
          ]
         },
         "layout": {
          "annotationdefaults": {
           "arrowcolor": "#2a3f5f",
           "arrowhead": 0,
           "arrowwidth": 1
          },
          "autotypenumbers": "strict",
          "coloraxis": {
           "colorbar": {
            "outlinewidth": 0,
            "ticks": ""
           }
          },
          "colorscale": {
           "diverging": [
            [
             0,
             "#8e0152"
            ],
            [
             0.1,
             "#c51b7d"
            ],
            [
             0.2,
             "#de77ae"
            ],
            [
             0.3,
             "#f1b6da"
            ],
            [
             0.4,
             "#fde0ef"
            ],
            [
             0.5,
             "#f7f7f7"
            ],
            [
             0.6,
             "#e6f5d0"
            ],
            [
             0.7,
             "#b8e186"
            ],
            [
             0.8,
             "#7fbc41"
            ],
            [
             0.9,
             "#4d9221"
            ],
            [
             1,
             "#276419"
            ]
           ],
           "sequential": [
            [
             0,
             "#0d0887"
            ],
            [
             0.1111111111111111,
             "#46039f"
            ],
            [
             0.2222222222222222,
             "#7201a8"
            ],
            [
             0.3333333333333333,
             "#9c179e"
            ],
            [
             0.4444444444444444,
             "#bd3786"
            ],
            [
             0.5555555555555556,
             "#d8576b"
            ],
            [
             0.6666666666666666,
             "#ed7953"
            ],
            [
             0.7777777777777778,
             "#fb9f3a"
            ],
            [
             0.8888888888888888,
             "#fdca26"
            ],
            [
             1,
             "#f0f921"
            ]
           ],
           "sequentialminus": [
            [
             0,
             "#0d0887"
            ],
            [
             0.1111111111111111,
             "#46039f"
            ],
            [
             0.2222222222222222,
             "#7201a8"
            ],
            [
             0.3333333333333333,
             "#9c179e"
            ],
            [
             0.4444444444444444,
             "#bd3786"
            ],
            [
             0.5555555555555556,
             "#d8576b"
            ],
            [
             0.6666666666666666,
             "#ed7953"
            ],
            [
             0.7777777777777778,
             "#fb9f3a"
            ],
            [
             0.8888888888888888,
             "#fdca26"
            ],
            [
             1,
             "#f0f921"
            ]
           ]
          },
          "colorway": [
           "#636efa",
           "#EF553B",
           "#00cc96",
           "#ab63fa",
           "#FFA15A",
           "#19d3f3",
           "#FF6692",
           "#B6E880",
           "#FF97FF",
           "#FECB52"
          ],
          "font": {
           "color": "#2a3f5f"
          },
          "geo": {
           "bgcolor": "white",
           "lakecolor": "white",
           "landcolor": "white",
           "showlakes": true,
           "showland": true,
           "subunitcolor": "#C8D4E3"
          },
          "hoverlabel": {
           "align": "left"
          },
          "hovermode": "closest",
          "mapbox": {
           "style": "light"
          },
          "paper_bgcolor": "white",
          "plot_bgcolor": "white",
          "polar": {
           "angularaxis": {
            "gridcolor": "#EBF0F8",
            "linecolor": "#EBF0F8",
            "ticks": ""
           },
           "bgcolor": "white",
           "radialaxis": {
            "gridcolor": "#EBF0F8",
            "linecolor": "#EBF0F8",
            "ticks": ""
           }
          },
          "scene": {
           "xaxis": {
            "backgroundcolor": "white",
            "gridcolor": "#DFE8F3",
            "gridwidth": 2,
            "linecolor": "#EBF0F8",
            "showbackground": true,
            "ticks": "",
            "zerolinecolor": "#EBF0F8"
           },
           "yaxis": {
            "backgroundcolor": "white",
            "gridcolor": "#DFE8F3",
            "gridwidth": 2,
            "linecolor": "#EBF0F8",
            "showbackground": true,
            "ticks": "",
            "zerolinecolor": "#EBF0F8"
           },
           "zaxis": {
            "backgroundcolor": "white",
            "gridcolor": "#DFE8F3",
            "gridwidth": 2,
            "linecolor": "#EBF0F8",
            "showbackground": true,
            "ticks": "",
            "zerolinecolor": "#EBF0F8"
           }
          },
          "shapedefaults": {
           "line": {
            "color": "#2a3f5f"
           }
          },
          "ternary": {
           "aaxis": {
            "gridcolor": "#DFE8F3",
            "linecolor": "#A2B1C6",
            "ticks": ""
           },
           "baxis": {
            "gridcolor": "#DFE8F3",
            "linecolor": "#A2B1C6",
            "ticks": ""
           },
           "bgcolor": "white",
           "caxis": {
            "gridcolor": "#DFE8F3",
            "linecolor": "#A2B1C6",
            "ticks": ""
           }
          },
          "title": {
           "x": 0.05
          },
          "xaxis": {
           "automargin": true,
           "gridcolor": "#EBF0F8",
           "linecolor": "#EBF0F8",
           "ticks": "",
           "title": {
            "standoff": 15
           },
           "zerolinecolor": "#EBF0F8",
           "zerolinewidth": 2
          },
          "yaxis": {
           "automargin": true,
           "gridcolor": "#EBF0F8",
           "linecolor": "#EBF0F8",
           "ticks": "",
           "title": {
            "standoff": 15
           },
           "zerolinecolor": "#EBF0F8",
           "zerolinewidth": 2
          }
         }
        },
        "title": {
         "text": "Distribuição dos Indicadores de Consumo e Comércio"
        },
        "xaxis": {
         "anchor": "y",
         "domain": [
          0,
          0.49
         ],
         "title": {
          "text": "Valor do Indicador"
         }
        },
        "xaxis2": {
         "anchor": "y2",
         "domain": [
          0.51,
          1
         ],
         "matches": "x",
         "title": {
          "text": "Valor do Indicador"
         }
        },
        "yaxis": {
         "anchor": "x",
         "domain": [
          0,
          1
         ],
         "title": {
          "text": "count"
         }
        },
        "yaxis2": {
         "anchor": "x2",
         "domain": [
          0,
          1
         ],
         "matches": "y",
         "showticklabels": false
        }
       }
      }
     },
     "metadata": {},
     "output_type": "display_data"
    }
   ],
   "source": [
    "import plotly.express as px\n",
    "\n",
    "fig = px.histogram(\n",
    "    dados_consumo_corrigido,\n",
    "    x=\"VALOR\",\n",
    "    facet_col=\"NAME\",\n",
    "    facet_col_wrap=2,  # Controla quantas colunas por linha\n",
    "    title=\"Distribuição dos Indicadores de Consumo e Comércio\",\n",
    "    labels={\"VALOR\": \"Valor do Indicador\"},\n",
    "    nbins=60,  # Número de barras\n",
    "    color=\"NAME\"\n",
    ")\n",
    "\n",
    "fig.update_layout(\n",
    "    template=\"plotly_white\",\n",
    "    height=800,\n",
    "    showlegend=False\n",
    ")\n",
    "\n",
    "fig.show()\n"
   ]
  },
  {
   "cell_type": "markdown",
   "metadata": {},
   "source": [
    "Não se percebeu qualquer tipo de distribuição específica desses valores."
   ]
  },
  {
   "cell_type": "code",
   "execution_count": 138,
   "metadata": {},
   "outputs": [
    {
     "data": {
      "application/vnd.plotly.v1+json": {
       "config": {
        "plotlyServerURL": "https://plot.ly"
       },
       "data": [
        {
         "alignmentgroup": "True",
         "boxpoints": "all",
         "hovertemplate": "Indicador=%{x}<br>Valor do Indicador=%{y}<extra></extra>",
         "legendgroup": "",
         "marker": {
          "color": "#636efa"
         },
         "name": "",
         "notched": false,
         "offsetgroup": "",
         "orientation": "v",
         "showlegend": false,
         "type": "box",
         "x": [
          "Condições atuais do empresário do comércio",
          "Condições atuais do empresário do comércio",
          "Condições atuais do empresário do comércio",
          "Condições atuais do empresário do comércio",
          "Condições atuais do empresário do comércio",
          "Condições atuais do empresário do comércio",
          "Condições atuais do empresário do comércio",
          "Condições atuais do empresário do comércio",
          "Condições atuais do empresário do comércio",
          "Condições atuais do empresário do comércio",
          "Condições atuais do empresário do comércio",
          "Condições atuais do empresário do comércio",
          "Condições atuais do empresário do comércio",
          "Condições atuais do empresário do comércio",
          "Condições atuais do empresário do comércio",
          "Condições atuais do empresário do comércio",
          "Condições atuais do empresário do comércio",
          "Condições atuais do empresário do comércio",
          "Condições atuais do empresário do comércio",
          "Condições atuais do empresário do comércio",
          "Condições atuais do empresário do comércio",
          "Condições atuais do empresário do comércio",
          "Condições atuais do empresário do comércio",
          "Condições atuais do empresário do comércio",
          "Condições atuais do empresário do comércio",
          "Condições atuais do empresário do comércio",
          "Condições atuais do empresário do comércio",
          "Condições atuais do empresário do comércio",
          "Condições atuais do empresário do comércio",
          "Condições atuais do empresário do comércio",
          "Condições atuais do empresário do comércio",
          "Condições atuais do empresário do comércio",
          "Condições atuais do empresário do comércio",
          "Condições atuais do empresário do comércio",
          "Condições atuais do empresário do comércio",
          "Condições atuais do empresário do comércio",
          "Condições atuais do empresário do comércio",
          "Condições atuais do empresário do comércio",
          "Índice de confiança do consumidor (ICC)",
          "Índice de confiança do consumidor (ICC)",
          "Índice de confiança do consumidor (ICC)",
          "Índice de confiança do consumidor (ICC)",
          "Índice de confiança do consumidor (ICC)",
          "Índice de confiança do consumidor (ICC)",
          "Índice de confiança do consumidor (ICC)",
          "Índice de confiança do consumidor (ICC)",
          "Índice de confiança do consumidor (ICC)",
          "Índice de confiança do consumidor (ICC)",
          "Índice de confiança do consumidor (ICC)",
          "Índice de confiança do consumidor (ICC)",
          "Índice de confiança do consumidor (ICC)",
          "Índice de confiança do consumidor (ICC)",
          "Índice de confiança do consumidor (ICC)",
          "Índice de confiança do consumidor (ICC)",
          "Índice de confiança do consumidor (ICC)",
          "Índice de confiança do consumidor (ICC)",
          "Índice de confiança do consumidor (ICC)",
          "Índice de confiança do consumidor (ICC)",
          "Índice de confiança do consumidor (ICC)",
          "Índice de confiança do consumidor (ICC)",
          "Índice de confiança do consumidor (ICC)",
          "Índice de confiança do consumidor (ICC)",
          "Índice de confiança do consumidor (ICC)",
          "Índice de confiança do consumidor (ICC)",
          "Índice de confiança do consumidor (ICC)",
          "Índice de confiança do consumidor (ICC)",
          "Índice de confiança do consumidor (ICC)",
          "Índice de confiança do consumidor (ICC)",
          "Índice de confiança do consumidor (ICC)",
          "Índice de confiança do consumidor (ICC)",
          "Índice de confiança do consumidor (ICC)",
          "Índice de confiança do consumidor (ICC)",
          "Índice de confiança do consumidor (ICC)",
          "Índice de confiança do consumidor (ICC)",
          "Índice de confiança do consumidor (ICC)",
          "Índice de confiança do consumidor (ICC)"
         ],
         "x0": " ",
         "xaxis": "x",
         "y": {
          "bdata": "WEGQ2FcFWUALAh4FUBxZQDKuak0gkVhA/lJiZrKBWEAdUTKCRoxZQA50jjy5PlpAgjR+nDybWkAdYd/nFNJaQBxidMYc8FpASkXY7bRXXEAyoP6CcO9cQPO05oU+6FtAL/Tt4DpsW0AUk/GXF0paQK9uaITT7FdAuymRfj9oVkAbbRHTBEVVQHmIdmkrS1RAxS/FxgydVEDsVtXPuthVQEsE4hLnbFZAMzMzMzMTVkAK3PoJS7tUQOrwPFgbPlRAoslmI0hbVUDrMwW4vydWQAwiExpFtVVAZZUMRrbaVEDxuFR/EfpTQPzgcV//w1NAcLTbNh2QVEAo9aCFSvBUQL5KECAmFVVAixCqDQmEVUA1rud0h25VQFXcCWMALVVAjz7b+Kt+VECZ13zZ4OxTQGZmZmZmFltAMzMzMzMDWkBI4XoUrkdaQGZmZmZmFlpASOF6FK53WkBmZmZmZuZZQIXrUbgeZVpAcT0K16OwWkA9CtejcN1bQB+F61G4jlxAw/UoXI8yXUD2KFyPwrVeQLgehetRWF9AKVyPwvUYYEB7FK5H4dpfQGZmZmZmRl9ArkfhehSOXkDhehSuR1FfQD0K16NwHV9AcT0K16NgYEAUrkfhepRgQAAAAAAAmGBASOF6FK43YEAfhetRuK5gQAAAAAAAqGBA16NwPQpHYUBxPQrXo5BgQHsUrkfhMmBAPQrXo3CdX0AzMzMzM8NfQFK4HoXr8V9A4XoUrkfRX0AfhetRuM5eQK5H4XoUPl5A7FG4HoX7XkBI4XoUrmdfQHE9Ctej4F5AH4XrUbgeXkA=",
          "dtype": "f8"
         },
         "y0": " ",
         "yaxis": "y"
        }
       ],
       "layout": {
        "boxmode": "group",
        "height": 600,
        "legend": {
         "tracegroupgap": 0
        },
        "template": {
         "data": {
          "bar": [
           {
            "error_x": {
             "color": "#2a3f5f"
            },
            "error_y": {
             "color": "#2a3f5f"
            },
            "marker": {
             "line": {
              "color": "white",
              "width": 0.5
             },
             "pattern": {
              "fillmode": "overlay",
              "size": 10,
              "solidity": 0.2
             }
            },
            "type": "bar"
           }
          ],
          "barpolar": [
           {
            "marker": {
             "line": {
              "color": "white",
              "width": 0.5
             },
             "pattern": {
              "fillmode": "overlay",
              "size": 10,
              "solidity": 0.2
             }
            },
            "type": "barpolar"
           }
          ],
          "carpet": [
           {
            "aaxis": {
             "endlinecolor": "#2a3f5f",
             "gridcolor": "#C8D4E3",
             "linecolor": "#C8D4E3",
             "minorgridcolor": "#C8D4E3",
             "startlinecolor": "#2a3f5f"
            },
            "baxis": {
             "endlinecolor": "#2a3f5f",
             "gridcolor": "#C8D4E3",
             "linecolor": "#C8D4E3",
             "minorgridcolor": "#C8D4E3",
             "startlinecolor": "#2a3f5f"
            },
            "type": "carpet"
           }
          ],
          "choropleth": [
           {
            "colorbar": {
             "outlinewidth": 0,
             "ticks": ""
            },
            "type": "choropleth"
           }
          ],
          "contour": [
           {
            "colorbar": {
             "outlinewidth": 0,
             "ticks": ""
            },
            "colorscale": [
             [
              0,
              "#0d0887"
             ],
             [
              0.1111111111111111,
              "#46039f"
             ],
             [
              0.2222222222222222,
              "#7201a8"
             ],
             [
              0.3333333333333333,
              "#9c179e"
             ],
             [
              0.4444444444444444,
              "#bd3786"
             ],
             [
              0.5555555555555556,
              "#d8576b"
             ],
             [
              0.6666666666666666,
              "#ed7953"
             ],
             [
              0.7777777777777778,
              "#fb9f3a"
             ],
             [
              0.8888888888888888,
              "#fdca26"
             ],
             [
              1,
              "#f0f921"
             ]
            ],
            "type": "contour"
           }
          ],
          "contourcarpet": [
           {
            "colorbar": {
             "outlinewidth": 0,
             "ticks": ""
            },
            "type": "contourcarpet"
           }
          ],
          "heatmap": [
           {
            "colorbar": {
             "outlinewidth": 0,
             "ticks": ""
            },
            "colorscale": [
             [
              0,
              "#0d0887"
             ],
             [
              0.1111111111111111,
              "#46039f"
             ],
             [
              0.2222222222222222,
              "#7201a8"
             ],
             [
              0.3333333333333333,
              "#9c179e"
             ],
             [
              0.4444444444444444,
              "#bd3786"
             ],
             [
              0.5555555555555556,
              "#d8576b"
             ],
             [
              0.6666666666666666,
              "#ed7953"
             ],
             [
              0.7777777777777778,
              "#fb9f3a"
             ],
             [
              0.8888888888888888,
              "#fdca26"
             ],
             [
              1,
              "#f0f921"
             ]
            ],
            "type": "heatmap"
           }
          ],
          "histogram": [
           {
            "marker": {
             "pattern": {
              "fillmode": "overlay",
              "size": 10,
              "solidity": 0.2
             }
            },
            "type": "histogram"
           }
          ],
          "histogram2d": [
           {
            "colorbar": {
             "outlinewidth": 0,
             "ticks": ""
            },
            "colorscale": [
             [
              0,
              "#0d0887"
             ],
             [
              0.1111111111111111,
              "#46039f"
             ],
             [
              0.2222222222222222,
              "#7201a8"
             ],
             [
              0.3333333333333333,
              "#9c179e"
             ],
             [
              0.4444444444444444,
              "#bd3786"
             ],
             [
              0.5555555555555556,
              "#d8576b"
             ],
             [
              0.6666666666666666,
              "#ed7953"
             ],
             [
              0.7777777777777778,
              "#fb9f3a"
             ],
             [
              0.8888888888888888,
              "#fdca26"
             ],
             [
              1,
              "#f0f921"
             ]
            ],
            "type": "histogram2d"
           }
          ],
          "histogram2dcontour": [
           {
            "colorbar": {
             "outlinewidth": 0,
             "ticks": ""
            },
            "colorscale": [
             [
              0,
              "#0d0887"
             ],
             [
              0.1111111111111111,
              "#46039f"
             ],
             [
              0.2222222222222222,
              "#7201a8"
             ],
             [
              0.3333333333333333,
              "#9c179e"
             ],
             [
              0.4444444444444444,
              "#bd3786"
             ],
             [
              0.5555555555555556,
              "#d8576b"
             ],
             [
              0.6666666666666666,
              "#ed7953"
             ],
             [
              0.7777777777777778,
              "#fb9f3a"
             ],
             [
              0.8888888888888888,
              "#fdca26"
             ],
             [
              1,
              "#f0f921"
             ]
            ],
            "type": "histogram2dcontour"
           }
          ],
          "mesh3d": [
           {
            "colorbar": {
             "outlinewidth": 0,
             "ticks": ""
            },
            "type": "mesh3d"
           }
          ],
          "parcoords": [
           {
            "line": {
             "colorbar": {
              "outlinewidth": 0,
              "ticks": ""
             }
            },
            "type": "parcoords"
           }
          ],
          "pie": [
           {
            "automargin": true,
            "type": "pie"
           }
          ],
          "scatter": [
           {
            "fillpattern": {
             "fillmode": "overlay",
             "size": 10,
             "solidity": 0.2
            },
            "type": "scatter"
           }
          ],
          "scatter3d": [
           {
            "line": {
             "colorbar": {
              "outlinewidth": 0,
              "ticks": ""
             }
            },
            "marker": {
             "colorbar": {
              "outlinewidth": 0,
              "ticks": ""
             }
            },
            "type": "scatter3d"
           }
          ],
          "scattercarpet": [
           {
            "marker": {
             "colorbar": {
              "outlinewidth": 0,
              "ticks": ""
             }
            },
            "type": "scattercarpet"
           }
          ],
          "scattergeo": [
           {
            "marker": {
             "colorbar": {
              "outlinewidth": 0,
              "ticks": ""
             }
            },
            "type": "scattergeo"
           }
          ],
          "scattergl": [
           {
            "marker": {
             "colorbar": {
              "outlinewidth": 0,
              "ticks": ""
             }
            },
            "type": "scattergl"
           }
          ],
          "scattermap": [
           {
            "marker": {
             "colorbar": {
              "outlinewidth": 0,
              "ticks": ""
             }
            },
            "type": "scattermap"
           }
          ],
          "scattermapbox": [
           {
            "marker": {
             "colorbar": {
              "outlinewidth": 0,
              "ticks": ""
             }
            },
            "type": "scattermapbox"
           }
          ],
          "scatterpolar": [
           {
            "marker": {
             "colorbar": {
              "outlinewidth": 0,
              "ticks": ""
             }
            },
            "type": "scatterpolar"
           }
          ],
          "scatterpolargl": [
           {
            "marker": {
             "colorbar": {
              "outlinewidth": 0,
              "ticks": ""
             }
            },
            "type": "scatterpolargl"
           }
          ],
          "scatterternary": [
           {
            "marker": {
             "colorbar": {
              "outlinewidth": 0,
              "ticks": ""
             }
            },
            "type": "scatterternary"
           }
          ],
          "surface": [
           {
            "colorbar": {
             "outlinewidth": 0,
             "ticks": ""
            },
            "colorscale": [
             [
              0,
              "#0d0887"
             ],
             [
              0.1111111111111111,
              "#46039f"
             ],
             [
              0.2222222222222222,
              "#7201a8"
             ],
             [
              0.3333333333333333,
              "#9c179e"
             ],
             [
              0.4444444444444444,
              "#bd3786"
             ],
             [
              0.5555555555555556,
              "#d8576b"
             ],
             [
              0.6666666666666666,
              "#ed7953"
             ],
             [
              0.7777777777777778,
              "#fb9f3a"
             ],
             [
              0.8888888888888888,
              "#fdca26"
             ],
             [
              1,
              "#f0f921"
             ]
            ],
            "type": "surface"
           }
          ],
          "table": [
           {
            "cells": {
             "fill": {
              "color": "#EBF0F8"
             },
             "line": {
              "color": "white"
             }
            },
            "header": {
             "fill": {
              "color": "#C8D4E3"
             },
             "line": {
              "color": "white"
             }
            },
            "type": "table"
           }
          ]
         },
         "layout": {
          "annotationdefaults": {
           "arrowcolor": "#2a3f5f",
           "arrowhead": 0,
           "arrowwidth": 1
          },
          "autotypenumbers": "strict",
          "coloraxis": {
           "colorbar": {
            "outlinewidth": 0,
            "ticks": ""
           }
          },
          "colorscale": {
           "diverging": [
            [
             0,
             "#8e0152"
            ],
            [
             0.1,
             "#c51b7d"
            ],
            [
             0.2,
             "#de77ae"
            ],
            [
             0.3,
             "#f1b6da"
            ],
            [
             0.4,
             "#fde0ef"
            ],
            [
             0.5,
             "#f7f7f7"
            ],
            [
             0.6,
             "#e6f5d0"
            ],
            [
             0.7,
             "#b8e186"
            ],
            [
             0.8,
             "#7fbc41"
            ],
            [
             0.9,
             "#4d9221"
            ],
            [
             1,
             "#276419"
            ]
           ],
           "sequential": [
            [
             0,
             "#0d0887"
            ],
            [
             0.1111111111111111,
             "#46039f"
            ],
            [
             0.2222222222222222,
             "#7201a8"
            ],
            [
             0.3333333333333333,
             "#9c179e"
            ],
            [
             0.4444444444444444,
             "#bd3786"
            ],
            [
             0.5555555555555556,
             "#d8576b"
            ],
            [
             0.6666666666666666,
             "#ed7953"
            ],
            [
             0.7777777777777778,
             "#fb9f3a"
            ],
            [
             0.8888888888888888,
             "#fdca26"
            ],
            [
             1,
             "#f0f921"
            ]
           ],
           "sequentialminus": [
            [
             0,
             "#0d0887"
            ],
            [
             0.1111111111111111,
             "#46039f"
            ],
            [
             0.2222222222222222,
             "#7201a8"
            ],
            [
             0.3333333333333333,
             "#9c179e"
            ],
            [
             0.4444444444444444,
             "#bd3786"
            ],
            [
             0.5555555555555556,
             "#d8576b"
            ],
            [
             0.6666666666666666,
             "#ed7953"
            ],
            [
             0.7777777777777778,
             "#fb9f3a"
            ],
            [
             0.8888888888888888,
             "#fdca26"
            ],
            [
             1,
             "#f0f921"
            ]
           ]
          },
          "colorway": [
           "#636efa",
           "#EF553B",
           "#00cc96",
           "#ab63fa",
           "#FFA15A",
           "#19d3f3",
           "#FF6692",
           "#B6E880",
           "#FF97FF",
           "#FECB52"
          ],
          "font": {
           "color": "#2a3f5f"
          },
          "geo": {
           "bgcolor": "white",
           "lakecolor": "white",
           "landcolor": "white",
           "showlakes": true,
           "showland": true,
           "subunitcolor": "#C8D4E3"
          },
          "hoverlabel": {
           "align": "left"
          },
          "hovermode": "closest",
          "mapbox": {
           "style": "light"
          },
          "paper_bgcolor": "white",
          "plot_bgcolor": "white",
          "polar": {
           "angularaxis": {
            "gridcolor": "#EBF0F8",
            "linecolor": "#EBF0F8",
            "ticks": ""
           },
           "bgcolor": "white",
           "radialaxis": {
            "gridcolor": "#EBF0F8",
            "linecolor": "#EBF0F8",
            "ticks": ""
           }
          },
          "scene": {
           "xaxis": {
            "backgroundcolor": "white",
            "gridcolor": "#DFE8F3",
            "gridwidth": 2,
            "linecolor": "#EBF0F8",
            "showbackground": true,
            "ticks": "",
            "zerolinecolor": "#EBF0F8"
           },
           "yaxis": {
            "backgroundcolor": "white",
            "gridcolor": "#DFE8F3",
            "gridwidth": 2,
            "linecolor": "#EBF0F8",
            "showbackground": true,
            "ticks": "",
            "zerolinecolor": "#EBF0F8"
           },
           "zaxis": {
            "backgroundcolor": "white",
            "gridcolor": "#DFE8F3",
            "gridwidth": 2,
            "linecolor": "#EBF0F8",
            "showbackground": true,
            "ticks": "",
            "zerolinecolor": "#EBF0F8"
           }
          },
          "shapedefaults": {
           "line": {
            "color": "#2a3f5f"
           }
          },
          "ternary": {
           "aaxis": {
            "gridcolor": "#DFE8F3",
            "linecolor": "#A2B1C6",
            "ticks": ""
           },
           "baxis": {
            "gridcolor": "#DFE8F3",
            "linecolor": "#A2B1C6",
            "ticks": ""
           },
           "bgcolor": "white",
           "caxis": {
            "gridcolor": "#DFE8F3",
            "linecolor": "#A2B1C6",
            "ticks": ""
           }
          },
          "title": {
           "x": 0.05
          },
          "xaxis": {
           "automargin": true,
           "gridcolor": "#EBF0F8",
           "linecolor": "#EBF0F8",
           "ticks": "",
           "title": {
            "standoff": 15
           },
           "zerolinecolor": "#EBF0F8",
           "zerolinewidth": 2
          },
          "yaxis": {
           "automargin": true,
           "gridcolor": "#EBF0F8",
           "linecolor": "#EBF0F8",
           "ticks": "",
           "title": {
            "standoff": 15
           },
           "zerolinecolor": "#EBF0F8",
           "zerolinewidth": 2
          }
         }
        },
        "title": {
         "text": "Boxplot dos Indicadores de Consumo e Comércio"
        },
        "xaxis": {
         "anchor": "y",
         "domain": [
          0,
          1
         ],
         "tickangle": -45,
         "title": {
          "text": "Indicador"
         }
        },
        "yaxis": {
         "anchor": "x",
         "domain": [
          0,
          1
         ],
         "title": {
          "text": "Valor do Indicador"
         }
        }
       }
      }
     },
     "metadata": {},
     "output_type": "display_data"
    }
   ],
   "source": [
    "import plotly.express as px\n",
    "\n",
    "fig = px.box(\n",
    "    dados_consumo_corrigido,\n",
    "    x=\"NAME\",\n",
    "    y=\"VALOR\",\n",
    "    title=\"Boxplot dos Indicadores de Consumo e Comércio\",\n",
    "    labels={\"NAME\": \"Indicador\", \"VALOR\": \"Valor do Indicador\"},\n",
    "    points=\"all\"  # Mostra todos os pontos (outliers e dados brutos)\n",
    ")\n",
    "\n",
    "fig.update_layout(\n",
    "    template=\"plotly_white\",\n",
    "    xaxis_tickangle=-45,\n",
    "    height=600\n",
    ")\n",
    "\n",
    "fig.show()\n"
   ]
  },
  {
   "cell_type": "markdown",
   "metadata": {},
   "source": [
    "Não se percebeu qualquer outlier, mas tão somente uma predominância de péssima avaliação de condições atuais do empresário e um excesso de confiança do consumidor."
   ]
  },
  {
   "cell_type": "markdown",
   "metadata": {},
   "source": [
    "## Preparação dos Dados "
   ]
  },
  {
   "cell_type": "markdown",
   "metadata": {},
   "source": [
    "## Modelagem dos Dados"
   ]
  },
  {
   "cell_type": "markdown",
   "metadata": {},
   "source": [
    "## Avaliação"
   ]
  }
 ],
 "metadata": {
  "kernelspec": {
   "display_name": ".venv",
   "language": "python",
   "name": "python3"
  },
  "language_info": {
   "codemirror_mode": {
    "name": "ipython",
    "version": 3
   },
   "file_extension": ".py",
   "mimetype": "text/x-python",
   "name": "python",
   "nbconvert_exporter": "python",
   "pygments_lexer": "ipython3",
   "version": "3.12.3"
  }
 },
 "nbformat": 4,
 "nbformat_minor": 2
}
